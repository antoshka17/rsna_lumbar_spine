{
 "cells": [
  {
   "cell_type": "code",
   "execution_count": 2,
   "id": "1d1c725d",
   "metadata": {},
   "outputs": [
    {
     "name": "stdout",
     "output_type": "stream",
     "text": [
      "\r\n",
      "\u001b[1m[\u001b[0m\u001b[34;49mnotice\u001b[0m\u001b[1;39;49m]\u001b[0m\u001b[39;49m A new release of pip is available: \u001b[0m\u001b[31;49m23.3.1\u001b[0m\u001b[39;49m -> \u001b[0m\u001b[32;49m24.1.2\u001b[0m\r\n",
      "\u001b[1m[\u001b[0m\u001b[34;49mnotice\u001b[0m\u001b[1;39;49m]\u001b[0m\u001b[39;49m To update, run: \u001b[0m\u001b[32;49mpip install --upgrade pip\u001b[0m\r\n"
     ]
    }
   ],
   "source": [
    "!pip install segmentation_models_pytorch -q"
   ]
  },
  {
   "cell_type": "code",
   "execution_count": 53,
   "id": "882e665d",
   "metadata": {},
   "outputs": [],
   "source": [
    "import numpy as np \n",
    "import pandas as pd \n",
    "import os\n",
    "from pathlib import Path\n",
    "from PIL import Image\n",
    "\n",
    "from sklearn.model_selection import KFold\n",
    "import torch\n",
    "import torch.nn as nn\n",
    "import torch.nn.functional as F\n",
    "from torch.utils.data import Dataset\n",
    "\n",
    "from segmentation_models_pytorch import Unet\n",
    "from torch.utils.data import DataLoader\n",
    "import albumentations as A\n",
    "from albumentations.pytorch import ToTensorV2\n",
    "from glob import glob\n",
    "from tqdm.auto import tqdm\n",
    "import cv2"
   ]
  },
  {
   "cell_type": "code",
   "execution_count": 54,
   "id": "ba022193",
   "metadata": {},
   "outputs": [],
   "source": [
    "#transforms\n",
    "newsize = (256, 256)\n",
    "#dataset\n",
    "fold = 1\n",
    "#dataloader\n",
    "batch_size = 1\n",
    "num_workers = 4\n",
    "#model\n",
    "num_classes = 20\n",
    "device = torch.device(\"cuda\" if torch.cuda.is_available() else \"cpu\")#run\n",
    "epochs = 100\n",
    "learning_rate = 1e-3\n",
    "\n",
    "TRAIN = True #or False for inference only"
   ]
  },
  {
   "cell_type": "code",
   "execution_count": 55,
   "id": "80a14198",
   "metadata": {},
   "outputs": [
    {
     "data": {
      "text/plain": [
       "<All keys matched successfully>"
      ]
     },
     "execution_count": 55,
     "metadata": {},
     "output_type": "execute_result"
    }
   ],
   "source": [
    "model = Unet(\n",
    "  encoder_name=\"resnet34\",  # Choose encoder (e.g. resnet18, efficientnet-b0)\n",
    "  classes=num_classes,  # Number of output classes\n",
    "  in_channels=3  # Number of input channels (e.g. 3 for RGB)\n",
    ")\n",
    "\n",
    "model.load_state_dict(torch.load('simple_unet.pth'))"
   ]
  },
  {
   "cell_type": "code",
   "execution_count": 56,
   "id": "31020a77",
   "metadata": {},
   "outputs": [],
   "source": [
    "transforms_valid = A.Compose([\n",
    "    A.Resize(newsize[0], newsize[1]),\n",
    "    A.Normalize(\n",
    "        mean=[0.485, 0.456, 0.406],\n",
    "        std=[0.229, 0.224, 0.225],\n",
    "    ),\n",
    "    ToTensorV2()\n",
    "])"
   ]
  },
  {
   "cell_type": "code",
   "execution_count": 57,
   "id": "0eec9e56",
   "metadata": {},
   "outputs": [],
   "source": [
    "class SEGTestDataset(Dataset):\n",
    "    def __init__(self, df, mode, transforms=None):\n",
    "        self.df = df.reset_index()\n",
    "        self.mode = mode\n",
    "        self.transforms = transforms\n",
    "\n",
    "    def __len__(self):\n",
    "        return self.df.shape[0]\n",
    "\n",
    "    def __getitem__(self, index):\n",
    "        row = self.df.iloc[index]\n",
    "\n",
    "        image_path = row.image\n",
    "\n",
    "        # Open image\n",
    "        image = Image.open(image_path)\n",
    "        if image.mode != 'RGB':  # Ensure image is RGB\n",
    "            image = image.convert('RGB')\n",
    "        image = np.asarray(image)\n",
    "        if (image > 1).any():  # Normalize if pixel values are between 0-255\n",
    "            image = image / 255.0\n",
    "\n",
    "        # Apply transformations\n",
    "        if self.transforms is not None:\n",
    "            transformed = self.transforms(image=image)\n",
    "            image = transformed[\"image\"]\n",
    "        \n",
    "        # Create one layer for each label\n",
    "        #mask = torch.nn.functional.one_hot(mask, num_classes=num_classes).permute(0,3,1,2).squeeze(0).float()\n",
    "\n",
    "        # Convert image to tensor\n",
    "        image = torch.as_tensor(image).float()\n",
    "\n",
    "        return image, image_path"
   ]
  },
  {
   "cell_type": "code",
   "execution_count": 58,
   "id": "2b4d966a",
   "metadata": {},
   "outputs": [
    {
     "data": {
      "text/html": [
       "<div>\n",
       "<style scoped>\n",
       "    .dataframe tbody tr th:only-of-type {\n",
       "        vertical-align: middle;\n",
       "    }\n",
       "\n",
       "    .dataframe tbody tr th {\n",
       "        vertical-align: top;\n",
       "    }\n",
       "\n",
       "    .dataframe thead th {\n",
       "        text-align: right;\n",
       "    }\n",
       "</style>\n",
       "<table border=\"1\" class=\"dataframe\">\n",
       "  <thead>\n",
       "    <tr style=\"text-align: right;\">\n",
       "      <th></th>\n",
       "      <th>image</th>\n",
       "    </tr>\n",
       "  </thead>\n",
       "  <tbody>\n",
       "    <tr>\n",
       "      <th>0</th>\n",
       "      <td>cvt_png/435973854/Sagittal T2_STIR/013.png</td>\n",
       "    </tr>\n",
       "    <tr>\n",
       "      <th>1</th>\n",
       "      <td>cvt_png/435973854/Sagittal T2_STIR/012.png</td>\n",
       "    </tr>\n",
       "    <tr>\n",
       "      <th>2</th>\n",
       "      <td>cvt_png/435973854/Sagittal T2_STIR/009.png</td>\n",
       "    </tr>\n",
       "    <tr>\n",
       "      <th>3</th>\n",
       "      <td>cvt_png/435973854/Sagittal T2_STIR/005.png</td>\n",
       "    </tr>\n",
       "    <tr>\n",
       "      <th>4</th>\n",
       "      <td>cvt_png/435973854/Sagittal T2_STIR/010.png</td>\n",
       "    </tr>\n",
       "    <tr>\n",
       "      <th>...</th>\n",
       "      <td>...</td>\n",
       "    </tr>\n",
       "    <tr>\n",
       "      <th>147213</th>\n",
       "      <td>cvt_png/3207960359/Axial T2/042.png</td>\n",
       "    </tr>\n",
       "    <tr>\n",
       "      <th>147214</th>\n",
       "      <td>cvt_png/3207960359/Axial T2/001.png</td>\n",
       "    </tr>\n",
       "    <tr>\n",
       "      <th>147215</th>\n",
       "      <td>cvt_png/3207960359/Axial T2/014.png</td>\n",
       "    </tr>\n",
       "    <tr>\n",
       "      <th>147216</th>\n",
       "      <td>cvt_png/3207960359/Axial T2/016.png</td>\n",
       "    </tr>\n",
       "    <tr>\n",
       "      <th>147217</th>\n",
       "      <td>cvt_png/3207960359/Axial T2/000.png</td>\n",
       "    </tr>\n",
       "  </tbody>\n",
       "</table>\n",
       "<p>147218 rows × 1 columns</p>\n",
       "</div>"
      ],
      "text/plain": [
       "                                             image\n",
       "0       cvt_png/435973854/Sagittal T2_STIR/013.png\n",
       "1       cvt_png/435973854/Sagittal T2_STIR/012.png\n",
       "2       cvt_png/435973854/Sagittal T2_STIR/009.png\n",
       "3       cvt_png/435973854/Sagittal T2_STIR/005.png\n",
       "4       cvt_png/435973854/Sagittal T2_STIR/010.png\n",
       "...                                            ...\n",
       "147213         cvt_png/3207960359/Axial T2/042.png\n",
       "147214         cvt_png/3207960359/Axial T2/001.png\n",
       "147215         cvt_png/3207960359/Axial T2/014.png\n",
       "147216         cvt_png/3207960359/Axial T2/016.png\n",
       "147217         cvt_png/3207960359/Axial T2/000.png\n",
       "\n",
       "[147218 rows x 1 columns]"
      ]
     },
     "execution_count": 58,
     "metadata": {},
     "output_type": "execute_result"
    }
   ],
   "source": [
    "im_dir = 'cvt_png'\n",
    "all_files = glob(f'{im_dir}/*/*/*.png')\n",
    "df = pd.DataFrame()\n",
    "df['image'] = all_files\n",
    "df"
   ]
  },
  {
   "cell_type": "code",
   "execution_count": 59,
   "id": "1d4722b8",
   "metadata": {},
   "outputs": [],
   "source": [
    "ds = SEGTestDataset(df, 'test', transforms_valid)\n",
    "dl = DataLoader(ds, batch_size=batch_size, shuffle=False, pin_memory=False)"
   ]
  },
  {
   "cell_type": "code",
   "execution_count": 66,
   "id": "37afb1d8",
   "metadata": {},
   "outputs": [],
   "source": [
    "import matplotlib.pyplot as plt\n",
    "from pathlib import Path\n",
    "if not Path('mask_png').exists():\n",
    "    os.mkdir('mask_png')\n",
    "\n",
    "def inference(model, dataloader, device, num_samples=16):\n",
    "    model.eval()\n",
    "    images_batch = []\n",
    "    preds_batch = []\n",
    "    label_colors = get_label_colors(num_classes)\n",
    "    \n",
    "    with torch.no_grad():\n",
    "        for images, fn in tqdm(dataloader, total=len(dataloader), leave=True, position=0):\n",
    "            images = images.to(device)\n",
    "            outputs = model(images)\n",
    "            mask = torch.argmax(outputs, dim=1).detach().cpu().numpy()[0]\n",
    "            fn = fn[0]\n",
    "\n",
    "            color_mask = np.zeros((mask.shape[0], mask.shape[1], 3))\n",
    "            for label in range(num_classes):\n",
    "                color_mask[mask == label] = label_colors[label][:3] * 255\n",
    "            mask_path = 'mask_png/' + '/'.join(fn.split('/')[1:])\n",
    "            if not Path('/'.join(mask_path.split('/')[:-2])).exists():\n",
    "                os.mkdir('/'.join(mask_path.split('/')[:-2]))\n",
    "\n",
    "            if not Path('/'.join(mask_path.split('/')[:-1])).exists():\n",
    "                os.mkdir('/'.join(mask_path.split('/')[:-1]))\n",
    "            cv2.imwrite(mask_path, color_mask)\n",
    "            \n",
    "            \n",
    "            \n",
    "            if len(images_batch) * images.size(0) >= num_samples:\n",
    "                break\n",
    "\n",
    "\n",
    "# Define a color map with fixed colors for each label\n",
    "def get_label_colors(num_classes):\n",
    "    colors = plt.cm.tab20(np.linspace(0, 1, num_classes))\n",
    "    return colors\n",
    "\n",
    "def visualize_predictions(images, masks, fns, num_classes=20, num_samples=16):\n",
    "    num_samples = min(num_samples, len(images))\n",
    "    plt.figure(figsize=(20, 20))\n",
    "    \n",
    "    label_colors = get_label_colors(num_classes)\n",
    "    \n",
    "    for i in range(num_samples):\n",
    "#         plt.subplot(4, 8, i * 2 + 1)\n",
    "        im = images[i].numpy()\n",
    "        fn = fns[i]\n",
    "        im = np.transpose(im, (1, 2, 0))\n",
    "        #denormalize\n",
    "        im = ((im * [0.229, 0.224, 0.225]) + [0.485, 0.456, 0.406]) * 255\n",
    "#         plt.imshow(im)\n",
    "#         plt.title(\"Input Image\")\n",
    "#         plt.axis('off')\n",
    "        \n",
    "#         plt.subplot(4, 8, i * 2 + 2)\n",
    "        mask = masks[i].numpy()\n",
    "\n",
    "        color_mask = np.zeros((mask.shape[0], mask.shape[1], 3))\n",
    "        for label in range(num_classes):\n",
    "            color_mask[mask == label] = label_colors[label][:3] * 255\n",
    "        mask_path = 'mask_png/' + '/'.join(fn.split('/')[1:])\n",
    "        if not Path('/'.join(mask_path.split('/')[:-2])).exists():\n",
    "            os.mkdir('/'.join(mask_path.split('/')[:-2]))\n",
    "            \n",
    "        if not Path('/'.join(mask_path.split('/')[:-1])).exists():\n",
    "            os.mkdir('/'.join(mask_path.split('/')[:-1]))\n",
    "        cv2.imwrite(mask_path, color_mask)\n",
    "#         plt.imshow(color_mask.astype(np.uint8))\n",
    "#         plt.title(\"Predicted Mask\")\n",
    "#         plt.axis('off')\n",
    "\n",
    "    plt.show()"
   ]
  },
  {
   "cell_type": "code",
   "execution_count": 67,
   "id": "292fd19b",
   "metadata": {},
   "outputs": [],
   "source": [
    "# model = model.to(device)\n",
    "# model.eval()\n",
    "# for images, ims_path in tqdm(dl, total=len(dl), leave=True, position=0):\n",
    "#     images = images.to(device)\n",
    "#     with torch.no_grad():\n",
    "#         mask = model(images)\n"
   ]
  },
  {
   "cell_type": "code",
   "execution_count": 68,
   "id": "90ce1765",
   "metadata": {},
   "outputs": [
    {
     "data": {
      "application/vnd.jupyter.widget-view+json": {
       "model_id": "358e165579a441d082988e0b509ef836",
       "version_major": 2,
       "version_minor": 0
      },
      "text/plain": [
       "  0%|          | 0/147218 [00:00<?, ?it/s]"
      ]
     },
     "metadata": {},
     "output_type": "display_data"
    }
   ],
   "source": [
    "model = model.to(device)\n",
    "model.eval()\n",
    "\n",
    "inference(model, dl, device, num_samples=160000)"
   ]
  },
  {
   "cell_type": "code",
   "execution_count": null,
   "id": "67616163",
   "metadata": {},
   "outputs": [],
   "source": []
  },
  {
   "cell_type": "code",
   "execution_count": null,
   "id": "5baac255",
   "metadata": {},
   "outputs": [],
   "source": []
  },
  {
   "cell_type": "code",
   "execution_count": null,
   "id": "c40b0a7e",
   "metadata": {},
   "outputs": [],
   "source": []
  },
  {
   "cell_type": "code",
   "execution_count": null,
   "id": "9d6d4ce1",
   "metadata": {},
   "outputs": [],
   "source": []
  }
 ],
 "metadata": {
  "kernelspec": {
   "display_name": "Python 3 (ipykernel)",
   "language": "python",
   "name": "python3"
  },
  "language_info": {
   "codemirror_mode": {
    "name": "ipython",
    "version": 3
   },
   "file_extension": ".py",
   "mimetype": "text/x-python",
   "name": "python",
   "nbconvert_exporter": "python",
   "pygments_lexer": "ipython3",
   "version": "3.11.5"
  }
 },
 "nbformat": 4,
 "nbformat_minor": 5
}
