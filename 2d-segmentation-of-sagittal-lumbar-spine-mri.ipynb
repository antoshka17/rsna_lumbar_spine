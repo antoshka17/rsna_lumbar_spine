{
 "cells": [
  {
   "cell_type": "markdown",
   "metadata": {},
   "source": [
    "# 2d Segmentation of Sagittal Lumbar Spine MRI\n",
    "\n",
    "- Training data Spider dataset (https://doi.org/10.5281/zenodo.10159290)\n",
    "- Very simple model using segmentation_models_pytorch\n",
    "- Used ChatGPT and Gemini to help with coding\n",
    "- Trained model attached\n",
    "- Images resized to 256x256"
   ]
  },
  {
   "cell_type": "code",
   "execution_count": 1,
   "metadata": {
    "execution": {
     "iopub.execute_input": "2024-06-26T19:54:09.678871Z",
     "iopub.status.busy": "2024-06-26T19:54:09.678230Z",
     "iopub.status.idle": "2024-06-26T19:54:29.711876Z",
     "shell.execute_reply": "2024-06-26T19:54:29.710711Z",
     "shell.execute_reply.started": "2024-06-26T19:54:09.678838Z"
    }
   },
   "outputs": [],
   "source": [
    "!pip install segmentation_models_pytorch -q"
   ]
  },
  {
   "cell_type": "code",
   "execution_count": 9,
   "metadata": {
    "_cell_guid": "b1076dfc-b9ad-4769-8c92-a6c4dae69d19",
    "_uuid": "8f2839f25d086af736a60e9eeb907d3b93b6e0e5",
    "execution": {
     "iopub.execute_input": "2024-06-26T19:54:29.713959Z",
     "iopub.status.busy": "2024-06-26T19:54:29.713668Z",
     "iopub.status.idle": "2024-06-26T19:54:37.805726Z",
     "shell.execute_reply": "2024-06-26T19:54:37.804924Z",
     "shell.execute_reply.started": "2024-06-26T19:54:29.713931Z"
    }
   },
   "outputs": [],
   "source": [
    "import numpy as np \n",
    "import pandas as pd \n",
    "import os\n",
    "from pathlib import Path\n",
    "from PIL import Image\n",
    "\n",
    "from sklearn.model_selection import KFold\n",
    "import torch\n",
    "import torch.nn as nn\n",
    "import torch.nn.functional as F\n",
    "from torch.utils.data import Dataset\n",
    "\n",
    "from segmentation_models_pytorch import Unet"
   ]
  },
  {
   "cell_type": "code",
   "execution_count": 10,
   "metadata": {
    "execution": {
     "iopub.execute_input": "2024-06-26T19:54:37.808011Z",
     "iopub.status.busy": "2024-06-26T19:54:37.806895Z",
     "iopub.status.idle": "2024-06-26T19:54:37.869503Z",
     "shell.execute_reply": "2024-06-26T19:54:37.868466Z",
     "shell.execute_reply.started": "2024-06-26T19:54:37.807976Z"
    }
   },
   "outputs": [],
   "source": [
    "#transforms\n",
    "newsize = (256, 256)\n",
    "#dataset\n",
    "fold = 1\n",
    "#dataloader\n",
    "batch_size = 64\n",
    "num_workers = 4\n",
    "#model\n",
    "num_classes = 20\n",
    "device = torch.device(\"cuda\" if torch.cuda.is_available() else \"cpu\")#run\n",
    "epochs = 100\n",
    "learning_rate = 1e-3\n",
    "\n",
    "TRAIN = True #or False for inference only"
   ]
  },
  {
   "cell_type": "markdown",
   "metadata": {},
   "source": [
    "### Model"
   ]
  },
  {
   "cell_type": "code",
   "execution_count": 11,
   "metadata": {
    "execution": {
     "iopub.execute_input": "2024-06-26T19:54:37.872577Z",
     "iopub.status.busy": "2024-06-26T19:54:37.871757Z",
     "iopub.status.idle": "2024-06-26T19:54:39.068268Z",
     "shell.execute_reply": "2024-06-26T19:54:39.067217Z",
     "shell.execute_reply.started": "2024-06-26T19:54:37.872530Z"
    }
   },
   "outputs": [],
   "source": [
    "model = Unet(\n",
    "  encoder_name=\"resnet34\",  # Choose encoder (e.g. resnet18, efficientnet-b0)\n",
    "  classes=num_classes,  # Number of output classes\n",
    "  in_channels=3  # Number of input channels (e.g. 3 for RGB)\n",
    ")"
   ]
  },
  {
   "cell_type": "markdown",
   "metadata": {},
   "source": [
    "### Create folds"
   ]
  },
  {
   "cell_type": "code",
   "execution_count": 5,
   "metadata": {
    "execution": {
     "iopub.execute_input": "2024-06-26T16:14:47.735517Z",
     "iopub.status.busy": "2024-06-26T16:14:47.735192Z",
     "iopub.status.idle": "2024-06-26T16:14:49.052239Z",
     "shell.execute_reply": "2024-06-26T16:14:49.051175Z",
     "shell.execute_reply.started": "2024-06-26T16:14:47.735490Z"
    }
   },
   "outputs": [
    {
     "ename": "ValueError",
     "evalue": "Cannot have number of splits n_splits=5 greater than the number of samples: n_samples=0.",
     "output_type": "error",
     "traceback": [
      "\u001b[0;31m---------------------------------------------------------------------------\u001b[0m",
      "\u001b[0;31mValueError\u001b[0m                                Traceback (most recent call last)",
      "Cell \u001b[0;32mIn[5], line 16\u001b[0m\n\u001b[1;32m     14\u001b[0m \u001b[38;5;66;03m# Split the DataFrame into 5 folds\u001b[39;00m\n\u001b[1;32m     15\u001b[0m kf \u001b[38;5;241m=\u001b[39m KFold(n_splits\u001b[38;5;241m=\u001b[39m\u001b[38;5;241m5\u001b[39m, shuffle\u001b[38;5;241m=\u001b[39m\u001b[38;5;28;01mTrue\u001b[39;00m, random_state\u001b[38;5;241m=\u001b[39m\u001b[38;5;241m42\u001b[39m)\n\u001b[0;32m---> 16\u001b[0m \u001b[38;5;28;01mfor\u001b[39;00m i, (_, v_ind) \u001b[38;5;129;01min\u001b[39;00m \u001b[38;5;28menumerate\u001b[39m(kf\u001b[38;5;241m.\u001b[39msplit(fold_df)):\n\u001b[1;32m     17\u001b[0m     fold_df\u001b[38;5;241m.\u001b[39mloc[v_ind, \u001b[38;5;124m'\u001b[39m\u001b[38;5;124mfold\u001b[39m\u001b[38;5;124m'\u001b[39m] \u001b[38;5;241m=\u001b[39m i\u001b[38;5;241m+\u001b[39m\u001b[38;5;241m1\u001b[39m\n\u001b[1;32m     19\u001b[0m \u001b[38;5;66;03m# Create df with image_names and their respective folds\u001b[39;00m\n",
      "File \u001b[0;32m~/anaconda3/lib/python3.11/site-packages/sklearn/model_selection/_split.py:370\u001b[0m, in \u001b[0;36m_BaseKFold.split\u001b[0;34m(self, X, y, groups)\u001b[0m\n\u001b[1;32m    368\u001b[0m n_samples \u001b[38;5;241m=\u001b[39m _num_samples(X)\n\u001b[1;32m    369\u001b[0m \u001b[38;5;28;01mif\u001b[39;00m \u001b[38;5;28mself\u001b[39m\u001b[38;5;241m.\u001b[39mn_splits \u001b[38;5;241m>\u001b[39m n_samples:\n\u001b[0;32m--> 370\u001b[0m     \u001b[38;5;28;01mraise\u001b[39;00m \u001b[38;5;167;01mValueError\u001b[39;00m(\n\u001b[1;32m    371\u001b[0m         (\n\u001b[1;32m    372\u001b[0m             \u001b[38;5;124m\"\u001b[39m\u001b[38;5;124mCannot have number of splits n_splits=\u001b[39m\u001b[38;5;132;01m{0}\u001b[39;00m\u001b[38;5;124m greater\u001b[39m\u001b[38;5;124m\"\u001b[39m\n\u001b[1;32m    373\u001b[0m             \u001b[38;5;124m\"\u001b[39m\u001b[38;5;124m than the number of samples: n_samples=\u001b[39m\u001b[38;5;132;01m{1}\u001b[39;00m\u001b[38;5;124m.\u001b[39m\u001b[38;5;124m\"\u001b[39m\n\u001b[1;32m    374\u001b[0m         )\u001b[38;5;241m.\u001b[39mformat(\u001b[38;5;28mself\u001b[39m\u001b[38;5;241m.\u001b[39mn_splits, n_samples)\n\u001b[1;32m    375\u001b[0m     )\n\u001b[1;32m    377\u001b[0m \u001b[38;5;28;01mfor\u001b[39;00m train, test \u001b[38;5;129;01min\u001b[39;00m \u001b[38;5;28msuper\u001b[39m()\u001b[38;5;241m.\u001b[39msplit(X, y, groups):\n\u001b[1;32m    378\u001b[0m     \u001b[38;5;28;01myield\u001b[39;00m train, test\n",
      "\u001b[0;31mValueError\u001b[0m: Cannot have number of splits n_splits=5 greater than the number of samples: n_samples=0."
     ]
    }
   ],
   "source": [
    "output_dir = \"/kaggle/input/spider-mri-spine-t2-png/data\"\n",
    "im_dir = os.path.join(output_dir, \"images\")\n",
    "mask_dir = os.path.join(output_dir, \"masks\")\n",
    "\n",
    "# get list of data\n",
    "items = list(Path(im_dir).glob(\"*.png\"))\n",
    "image_names = [o.name for o in items]\n",
    "images = list(set([o.split('_')[0] for o in image_names]))\n",
    "\n",
    "fold_df = pd.DataFrame({\"image_name\": images})\n",
    "# Seed for reproducibility\n",
    "np.random.seed(42)\n",
    "\n",
    "# Split the DataFrame into 5 folds\n",
    "kf = KFold(n_splits=5, shuffle=True, random_state=42)\n",
    "for i, (_, v_ind) in enumerate(kf.split(fold_df)):\n",
    "    fold_df.loc[v_ind, 'fold'] = i+1\n",
    "\n",
    "# Create df with image_names and their respective folds\n",
    "def get_fold(fn, df):\n",
    "    image_name = fn.name.split(\"_\")[0] \n",
    "    return df.loc[df.image_name==image_name, 'fold'].values[0]\n",
    "\n",
    "folds = [get_fold(o, fold_df) for o in items]\n",
    "df = pd.DataFrame({\"image\": image_names, \"fold\": folds})\n",
    "\n",
    "df.head()"
   ]
  },
  {
   "cell_type": "markdown",
   "metadata": {},
   "source": [
    "### Dataset class"
   ]
  },
  {
   "cell_type": "code",
   "execution_count": null,
   "metadata": {
    "execution": {
     "iopub.execute_input": "2024-06-26T16:14:49.053705Z",
     "iopub.status.busy": "2024-06-26T16:14:49.053356Z",
     "iopub.status.idle": "2024-06-26T16:14:49.065324Z",
     "shell.execute_reply": "2024-06-26T16:14:49.064282Z",
     "shell.execute_reply.started": "2024-06-26T16:14:49.053676Z"
    }
   },
   "outputs": [],
   "source": [
    "class SEGDataset(Dataset):\n",
    "    def __init__(self, df, mode, transforms=None):\n",
    "        self.df = df.reset_index()\n",
    "        self.mode = mode\n",
    "        self.transforms = transforms\n",
    "\n",
    "    def __len__(self):\n",
    "        return self.df.shape[0]\n",
    "\n",
    "    def __getitem__(self, index):\n",
    "        row = self.df.iloc[index]\n",
    "\n",
    "        image_path = os.path.join(im_dir, row.image)\n",
    "        mask_path = os.path.join(mask_dir, row.image)\n",
    "\n",
    "        # Open image\n",
    "        image = Image.open(image_path)\n",
    "        if image.mode != 'RGB':  # Ensure image is RGB\n",
    "            image = image.convert('RGB')\n",
    "        image = np.asarray(image)\n",
    "        if (image > 1).any():  # Normalize if pixel values are between 0-255\n",
    "            image = image / 255.0\n",
    "\n",
    "        # Open mask\n",
    "        mask = Image.open(mask_path)\n",
    "        mask = np.asarray(mask)\n",
    "        assert mask.max() < num_classes, f\"Mask value {mask.max()} exceeds number of classes {num_classes}\"\n",
    "\n",
    "        # Apply transformations\n",
    "        if self.transforms is not None:\n",
    "            transformed = self.transforms(image=image, mask=mask)\n",
    "            image = transformed[\"image\"]\n",
    "            mask = transformed[\"mask\"]\n",
    "        \n",
    "        # Create one layer for each label\n",
    "        mask = torch.as_tensor(mask).long()\n",
    "        mask = torch.nn.functional.one_hot(mask, num_classes=num_classes).permute(2,0,1).float()\n",
    "        #mask = torch.nn.functional.one_hot(mask, num_classes=num_classes).permute(0,3,1,2).squeeze(0).float()\n",
    "\n",
    "        # Convert image to tensor\n",
    "        image = torch.as_tensor(image).float()\n",
    "\n",
    "        return image, mask          "
   ]
  },
  {
   "cell_type": "markdown",
   "metadata": {},
   "source": [
    "### Transforms"
   ]
  },
  {
   "cell_type": "code",
   "execution_count": null,
   "metadata": {
    "execution": {
     "iopub.execute_input": "2024-06-26T16:14:49.068341Z",
     "iopub.status.busy": "2024-06-26T16:14:49.067527Z",
     "iopub.status.idle": "2024-06-26T16:14:49.081266Z",
     "shell.execute_reply": "2024-06-26T16:14:49.080208Z",
     "shell.execute_reply.started": "2024-06-26T16:14:49.068312Z"
    }
   },
   "outputs": [],
   "source": [
    "import albumentations as A\n",
    "from albumentations.pytorch import ToTensorV2\n",
    "\n",
    "transforms_train = A.Compose([\n",
    "    A.Resize(newsize[0], newsize[1]),\n",
    "    A.HorizontalFlip(),\n",
    "    A.Normalize(\n",
    "        mean=[0.485, 0.456, 0.406],\n",
    "        std=[0.229, 0.224, 0.225],\n",
    "    ),\n",
    "    ToTensorV2()\n",
    "])\n",
    "\n",
    "transforms_valid = A.Compose([\n",
    "    A.Resize(newsize[0], newsize[1]),\n",
    "    A.Normalize(\n",
    "        mean=[0.485, 0.456, 0.406],\n",
    "        std=[0.229, 0.224, 0.225],\n",
    "    ),\n",
    "    ToTensorV2()\n",
    "])"
   ]
  },
  {
   "cell_type": "markdown",
   "metadata": {},
   "source": [
    "### Loss"
   ]
  },
  {
   "cell_type": "code",
   "execution_count": null,
   "metadata": {
    "execution": {
     "iopub.execute_input": "2024-06-26T16:14:49.083078Z",
     "iopub.status.busy": "2024-06-26T16:14:49.082643Z",
     "iopub.status.idle": "2024-06-26T16:14:49.093097Z",
     "shell.execute_reply": "2024-06-26T16:14:49.092134Z",
     "shell.execute_reply.started": "2024-06-26T16:14:49.083042Z"
    }
   },
   "outputs": [],
   "source": [
    "class CombinedLoss(nn.Module):\n",
    "    def __init__(self, weight_ce=1.0, weight_iou=1.0):\n",
    "        super(CombinedLoss, self).__init__()\n",
    "        self.weight_ce = weight_ce\n",
    "        self.weight_iou = weight_iou\n",
    "        self.cross_entropy_loss = nn.CrossEntropyLoss()\n",
    "\n",
    "    def forward(self, inputs, targets):\n",
    "        # Cross-Entropy Loss\n",
    "        ce_loss = self.cross_entropy_loss(inputs, targets)\n",
    "\n",
    "        # IoU Loss\n",
    "        # Apply softmax to the inputs to get probabilities\n",
    "        probs = F.softmax(inputs, dim=1)\n",
    "\n",
    "        intersection = torch.sum(probs * targets, dim=(2, 3))\n",
    "        union = torch.sum(probs + targets, dim=(2, 3)) - intersection\n",
    "        iou = (intersection + 1e-6) / (union + 1e-6)\n",
    "        iou_loss = 1 - iou.mean()\n",
    "\n",
    "        # Combine losses\n",
    "        loss = self.weight_ce * ce_loss + self.weight_iou * iou_loss\n",
    "        return loss"
   ]
  },
  {
   "cell_type": "markdown",
   "metadata": {},
   "source": [
    "### Create datasets and dataloaders"
   ]
  },
  {
   "cell_type": "code",
   "execution_count": null,
   "metadata": {
    "execution": {
     "iopub.execute_input": "2024-06-26T16:14:49.094630Z",
     "iopub.status.busy": "2024-06-26T16:14:49.094294Z",
     "iopub.status.idle": "2024-06-26T16:14:49.111050Z",
     "shell.execute_reply": "2024-06-26T16:14:49.110225Z",
     "shell.execute_reply.started": "2024-06-26T16:14:49.094604Z"
    }
   },
   "outputs": [],
   "source": [
    "train_ = df[df['fold'] != fold].reset_index(drop=True)\n",
    "valid_ = df[df['fold'] == fold].reset_index(drop=True)\n",
    "\n",
    "dataset_train = SEGDataset(train_, 'train',  transforms_train)\n",
    "dataset_valid = SEGDataset(valid_, 'valid',  transforms_valid)\n",
    "\n",
    "train_loader = torch.utils.data.DataLoader(dataset_train, batch_size=batch_size, shuffle=True, num_workers=num_workers)\n",
    "val_loader = torch.utils.data.DataLoader(dataset_valid, batch_size=batch_size, shuffle=False, num_workers=num_workers)"
   ]
  },
  {
   "cell_type": "markdown",
   "metadata": {},
   "source": [
    "### Run function"
   ]
  },
  {
   "cell_type": "code",
   "execution_count": null,
   "metadata": {
    "execution": {
     "iopub.execute_input": "2024-06-26T16:14:49.155971Z",
     "iopub.status.busy": "2024-06-26T16:14:49.155603Z",
     "iopub.status.idle": "2024-06-26T16:14:49.166718Z",
     "shell.execute_reply": "2024-06-26T16:14:49.165767Z",
     "shell.execute_reply.started": "2024-06-26T16:14:49.155940Z"
    }
   },
   "outputs": [],
   "source": [
    "from torch import optim\n",
    "from torch.nn import BCEWithLogitsLoss\n",
    "from torch.optim.lr_scheduler import ReduceLROnPlateau\n",
    "\n",
    "\n",
    "def run(train_loader, val_loader, model, learning_rate, criterion, epochs, device):\n",
    "  \"\"\"\n",
    "  Trains a U-net model for multi-label segmentation.\n",
    "\n",
    "  Args:\n",
    "      train_loader: DataLoader for training data.\n",
    "      val_loader: DataLoader for validation data.\n",
    "      model: U-net model instance.\n",
    "      learning_rate: Learning rate for optimizer.\n",
    "      epochs: Number of epochs to train.\n",
    "      device: Device to use for training (CPU or GPU).\n",
    "  \"\"\"\n",
    "  # Define loss function and optimizer\n",
    "  optimizer = optim.Adam(model.parameters(), lr=learning_rate)\n",
    "\n",
    "  # Define a learning rate scheduler\n",
    "  scheduler = ReduceLROnPlateau(optimizer, mode='min', factor=0.1, patience=5, verbose=True)\n",
    "\n",
    "\n",
    "  # Training loop\n",
    "  for epoch in range(epochs):\n",
    "    model.train()\n",
    "    train_loss = 0.0\n",
    "    for images, masks in train_loader:\n",
    "      images, masks = images.to(device), masks.to(device)\n",
    "\n",
    "      # Forward pass and calculate loss\n",
    "      outputs = model(images)\n",
    "      loss = criterion(outputs, masks)\n",
    "\n",
    "      # Backward pass and update weights\n",
    "      optimizer.zero_grad()\n",
    "      loss.backward()\n",
    "      optimizer.step()\n",
    "\n",
    "      train_loss += loss.item()\n",
    "\n",
    "    train_loss /= len(train_loader)\n",
    "\n",
    "    # Validation step (optional)\n",
    "    model.eval()\n",
    "    with torch.no_grad():\n",
    "      val_loss = 0.0\n",
    "      for images, masks in val_loader:\n",
    "        images, masks = images.to(device), masks.to(device)\n",
    "        outputs = model(images)\n",
    "        val_loss += criterion(outputs, masks).item()\n",
    "\n",
    "    val_loss /= len(val_loader)\n",
    "    \n",
    "    # Step the scheduler\n",
    "    scheduler.step(val_loss)\n",
    "\n",
    "    # Print training and validation loss\n",
    "    print(f\"Epoch: {epoch+1}/{epochs} | Train Loss: {train_loss:.4f} | Val Loss: {val_loss:.4f}\")"
   ]
  },
  {
   "cell_type": "markdown",
   "metadata": {},
   "source": [
    "### Train"
   ]
  },
  {
   "cell_type": "code",
   "execution_count": 6,
   "metadata": {
    "execution": {
     "iopub.execute_input": "2024-06-26T16:14:49.946443Z",
     "iopub.status.busy": "2024-06-26T16:14:49.945975Z",
     "iopub.status.idle": "2024-06-26T16:14:49.959765Z",
     "shell.execute_reply": "2024-06-26T16:14:49.958863Z",
     "shell.execute_reply.started": "2024-06-26T16:14:49.946412Z"
    },
    "jupyter": {
     "outputs_hidden": true
    },
    "scrolled": true
   },
   "outputs": [
    {
     "ename": "NameError",
     "evalue": "name 'CombinedLoss' is not defined",
     "output_type": "error",
     "traceback": [
      "\u001b[0;31m---------------------------------------------------------------------------\u001b[0m",
      "\u001b[0;31mNameError\u001b[0m                                 Traceback (most recent call last)",
      "Cell \u001b[0;32mIn[6], line 1\u001b[0m\n\u001b[0;32m----> 1\u001b[0m criterion \u001b[38;5;241m=\u001b[39m CombinedLoss()\n\u001b[1;32m      2\u001b[0m model\u001b[38;5;241m.\u001b[39mto(device)\n\u001b[1;32m      4\u001b[0m \u001b[38;5;28;01mif\u001b[39;00m TRAIN:\n",
      "\u001b[0;31mNameError\u001b[0m: name 'CombinedLoss' is not defined"
     ]
    }
   ],
   "source": [
    "criterion = CombinedLoss()\n",
    "model.to(device)\n",
    "\n",
    "if TRAIN:\n",
    "    run(train_loader, val_loader, model, learning_rate, criterion, epochs, device)\n",
    "else:\n",
    "    model.load_state_dict(torch.load(\"/kaggle/input/simple_unet_2d_lspine/pytorch/one/1/simple_unet.pth\"))\n",
    "                      "
   ]
  },
  {
   "cell_type": "markdown",
   "metadata": {},
   "source": [
    "### Inference"
   ]
  },
  {
   "cell_type": "code",
   "execution_count": 7,
   "metadata": {
    "execution": {
     "iopub.execute_input": "2024-06-26T16:23:29.988638Z",
     "iopub.status.busy": "2024-06-26T16:23:29.988265Z",
     "iopub.status.idle": "2024-06-26T16:23:30.003059Z",
     "shell.execute_reply": "2024-06-26T16:23:30.002067Z",
     "shell.execute_reply.started": "2024-06-26T16:23:29.988610Z"
    }
   },
   "outputs": [],
   "source": [
    "import matplotlib.pyplot as plt\n",
    "\n",
    "def inference(model, dataloader, device, num_samples=16):\n",
    "    model.eval()\n",
    "    images_batch = []\n",
    "    preds_batch = []\n",
    "    \n",
    "    with torch.no_grad():\n",
    "        for images, _ in dataloader:\n",
    "            images = images.to(device)\n",
    "            outputs = model(images)\n",
    "            preds = torch.argmax(outputs, dim=1)\n",
    "            \n",
    "            images_batch.append(images.cpu())\n",
    "            preds_batch.append(preds.cpu())\n",
    "            \n",
    "            if len(images_batch) * images.size(0) >= num_samples:\n",
    "                break\n",
    "\n",
    "    images_batch = torch.cat(images_batch)[:num_samples]\n",
    "    preds_batch = torch.cat(preds_batch)[:num_samples]\n",
    "    \n",
    "    return images_batch, preds_batch\n",
    "\n",
    "\n",
    "# Define a color map with fixed colors for each label\n",
    "def get_label_colors(num_classes):\n",
    "    colors = plt.cm.tab20(np.linspace(0, 1, num_classes))\n",
    "    return colors\n",
    "\n",
    "def visualize_predictions(images, masks, num_classes=20, num_samples=16):\n",
    "    num_samples = min(num_samples, len(images))\n",
    "    plt.figure(figsize=(20, 20))\n",
    "    \n",
    "    label_colors = get_label_colors(num_classes)\n",
    "    \n",
    "    for i in range(num_samples):\n",
    "        plt.subplot(4, 8, i * 2 + 1)\n",
    "        im = images[i].numpy()\n",
    "        im = np.transpose(im, (1, 2, 0))\n",
    "        #denormalize\n",
    "        im = ((im * [0.229, 0.224, 0.225]) + [0.485, 0.456, 0.406]) * 255\n",
    "        plt.imshow(im)\n",
    "        plt.title(\"Input Image\")\n",
    "        plt.axis('off')\n",
    "        \n",
    "        plt.subplot(4, 8, i * 2 + 2)\n",
    "        mask = masks[i].numpy()\n",
    "\n",
    "        color_mask = np.zeros((mask.shape[0], mask.shape[1], 3))\n",
    "        for label in range(num_classes):\n",
    "            color_mask[mask == label] = label_colors[label][:3] * 255\n",
    "        \n",
    "        plt.imshow(color_mask.astype(np.uint8))\n",
    "        plt.title(\"Predicted Mask\")\n",
    "        plt.axis('off')\n",
    "\n",
    "    plt.show()"
   ]
  },
  {
   "cell_type": "code",
   "execution_count": 8,
   "metadata": {
    "execution": {
     "iopub.execute_input": "2024-06-26T16:15:58.515205Z",
     "iopub.status.busy": "2024-06-26T16:15:58.514778Z",
     "iopub.status.idle": "2024-06-26T16:16:07.326438Z",
     "shell.execute_reply": "2024-06-26T16:16:07.325407Z",
     "shell.execute_reply.started": "2024-06-26T16:15:58.515174Z"
    }
   },
   "outputs": [
    {
     "ename": "NameError",
     "evalue": "name 'val_loader' is not defined",
     "output_type": "error",
     "traceback": [
      "\u001b[0;31m---------------------------------------------------------------------------\u001b[0m",
      "\u001b[0;31mNameError\u001b[0m                                 Traceback (most recent call last)",
      "Cell \u001b[0;32mIn[8], line 4\u001b[0m\n\u001b[1;32m      1\u001b[0m model\u001b[38;5;241m.\u001b[39meval()\n\u001b[1;32m      2\u001b[0m model\u001b[38;5;241m.\u001b[39mto(device)\n\u001b[0;32m----> 4\u001b[0m images, masks \u001b[38;5;241m=\u001b[39m inference(model, val_loader, device, num_samples\u001b[38;5;241m=\u001b[39m\u001b[38;5;241m160000\u001b[39m)\n\u001b[1;32m      5\u001b[0m visualize_predictions(images, masks, num_samples\u001b[38;5;241m=\u001b[39m\u001b[38;5;241m160000\u001b[39m)\n",
      "\u001b[0;31mNameError\u001b[0m: name 'val_loader' is not defined"
     ]
    }
   ],
   "source": [
    "model.eval()\n",
    "model.to(device)\n",
    "\n",
    "images, masks = inference(model, val_loader, device, num_samples=160000)\n",
    "visualize_predictions(images, masks, num_samples=160000)"
   ]
  },
  {
   "cell_type": "markdown",
   "metadata": {},
   "source": [
    "### Save model"
   ]
  },
  {
   "cell_type": "code",
   "execution_count": 40,
   "metadata": {
    "execution": {
     "iopub.execute_input": "2024-06-24T22:55:24.011186Z",
     "iopub.status.busy": "2024-06-24T22:55:24.010769Z",
     "iopub.status.idle": "2024-06-24T22:55:24.168396Z",
     "shell.execute_reply": "2024-06-24T22:55:24.167311Z",
     "shell.execute_reply.started": "2024-06-24T22:55:24.011135Z"
    }
   },
   "outputs": [],
   "source": [
    "torch.save(model.state_dict(), './simple_unet.pth')"
   ]
  },
  {
   "cell_type": "code",
   "execution_count": null,
   "metadata": {},
   "outputs": [],
   "source": []
  }
 ],
 "metadata": {
  "kaggle": {
   "accelerator": "nvidiaTeslaT4",
   "dataSources": [
    {
     "datasetId": 5274724,
     "sourceId": 8776139,
     "sourceType": "datasetVersion"
    }
   ],
   "dockerImageVersionId": 30733,
   "isGpuEnabled": true,
   "isInternetEnabled": true,
   "language": "python",
   "sourceType": "notebook"
  },
  "kernelspec": {
   "display_name": "Python 3 (ipykernel)",
   "language": "python",
   "name": "python3"
  },
  "language_info": {
   "codemirror_mode": {
    "name": "ipython",
    "version": 3
   },
   "file_extension": ".py",
   "mimetype": "text/x-python",
   "name": "python",
   "nbconvert_exporter": "python",
   "pygments_lexer": "ipython3",
   "version": "3.11.5"
  }
 },
 "nbformat": 4,
 "nbformat_minor": 4
}
