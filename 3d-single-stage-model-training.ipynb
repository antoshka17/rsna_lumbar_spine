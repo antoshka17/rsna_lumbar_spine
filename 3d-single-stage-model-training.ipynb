{
 "cells": [
  {
   "cell_type": "markdown",
   "metadata": {},
   "source": [
    "This is the training companion notebook to the inference notebook I have published here:\n"
   ]
  },
  {
   "cell_type": "markdown",
   "metadata": {},
   "source": [
    "## Dependencies"
   ]
  },
  {
   "cell_type": "code",
   "execution_count": 1,
   "metadata": {
    "_cell_guid": "b1076dfc-b9ad-4769-8c92-a6c4dae69d19",
    "_uuid": "8f2839f25d086af736a60e9eeb907d3b93b6e0e5",
    "execution": {
     "iopub.execute_input": "2024-09-22T19:49:09.509692Z",
     "iopub.status.busy": "2024-09-22T19:49:09.508847Z",
     "iopub.status.idle": "2024-09-22T19:51:34.912644Z",
     "shell.execute_reply": "2024-09-22T19:51:34.911560Z",
     "shell.execute_reply.started": "2024-09-22T19:49:09.509645Z"
    }
   },
   "outputs": [
    {
     "name": "stdout",
     "output_type": "stream",
     "text": [
      "Looking in indexes: https://pypi.org/simple, https://pypi.ngc.nvidia.com\n",
      "Requirement already satisfied: timm_3d in /home/anton/anaconda3/lib/python3.11/site-packages (1.0.1)\n",
      "Requirement already satisfied: torch>=1.7 in /home/anton/anaconda3/lib/python3.11/site-packages (from timm_3d) (2.3.1)\n",
      "Requirement already satisfied: torchvision in /home/anton/anaconda3/lib/python3.11/site-packages (from timm_3d) (0.18.1)\n",
      "Requirement already satisfied: pyyaml in /home/anton/anaconda3/lib/python3.11/site-packages (from timm_3d) (6.0.1)\n",
      "Requirement already satisfied: huggingface-hub in /home/anton/anaconda3/lib/python3.11/site-packages (from timm_3d) (0.15.1)\n",
      "Requirement already satisfied: safetensors>=0.2 in /home/anton/anaconda3/lib/python3.11/site-packages (from timm_3d) (0.3.2)\n",
      "Requirement already satisfied: filelock in /home/anton/anaconda3/lib/python3.11/site-packages (from torch>=1.7->timm_3d) (3.9.0)\n",
      "Requirement already satisfied: typing-extensions>=4.8.0 in /home/anton/anaconda3/lib/python3.11/site-packages (from torch>=1.7->timm_3d) (4.10.0)\n",
      "Requirement already satisfied: sympy in /home/anton/anaconda3/lib/python3.11/site-packages (from torch>=1.7->timm_3d) (1.11.1)\n",
      "Requirement already satisfied: networkx in /home/anton/anaconda3/lib/python3.11/site-packages (from torch>=1.7->timm_3d) (3.1)\n",
      "Requirement already satisfied: jinja2 in /home/anton/anaconda3/lib/python3.11/site-packages (from torch>=1.7->timm_3d) (3.1.2)\n",
      "Requirement already satisfied: fsspec in /home/anton/anaconda3/lib/python3.11/site-packages (from torch>=1.7->timm_3d) (2023.4.0)\n",
      "Requirement already satisfied: nvidia-cuda-nvrtc-cu12==12.1.105 in /home/anton/anaconda3/lib/python3.11/site-packages (from torch>=1.7->timm_3d) (12.1.105)\n",
      "Requirement already satisfied: nvidia-cuda-runtime-cu12==12.1.105 in /home/anton/anaconda3/lib/python3.11/site-packages (from torch>=1.7->timm_3d) (12.1.105)\n",
      "Requirement already satisfied: nvidia-cuda-cupti-cu12==12.1.105 in /home/anton/anaconda3/lib/python3.11/site-packages (from torch>=1.7->timm_3d) (12.1.105)\n",
      "Requirement already satisfied: nvidia-cudnn-cu12==8.9.2.26 in /home/anton/anaconda3/lib/python3.11/site-packages (from torch>=1.7->timm_3d) (8.9.2.26)\n",
      "Requirement already satisfied: nvidia-cublas-cu12==12.1.3.1 in /home/anton/anaconda3/lib/python3.11/site-packages (from torch>=1.7->timm_3d) (12.1.3.1)\n",
      "Requirement already satisfied: nvidia-cufft-cu12==11.0.2.54 in /home/anton/anaconda3/lib/python3.11/site-packages (from torch>=1.7->timm_3d) (11.0.2.54)\n",
      "Requirement already satisfied: nvidia-curand-cu12==10.3.2.106 in /home/anton/anaconda3/lib/python3.11/site-packages (from torch>=1.7->timm_3d) (10.3.2.106)\n",
      "Requirement already satisfied: nvidia-cusolver-cu12==11.4.5.107 in /home/anton/anaconda3/lib/python3.11/site-packages (from torch>=1.7->timm_3d) (11.4.5.107)\n",
      "Requirement already satisfied: nvidia-cusparse-cu12==12.1.0.106 in /home/anton/anaconda3/lib/python3.11/site-packages (from torch>=1.7->timm_3d) (12.1.0.106)\n",
      "Requirement already satisfied: nvidia-nccl-cu12==2.20.5 in /home/anton/anaconda3/lib/python3.11/site-packages (from torch>=1.7->timm_3d) (2.20.5)\n",
      "Requirement already satisfied: nvidia-nvtx-cu12==12.1.105 in /home/anton/anaconda3/lib/python3.11/site-packages (from torch>=1.7->timm_3d) (12.1.105)\n",
      "Requirement already satisfied: triton==2.3.1 in /home/anton/anaconda3/lib/python3.11/site-packages (from torch>=1.7->timm_3d) (2.3.1)\n",
      "Requirement already satisfied: nvidia-nvjitlink-cu12 in /home/anton/anaconda3/lib/python3.11/site-packages (from nvidia-cusolver-cu12==11.4.5.107->torch>=1.7->timm_3d) (12.2.140)\n",
      "Requirement already satisfied: requests in /home/anton/anaconda3/lib/python3.11/site-packages (from huggingface-hub->timm_3d) (2.32.3)\n",
      "Requirement already satisfied: tqdm>=4.42.1 in /home/anton/anaconda3/lib/python3.11/site-packages (from huggingface-hub->timm_3d) (4.66.5)\n",
      "Requirement already satisfied: packaging>=20.9 in /home/anton/anaconda3/lib/python3.11/site-packages (from huggingface-hub->timm_3d) (23.1)\n",
      "Requirement already satisfied: numpy in /home/anton/anaconda3/lib/python3.11/site-packages (from torchvision->timm_3d) (1.26.4)\n",
      "Requirement already satisfied: pillow!=8.3.*,>=5.3.0 in /home/anton/anaconda3/lib/python3.11/site-packages (from torchvision->timm_3d) (10.4.0)\n",
      "Requirement already satisfied: MarkupSafe>=2.0 in /home/anton/anaconda3/lib/python3.11/site-packages (from jinja2->torch>=1.7->timm_3d) (2.1.1)\n",
      "Requirement already satisfied: charset-normalizer<4,>=2 in /home/anton/anaconda3/lib/python3.11/site-packages (from requests->huggingface-hub->timm_3d) (2.0.4)\n",
      "Requirement already satisfied: idna<4,>=2.5 in /home/anton/anaconda3/lib/python3.11/site-packages (from requests->huggingface-hub->timm_3d) (2.10)\n",
      "Requirement already satisfied: urllib3<3,>=1.21.1 in /home/anton/anaconda3/lib/python3.11/site-packages (from requests->huggingface-hub->timm_3d) (1.26.16)\n",
      "Requirement already satisfied: certifi>=2017.4.17 in /home/anton/anaconda3/lib/python3.11/site-packages (from requests->huggingface-hub->timm_3d) (2024.8.30)\n",
      "Requirement already satisfied: mpmath>=0.19 in /home/anton/anaconda3/lib/python3.11/site-packages (from sympy->torch>=1.7->timm_3d) (1.3.0)\n",
      "Looking in indexes: https://pypi.org/simple, https://pypi.ngc.nvidia.com\n",
      "Requirement already satisfied: torchio in /home/anton/anaconda3/lib/python3.11/site-packages (0.20.0)\n",
      "Requirement already satisfied: Deprecated in /home/anton/anaconda3/lib/python3.11/site-packages (from torchio) (1.2.14)\n",
      "Requirement already satisfied: SimpleITK!=2.0.*,!=2.1.1.1 in /home/anton/anaconda3/lib/python3.11/site-packages (from torchio) (2.4.0)\n",
      "Requirement already satisfied: humanize in /home/anton/anaconda3/lib/python3.11/site-packages (from torchio) (4.10.0)\n",
      "Requirement already satisfied: nibabel in /home/anton/anaconda3/lib/python3.11/site-packages (from torchio) (5.2.1)\n",
      "Requirement already satisfied: numpy>=1.15 in /home/anton/anaconda3/lib/python3.11/site-packages (from torchio) (1.26.4)\n",
      "Requirement already satisfied: scipy in /home/anton/anaconda3/lib/python3.11/site-packages (from torchio) (1.11.3)\n",
      "Requirement already satisfied: torch>=1.1 in /home/anton/anaconda3/lib/python3.11/site-packages (from torchio) (2.3.1)\n",
      "Requirement already satisfied: tqdm in /home/anton/anaconda3/lib/python3.11/site-packages (from torchio) (4.66.5)\n",
      "Requirement already satisfied: typer in /home/anton/anaconda3/lib/python3.11/site-packages (from torchio) (0.9.4)\n",
      "Requirement already satisfied: filelock in /home/anton/anaconda3/lib/python3.11/site-packages (from torch>=1.1->torchio) (3.9.0)\n",
      "Requirement already satisfied: typing-extensions>=4.8.0 in /home/anton/anaconda3/lib/python3.11/site-packages (from torch>=1.1->torchio) (4.10.0)\n",
      "Requirement already satisfied: sympy in /home/anton/anaconda3/lib/python3.11/site-packages (from torch>=1.1->torchio) (1.11.1)\n",
      "Requirement already satisfied: networkx in /home/anton/anaconda3/lib/python3.11/site-packages (from torch>=1.1->torchio) (3.1)\n",
      "Requirement already satisfied: jinja2 in /home/anton/anaconda3/lib/python3.11/site-packages (from torch>=1.1->torchio) (3.1.2)\n",
      "Requirement already satisfied: fsspec in /home/anton/anaconda3/lib/python3.11/site-packages (from torch>=1.1->torchio) (2023.4.0)\n",
      "Requirement already satisfied: nvidia-cuda-nvrtc-cu12==12.1.105 in /home/anton/anaconda3/lib/python3.11/site-packages (from torch>=1.1->torchio) (12.1.105)\n",
      "Requirement already satisfied: nvidia-cuda-runtime-cu12==12.1.105 in /home/anton/anaconda3/lib/python3.11/site-packages (from torch>=1.1->torchio) (12.1.105)\n",
      "Requirement already satisfied: nvidia-cuda-cupti-cu12==12.1.105 in /home/anton/anaconda3/lib/python3.11/site-packages (from torch>=1.1->torchio) (12.1.105)\n",
      "Requirement already satisfied: nvidia-cudnn-cu12==8.9.2.26 in /home/anton/anaconda3/lib/python3.11/site-packages (from torch>=1.1->torchio) (8.9.2.26)\n",
      "Requirement already satisfied: nvidia-cublas-cu12==12.1.3.1 in /home/anton/anaconda3/lib/python3.11/site-packages (from torch>=1.1->torchio) (12.1.3.1)\n",
      "Requirement already satisfied: nvidia-cufft-cu12==11.0.2.54 in /home/anton/anaconda3/lib/python3.11/site-packages (from torch>=1.1->torchio) (11.0.2.54)\n",
      "Requirement already satisfied: nvidia-curand-cu12==10.3.2.106 in /home/anton/anaconda3/lib/python3.11/site-packages (from torch>=1.1->torchio) (10.3.2.106)\n",
      "Requirement already satisfied: nvidia-cusolver-cu12==11.4.5.107 in /home/anton/anaconda3/lib/python3.11/site-packages (from torch>=1.1->torchio) (11.4.5.107)\n",
      "Requirement already satisfied: nvidia-cusparse-cu12==12.1.0.106 in /home/anton/anaconda3/lib/python3.11/site-packages (from torch>=1.1->torchio) (12.1.0.106)\n",
      "Requirement already satisfied: nvidia-nccl-cu12==2.20.5 in /home/anton/anaconda3/lib/python3.11/site-packages (from torch>=1.1->torchio) (2.20.5)\n",
      "Requirement already satisfied: nvidia-nvtx-cu12==12.1.105 in /home/anton/anaconda3/lib/python3.11/site-packages (from torch>=1.1->torchio) (12.1.105)\n",
      "Requirement already satisfied: triton==2.3.1 in /home/anton/anaconda3/lib/python3.11/site-packages (from torch>=1.1->torchio) (2.3.1)\n",
      "Requirement already satisfied: nvidia-nvjitlink-cu12 in /home/anton/anaconda3/lib/python3.11/site-packages (from nvidia-cusolver-cu12==11.4.5.107->torch>=1.1->torchio) (12.2.140)\n",
      "Requirement already satisfied: wrapt<2,>=1.10 in /home/anton/anaconda3/lib/python3.11/site-packages (from Deprecated->torchio) (1.14.1)\n",
      "Requirement already satisfied: packaging>=17 in /home/anton/anaconda3/lib/python3.11/site-packages (from nibabel->torchio) (23.1)\n",
      "Requirement already satisfied: click<9.0.0,>=7.1.1 in /home/anton/anaconda3/lib/python3.11/site-packages (from typer->torchio) (8.0.4)\n",
      "Requirement already satisfied: MarkupSafe>=2.0 in /home/anton/anaconda3/lib/python3.11/site-packages (from jinja2->torch>=1.1->torchio) (2.1.1)\n",
      "Requirement already satisfied: mpmath>=0.19 in /home/anton/anaconda3/lib/python3.11/site-packages (from sympy->torch>=1.1->torchio) (1.3.0)\n"
     ]
    },
    {
     "name": "stdout",
     "output_type": "stream",
     "text": [
      "Looking in indexes: https://pypi.org/simple, https://pypi.ngc.nvidia.com\n",
      "Requirement already satisfied: itk in /home/anton/anaconda3/lib/python3.11/site-packages (5.4.0)\n",
      "Requirement already satisfied: itk-core==5.4.0 in /home/anton/anaconda3/lib/python3.11/site-packages (from itk) (5.4.0)\n",
      "Requirement already satisfied: itk-numerics==5.4.0 in /home/anton/anaconda3/lib/python3.11/site-packages (from itk) (5.4.0)\n",
      "Requirement already satisfied: itk-io==5.4.0 in /home/anton/anaconda3/lib/python3.11/site-packages (from itk) (5.4.0)\n",
      "Requirement already satisfied: itk-filtering==5.4.0 in /home/anton/anaconda3/lib/python3.11/site-packages (from itk) (5.4.0)\n",
      "Requirement already satisfied: itk-registration==5.4.0 in /home/anton/anaconda3/lib/python3.11/site-packages (from itk) (5.4.0)\n",
      "Requirement already satisfied: itk-segmentation==5.4.0 in /home/anton/anaconda3/lib/python3.11/site-packages (from itk) (5.4.0)\n",
      "Requirement already satisfied: numpy in /home/anton/anaconda3/lib/python3.11/site-packages (from itk) (1.26.4)\n",
      "Looking in indexes: https://pypi.org/simple, https://pypi.ngc.nvidia.com\n",
      "Requirement already satisfied: skorch in /home/anton/anaconda3/lib/python3.11/site-packages (1.0.0)\n",
      "Requirement already satisfied: numpy>=1.13.3 in /home/anton/anaconda3/lib/python3.11/site-packages (from skorch) (1.26.4)\n",
      "Requirement already satisfied: scikit-learn>=0.22.0 in /home/anton/anaconda3/lib/python3.11/site-packages (from skorch) (1.4.1.post1)\n",
      "Requirement already satisfied: scipy>=1.1.0 in /home/anton/anaconda3/lib/python3.11/site-packages (from skorch) (1.11.3)\n",
      "Requirement already satisfied: tabulate>=0.7.7 in /home/anton/anaconda3/lib/python3.11/site-packages (from skorch) (0.8.10)\n",
      "Requirement already satisfied: tqdm>=4.14.0 in /home/anton/anaconda3/lib/python3.11/site-packages (from skorch) (4.66.5)\n",
      "Requirement already satisfied: joblib>=1.2.0 in /home/anton/anaconda3/lib/python3.11/site-packages (from scikit-learn>=0.22.0->skorch) (1.2.0)\n",
      "Requirement already satisfied: threadpoolctl>=2.0.0 in /home/anton/anaconda3/lib/python3.11/site-packages (from scikit-learn>=0.22.0->skorch) (2.2.0)\n",
      "Looking in indexes: https://pypi.org/simple, https://pypi.ngc.nvidia.com\n",
      "Requirement already satisfied: spacecutter in /home/anton/anaconda3/lib/python3.11/site-packages (0.2.1)\n",
      "Requirement already satisfied: numpy in /home/anton/anaconda3/lib/python3.11/site-packages (from spacecutter) (1.26.4)\n",
      "Requirement already satisfied: torch>=1.1.0 in /home/anton/anaconda3/lib/python3.11/site-packages (from spacecutter) (2.3.1)\n",
      "Requirement already satisfied: filelock in /home/anton/anaconda3/lib/python3.11/site-packages (from torch>=1.1.0->spacecutter) (3.9.0)\n",
      "Requirement already satisfied: typing-extensions>=4.8.0 in /home/anton/anaconda3/lib/python3.11/site-packages (from torch>=1.1.0->spacecutter) (4.10.0)\n",
      "Requirement already satisfied: sympy in /home/anton/anaconda3/lib/python3.11/site-packages (from torch>=1.1.0->spacecutter) (1.11.1)\n",
      "Requirement already satisfied: networkx in /home/anton/anaconda3/lib/python3.11/site-packages (from torch>=1.1.0->spacecutter) (3.1)\n",
      "Requirement already satisfied: jinja2 in /home/anton/anaconda3/lib/python3.11/site-packages (from torch>=1.1.0->spacecutter) (3.1.2)\n",
      "Requirement already satisfied: fsspec in /home/anton/anaconda3/lib/python3.11/site-packages (from torch>=1.1.0->spacecutter) (2023.4.0)\n",
      "Requirement already satisfied: nvidia-cuda-nvrtc-cu12==12.1.105 in /home/anton/anaconda3/lib/python3.11/site-packages (from torch>=1.1.0->spacecutter) (12.1.105)\n",
      "Requirement already satisfied: nvidia-cuda-runtime-cu12==12.1.105 in /home/anton/anaconda3/lib/python3.11/site-packages (from torch>=1.1.0->spacecutter) (12.1.105)\n",
      "Requirement already satisfied: nvidia-cuda-cupti-cu12==12.1.105 in /home/anton/anaconda3/lib/python3.11/site-packages (from torch>=1.1.0->spacecutter) (12.1.105)\n",
      "Requirement already satisfied: nvidia-cudnn-cu12==8.9.2.26 in /home/anton/anaconda3/lib/python3.11/site-packages (from torch>=1.1.0->spacecutter) (8.9.2.26)\n",
      "Requirement already satisfied: nvidia-cublas-cu12==12.1.3.1 in /home/anton/anaconda3/lib/python3.11/site-packages (from torch>=1.1.0->spacecutter) (12.1.3.1)\n",
      "Requirement already satisfied: nvidia-cufft-cu12==11.0.2.54 in /home/anton/anaconda3/lib/python3.11/site-packages (from torch>=1.1.0->spacecutter) (11.0.2.54)\n",
      "Requirement already satisfied: nvidia-curand-cu12==10.3.2.106 in /home/anton/anaconda3/lib/python3.11/site-packages (from torch>=1.1.0->spacecutter) (10.3.2.106)\n",
      "Requirement already satisfied: nvidia-cusolver-cu12==11.4.5.107 in /home/anton/anaconda3/lib/python3.11/site-packages (from torch>=1.1.0->spacecutter) (11.4.5.107)\n",
      "Requirement already satisfied: nvidia-cusparse-cu12==12.1.0.106 in /home/anton/anaconda3/lib/python3.11/site-packages (from torch>=1.1.0->spacecutter) (12.1.0.106)\n",
      "Requirement already satisfied: nvidia-nccl-cu12==2.20.5 in /home/anton/anaconda3/lib/python3.11/site-packages (from torch>=1.1.0->spacecutter) (2.20.5)\n",
      "Requirement already satisfied: nvidia-nvtx-cu12==12.1.105 in /home/anton/anaconda3/lib/python3.11/site-packages (from torch>=1.1.0->spacecutter) (12.1.105)\n",
      "Requirement already satisfied: triton==2.3.1 in /home/anton/anaconda3/lib/python3.11/site-packages (from torch>=1.1.0->spacecutter) (2.3.1)\n",
      "Requirement already satisfied: nvidia-nvjitlink-cu12 in /home/anton/anaconda3/lib/python3.11/site-packages (from nvidia-cusolver-cu12==11.4.5.107->torch>=1.1.0->spacecutter) (12.2.140)\n",
      "Requirement already satisfied: MarkupSafe>=2.0 in /home/anton/anaconda3/lib/python3.11/site-packages (from jinja2->torch>=1.1.0->spacecutter) (2.1.1)\n",
      "Requirement already satisfied: mpmath>=0.19 in /home/anton/anaconda3/lib/python3.11/site-packages (from sympy->torch>=1.1.0->spacecutter) (1.3.0)\n",
      "Looking in indexes: https://pypi.org/simple, https://pypi.ngc.nvidia.com\n",
      "Requirement already satisfied: open3d in /home/anton/anaconda3/lib/python3.11/site-packages (0.18.0)\n",
      "Requirement already satisfied: numpy>=1.18.0 in /home/anton/anaconda3/lib/python3.11/site-packages (from open3d) (1.26.4)\n",
      "Requirement already satisfied: dash>=2.6.0 in /home/anton/anaconda3/lib/python3.11/site-packages (from open3d) (2.18.1)\n",
      "Requirement already satisfied: werkzeug>=2.2.3 in /home/anton/anaconda3/lib/python3.11/site-packages (from open3d) (2.2.3)\n",
      "Requirement already satisfied: nbformat>=5.7.0 in /home/anton/anaconda3/lib/python3.11/site-packages (from open3d) (5.9.2)\n",
      "Requirement already satisfied: configargparse in /home/anton/anaconda3/lib/python3.11/site-packages (from open3d) (1.7)\n",
      "Requirement already satisfied: ipywidgets>=8.0.4 in /home/anton/anaconda3/lib/python3.11/site-packages (from open3d) (8.0.4)\n",
      "Requirement already satisfied: addict in /home/anton/anaconda3/lib/python3.11/site-packages (from open3d) (2.4.0)\n",
      "Requirement already satisfied: pillow>=9.3.0 in /home/anton/anaconda3/lib/python3.11/site-packages (from open3d) (10.4.0)\n",
      "Requirement already satisfied: matplotlib>=3 in /home/anton/anaconda3/lib/python3.11/site-packages (from open3d) (3.9.0)\n",
      "Requirement already satisfied: pandas>=1.0 in /home/anton/anaconda3/lib/python3.11/site-packages (from open3d) (2.2.2)\n",
      "Requirement already satisfied: pyyaml>=5.4.1 in /home/anton/anaconda3/lib/python3.11/site-packages (from open3d) (6.0.1)\n",
      "Requirement already satisfied: scikit-learn>=0.21 in /home/anton/anaconda3/lib/python3.11/site-packages (from open3d) (1.4.1.post1)\n",
      "Requirement already satisfied: tqdm in /home/anton/anaconda3/lib/python3.11/site-packages (from open3d) (4.66.5)\n",
      "Requirement already satisfied: pyquaternion in /home/anton/anaconda3/lib/python3.11/site-packages (from open3d) (0.9.9)\n",
      "Requirement already satisfied: Flask<3.1,>=1.0.4 in /home/anton/anaconda3/lib/python3.11/site-packages (from dash>=2.6.0->open3d) (2.2.2)\n",
      "Requirement already satisfied: plotly>=5.0.0 in /home/anton/anaconda3/lib/python3.11/site-packages (from dash>=2.6.0->open3d) (5.9.0)\n",
      "Requirement already satisfied: dash-html-components==2.0.0 in /home/anton/anaconda3/lib/python3.11/site-packages (from dash>=2.6.0->open3d) (2.0.0)\n",
      "Requirement already satisfied: dash-core-components==2.0.0 in /home/anton/anaconda3/lib/python3.11/site-packages (from dash>=2.6.0->open3d) (2.0.0)\n",
      "Requirement already satisfied: dash-table==5.0.0 in /home/anton/anaconda3/lib/python3.11/site-packages (from dash>=2.6.0->open3d) (5.0.0)\n",
      "Requirement already satisfied: importlib-metadata in /home/anton/anaconda3/lib/python3.11/site-packages (from dash>=2.6.0->open3d) (6.0.0)\n",
      "Requirement already satisfied: typing-extensions>=4.1.1 in /home/anton/anaconda3/lib/python3.11/site-packages (from dash>=2.6.0->open3d) (4.10.0)\n",
      "Requirement already satisfied: requests in /home/anton/anaconda3/lib/python3.11/site-packages (from dash>=2.6.0->open3d) (2.32.3)\n",
      "Requirement already satisfied: retrying in /home/anton/anaconda3/lib/python3.11/site-packages (from dash>=2.6.0->open3d) (1.3.4)\n",
      "Requirement already satisfied: nest-asyncio in /home/anton/anaconda3/lib/python3.11/site-packages (from dash>=2.6.0->open3d) (1.5.6)\n",
      "Requirement already satisfied: setuptools in /home/anton/anaconda3/lib/python3.11/site-packages (from dash>=2.6.0->open3d) (75.1.0)\n",
      "Requirement already satisfied: ipykernel>=4.5.1 in /home/anton/anaconda3/lib/python3.11/site-packages (from ipywidgets>=8.0.4->open3d) (6.25.0)\n",
      "Requirement already satisfied: ipython>=6.1.0 in /home/anton/anaconda3/lib/python3.11/site-packages (from ipywidgets>=8.0.4->open3d) (8.15.0)\n",
      "Requirement already satisfied: traitlets>=4.3.1 in /home/anton/anaconda3/lib/python3.11/site-packages (from ipywidgets>=8.0.4->open3d) (5.7.1)\n",
      "Requirement already satisfied: widgetsnbextension~=4.0 in /home/anton/anaconda3/lib/python3.11/site-packages (from ipywidgets>=8.0.4->open3d) (4.0.5)\n",
      "Requirement already satisfied: jupyterlab-widgets~=3.0 in /home/anton/anaconda3/lib/python3.11/site-packages (from ipywidgets>=8.0.4->open3d) (3.0.5)\n",
      "Requirement already satisfied: contourpy>=1.0.1 in /home/anton/anaconda3/lib/python3.11/site-packages (from matplotlib>=3->open3d) (1.0.5)\n",
      "Requirement already satisfied: cycler>=0.10 in /home/anton/anaconda3/lib/python3.11/site-packages (from matplotlib>=3->open3d) (0.11.0)\n",
      "Requirement already satisfied: fonttools>=4.22.0 in /home/anton/anaconda3/lib/python3.11/site-packages (from matplotlib>=3->open3d) (4.25.0)\n",
      "Requirement already satisfied: kiwisolver>=1.3.1 in /home/anton/anaconda3/lib/python3.11/site-packages (from matplotlib>=3->open3d) (1.4.4)\n",
      "Requirement already satisfied: packaging>=20.0 in /home/anton/anaconda3/lib/python3.11/site-packages (from matplotlib>=3->open3d) (23.1)\n",
      "Requirement already satisfied: pyparsing>=2.3.1 in /home/anton/anaconda3/lib/python3.11/site-packages (from matplotlib>=3->open3d) (3.0.9)\n",
      "Requirement already satisfied: python-dateutil>=2.7 in /home/anton/anaconda3/lib/python3.11/site-packages (from matplotlib>=3->open3d) (2.8.2)\n",
      "Requirement already satisfied: fastjsonschema in /home/anton/anaconda3/lib/python3.11/site-packages (from nbformat>=5.7.0->open3d) (2.16.2)\n",
      "Requirement already satisfied: jsonschema>=2.6 in /home/anton/anaconda3/lib/python3.11/site-packages (from nbformat>=5.7.0->open3d) (4.17.3)\n",
      "Requirement already satisfied: jupyter-core in /home/anton/anaconda3/lib/python3.11/site-packages (from nbformat>=5.7.0->open3d) (5.3.0)\n",
      "Requirement already satisfied: pytz>=2020.1 in /home/anton/anaconda3/lib/python3.11/site-packages (from pandas>=1.0->open3d) (2023.3.post1)\n",
      "Requirement already satisfied: tzdata>=2022.7 in /home/anton/anaconda3/lib/python3.11/site-packages (from pandas>=1.0->open3d) (2023.3)\n",
      "Requirement already satisfied: scipy>=1.6.0 in /home/anton/anaconda3/lib/python3.11/site-packages (from scikit-learn>=0.21->open3d) (1.11.3)\n",
      "Requirement already satisfied: joblib>=1.2.0 in /home/anton/anaconda3/lib/python3.11/site-packages (from scikit-learn>=0.21->open3d) (1.2.0)\n",
      "Requirement already satisfied: threadpoolctl>=2.0.0 in /home/anton/anaconda3/lib/python3.11/site-packages (from scikit-learn>=0.21->open3d) (2.2.0)\n",
      "Requirement already satisfied: MarkupSafe>=2.1.1 in /home/anton/anaconda3/lib/python3.11/site-packages (from werkzeug>=2.2.3->open3d) (2.1.1)\n"
     ]
    },
    {
     "name": "stdout",
     "output_type": "stream",
     "text": [
      "Requirement already satisfied: Jinja2>=3.0 in /home/anton/anaconda3/lib/python3.11/site-packages (from Flask<3.1,>=1.0.4->dash>=2.6.0->open3d) (3.1.2)\n",
      "Requirement already satisfied: itsdangerous>=2.0 in /home/anton/anaconda3/lib/python3.11/site-packages (from Flask<3.1,>=1.0.4->dash>=2.6.0->open3d) (2.0.1)\n",
      "Requirement already satisfied: click>=8.0 in /home/anton/anaconda3/lib/python3.11/site-packages (from Flask<3.1,>=1.0.4->dash>=2.6.0->open3d) (8.0.4)\n",
      "Requirement already satisfied: comm>=0.1.1 in /home/anton/anaconda3/lib/python3.11/site-packages (from ipykernel>=4.5.1->ipywidgets>=8.0.4->open3d) (0.1.2)\n",
      "Requirement already satisfied: debugpy>=1.6.5 in /home/anton/anaconda3/lib/python3.11/site-packages (from ipykernel>=4.5.1->ipywidgets>=8.0.4->open3d) (1.6.7)\n",
      "Requirement already satisfied: jupyter-client>=6.1.12 in /home/anton/anaconda3/lib/python3.11/site-packages (from ipykernel>=4.5.1->ipywidgets>=8.0.4->open3d) (7.4.9)\n",
      "Requirement already satisfied: matplotlib-inline>=0.1 in /home/anton/anaconda3/lib/python3.11/site-packages (from ipykernel>=4.5.1->ipywidgets>=8.0.4->open3d) (0.1.6)\n",
      "Requirement already satisfied: psutil in /home/anton/anaconda3/lib/python3.11/site-packages (from ipykernel>=4.5.1->ipywidgets>=8.0.4->open3d) (5.9.0)\n",
      "Requirement already satisfied: pyzmq>=20 in /home/anton/anaconda3/lib/python3.11/site-packages (from ipykernel>=4.5.1->ipywidgets>=8.0.4->open3d) (23.2.0)\n",
      "Requirement already satisfied: tornado>=6.1 in /home/anton/anaconda3/lib/python3.11/site-packages (from ipykernel>=4.5.1->ipywidgets>=8.0.4->open3d) (6.3.2)\n",
      "Requirement already satisfied: backcall in /home/anton/anaconda3/lib/python3.11/site-packages (from ipython>=6.1.0->ipywidgets>=8.0.4->open3d) (0.2.0)\n",
      "Requirement already satisfied: decorator in /home/anton/anaconda3/lib/python3.11/site-packages (from ipython>=6.1.0->ipywidgets>=8.0.4->open3d) (4.4.2)\n",
      "Requirement already satisfied: jedi>=0.16 in /home/anton/anaconda3/lib/python3.11/site-packages (from ipython>=6.1.0->ipywidgets>=8.0.4->open3d) (0.18.1)\n",
      "Requirement already satisfied: pickleshare in /home/anton/anaconda3/lib/python3.11/site-packages (from ipython>=6.1.0->ipywidgets>=8.0.4->open3d) (0.7.5)\n",
      "Requirement already satisfied: prompt-toolkit!=3.0.37,<3.1.0,>=3.0.30 in /home/anton/anaconda3/lib/python3.11/site-packages (from ipython>=6.1.0->ipywidgets>=8.0.4->open3d) (3.0.36)\n",
      "Requirement already satisfied: pygments>=2.4.0 in /home/anton/anaconda3/lib/python3.11/site-packages (from ipython>=6.1.0->ipywidgets>=8.0.4->open3d) (2.15.1)\n",
      "Requirement already satisfied: stack-data in /home/anton/anaconda3/lib/python3.11/site-packages (from ipython>=6.1.0->ipywidgets>=8.0.4->open3d) (0.2.0)\n",
      "Requirement already satisfied: pexpect>4.3 in /home/anton/anaconda3/lib/python3.11/site-packages (from ipython>=6.1.0->ipywidgets>=8.0.4->open3d) (4.8.0)\n",
      "Requirement already satisfied: attrs>=17.4.0 in /home/anton/anaconda3/lib/python3.11/site-packages (from jsonschema>=2.6->nbformat>=5.7.0->open3d) (22.1.0)\n",
      "Requirement already satisfied: pyrsistent!=0.17.0,!=0.17.1,!=0.17.2,>=0.14.0 in /home/anton/anaconda3/lib/python3.11/site-packages (from jsonschema>=2.6->nbformat>=5.7.0->open3d) (0.18.0)\n",
      "Requirement already satisfied: platformdirs>=2.5 in /home/anton/anaconda3/lib/python3.11/site-packages (from jupyter-core->nbformat>=5.7.0->open3d) (3.10.0)\n",
      "Requirement already satisfied: tenacity>=6.2.0 in /home/anton/anaconda3/lib/python3.11/site-packages (from plotly>=5.0.0->dash>=2.6.0->open3d) (8.2.2)\n",
      "Requirement already satisfied: six>=1.5 in /home/anton/anaconda3/lib/python3.11/site-packages (from python-dateutil>=2.7->matplotlib>=3->open3d) (1.16.0)\n",
      "Requirement already satisfied: zipp>=0.5 in /home/anton/anaconda3/lib/python3.11/site-packages (from importlib-metadata->dash>=2.6.0->open3d) (3.11.0)\n",
      "Requirement already satisfied: charset-normalizer<4,>=2 in /home/anton/anaconda3/lib/python3.11/site-packages (from requests->dash>=2.6.0->open3d) (2.0.4)\n",
      "Requirement already satisfied: idna<4,>=2.5 in /home/anton/anaconda3/lib/python3.11/site-packages (from requests->dash>=2.6.0->open3d) (2.10)\n",
      "Requirement already satisfied: urllib3<3,>=1.21.1 in /home/anton/anaconda3/lib/python3.11/site-packages (from requests->dash>=2.6.0->open3d) (1.26.16)\n",
      "Requirement already satisfied: certifi>=2017.4.17 in /home/anton/anaconda3/lib/python3.11/site-packages (from requests->dash>=2.6.0->open3d) (2024.8.30)\n",
      "Requirement already satisfied: parso<0.9.0,>=0.8.0 in /home/anton/anaconda3/lib/python3.11/site-packages (from jedi>=0.16->ipython>=6.1.0->ipywidgets>=8.0.4->open3d) (0.8.3)\n",
      "Requirement already satisfied: entrypoints in /home/anton/anaconda3/lib/python3.11/site-packages (from jupyter-client>=6.1.12->ipykernel>=4.5.1->ipywidgets>=8.0.4->open3d) (0.4)\n",
      "Requirement already satisfied: ptyprocess>=0.5 in /home/anton/anaconda3/lib/python3.11/site-packages (from pexpect>4.3->ipython>=6.1.0->ipywidgets>=8.0.4->open3d) (0.7.0)\n",
      "Requirement already satisfied: wcwidth in /home/anton/anaconda3/lib/python3.11/site-packages (from prompt-toolkit!=3.0.37,<3.1.0,>=3.0.30->ipython>=6.1.0->ipywidgets>=8.0.4->open3d) (0.2.5)\n",
      "Requirement already satisfied: executing in /home/anton/anaconda3/lib/python3.11/site-packages (from stack-data->ipython>=6.1.0->ipywidgets>=8.0.4->open3d) (0.8.3)\n",
      "Requirement already satisfied: asttokens in /home/anton/anaconda3/lib/python3.11/site-packages (from stack-data->ipython>=6.1.0->ipywidgets>=8.0.4->open3d) (2.0.5)\n",
      "Requirement already satisfied: pure-eval in /home/anton/anaconda3/lib/python3.11/site-packages (from stack-data->ipython>=6.1.0->ipywidgets>=8.0.4->open3d) (0.2.2)\n",
      "Looking in indexes: https://pypi.org/simple, https://pypi.ngc.nvidia.com\n",
      "Requirement already satisfied: pgzip in /home/anton/anaconda3/lib/python3.11/site-packages (0.3.5)\n"
     ]
    }
   ],
   "source": [
    "\n",
    "!pip install timm_3d \n",
    "!pip install torchio \n",
    "!pip install itk\n",
    "!pip install skorch\n",
    "!pip install spacecutter\n",
    "!pip install open3d\n",
    "!pip install pgzip"
   ]
  },
  {
   "cell_type": "markdown",
   "metadata": {},
   "source": [
    "## Config"
   ]
  },
  {
   "cell_type": "code",
   "execution_count": 2,
   "metadata": {
    "execution": {
     "iopub.execute_input": "2024-09-22T19:51:34.915848Z",
     "iopub.status.busy": "2024-09-22T19:51:34.915018Z",
     "iopub.status.idle": "2024-09-22T19:51:34.920052Z",
     "shell.execute_reply": "2024-09-22T19:51:34.919194Z",
     "shell.execute_reply.started": "2024-09-22T19:51:34.915797Z"
    }
   },
   "outputs": [],
   "source": [
    "data_path = \"rsna-2024-lumbar-spine-degenerative-classification/\""
   ]
  },
  {
   "cell_type": "code",
   "execution_count": 3,
   "metadata": {
    "execution": {
     "iopub.execute_input": "2024-09-22T20:29:33.940720Z",
     "iopub.status.busy": "2024-09-22T20:29:33.939924Z",
     "iopub.status.idle": "2024-09-22T20:29:33.947106Z",
     "shell.execute_reply": "2024-09-22T20:29:33.946101Z",
     "shell.execute_reply.started": "2024-09-22T20:29:33.940679Z"
    }
   },
   "outputs": [],
   "source": [
    "import torch\n",
    "\n",
    "CONFIG = dict(\n",
    "    n_levels=5,\n",
    "    num_classes=25,\n",
    "    num_conditions=5,\n",
    "    image_interpolation=\"nearest\",\n",
    "#     backbone=\"maxvit_rmlp_tiny_rw_256\",\n",
    "#     backbone='convnext_pico.d1_in1k',\n",
    "    backbone='efficientnet_b0',\n",
    "#     vol_size=(256, 256, 256),\n",
    "    vol_size=(128, 128, 128),\n",
    "    num_workers=4,\n",
    "    gradient_acc_steps=1,\n",
    "    drop_rate=0.4,\n",
    "    drop_rate_last=0.,\n",
    "    drop_path_rate=0.4,\n",
    "    aug_prob=0.9,\n",
    "    out_dim=3,\n",
    "    # epochs=40\n",
    "    epochs=30,\n",
    "    batch_size=4,\n",
    "    split_k=5,\n",
    "    device=torch.device(\"cuda\") if torch.cuda.is_available() else \"cpu\",\n",
    "    seed=42\n",
    ")"
   ]
  },
  {
   "cell_type": "code",
   "execution_count": 4,
   "metadata": {
    "execution": {
     "iopub.execute_input": "2024-09-22T20:29:35.832163Z",
     "iopub.status.busy": "2024-09-22T20:29:35.831420Z",
     "iopub.status.idle": "2024-09-22T20:29:35.836816Z",
     "shell.execute_reply": "2024-09-22T20:29:35.835885Z",
     "shell.execute_reply.started": "2024-09-22T20:29:35.832125Z"
    }
   },
   "outputs": [],
   "source": [
    "CONDITIONS = {\n",
    "    \"Sagittal T2/STIR\": [\"Spinal Canal Stenosis\"],\n",
    "    \"Axial T2\": [\"Left Subarticular Stenosis\", \"Right Subarticular Stenosis\"],\n",
    "    \"Sagittal T1\": [\"Left Neural Foraminal Narrowing\", \"Right Neural Foraminal Narrowing\"],\n",
    "}\n",
    "LABEL_MAP = {'normal_mild': 0, 'moderate': 1, 'severe': 2}"
   ]
  },
  {
   "cell_type": "markdown",
   "metadata": {},
   "source": [
    "# Data Loading"
   ]
  },
  {
   "cell_type": "markdown",
   "metadata": {},
   "source": [
    "## Training Metadata"
   ]
  },
  {
   "cell_type": "code",
   "execution_count": 5,
   "metadata": {
    "execution": {
     "iopub.execute_input": "2024-09-22T20:29:40.293906Z",
     "iopub.status.busy": "2024-09-22T20:29:40.293513Z",
     "iopub.status.idle": "2024-09-22T20:29:40.308834Z",
     "shell.execute_reply": "2024-09-22T20:29:40.307817Z",
     "shell.execute_reply.started": "2024-09-22T20:29:40.293869Z"
    }
   },
   "outputs": [],
   "source": [
    "def retrieve_coordinate_training_data(train_path):\n",
    "    def reshape_row(row):\n",
    "        data = {'study_id': [], 'condition': [], 'level': [], 'severity': []}\n",
    "\n",
    "        for column, value in row.items():\n",
    "            if column not in ['study_id', 'series_id', 'instance_number', 'x', 'y', 'series_description']:\n",
    "                parts = column.split('_')\n",
    "                condition = ' '.join([word.capitalize() for word in parts[:-2]])\n",
    "                level = parts[-2].capitalize() + '/' + parts[-1].capitalize()\n",
    "                data['study_id'].append(row['study_id'])\n",
    "                data['condition'].append(condition)\n",
    "                data['level'].append(level)\n",
    "                data['severity'].append(value)\n",
    "\n",
    "        return pd.DataFrame(data)\n",
    "\n",
    "    train = pd.read_csv(train_path + 'train.csv')\n",
    "    label = pd.read_csv(train_path + 'train_label_coordinates.csv')\n",
    "    train_desc = pd.read_csv(train_path + 'train_series_descriptions.csv')\n",
    "    test_desc = pd.read_csv(train_path + 'test_series_descriptions.csv')\n",
    "    sub = pd.read_csv(train_path + 'sample_submission.csv')\n",
    "\n",
    "    new_train_df = pd.concat([reshape_row(row) for _, row in train.iterrows()], ignore_index=True)\n",
    "    merged_df = pd.merge(new_train_df, label, on=['study_id', 'condition', 'level'], how='inner')\n",
    "    final_merged_df = pd.merge(merged_df, train_desc, on=['series_id', 'study_id'], how='inner')\n",
    "    final_merged_df['severity'] = final_merged_df['severity'].map(\n",
    "        {'Normal/Mild': 'normal_mild', 'Moderate': 'moderate', 'Severe': 'severe'})\n",
    "\n",
    "    final_merged_df['row_id'] = (\n",
    "            final_merged_df['study_id'].astype(str) + '_' +\n",
    "            final_merged_df['condition'].str.lower().str.replace(' ', '_') + '_' +\n",
    "            final_merged_df['level'].str.lower().str.replace('/', '_')\n",
    "    )\n",
    "\n",
    "    # Create the image_path column\n",
    "    final_merged_df['image_path'] = (\n",
    "            f'{train_path}/train_images/' +\n",
    "            final_merged_df['study_id'].astype(str) + '/' +\n",
    "            final_merged_df['series_id'].astype(str) + '/' +\n",
    "            final_merged_df['instance_number'].astype(str) + '.dcm'\n",
    "    )\n",
    "\n",
    "    return final_merged_df"
   ]
  },
  {
   "cell_type": "code",
   "execution_count": 6,
   "metadata": {
    "execution": {
     "iopub.execute_input": "2024-09-22T20:29:40.483550Z",
     "iopub.status.busy": "2024-09-22T20:29:40.483211Z",
     "iopub.status.idle": "2024-09-22T20:29:42.654313Z",
     "shell.execute_reply": "2024-09-22T20:29:42.653248Z",
     "shell.execute_reply.started": "2024-09-22T20:29:40.483512Z"
    }
   },
   "outputs": [
    {
     "name": "stderr",
     "output_type": "stream",
     "text": [
      "/home/anton/anaconda3/lib/python3.11/site-packages/pandas/core/arrays/masked.py:60: UserWarning: Pandas requires version '1.3.6' or newer of 'bottleneck' (version '1.3.5' currently installed).\n",
      "  from pandas.core import (\n"
     ]
    }
   ],
   "source": [
    "import pandas as pd\n",
    "\n",
    "train_data = retrieve_coordinate_training_data(data_path)"
   ]
  },
  {
   "cell_type": "markdown",
   "metadata": {},
   "source": [
    "## Dataset Definitions\n",
    "\n",
    "Note the mirror trick -- by flipping across the X axis, we get any right labels as left also and vice versa"
   ]
  },
  {
   "cell_type": "code",
   "execution_count": 7,
   "metadata": {
    "execution": {
     "iopub.execute_input": "2024-09-22T20:29:42.656405Z",
     "iopub.status.busy": "2024-09-22T20:29:42.656077Z",
     "iopub.status.idle": "2024-09-22T20:29:42.676357Z",
     "shell.execute_reply": "2024-09-22T20:29:42.675428Z",
     "shell.execute_reply.started": "2024-09-22T20:29:42.656372Z"
    }
   },
   "outputs": [],
   "source": [
    "from torch.utils.data import Dataset, DataLoader\n",
    "\n",
    "\n",
    "class StudyLevelDataset(Dataset):\n",
    "    def __init__(self,\n",
    "                 base_path: str,\n",
    "                 dataframe: pd.DataFrame,\n",
    "                 transform_3d=None,\n",
    "                 is_train=False,\n",
    "                 vol_size=(192, 192, 192),\n",
    "                 use_mirror_trick=False):\n",
    "        self.base_path = base_path\n",
    "        self.is_train = is_train\n",
    "        self.use_mirror_trick = use_mirror_trick\n",
    "\n",
    "        self.dataframe = (dataframe[['study_id', \"series_id\", \"series_description\", \"condition\", \"severity\", \"level\"]]\n",
    "                          .drop_duplicates())\n",
    "\n",
    "        self.subjects = self.dataframe[['study_id']].drop_duplicates().reset_index(drop=True)\n",
    "        self.series = self.dataframe[[\"study_id\", \"series_id\"]].drop_duplicates().groupby(\"study_id\")[\n",
    "            \"series_id\"].apply(list).to_dict()\n",
    "        self.series_descs = {e[0]: e[1] for e in\n",
    "                             self.dataframe[[\"series_id\", \"series_description\"]].drop_duplicates().values}\n",
    "\n",
    "        self.transform_3d = transform_3d\n",
    "\n",
    "        self.levels = sorted(self.dataframe[\"level\"].unique())\n",
    "        self.labels = self._get_labels()\n",
    "        self.vol_size = vol_size\n",
    "\n",
    "    def __len__(self):\n",
    "        return len(self.subjects) * (2 if self.use_mirror_trick else 1)\n",
    "\n",
    "    def __getitem__(self, index):\n",
    "        is_mirror = index >= len(self.subjects)\n",
    "        curr = self.subjects.iloc[index % len(self.subjects)]\n",
    "\n",
    "        label = np.array(self.labels[(curr[\"study_id\"])])\n",
    "        study_path = os.path.join(self.base_path, str(curr[\"study_id\"]))\n",
    "\n",
    "        study_images = read_study_as_voxel_grid_v2(study_path,\n",
    "                                                   curr[\"study_id\"],\n",
    "                                                   series_type_dict=self.series_descs,\n",
    "                                                   img_size=(self.vol_size[0], self.vol_size[1]))\n",
    "\n",
    "        if is_mirror:\n",
    "            temp = label[:10].copy()\n",
    "            label[:10] = label[10:20].copy()\n",
    "            label[10:20] = temp\n",
    "\n",
    "        if self.transform_3d is not None:\n",
    "            study_images = torch.FloatTensor(study_images)\n",
    "\n",
    "            if is_mirror:\n",
    "                study_images = torch.flip(study_images, [1])\n",
    "\n",
    "            study_images = self.transform_3d(study_images)  # .data\n",
    "            return study_images.to(torch.half), torch.tensor(label, dtype=torch.long)\n",
    "\n",
    "        print(\"loaded\")\n",
    "        return torch.HalfTensor(study_images.copy()), torch.tensor(label, dtype=torch.long)\n",
    "\n",
    "    def _get_labels(self):\n",
    "        labels = dict()\n",
    "        for name, group in self.dataframe.groupby([\"study_id\"]):\n",
    "            group = group[[\"condition\", \"level\", \"severity\"]].drop_duplicates().sort_values([\"condition\", \"level\"])\n",
    "            label_indices = []\n",
    "            for index, row in group.iterrows():\n",
    "                if row[\"severity\"] in LABEL_MAP:\n",
    "                    label_indices.append(LABEL_MAP[row[\"severity\"]])\n",
    "                else:\n",
    "                    raise ValueError()\n",
    "\n",
    "            study_id = name[0]\n",
    "\n",
    "            labels[study_id] = label_indices\n",
    "\n",
    "        return labels"
   ]
  },
  {
   "cell_type": "markdown",
   "metadata": {},
   "source": [
    "## 3D Data Loading\n",
    "\n",
    "Explained in a little more detail on my inference notebook. Note the caching part -- this makes a huge difference in the training time since the transforms are a massive bottleneck otherwise"
   ]
  },
  {
   "cell_type": "code",
   "execution_count": 8,
   "metadata": {
    "execution": {
     "iopub.execute_input": "2024-09-22T20:29:42.885659Z",
     "iopub.status.busy": "2024-09-22T20:29:42.885333Z",
     "iopub.status.idle": "2024-09-22T20:29:42.915630Z",
     "shell.execute_reply": "2024-09-22T20:29:42.914678Z",
     "shell.execute_reply.started": "2024-09-22T20:29:42.885626Z"
    }
   },
   "outputs": [],
   "source": [
    "from pathlib import Path\n",
    "def read_study_as_voxel_grid_v2(dir_path,\n",
    "                                study_id,\n",
    "                                series_type_dict=None, \n",
    "                                downsampling_factor=1, \n",
    "                                img_size=(256, 256), \n",
    "                                caching=True,\n",
    "                                cache_base_path=\"3d_cache\"):\n",
    "    if not Path(cache_base_path).exists():\n",
    "        os.mkdir(cache_base_path)\n",
    "    if caching:\n",
    "        os.makedirs(os.path.join(cache_base_path, str(study_id)), exist_ok=True)\n",
    "        cache_path = os.path.join(cache_base_path, str(study_id), f\"cached_grid_v2_{img_size[0]}.npy.gz\")\n",
    "        f = None\n",
    "        if os.path.exists(cache_path):\n",
    "            try:\n",
    "                f = pgzip.PgzipFile(cache_path, \"r\")\n",
    "                ret = np.load(f, allow_pickle=True)\n",
    "                f.close()\n",
    "                return ret\n",
    "            except Exception as e:\n",
    "                print(dir_path, \"\\n\", e)\n",
    "                if f:\n",
    "                    f.close()\n",
    "                os.remove(cache_path)\n",
    "\n",
    "    pcd_overall = read_study_as_pcd(dir_path,\n",
    "                                    series_types_dict=series_type_dict,\n",
    "                                    downsampling_factor=downsampling_factor,\n",
    "                                    img_size=img_size)\n",
    "    box = pcd_overall.get_axis_aligned_bounding_box()\n",
    "\n",
    "    max_b = np.array(box.get_max_bound())\n",
    "    min_b = np.array(box.get_min_bound())\n",
    "\n",
    "    pts = (np.array(pcd_overall.points) - (min_b)) * (\n",
    "            (img_size[0] - 1, img_size[0] - 1, img_size[0] - 1) / (max_b - min_b))\n",
    "    coords = np.round(pts).astype(np.int32)\n",
    "    vals = np.array(pcd_overall.colors, dtype=np.float16)\n",
    "\n",
    "    grid = np.zeros((3, img_size[0], img_size[0], img_size[0]), dtype=np.float16)\n",
    "    indices = coords[:, 0], coords[:, 1], coords[:, 2]\n",
    "\n",
    "    np.maximum.at(grid[0], indices, vals[:, 0])\n",
    "    np.maximum.at(grid[1], indices, vals[:, 1])\n",
    "    np.maximum.at(grid[2], indices, vals[:, 2])\n",
    "    \n",
    "    if caching:\n",
    "        f = pgzip.PgzipFile(cache_path, \"w\")\n",
    "        np.save(f, grid)\n",
    "        f.close()\n",
    "\n",
    "    return grid\n",
    "\n",
    "\n",
    "def read_study_as_pcd(dir_path,\n",
    "                      series_types_dict=None,\n",
    "                      downsampling_factor=1,\n",
    "                      resize_slices=True,\n",
    "                      resize_method=\"nearest\",\n",
    "                      stack_slices_thickness=True,\n",
    "                      img_size=(256, 256)):\n",
    "    pcd_overall = o3d.geometry.PointCloud()\n",
    "\n",
    "    for path in glob.glob(os.path.join(dir_path, \"**/*.dcm\"), recursive=True):\n",
    "        dicom_slice = dcmread(path)\n",
    "\n",
    "        series_id = os.path.basename(os.path.dirname(path))\n",
    "        study_id = os.path.basename(os.path.dirname(os.path.dirname(path)))\n",
    "        if series_types_dict is None or int(series_id) not in series_types_dict:\n",
    "            series_desc = dicom_slice.SeriesDescription\n",
    "        else:\n",
    "            series_desc = series_types_dict[int(series_id)]\n",
    "            series_desc = series_desc.split(\" \")[-1]\n",
    "\n",
    "        x_orig, y_orig = dicom_slice.pixel_array.shape\n",
    "        if resize_slices:\n",
    "            if resize_method == \"nearest\":\n",
    "                img = np.expand_dims(cv2.resize(dicom_slice.pixel_array, img_size, interpolation=cv2.INTER_AREA), -1)\n",
    "            elif resize_method == \"maxpool\":\n",
    "                img_tensor = torch.tensor(dicom_slice.pixel_array).float()\n",
    "                img = F.adaptive_max_pool2d(img_tensor.unsqueeze(0), img_size).numpy()\n",
    "            else:\n",
    "                raise ValueError(f\"Invalid resize_method {resize_method}\")\n",
    "        else:\n",
    "            img = np.expand_dims(np.array(dicom_slice.pixel_array), -1)\n",
    "        x, y, z = np.where(img)\n",
    "\n",
    "        downsampling_factor_iter = max(downsampling_factor, int(math.ceil(len(x) / 6e6)))\n",
    "\n",
    "        index_voxel = np.vstack((x, y, z))[:, ::downsampling_factor_iter]\n",
    "        grid_index_array = index_voxel.T\n",
    "        pcd = o3d.geometry.PointCloud(o3d.utility.Vector3dVector(grid_index_array.astype(np.float64)))\n",
    "\n",
    "        vals = np.expand_dims(img[x, y, z][::downsampling_factor_iter], -1)\n",
    "        if series_desc == \"T1\":\n",
    "            vals = np.pad(vals, ((0, 0), (0, 2)))\n",
    "        elif series_desc == \"T2\":\n",
    "            vals = np.pad(vals, ((0, 0), (1, 1)))\n",
    "        elif series_desc == \"T2/STIR\":\n",
    "            vals = np.pad(vals, ((0, 0), (2, 0)))\n",
    "        else:\n",
    "            raise ValueError(f\"Unknown series desc: {series_desc}\")\n",
    "\n",
    "        pcd.colors = o3d.utility.Vector3dVector(vals.astype(np.float64))\n",
    "\n",
    "        if resize_slices:\n",
    "            transform_matrix_factor = np.matrix(\n",
    "                [[0, y_orig / img_size[1], 0, 0],\n",
    "                 [x_orig / img_size[0], 0, 0, 0],\n",
    "                 [0, 0, 1, 0],\n",
    "                 [0, 0, 0, 1]]\n",
    "            )\n",
    "        else:\n",
    "            transform_matrix_factor = np.matrix(\n",
    "                [[0, 1, 0, 0],\n",
    "                 [1, 0, 0, 0],\n",
    "                 [0, 0, 1, 0],\n",
    "                 [0, 0, 0, 1]]\n",
    "            )\n",
    "\n",
    "        dX, dY = dicom_slice.PixelSpacing\n",
    "        dZ = dicom_slice.SliceThickness\n",
    "\n",
    "        X = np.array(list(dicom_slice.ImageOrientationPatient[:3]) + [0]) * dX\n",
    "        Y = np.array(list(dicom_slice.ImageOrientationPatient[3:]) + [0]) * dY\n",
    "\n",
    "        S = np.array(list(dicom_slice.ImagePositionPatient) + [1])\n",
    "\n",
    "        transform_matrix = np.array([X, Y, np.zeros(len(X)), S]).T\n",
    "        transform_matrix = transform_matrix @ transform_matrix_factor\n",
    "\n",
    "        if stack_slices_thickness:\n",
    "            for z in range(int(dZ)):\n",
    "                pos = list(dicom_slice.ImagePositionPatient)\n",
    "                if series_desc == \"T2\":\n",
    "                    pos[-1] += z\n",
    "                else:\n",
    "                    pos[0] += z\n",
    "                S = np.array(pos + [1])\n",
    "\n",
    "                transform_matrix = np.array([X, Y, np.zeros(len(X)), S]).T\n",
    "                transform_matrix = transform_matrix @ transform_matrix_factor\n",
    "\n",
    "                pcd_overall += copy.deepcopy(pcd).transform(transform_matrix)\n",
    "\n",
    "        else:\n",
    "            pcd_overall += copy.deepcopy(pcd).transform(transform_matrix)\n",
    "\n",
    "    return pcd_overall"
   ]
  },
  {
   "cell_type": "markdown",
   "metadata": {},
   "source": [
    "## Dataset Utility\n",
    "\n",
    "See the cleaning here -- I am simply dropping the data points where any of the 25 labels are missing"
   ]
  },
  {
   "cell_type": "code",
   "execution_count": 9,
   "metadata": {
    "execution": {
     "iopub.execute_input": "2024-09-22T20:29:43.413155Z",
     "iopub.status.busy": "2024-09-22T20:29:43.412744Z",
     "iopub.status.idle": "2024-09-22T20:29:43.427304Z",
     "shell.execute_reply": "2024-09-22T20:29:43.426006Z",
     "shell.execute_reply.started": "2024-09-22T20:29:43.413114Z"
    }
   },
   "outputs": [],
   "source": [
    "def create_study_level_datasets_and_loaders_k_fold(df: pd.DataFrame,\n",
    "                                                   base_path: str,\n",
    "                                                   transform_3d_train=None,\n",
    "                                                   transform_3d_val=None,\n",
    "                                                   vol_size=None,\n",
    "                                                   split_k=5,\n",
    "                                                   random_seed=42,\n",
    "                                                   batch_size=1,\n",
    "                                                   num_workers=0,\n",
    "                                                   pin_memory=True,\n",
    "                                                   use_mirroring_trick=True):\n",
    "    df = df.dropna()\n",
    "    # This drops any subjects with nans\n",
    "\n",
    "    filtered_df = pd.DataFrame(columns=df.columns)\n",
    "    for series_desc in CONDITIONS.keys():\n",
    "        subset = df[df['series_description'] == series_desc]\n",
    "        if series_desc == \"Sagittal T2/STIR\":\n",
    "            subset = subset[subset.groupby([\"study_id\"]).transform('size') == 5]\n",
    "        else:\n",
    "            subset = subset[subset.groupby([\"study_id\"]).transform('size') == 10]\n",
    "        filtered_df = pd.concat([filtered_df, subset])\n",
    "\n",
    "    filtered_df = filtered_df[filtered_df.groupby([\"study_id\"]).transform('size') == 25]\n",
    "\n",
    "    np.random.seed(random_seed)\n",
    "    ids = filtered_df[\"study_id\"].unique()\n",
    "    np.random.shuffle(ids)\n",
    "\n",
    "    ret = []\n",
    "    folds = np.array_split(ids, split_k)\n",
    "\n",
    "    for index, fold in enumerate(folds):\n",
    "        val_studies = fold\n",
    "\n",
    "        train_df = filtered_df[~filtered_df[\"study_id\"].isin(val_studies)]\n",
    "        val_df = filtered_df[filtered_df[\"study_id\"].isin(val_studies)]\n",
    "\n",
    "        train_df = train_df.reset_index(drop=True)\n",
    "        val_df = val_df.reset_index(drop=True)\n",
    "\n",
    "        train_dataset = StudyLevelDataset(base_path, train_df,\n",
    "                                          transform_3d=transform_3d_train,\n",
    "                                          is_train=True,\n",
    "                                          use_mirror_trick=use_mirroring_trick,\n",
    "                                          vol_size=vol_size\n",
    "                                          )\n",
    "        val_dataset = StudyLevelDataset(base_path, val_df,\n",
    "                                        transform_3d=transform_3d_val,\n",
    "                                        vol_size=vol_size\n",
    "                                        )\n",
    "\n",
    "        train_loader = DataLoader(train_dataset,\n",
    "                                  batch_size=batch_size,\n",
    "                                  shuffle=True,\n",
    "                                  num_workers=num_workers,\n",
    "                                  pin_memory=pin_memory,\n",
    "                                  persistent_workers=num_workers > 0)\n",
    "        val_loader = DataLoader(val_dataset,\n",
    "                                batch_size=batch_size,\n",
    "                                shuffle=False,\n",
    "                                num_workers=num_workers,\n",
    "                                pin_memory=pin_memory,\n",
    "                                persistent_workers=num_workers > 0)\n",
    "\n",
    "        ret.append((train_loader, val_loader, train_dataset, val_dataset))\n",
    "\n",
    "    return ret"
   ]
  },
  {
   "cell_type": "markdown",
   "metadata": {},
   "source": [
    "## Augmentations"
   ]
  },
  {
   "cell_type": "code",
   "execution_count": 10,
   "metadata": {
    "execution": {
     "iopub.execute_input": "2024-09-22T20:29:44.311178Z",
     "iopub.status.busy": "2024-09-22T20:29:44.310760Z",
     "iopub.status.idle": "2024-09-22T20:29:45.205878Z",
     "shell.execute_reply": "2024-09-22T20:29:45.204990Z",
     "shell.execute_reply.started": "2024-09-22T20:29:44.311139Z"
    }
   },
   "outputs": [],
   "source": [
    "import torchio as tio\n",
    "\n",
    "transform_3d_train = tio.Compose([\n",
    "    tio.ZNormalization(),\n",
    "    tio.RandomAffine(translation=10, p=CONFIG[\"aug_prob\"]),\n",
    "    tio.RandomNoise(p=CONFIG[\"aug_prob\"]),\n",
    "    tio.RandomSpike(1, intensity=(-0.5, 0.5), p=CONFIG[\"aug_prob\"]),\n",
    "    tio.RescaleIntensity((0, 1)),\n",
    "])\n",
    "\n",
    "transform_3d_val = tio.Compose([\n",
    "    tio.RescaleIntensity((0, 1)),\n",
    "])"
   ]
  },
  {
   "cell_type": "markdown",
   "metadata": {},
   "source": [
    "## Load the dataset"
   ]
  },
  {
   "cell_type": "code",
   "execution_count": 11,
   "metadata": {
    "execution": {
     "iopub.execute_input": "2024-09-22T20:29:45.730642Z",
     "iopub.status.busy": "2024-09-22T20:29:45.729592Z",
     "iopub.status.idle": "2024-09-22T20:30:17.228326Z",
     "shell.execute_reply": "2024-09-22T20:30:17.227489Z",
     "shell.execute_reply.started": "2024-09-22T20:29:45.730598Z"
    }
   },
   "outputs": [
    {
     "name": "stderr",
     "output_type": "stream",
     "text": [
      "/tmp/ipykernel_2922089/1558759786.py:22: FutureWarning: The behavior of DataFrame concatenation with empty or all-NA entries is deprecated. In a future version, this will no longer exclude empty or all-NA columns when determining the result dtypes. To retain the old behavior, exclude the relevant entries before the concat operation.\n",
      "  filtered_df = pd.concat([filtered_df, subset])\n"
     ]
    }
   ],
   "source": [
    "import os\n",
    "import numpy as np\n",
    "\n",
    "dataset_folds = create_study_level_datasets_and_loaders_k_fold(train_data,\n",
    "                                                               transform_3d_train=transform_3d_train,\n",
    "                                                               transform_3d_val=transform_3d_val,\n",
    "                                                               base_path=os.path.join(\n",
    "                                                                data_path,\n",
    "                                                                \"train_images\"),\n",
    "                                                               vol_size=CONFIG[\"vol_size\"],\n",
    "                                                               num_workers=CONFIG[\"num_workers\"],\n",
    "                                                               split_k=CONFIG[\"split_k\"],\n",
    "                                                               batch_size=CONFIG[\"batch_size\"],\n",
    "                                                               pin_memory=True,\n",
    "                                                               use_mirroring_trick=True\n",
    "                                                               )"
   ]
  },
  {
   "cell_type": "markdown",
   "metadata": {},
   "source": [
    "### Sanity Check"
   ]
  },
  {
   "cell_type": "code",
   "execution_count": 12,
   "metadata": {
    "execution": {
     "iopub.execute_input": "2024-09-22T20:30:17.230798Z",
     "iopub.status.busy": "2024-09-22T20:30:17.230088Z",
     "iopub.status.idle": "2024-09-22T20:30:54.531869Z",
     "shell.execute_reply": "2024-09-22T20:30:54.531000Z",
     "shell.execute_reply.started": "2024-09-22T20:30:17.230745Z"
    }
   },
   "outputs": [
    {
     "name": "stdout",
     "output_type": "stream",
     "text": [
      "Jupyter environment detected. Enabling Open3D WebVisualizer.\n",
      "[Open3D INFO] WebRTC GUI backend enabled.\n",
      "[Open3D INFO] WebRTCWindowSystem: HTTP handshake server disabled.\n"
     ]
    },
    {
     "data": {
      "image/png": "[encoded data removed]",
      "text/plain": [
       "<Figure size 640x480 with 1 Axes>"
      ]
     },
     "metadata": {},
     "output_type": "display_data"
    }
   ],
   "source": [
    "import matplotlib.pyplot as plt\n",
    "import open3d as o3d\n",
    "import glob\n",
    "from pydicom import dcmread\n",
    "import cv2\n",
    "import math \n",
    "import copy\n",
    "import pgzip\n",
    "\n",
    "for index, fold in enumerate(dataset_folds):\n",
    "    trainloader, valloader, trainset, testset = fold\n",
    "\n",
    "    plt.imshow(np.mean(trainset[0][0].numpy()[0, 31:34], axis=0), cmap = \"gray\")\n",
    "    plt.show()\n",
    "    \n",
    "    break"
   ]
  },
  {
   "cell_type": "markdown",
   "metadata": {},
   "source": [
    "## Prepopulate the cache\n",
    "Optionally, you can prepopulate the cache first before calling the training loop"
   ]
  },
  {
   "cell_type": "code",
   "execution_count": 13,
   "metadata": {
    "execution": {
     "iopub.execute_input": "2024-09-22T20:30:54.533699Z",
     "iopub.status.busy": "2024-09-22T20:30:54.533008Z",
     "iopub.status.idle": "2024-09-22T20:31:27.091494Z",
     "shell.execute_reply": "2024-09-22T20:31:27.090469Z",
     "shell.execute_reply.started": "2024-09-22T20:30:54.533652Z"
    }
   },
   "outputs": [
    {
     "name": "stderr",
     "output_type": "stream",
     "text": [
      "  0%|                                                  | 0/2848 [00:00<?, ?it/s]\n"
     ]
    },
    {
     "name": "stdout",
     "output_type": "stream",
     "text": [
      "------------------\n"
     ]
    },
    {
     "name": "stderr",
     "output_type": "stream",
     "text": [
      "  0%|                                                   | 0/357 [00:00<?, ?it/s]\n"
     ]
    }
   ],
   "source": [
    "from tqdm import tqdm\n",
    "\n",
    "for fold in dataset_folds:\n",
    "    trainloader, valloader, trainset, testset = fold\n",
    "    \n",
    "    for train_point in tqdm(trainset):\n",
    "        pass\n",
    "        break\n",
    "    print(\"------------------\")\n",
    "    for val_point in tqdm(testset):\n",
    "        pass\n",
    "        break\n",
    "    \n",
    "    break"
   ]
  },
  {
   "cell_type": "markdown",
   "metadata": {},
   "source": [
    "# Model"
   ]
  },
  {
   "cell_type": "code",
   "execution_count": 14,
   "metadata": {
    "execution": {
     "iopub.execute_input": "2024-09-22T20:31:27.094785Z",
     "iopub.status.busy": "2024-09-22T20:31:27.094141Z",
     "iopub.status.idle": "2024-09-22T20:31:30.041344Z",
     "shell.execute_reply": "2024-09-22T20:31:30.040559Z",
     "shell.execute_reply.started": "2024-09-22T20:31:27.094726Z"
    }
   },
   "outputs": [],
   "source": [
    "import timm_3d\n",
    "import torch.nn as nn\n",
    "from spacecutter.losses import CumulativeLinkLoss\n",
    "from spacecutter.models import LogisticCumulativeLink\n",
    "from spacecutter.callbacks import AscensionCallback\n",
    "\n",
    "\n",
    "class Classifier3dMultihead(nn.Module):\n",
    "    def __init__(self,\n",
    "                 backbone=\"efficientnet_lite0\",\n",
    "                 in_chans=1,\n",
    "                 out_classes=5,\n",
    "                 cutpoint_margin=0.15,\n",
    "                 pretrained=False):\n",
    "        super(Classifier3dMultihead, self).__init__()\n",
    "        self.out_classes = out_classes\n",
    "\n",
    "        self.backbone = timm_3d.create_model(\n",
    "            backbone,\n",
    "            features_only=False,\n",
    "            drop_rate=CONFIG[\"drop_rate\"],\n",
    "            drop_path_rate=CONFIG[\"drop_path_rate\"],\n",
    "            pretrained=pretrained,\n",
    "            in_chans=in_chans,\n",
    "            global_pool=\"max\",\n",
    "        )\n",
    "        if \"efficientnet\" in backbone:\n",
    "            head_in_dim = self.backbone.classifier.in_features\n",
    "            self.backbone.classifier = nn.Sequential(\n",
    "                nn.LayerNorm(head_in_dim),\n",
    "                nn.Dropout(CONFIG[\"drop_rate_last\"]),\n",
    "            )\n",
    "\n",
    "        elif \"vit\" in backbone:\n",
    "            self.backbone.head.drop = nn.Dropout(p=CONFIG[\"drop_rate_last\"])\n",
    "            head_in_dim = self.backbone.head.fc.in_features\n",
    "            self.backbone.head.fc = nn.Identity()\n",
    "            \n",
    "        elif 'convnext' in backbone:\n",
    "            head_in_dim = self.backbone.head.fc.in_features\n",
    "            self.backbone.head.fc = nn.Sequential(\n",
    "                nn.LayerNorm(head_in_dim),\n",
    "                nn.Dropout(CONFIG[\"drop_rate_last\"]),\n",
    "            )\n",
    "\n",
    "        self.heads = nn.ModuleList(\n",
    "            [nn.Sequential(\n",
    "                nn.Linear(head_in_dim, 1),\n",
    "                LogisticCumulativeLink(CONFIG[\"out_dim\"])\n",
    "            ) for i in range(out_classes)]\n",
    "        )\n",
    "\n",
    "        self.ascension_callback = AscensionCallback(margin=cutpoint_margin)\n",
    "\n",
    "    def forward(self, x):\n",
    "        feat = self.backbone(x)\n",
    "        return torch.swapaxes(torch.stack([head(feat) for head in self.heads]), 0, 1)\n",
    "\n",
    "    def _ascension_callback(self):\n",
    "        for head in self.heads:\n",
    "            self.ascension_callback.clip(head[-1])"
   ]
  },
  {
   "cell_type": "markdown",
   "metadata": {},
   "source": [
    "# Training"
   ]
  },
  {
   "cell_type": "markdown",
   "metadata": {},
   "source": [
    "## Training util functions"
   ]
  },
  {
   "cell_type": "code",
   "execution_count": 15,
   "metadata": {
    "execution": {
     "iopub.execute_input": "2024-09-22T20:31:30.042930Z",
     "iopub.status.busy": "2024-09-22T20:31:30.042619Z",
     "iopub.status.idle": "2024-09-22T20:31:30.076685Z",
     "shell.execute_reply": "2024-09-22T20:31:30.075833Z",
     "shell.execute_reply.started": "2024-09-22T20:31:30.042897Z"
    }
   },
   "outputs": [],
   "source": [
    "import os.path\n",
    "\n",
    "from tqdm import tqdm\n",
    "from torch.cuda.amp import autocast, GradScaler\n",
    "import torch.nn as nn\n",
    "import matplotlib.pyplot as plt\n",
    "from collections import OrderedDict\n",
    "\n",
    "device = torch.device(\"cuda\" if torch.cuda.is_available() else \"cpu\")\n",
    "\n",
    "\n",
    "def model_validation_loss(model, val_loader, loss_fns, epoch):\n",
    "    val_loss = 0\n",
    "    unweighted_val_loss = 0\n",
    "    alt_val_loss = 0\n",
    "    unweighted_alt_val_loss = 0\n",
    "\n",
    "    with torch.no_grad():\n",
    "        model.eval()\n",
    "\n",
    "        for images, label in val_loader:\n",
    "            label = label.to(device).unsqueeze(-1)\n",
    "\n",
    "            with autocast(enabled=device != \"cpu\", dtype=torch.bfloat16):\n",
    "                output = model(images.to(device))\n",
    "\n",
    "                for index, loss_fn in enumerate(loss_fns[\"train\"]):\n",
    "                    if len(loss_fns[\"train\"]) > 1:\n",
    "                        loss = loss_fn(output[:, index], label[:, index]) / len(loss_fns[\"train\"])\n",
    "                    else:\n",
    "                        loss = loss_fn(output, label) / len(loss_fns[\"train\"])\n",
    "                    val_loss += loss.cpu().item()\n",
    "\n",
    "                for index, loss_fn in enumerate(loss_fns[\"unweighted_val\"]):\n",
    "                    if len(loss_fns[\"unweighted_val\"]) > 1:\n",
    "                        loss = loss_fn(output[:, index], label[:, index]) / len(loss_fns[\"unweighted_val\"])\n",
    "                    else:\n",
    "                        loss = loss_fn(output, label) / len(loss_fns[\"unweighted_val\"])\n",
    "                    unweighted_val_loss += loss.cpu().item()\n",
    "\n",
    "                for index, loss_fn in enumerate(loss_fns[\"alt_val\"]):\n",
    "                    if len(loss_fns[\"alt_val\"]) > 1:\n",
    "                            # !TODO: Label squeezed for CE loss\n",
    "                        loss = loss_fn(output[:, index], label.squeeze(-1)[:, index]) / len(loss_fns[\"alt_val\"])\n",
    "                    else:\n",
    "                        loss = loss_fn(output, label) / len(loss_fns[\"alt_val\"])\n",
    "                    alt_val_loss += loss.cpu().item()\n",
    "\n",
    "                for index, loss_fn in enumerate(loss_fns[\"unweighted_alt_val\"]):\n",
    "                    if len(loss_fns[\"unweighted_alt_val\"]) > 1:\n",
    "                            # !TODO: Label squeezed for CE loss\n",
    "                        loss = loss_fn(output[:, index], label.squeeze(-1)[:, index]) / len(\n",
    "                                loss_fns[\"unweighted_alt_val\"])\n",
    "                    else:\n",
    "                        loss = loss_fn(output, label) / len(loss_fns[\"alt_val\"])\n",
    "                    unweighted_alt_val_loss += loss.cpu().item()\n",
    "\n",
    "                del output\n",
    "            # torch.cuda.empty_cache()\n",
    "\n",
    "        val_loss = val_loss / len(val_loader)\n",
    "        unweighted_val_loss = unweighted_val_loss / len(val_loader)\n",
    "        alt_val_loss = alt_val_loss / len(val_loader)\n",
    "        unweighted_alt_val_loss = unweighted_alt_val_loss / len(val_loader)\n",
    "\n",
    "        return val_loss, unweighted_val_loss, alt_val_loss, unweighted_alt_val_loss\n",
    "\n",
    "\n",
    "def dump_plots_for_loss_and_acc(losses,\n",
    "                                val_losses,\n",
    "                                unweighted_val_losses,\n",
    "                                alt_val_losses,\n",
    "                                unweighted_alt_val_losses,\n",
    "                                data_subset_label,\n",
    "                                model_label):\n",
    "    plt.plot(np.log(losses), label=\"train\")\n",
    "    plt.plot(np.log(val_losses), label=\"weighted_val\")\n",
    "    plt.plot(np.log(unweighted_val_losses), label=\"unweighted_val\")\n",
    "    plt.plot(np.log(alt_val_losses), label=\"alt_val\")\n",
    "    plt.plot(np.log(unweighted_alt_val_losses), label=\"unweighted_alt_val\")\n",
    "    plt.legend(loc=\"center right\")\n",
    "    plt.title(data_subset_label)\n",
    "#     plt.savefig(f'./figures/{model_label}_loss.png')\n",
    "#     plt.close()\n",
    "    plt.show()\n",
    "\n",
    "def train_model_with_validation(model,\n",
    "                                optimizers,\n",
    "                                schedulers,\n",
    "                                loss_fns,\n",
    "                                train_loader,\n",
    "                                val_loader,\n",
    "                                train_loader_desc=None,\n",
    "                                model_desc=\"my_model\",\n",
    "                                gradient_accumulation_per=1,\n",
    "                                epochs=10,\n",
    "                                freeze_backbone_initial_epochs=0,\n",
    "                                empty_cache_every_n_iterations=0,\n",
    "                                loss_weights=None,\n",
    "                                callbacks=None):\n",
    "    epoch_losses = []\n",
    "    epoch_validation_losses = []\n",
    "    epoch_unweighted_validation_losses = []\n",
    "    epoch_alt_validation_losses = []\n",
    "    epoch_unweighted_alt_validation_losses = []\n",
    "\n",
    "    scaler = GradScaler(init_scale=4096)\n",
    "\n",
    "    if freeze_backbone_initial_epochs > 0:\n",
    "        freeze_model_backbone(model)\n",
    "\n",
    "    for epoch in tqdm(range(epochs), desc=train_loader_desc):\n",
    "        epoch_loss = 0\n",
    "        model.train()\n",
    "\n",
    "        if freeze_backbone_initial_epochs > 0 and epoch == freeze_backbone_initial_epochs:\n",
    "            unfreeze_model_backbone(model)\n",
    "\n",
    "        with tqdm(train_loader, total=len(train_loader), position=0, leave=True) as pbar:\n",
    "            for index, val in enumerate(pbar):\n",
    "                images, label = val\n",
    "                label = label.to(device).unsqueeze(-1)\n",
    "\n",
    "                with autocast(enabled=device != \"cpu\", dtype=torch.bfloat16):\n",
    "                    output = model(images.to(device))\n",
    "\n",
    "                    del images\n",
    "\n",
    "                    if len(loss_fns[\"train\"]) > 1:\n",
    "                        loss = sum([(loss_fn(output[:, loss_index], label[:, loss_index]) / gradient_accumulation_per) for\n",
    "                                    loss_index, loss_fn in enumerate(loss_fns[\"train\"])]) / len(loss_fns[\"train\"])\n",
    "                    else:\n",
    "                        loss = loss_fns[\"train\"][0](output, label) / gradient_accumulation_per\n",
    "                    epoch_loss += loss.detach().cpu().item() * gradient_accumulation_per  # / len(loss_fns[\"train\"])\n",
    "                    pbar.set_postfix(\n",
    "                        OrderedDict(loss=str(loss.item()))\n",
    "                    )\n",
    "                    del label\n",
    "\n",
    "                scaler.scale(loss).backward()\n",
    "                torch.nn.utils.clip_grad_norm_(model.parameters(), 1e9)\n",
    "\n",
    "                del output\n",
    "\n",
    "                # Per gradient accumulation batch or if the last iter\n",
    "                if index % gradient_accumulation_per == 0 or index == len(train_loader) - 1:\n",
    "                    for optimizer in optimizers:\n",
    "                        scaler.step(optimizer)\n",
    "                        optimizer.zero_grad(set_to_none=True)\n",
    "                    scaler.update()\n",
    "\n",
    "                if callbacks:\n",
    "                    for callback in callbacks:\n",
    "                        callback()\n",
    "\n",
    "                # prof.step()\n",
    "                if empty_cache_every_n_iterations > 0 and index % empty_cache_every_n_iterations == 0:\n",
    "                    torch.cuda.empty_cache()\n",
    "\n",
    "                while os.path.exists(\".pause\"):\n",
    "                    pass\n",
    "\n",
    "        epoch_loss = epoch_loss / len(train_loader)\n",
    "        epoch_validation_loss, epoch_unweighted_validation_loss, epoch_alt_validation_loss, epoch_unweighted_alt_validation_loss = (\n",
    "            model_validation_loss(model, val_loader, loss_fns, epoch)\n",
    "        )\n",
    "\n",
    "        for scheduler in schedulers:\n",
    "            scheduler.step()\n",
    "\n",
    "        if (epoch % 5 == 0\n",
    "            or len(epoch_validation_losses) == 0\n",
    "            or epoch_validation_loss < min(epoch_validation_losses)) \\\n",
    "                or epoch_unweighted_validation_loss < min(epoch_unweighted_validation_losses) \\\n",
    "                or epoch_alt_validation_loss < min(epoch_alt_validation_losses):\n",
    "            os.makedirs(f'models3d/{model_desc}', exist_ok=True)\n",
    "            torch.save(model.state_dict(),\n",
    "                       # torch.jit.script(model),\n",
    "                       f'models3d/{model_desc}/{model_desc}' + \"_\" + str(epoch) + \".pt\")\n",
    "\n",
    "        epoch_validation_losses.append(epoch_validation_loss)\n",
    "        epoch_unweighted_validation_losses.append(epoch_unweighted_validation_loss)\n",
    "        epoch_alt_validation_losses.append(epoch_alt_validation_loss)\n",
    "        epoch_unweighted_alt_validation_losses.append(epoch_unweighted_alt_validation_loss)\n",
    "\n",
    "        epoch_losses.append(epoch_loss)\n",
    "\n",
    "#         dump_plots_for_loss_and_acc(epoch_losses,\n",
    "#                                     epoch_validation_losses,\n",
    "#                                     epoch_unweighted_validation_losses,\n",
    "#                                     epoch_alt_validation_losses,\n",
    "#                                     epoch_unweighted_alt_validation_losses,\n",
    "#                                     train_loader_desc, model_desc)\n",
    "#         print(f\"Training Loss for epoch {epoch}: {epoch_loss:.6f}\")\n",
    "        print(f\"Validation Loss for epoch {epoch}: {epoch_validation_loss:.6f}\")\n",
    "        print(f\"Unweighted Validation Loss for epoch {epoch}: {epoch_unweighted_validation_loss:.6f}\")\n",
    "        print(f\"Alt Validation Loss for epoch {epoch}: {epoch_alt_validation_loss:.6f}\")\n",
    "        print(f\"Unweighted Alt Validation Loss for epoch {epoch}: {epoch_unweighted_alt_validation_loss:.6f}\")\n",
    "\n",
    "    return epoch_losses, epoch_validation_losses"
   ]
  },
  {
   "cell_type": "markdown",
   "metadata": {},
   "source": [
    "## Loss Functions"
   ]
  },
  {
   "cell_type": "code",
   "execution_count": 16,
   "metadata": {
    "execution": {
     "iopub.execute_input": "2024-09-22T20:31:30.078281Z",
     "iopub.status.busy": "2024-09-22T20:31:30.077875Z",
     "iopub.status.idle": "2024-09-22T20:31:30.250043Z",
     "shell.execute_reply": "2024-09-22T20:31:30.249276Z",
     "shell.execute_reply.started": "2024-09-22T20:31:30.078222Z"
    }
   },
   "outputs": [],
   "source": [
    "schedulers = [\n",
    "]\n",
    "criteria = {\n",
    "    \"train\": [\n",
    "        CumulativeLinkLoss(class_weights=[1,2,4]) for i in range(CONFIG[\"num_classes\"])\n",
    "    ],\n",
    "    \"unweighted_val\": [\n",
    "        CumulativeLinkLoss() for i in range(CONFIG[\"num_classes\"])\n",
    "    ],\n",
    "    \"alt_val\": [\n",
    "        nn.CrossEntropyLoss(weight=torch.Tensor([1,2,4])).to(CONFIG[\"device\"]) for i in range(CONFIG[\"num_classes\"])\n",
    "    ],\n",
    "    \"unweighted_alt_val\": [\n",
    "        nn.CrossEntropyLoss().to(device) for i in range(CONFIG[\"num_classes\"])\n",
    "    ]\n",
    "}"
   ]
  },
  {
   "cell_type": "markdown",
   "metadata": {},
   "source": [
    "## Putting it all together"
   ]
  },
  {
   "cell_type": "code",
   "execution_count": 17,
   "metadata": {
    "execution": {
     "iopub.execute_input": "2024-09-22T20:31:30.251574Z",
     "iopub.status.busy": "2024-09-22T20:31:30.251233Z"
    }
   },
   "outputs": [
    {
     "name": "stderr",
     "output_type": "stream",
     "text": [
      "  5%|▊                | 34/712 [01:08<11:51,  1.05s/it, loss=1.3102385997772217]"
     ]
    },
    {
     "name": "stdout",
     "output_type": "stream",
     "text": [
      "rsna-2024-lumbar-spine-degenerative-classification/train_images/2515979951 \n",
      " No data left in file\n"
     ]
    },
    {
     "name": "stderr",
     "output_type": "stream",
     "text": [
      " 30%|█████▏           | 215/712 [06:39<06:32,  1.27it/s, loss=1.172092318534851]"
     ]
    },
    {
     "name": "stdout",
     "output_type": "stream",
     "text": [
      "rsna-2024-lumbar-spine-degenerative-classification/train_images/1805845915 \n",
      " No data left in file\n"
     ]
    },
    {
     "name": "stderr",
     "output_type": "stream",
     "text": [
      " 36%|█████▊          | 259/712 [07:52<06:45,  1.12it/s, loss=1.0788742303848267]"
     ]
    },
    {
     "name": "stdout",
     "output_type": "stream",
     "text": [
      "rsna-2024-lumbar-spine-degenerative-classification/train_images/1461308638 \n",
      " No data left in file\n"
     ]
    },
    {
     "name": "stderr",
     "output_type": "stream",
     "text": [
      " 64%|██████████▏     | 453/712 [11:58<03:26,  1.26it/s, loss=1.1833672523498535]"
     ]
    },
    {
     "name": "stdout",
     "output_type": "stream",
     "text": [
      "rsna-2024-lumbar-spine-degenerative-classification/train_images/959820751 \n",
      " No data left in file\n"
     ]
    },
    {
     "name": "stderr",
     "output_type": "stream",
     "text": [
      " 87%|█████████████▉  | 618/712 [14:42<00:49,  1.89it/s, loss=1.4357887506484985]"
     ]
    },
    {
     "name": "stdout",
     "output_type": "stream",
     "text": [
      "rsna-2024-lumbar-spine-degenerative-classification/train_images/2651684339 \n",
      " No data left in file\n"
     ]
    },
    {
     "name": "stderr",
     "output_type": "stream",
     "text": [
      " 91%|██████████████▌ | 649/712 [15:07<00:51,  1.22it/s, loss=1.3489731550216675]"
     ]
    },
    {
     "name": "stdout",
     "output_type": "stream",
     "text": [
      "rsna-2024-lumbar-spine-degenerative-classification/train_images/341058399 \n",
      " No data left in file\n"
     ]
    },
    {
     "name": "stderr",
     "output_type": "stream",
     "text": [
      "100%|█████████████████| 712/712 [15:48<00:00,  1.33s/it, loss=1.408899188041687]\n",
      "Training efficientnet_b0 fold 0:   3%|▏      | 1/30 [18:52<9:07:15, 1132.25s/it]"
     ]
    },
    {
     "name": "stdout",
     "output_type": "stream",
     "text": [
      "Validation Loss for epoch 0: 1.281045\n",
      "Unweighted Validation Loss for epoch 0: 0.671958\n",
      "Alt Validation Loss for epoch 0: 0.892096\n",
      "Unweighted Alt Validation Loss for epoch 0: 0.846471\n"
     ]
    },
    {
     "name": "stderr",
     "output_type": "stream",
     "text": [
      "100%|████████████████| 712/712 [05:22<00:00,  2.21it/s, loss=1.2951830625534058]\n",
      "Training efficientnet_b0 fold 0:   7%|▌       | 2/30 [24:23<5:08:35, 661.27s/it]"
     ]
    },
    {
     "name": "stdout",
     "output_type": "stream",
     "text": [
      "Validation Loss for epoch 1: 1.214598\n",
      "Unweighted Validation Loss for epoch 1: 0.631073\n",
      "Alt Validation Loss for epoch 1: 0.884996\n",
      "Unweighted Alt Validation Loss for epoch 1: 0.838622\n"
     ]
    },
    {
     "name": "stderr",
     "output_type": "stream",
     "text": [
      "100%|████████████████| 712/712 [05:24<00:00,  2.20it/s, loss=1.6875300407409668]\n",
      "Training efficientnet_b0 fold 0:  10%|▊       | 3/30 [29:57<3:50:14, 511.64s/it]"
     ]
    },
    {
     "name": "stdout",
     "output_type": "stream",
     "text": [
      "Validation Loss for epoch 2: 1.165933\n",
      "Unweighted Validation Loss for epoch 2: 0.653942\n",
      "Alt Validation Loss for epoch 2: 0.896283\n",
      "Unweighted Alt Validation Loss for epoch 2: 0.862057\n"
     ]
    },
    {
     "name": "stderr",
     "output_type": "stream",
     "text": [
      "100%|████████████████| 712/712 [05:23<00:00,  2.20it/s, loss=0.9169211983680725]\n",
      "Training efficientnet_b0 fold 0:  13%|█       | 4/30 [35:30<3:11:10, 441.16s/it]"
     ]
    },
    {
     "name": "stdout",
     "output_type": "stream",
     "text": [
      "Validation Loss for epoch 3: 1.177262\n",
      "Unweighted Validation Loss for epoch 3: 0.628526\n",
      "Alt Validation Loss for epoch 3: 0.888864\n",
      "Unweighted Alt Validation Loss for epoch 3: 0.847369\n"
     ]
    },
    {
     "name": "stderr",
     "output_type": "stream",
     "text": [
      "100%|████████████████| 712/712 [05:22<00:00,  2.21it/s, loss=1.6812331676483154]\n",
      "Training efficientnet_b0 fold 0:  17%|█▎      | 5/30 [41:02<2:47:21, 401.66s/it]"
     ]
    },
    {
     "name": "stdout",
     "output_type": "stream",
     "text": [
      "Validation Loss for epoch 4: 1.158486\n",
      "Unweighted Validation Loss for epoch 4: 0.607675\n",
      "Alt Validation Loss for epoch 4: 0.881537\n",
      "Unweighted Alt Validation Loss for epoch 4: 0.838138\n"
     ]
    },
    {
     "name": "stderr",
     "output_type": "stream",
     "text": [
      "100%|████████████████| 712/712 [05:22<00:00,  2.21it/s, loss=0.6773184537887573]\n",
      "Training efficientnet_b0 fold 0:  20%|█▌      | 6/30 [46:33<2:31:07, 377.83s/it]"
     ]
    },
    {
     "name": "stdout",
     "output_type": "stream",
     "text": [
      "Validation Loss for epoch 5: 1.155666\n",
      "Unweighted Validation Loss for epoch 5: 0.647237\n",
      "Alt Validation Loss for epoch 5: 0.887618\n",
      "Unweighted Alt Validation Loss for epoch 5: 0.853951\n"
     ]
    },
    {
     "name": "stderr",
     "output_type": "stream",
     "text": [
      " 61%|█████████▋      | 431/712 [03:17<02:09,  2.18it/s, loss=0.8088496923446655]\n",
      "Training efficientnet_b0 fold 0:  20%|█▌      | 6/30 [49:51<3:19:26, 498.61s/it]\n"
     ]
    },
    {
     "ename": "KeyboardInterrupt",
     "evalue": "",
     "output_type": "error",
     "traceback": [
      "\u001b[0;31m---------------------------------------------------------------------------\u001b[0m",
      "\u001b[0;31mKeyboardInterrupt\u001b[0m                         Traceback (most recent call last)",
      "Cell \u001b[0;32mIn[17], line 12\u001b[0m\n\u001b[1;32m      6\u001b[0m optimizers \u001b[38;5;241m=\u001b[39m [\n\u001b[1;32m      7\u001b[0m     torch\u001b[38;5;241m.\u001b[39moptim\u001b[38;5;241m.\u001b[39mAdamW(model\u001b[38;5;241m.\u001b[39mparameters(), lr\u001b[38;5;241m=\u001b[39m\u001b[38;5;241m3e-4\u001b[39m),\n\u001b[1;32m      8\u001b[0m ]\n\u001b[1;32m     10\u001b[0m trainloader, valloader, trainset, testset \u001b[38;5;241m=\u001b[39m fold\n\u001b[0;32m---> 12\u001b[0m train_model_with_validation(model,\n\u001b[1;32m     13\u001b[0m                             optimizers,\n\u001b[1;32m     14\u001b[0m                             schedulers,\n\u001b[1;32m     15\u001b[0m                             criteria,\n\u001b[1;32m     16\u001b[0m                             trainloader,\n\u001b[1;32m     17\u001b[0m                             valloader,\n\u001b[1;32m     18\u001b[0m                             model_desc\u001b[38;5;241m=\u001b[39mCONFIG[\u001b[38;5;124m\"\u001b[39m\u001b[38;5;124mbackbone\u001b[39m\u001b[38;5;124m\"\u001b[39m] \u001b[38;5;241m+\u001b[39m \u001b[38;5;124mf\u001b[39m\u001b[38;5;124m\"\u001b[39m\u001b[38;5;124m_fold_\u001b[39m\u001b[38;5;132;01m{\u001b[39;00mindex\u001b[38;5;132;01m}\u001b[39;00m\u001b[38;5;124m\"\u001b[39m,\n\u001b[1;32m     19\u001b[0m                             train_loader_desc\u001b[38;5;241m=\u001b[39m\u001b[38;5;124mf\u001b[39m\u001b[38;5;124m\"\u001b[39m\u001b[38;5;124mTraining \u001b[39m\u001b[38;5;132;01m{\u001b[39;00mCONFIG[\u001b[38;5;124m'\u001b[39m\u001b[38;5;124mbackbone\u001b[39m\u001b[38;5;124m'\u001b[39m]\u001b[38;5;132;01m}\u001b[39;00m\u001b[38;5;124m fold \u001b[39m\u001b[38;5;132;01m{\u001b[39;00mindex\u001b[38;5;132;01m}\u001b[39;00m\u001b[38;5;124m\"\u001b[39m,\n\u001b[1;32m     20\u001b[0m                             epochs\u001b[38;5;241m=\u001b[39mCONFIG[\u001b[38;5;124m\"\u001b[39m\u001b[38;5;124mepochs\u001b[39m\u001b[38;5;124m\"\u001b[39m],\n\u001b[1;32m     21\u001b[0m                             freeze_backbone_initial_epochs\u001b[38;5;241m=\u001b[39m\u001b[38;5;241m0\u001b[39m,\n\u001b[1;32m     22\u001b[0m                             callbacks\u001b[38;5;241m=\u001b[39m[model\u001b[38;5;241m.\u001b[39m_ascension_callback],\n\u001b[1;32m     23\u001b[0m                             gradient_accumulation_per\u001b[38;5;241m=\u001b[39mCONFIG[\u001b[38;5;124m\"\u001b[39m\u001b[38;5;124mgradient_acc_steps\u001b[39m\u001b[38;5;124m\"\u001b[39m]\n\u001b[1;32m     24\u001b[0m                             )\n",
      "Cell \u001b[0;32mIn[15], line 120\u001b[0m, in \u001b[0;36mtrain_model_with_validation\u001b[0;34m(model, optimizers, schedulers, loss_fns, train_loader, val_loader, train_loader_desc, model_desc, gradient_accumulation_per, epochs, freeze_backbone_initial_epochs, empty_cache_every_n_iterations, loss_weights, callbacks)\u001b[0m\n\u001b[1;32m    117\u001b[0m     unfreeze_model_backbone(model)\n\u001b[1;32m    119\u001b[0m \u001b[38;5;28;01mwith\u001b[39;00m tqdm(train_loader, total\u001b[38;5;241m=\u001b[39m\u001b[38;5;28mlen\u001b[39m(train_loader), position\u001b[38;5;241m=\u001b[39m\u001b[38;5;241m0\u001b[39m, leave\u001b[38;5;241m=\u001b[39m\u001b[38;5;28;01mTrue\u001b[39;00m) \u001b[38;5;28;01mas\u001b[39;00m pbar:\n\u001b[0;32m--> 120\u001b[0m     \u001b[38;5;28;01mfor\u001b[39;00m index, val \u001b[38;5;129;01min\u001b[39;00m \u001b[38;5;28menumerate\u001b[39m(pbar):\n\u001b[1;32m    121\u001b[0m         images, label \u001b[38;5;241m=\u001b[39m val\n\u001b[1;32m    122\u001b[0m         label \u001b[38;5;241m=\u001b[39m label\u001b[38;5;241m.\u001b[39mto(device)\u001b[38;5;241m.\u001b[39munsqueeze(\u001b[38;5;241m-\u001b[39m\u001b[38;5;241m1\u001b[39m)\n",
      "File \u001b[0;32m~/anaconda3/lib/python3.11/site-packages/tqdm/std.py:1181\u001b[0m, in \u001b[0;36mtqdm.__iter__\u001b[0;34m(self)\u001b[0m\n\u001b[1;32m   1178\u001b[0m time \u001b[38;5;241m=\u001b[39m \u001b[38;5;28mself\u001b[39m\u001b[38;5;241m.\u001b[39m_time\n\u001b[1;32m   1180\u001b[0m \u001b[38;5;28;01mtry\u001b[39;00m:\n\u001b[0;32m-> 1181\u001b[0m     \u001b[38;5;28;01mfor\u001b[39;00m obj \u001b[38;5;129;01min\u001b[39;00m iterable:\n\u001b[1;32m   1182\u001b[0m         \u001b[38;5;28;01myield\u001b[39;00m obj\n\u001b[1;32m   1183\u001b[0m         \u001b[38;5;66;03m# Update and possibly print the progressbar.\u001b[39;00m\n\u001b[1;32m   1184\u001b[0m         \u001b[38;5;66;03m# Note: does not call self.update(1) for speed optimisation.\u001b[39;00m\n",
      "File \u001b[0;32m~/anaconda3/lib/python3.11/site-packages/torch/utils/data/dataloader.py:631\u001b[0m, in \u001b[0;36m_BaseDataLoaderIter.__next__\u001b[0;34m(self)\u001b[0m\n\u001b[1;32m    628\u001b[0m \u001b[38;5;28;01mif\u001b[39;00m \u001b[38;5;28mself\u001b[39m\u001b[38;5;241m.\u001b[39m_sampler_iter \u001b[38;5;129;01mis\u001b[39;00m \u001b[38;5;28;01mNone\u001b[39;00m:\n\u001b[1;32m    629\u001b[0m     \u001b[38;5;66;03m# TODO(https://github.com/pytorch/pytorch/issues/76750)\u001b[39;00m\n\u001b[1;32m    630\u001b[0m     \u001b[38;5;28mself\u001b[39m\u001b[38;5;241m.\u001b[39m_reset()  \u001b[38;5;66;03m# type: ignore[call-arg]\u001b[39;00m\n\u001b[0;32m--> 631\u001b[0m data \u001b[38;5;241m=\u001b[39m \u001b[38;5;28mself\u001b[39m\u001b[38;5;241m.\u001b[39m_next_data()\n\u001b[1;32m    632\u001b[0m \u001b[38;5;28mself\u001b[39m\u001b[38;5;241m.\u001b[39m_num_yielded \u001b[38;5;241m+\u001b[39m\u001b[38;5;241m=\u001b[39m \u001b[38;5;241m1\u001b[39m\n\u001b[1;32m    633\u001b[0m \u001b[38;5;28;01mif\u001b[39;00m \u001b[38;5;28mself\u001b[39m\u001b[38;5;241m.\u001b[39m_dataset_kind \u001b[38;5;241m==\u001b[39m _DatasetKind\u001b[38;5;241m.\u001b[39mIterable \u001b[38;5;129;01mand\u001b[39;00m \\\n\u001b[1;32m    634\u001b[0m         \u001b[38;5;28mself\u001b[39m\u001b[38;5;241m.\u001b[39m_IterableDataset_len_called \u001b[38;5;129;01mis\u001b[39;00m \u001b[38;5;129;01mnot\u001b[39;00m \u001b[38;5;28;01mNone\u001b[39;00m \u001b[38;5;129;01mand\u001b[39;00m \\\n\u001b[1;32m    635\u001b[0m         \u001b[38;5;28mself\u001b[39m\u001b[38;5;241m.\u001b[39m_num_yielded \u001b[38;5;241m>\u001b[39m \u001b[38;5;28mself\u001b[39m\u001b[38;5;241m.\u001b[39m_IterableDataset_len_called:\n",
      "File \u001b[0;32m~/anaconda3/lib/python3.11/site-packages/torch/utils/data/dataloader.py:1329\u001b[0m, in \u001b[0;36m_MultiProcessingDataLoaderIter._next_data\u001b[0;34m(self)\u001b[0m\n\u001b[1;32m   1326\u001b[0m     \u001b[38;5;28;01mreturn\u001b[39;00m \u001b[38;5;28mself\u001b[39m\u001b[38;5;241m.\u001b[39m_process_data(data)\n\u001b[1;32m   1328\u001b[0m \u001b[38;5;28;01massert\u001b[39;00m \u001b[38;5;129;01mnot\u001b[39;00m \u001b[38;5;28mself\u001b[39m\u001b[38;5;241m.\u001b[39m_shutdown \u001b[38;5;129;01mand\u001b[39;00m \u001b[38;5;28mself\u001b[39m\u001b[38;5;241m.\u001b[39m_tasks_outstanding \u001b[38;5;241m>\u001b[39m \u001b[38;5;241m0\u001b[39m\n\u001b[0;32m-> 1329\u001b[0m idx, data \u001b[38;5;241m=\u001b[39m \u001b[38;5;28mself\u001b[39m\u001b[38;5;241m.\u001b[39m_get_data()\n\u001b[1;32m   1330\u001b[0m \u001b[38;5;28mself\u001b[39m\u001b[38;5;241m.\u001b[39m_tasks_outstanding \u001b[38;5;241m-\u001b[39m\u001b[38;5;241m=\u001b[39m \u001b[38;5;241m1\u001b[39m\n\u001b[1;32m   1331\u001b[0m \u001b[38;5;28;01mif\u001b[39;00m \u001b[38;5;28mself\u001b[39m\u001b[38;5;241m.\u001b[39m_dataset_kind \u001b[38;5;241m==\u001b[39m _DatasetKind\u001b[38;5;241m.\u001b[39mIterable:\n\u001b[1;32m   1332\u001b[0m     \u001b[38;5;66;03m# Check for _IterableDatasetStopIteration\u001b[39;00m\n",
      "File \u001b[0;32m~/anaconda3/lib/python3.11/site-packages/torch/utils/data/dataloader.py:1285\u001b[0m, in \u001b[0;36m_MultiProcessingDataLoaderIter._get_data\u001b[0;34m(self)\u001b[0m\n\u001b[1;32m   1283\u001b[0m \u001b[38;5;28;01melif\u001b[39;00m \u001b[38;5;28mself\u001b[39m\u001b[38;5;241m.\u001b[39m_pin_memory:\n\u001b[1;32m   1284\u001b[0m     \u001b[38;5;28;01mwhile\u001b[39;00m \u001b[38;5;28mself\u001b[39m\u001b[38;5;241m.\u001b[39m_pin_memory_thread\u001b[38;5;241m.\u001b[39mis_alive():\n\u001b[0;32m-> 1285\u001b[0m         success, data \u001b[38;5;241m=\u001b[39m \u001b[38;5;28mself\u001b[39m\u001b[38;5;241m.\u001b[39m_try_get_data()\n\u001b[1;32m   1286\u001b[0m         \u001b[38;5;28;01mif\u001b[39;00m success:\n\u001b[1;32m   1287\u001b[0m             \u001b[38;5;28;01mreturn\u001b[39;00m data\n",
      "File \u001b[0;32m~/anaconda3/lib/python3.11/site-packages/torch/utils/data/dataloader.py:1133\u001b[0m, in \u001b[0;36m_MultiProcessingDataLoaderIter._try_get_data\u001b[0;34m(self, timeout)\u001b[0m\n\u001b[1;32m   1120\u001b[0m \u001b[38;5;28;01mdef\u001b[39;00m \u001b[38;5;21m_try_get_data\u001b[39m(\u001b[38;5;28mself\u001b[39m, timeout\u001b[38;5;241m=\u001b[39m_utils\u001b[38;5;241m.\u001b[39mMP_STATUS_CHECK_INTERVAL):\n\u001b[1;32m   1121\u001b[0m     \u001b[38;5;66;03m# Tries to fetch data from `self._data_queue` once for a given timeout.\u001b[39;00m\n\u001b[1;32m   1122\u001b[0m     \u001b[38;5;66;03m# This can also be used as inner loop of fetching without timeout, with\u001b[39;00m\n\u001b[0;32m   (...)\u001b[0m\n\u001b[1;32m   1130\u001b[0m     \u001b[38;5;66;03m# Returns a 2-tuple:\u001b[39;00m\n\u001b[1;32m   1131\u001b[0m     \u001b[38;5;66;03m#   (bool: whether successfully get data, any: data if successful else None)\u001b[39;00m\n\u001b[1;32m   1132\u001b[0m     \u001b[38;5;28;01mtry\u001b[39;00m:\n\u001b[0;32m-> 1133\u001b[0m         data \u001b[38;5;241m=\u001b[39m \u001b[38;5;28mself\u001b[39m\u001b[38;5;241m.\u001b[39m_data_queue\u001b[38;5;241m.\u001b[39mget(timeout\u001b[38;5;241m=\u001b[39mtimeout)\n\u001b[1;32m   1134\u001b[0m         \u001b[38;5;28;01mreturn\u001b[39;00m (\u001b[38;5;28;01mTrue\u001b[39;00m, data)\n\u001b[1;32m   1135\u001b[0m     \u001b[38;5;28;01mexcept\u001b[39;00m \u001b[38;5;167;01mException\u001b[39;00m \u001b[38;5;28;01mas\u001b[39;00m e:\n\u001b[1;32m   1136\u001b[0m         \u001b[38;5;66;03m# At timeout and error, we manually check whether any worker has\u001b[39;00m\n\u001b[1;32m   1137\u001b[0m         \u001b[38;5;66;03m# failed. Note that this is the only mechanism for Windows to detect\u001b[39;00m\n\u001b[1;32m   1138\u001b[0m         \u001b[38;5;66;03m# worker failures.\u001b[39;00m\n",
      "File \u001b[0;32m~/anaconda3/lib/python3.11/queue.py:180\u001b[0m, in \u001b[0;36mQueue.get\u001b[0;34m(self, block, timeout)\u001b[0m\n\u001b[1;32m    178\u001b[0m         \u001b[38;5;28;01mif\u001b[39;00m remaining \u001b[38;5;241m<\u001b[39m\u001b[38;5;241m=\u001b[39m \u001b[38;5;241m0.0\u001b[39m:\n\u001b[1;32m    179\u001b[0m             \u001b[38;5;28;01mraise\u001b[39;00m Empty\n\u001b[0;32m--> 180\u001b[0m         \u001b[38;5;28mself\u001b[39m\u001b[38;5;241m.\u001b[39mnot_empty\u001b[38;5;241m.\u001b[39mwait(remaining)\n\u001b[1;32m    181\u001b[0m item \u001b[38;5;241m=\u001b[39m \u001b[38;5;28mself\u001b[39m\u001b[38;5;241m.\u001b[39m_get()\n\u001b[1;32m    182\u001b[0m \u001b[38;5;28mself\u001b[39m\u001b[38;5;241m.\u001b[39mnot_full\u001b[38;5;241m.\u001b[39mnotify()\n",
      "File \u001b[0;32m~/anaconda3/lib/python3.11/threading.py:324\u001b[0m, in \u001b[0;36mCondition.wait\u001b[0;34m(self, timeout)\u001b[0m\n\u001b[1;32m    322\u001b[0m \u001b[38;5;28;01melse\u001b[39;00m:\n\u001b[1;32m    323\u001b[0m     \u001b[38;5;28;01mif\u001b[39;00m timeout \u001b[38;5;241m>\u001b[39m \u001b[38;5;241m0\u001b[39m:\n\u001b[0;32m--> 324\u001b[0m         gotit \u001b[38;5;241m=\u001b[39m waiter\u001b[38;5;241m.\u001b[39macquire(\u001b[38;5;28;01mTrue\u001b[39;00m, timeout)\n\u001b[1;32m    325\u001b[0m     \u001b[38;5;28;01melse\u001b[39;00m:\n\u001b[1;32m    326\u001b[0m         gotit \u001b[38;5;241m=\u001b[39m waiter\u001b[38;5;241m.\u001b[39macquire(\u001b[38;5;28;01mFalse\u001b[39;00m)\n",
      "\u001b[0;31mKeyboardInterrupt\u001b[0m: "
     ]
    }
   ],
   "source": [
    "for index, fold in enumerate(dataset_folds):\n",
    "    # !TODO: Remove me, I am here to save some GPU time\n",
    "    if index > 0:\n",
    "        break\n",
    "    model = Classifier3dMultihead(backbone=CONFIG[\"backbone\"], in_chans=3, out_classes=CONFIG[\"num_classes\"]).to(CONFIG[\"device\"])\n",
    "    optimizers = [\n",
    "        torch.optim.AdamW(model.parameters(), lr=3e-4),\n",
    "    ]\n",
    "\n",
    "    trainloader, valloader, trainset, testset = fold\n",
    "\n",
    "    train_model_with_validation(model,\n",
    "                                optimizers,\n",
    "                                schedulers,\n",
    "                                criteria,\n",
    "                                trainloader,\n",
    "                                valloader,\n",
    "                                model_desc=CONFIG[\"backbone\"] + f\"_fold_{index}\",\n",
    "                                train_loader_desc=f\"Training {CONFIG['backbone']} fold {index}\",\n",
    "                                epochs=CONFIG[\"epochs\"],\n",
    "                                freeze_backbone_initial_epochs=0,\n",
    "                                callbacks=[model._ascension_callback],\n",
    "                                gradient_accumulation_per=CONFIG[\"gradient_acc_steps\"]\n",
    "                                )"
   ]
  },
  {
   "cell_type": "code",
   "execution_count": null,
   "metadata": {},
   "outputs": [],
   "source": []
  },
  {
   "cell_type": "code",
   "execution_count": null,
   "metadata": {},
   "outputs": [],
   "source": []
  },
  {
   "cell_type": "code",
   "execution_count": null,
   "metadata": {},
   "outputs": [],
   "source": []
  }
 ],
 "metadata": {
  "kaggle": {
   "accelerator": "gpu",
   "dataSources": [
    {
     "databundleVersionId": 8561470,
     "sourceId": 71549,
     "sourceType": "competition"
    },
    {
     "modelId": 89293,
     "modelInstanceId": 64905,
     "sourceId": 114536,
     "sourceType": "modelInstanceVersion"
    }
   ],
   "dockerImageVersionId": 30762,
   "isGpuEnabled": true,
   "isInternetEnabled": true,
   "language": "python",
   "sourceType": "notebook"
  },
  "kernelspec": {
   "display_name": "Python 3 (ipykernel)",
   "language": "python",
   "name": "python3"
  },
  "language_info": {
   "codemirror_mode": {
    "name": "ipython",
    "version": 3
   },
   "file_extension": ".py",
   "mimetype": "text/x-python",
   "name": "python",
   "nbconvert_exporter": "python",
   "pygments_lexer": "ipython3",
   "version": "3.11.5"
  }
 },
 "nbformat": 4,
 "nbformat_minor": 4
}
