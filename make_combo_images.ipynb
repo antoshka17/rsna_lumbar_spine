{
 "cells": [
  {
   "cell_type": "code",
   "execution_count": 1,
   "id": "e2449ff2",
   "metadata": {},
   "outputs": [
    {
     "name": "stderr",
     "output_type": "stream",
     "text": [
      "2024-07-11 12:22:05.994312: I tensorflow/core/util/port.cc:113] oneDNN custom operations are on. You may see slightly different numerical results due to floating-point round-off errors from different computation orders. To turn them off, set the environment variable `TF_ENABLE_ONEDNN_OPTS=0`.\n",
      "2024-07-11 12:22:06.122861: E external/local_xla/xla/stream_executor/cuda/cuda_dnn.cc:9261] Unable to register cuDNN factory: Attempting to register factory for plugin cuDNN when one has already been registered\n",
      "2024-07-11 12:22:06.122925: E external/local_xla/xla/stream_executor/cuda/cuda_fft.cc:607] Unable to register cuFFT factory: Attempting to register factory for plugin cuFFT when one has already been registered\n",
      "2024-07-11 12:22:06.144509: E external/local_xla/xla/stream_executor/cuda/cuda_blas.cc:1515] Unable to register cuBLAS factory: Attempting to register factory for plugin cuBLAS when one has already been registered\n",
      "2024-07-11 12:22:06.197521: I tensorflow/core/platform/cpu_feature_guard.cc:182] This TensorFlow binary is optimized to use available CPU instructions in performance-critical operations.\n",
      "To enable the following instructions: AVX2 AVX_VNNI FMA, in other operations, rebuild TensorFlow with the appropriate compiler flags.\n",
      "2024-07-11 12:22:06.867043: W tensorflow/compiler/tf2tensorrt/utils/py_utils.cc:38] TF-TRT Warning: Could not find TensorRT\n"
     ]
    }
   ],
   "source": [
    "import torch\n",
    "import torch.nn as nn\n",
    "import pandas as pd\n",
    "import numpy as np\n",
    "from tqdm.auto import tqdm\n",
    "import random\n",
    "import os, sys\n",
    "import timm\n",
    "import torch.nn.functional as F\n",
    "from glob import glob\n",
    "from PIL import Image\n",
    "import cv2\n",
    "from torch.utils.data import Dataset\n",
    "from torch.utils.data import DataLoader\n",
    "import albumentations as A\n",
    "from torch.optim import AdamW\n",
    "from transformers import get_cosine_schedule_with_warmup\n",
    "from sklearn.model_selection import KFold\n",
    "from sklearn.model_selection import train_test_split\n",
    "import matplotlib.pyplot as plt\n",
    "import math\n",
    "from collections import OrderedDict\n",
    "from torch_optimizer import Ranger\n",
    "import cv2\n",
    "from pathlib import Path\n",
    "from tqdm.auto import tqdm\n",
    "torch.multiprocessing.set_sharing_strategy('file_descriptor')"
   ]
  },
  {
   "cell_type": "code",
   "execution_count": 2,
   "id": "7d1030f2",
   "metadata": {},
   "outputs": [],
   "source": [
    "def make_mask(boxes):\n",
    "    mask = np.zeros((IMG_SIZE[0], IMG_SIZE[1]))\n",
    "    mask[...] = 1.0\n",
    "    \n",
    "    if boxes is not None:\n",
    "        for box in boxes:\n",
    "            x1, y1, x2, y2 = box\n",
    "            mask[y1:y2+1, x1:x2+1] = 1.0\n",
    "    return mask\n",
    "\n",
    "def gen_seg_mask(mask):\n",
    "    \n",
    "    msk = np.zeros((mask.shape[0], mask.shape[1]))\n",
    "    inv_msk = np.zeros((mask.shape[0], mask.shape[1]))\n",
    "    for row in range(mask.shape[0]):\n",
    "        for col in range(mask.shape[1]):\n",
    "            if mask[row, col] == 127:\n",
    "                msk[row, col] = 0\n",
    "                inv_msk[row, col] = 1\n",
    "            else:\n",
    "                msk[row, col] = 1\n",
    "                inv_msk[row, col] = 0\n",
    "                \n",
    "    return msk, inv_msk"
   ]
  },
  {
   "cell_type": "code",
   "execution_count": null,
   "id": "b4f0dbb0",
   "metadata": {},
   "outputs": [
    {
     "data": {
      "application/vnd.jupyter.widget-view+json": {
       "model_id": "519154510ba64c6c9cb3ce70bde0bd41",
       "version_major": 2,
       "version_minor": 0
      },
      "text/plain": [
       "  0%|          | 0/147218 [00:00<?, ?it/s]"
      ]
     },
     "metadata": {},
     "output_type": "display_data"
    }
   ],
   "source": [
    "all_files = glob(f'cvt_png/*/*/*.png')\n",
    "all_files_masks = glob(f'mask_png/*/*/*.png')\n",
    "\n",
    "cdr = 'combo_png'\n",
    "if not Path(cdr).exists():\n",
    "    os.mkdir(cdr)\n",
    "\n",
    "for i in tqdm(range(len(all_files))):\n",
    "    fn_image = all_files[i]\n",
    "    fn_mask = all_files_masks[i]\n",
    "    \n",
    "    img = Image.open(fn_image).convert('L')\n",
    "    img = img.resize((320, 320))\n",
    "    img = np.array(img)\n",
    "    mask = Image.open(fn_mask).convert('L')\n",
    "    mask = mask.resize((320, 320))\n",
    "    mask = np.array(mask)\n",
    "    \n",
    "    msk, inv_msk = gen_seg_mask(mask)\n",
    "    result = img.astype(np.float32) * inv_msk + mask.astype(np.float32) * msk\n",
    "    \n",
    "    if not Path(cdr + '/'+'/'.join(all_files[i].split('/')[1:2])).exists():\n",
    "        os.mkdir(cdr + '/'+'/'.join(all_files[i].split('/')[1:2]))\n",
    "      \n",
    "    if not Path(cdr + '/'+'/'.join(all_files[i].split('/')[1:3])).exists():\n",
    "        os.mkdir(cdr + '/'+'/'.join(all_files[i].split('/')[1:3]))\n",
    "        \n",
    "    cv2.imwrite(cdr + '/'+'/'.join(all_files[i].split('/')[1:]), result)\n",
    "\n",
    "    \n",
    "    "
   ]
  },
  {
   "cell_type": "code",
   "execution_count": null,
   "id": "e19a5039",
   "metadata": {},
   "outputs": [],
   "source": []
  },
  {
   "cell_type": "code",
   "execution_count": null,
   "id": "ad6ae96b",
   "metadata": {},
   "outputs": [],
   "source": []
  },
  {
   "cell_type": "code",
   "execution_count": null,
   "id": "2787f7e8",
   "metadata": {},
   "outputs": [],
   "source": []
  }
 ],
 "metadata": {
  "kernelspec": {
   "display_name": "Python 3 (ipykernel)",
   "language": "python",
   "name": "python3"
  },
  "language_info": {
   "codemirror_mode": {
    "name": "ipython",
    "version": 3
   },
   "file_extension": ".py",
   "mimetype": "text/x-python",
   "name": "python",
   "nbconvert_exporter": "python",
   "pygments_lexer": "ipython3",
   "version": "3.11.5"
  }
 },
 "nbformat": 4,
 "nbformat_minor": 5
}
