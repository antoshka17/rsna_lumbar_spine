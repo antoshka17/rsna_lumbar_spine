{
 "cells": [
  {
   "cell_type": "code",
   "execution_count": 3,
   "id": "6581ac36",
   "metadata": {},
   "outputs": [
    {
     "name": "stdout",
     "output_type": "stream",
     "text": [
      "Looking in indexes: https://pypi.org/simple, https://pypi.ngc.nvidia.com\n",
      "Requirement already satisfied: fvcore in /home/anton/anaconda3/lib/python3.11/site-packages (0.1.5.post20221221)\n",
      "Requirement already satisfied: numpy in /home/anton/anaconda3/lib/python3.11/site-packages (from fvcore) (1.26.4)\n",
      "Requirement already satisfied: yacs>=0.1.6 in /home/anton/anaconda3/lib/python3.11/site-packages (from fvcore) (0.1.8)\n",
      "Requirement already satisfied: pyyaml>=5.1 in /home/anton/anaconda3/lib/python3.11/site-packages (from fvcore) (6.0)\n",
      "Requirement already satisfied: tqdm in /home/anton/anaconda3/lib/python3.11/site-packages (from fvcore) (4.65.0)\n",
      "Requirement already satisfied: termcolor>=1.1 in /home/anton/anaconda3/lib/python3.11/site-packages (from fvcore) (2.4.0)\n",
      "Requirement already satisfied: Pillow in /home/anton/anaconda3/lib/python3.11/site-packages (from fvcore) (9.4.0)\n",
      "Requirement already satisfied: tabulate in /home/anton/anaconda3/lib/python3.11/site-packages (from fvcore) (0.8.10)\n",
      "Requirement already satisfied: iopath>=0.1.7 in /home/anton/anaconda3/lib/python3.11/site-packages (from fvcore) (0.1.10)\n",
      "Requirement already satisfied: typing-extensions in /home/anton/anaconda3/lib/python3.11/site-packages (from iopath>=0.1.7->fvcore) (4.10.0)\n",
      "Requirement already satisfied: portalocker in /home/anton/anaconda3/lib/python3.11/site-packages (from iopath>=0.1.7->fvcore) (2.10.1)\n",
      "\n",
      "\u001b[1m[\u001b[0m\u001b[34;49mnotice\u001b[0m\u001b[1;39;49m]\u001b[0m\u001b[39;49m A new release of pip is available: \u001b[0m\u001b[31;49m23.3.1\u001b[0m\u001b[39;49m -> \u001b[0m\u001b[32;49m24.2\u001b[0m\n",
      "\u001b[1m[\u001b[0m\u001b[34;49mnotice\u001b[0m\u001b[1;39;49m]\u001b[0m\u001b[39;49m To update, run: \u001b[0m\u001b[32;49mpip install --upgrade pip\u001b[0m\n"
     ]
    }
   ],
   "source": [
    "!pip install fvcore"
   ]
  },
  {
   "cell_type": "code",
   "execution_count": 1,
   "id": "4f6ff6dc",
   "metadata": {},
   "outputs": [
    {
     "name": "stderr",
     "output_type": "stream",
     "text": [
      "/home/anton/anaconda3/lib/python3.11/site-packages/pandas/core/arrays/masked.py:60: UserWarning: Pandas requires version '1.3.6' or newer of 'bottleneck' (version '1.3.5' currently installed).\n",
      "  from pandas.core import (\n",
      "2024-08-28 08:13:18.010615: I tensorflow/core/util/port.cc:113] oneDNN custom operations are on. You may see slightly different numerical results due to floating-point round-off errors from different computation orders. To turn them off, set the environment variable `TF_ENABLE_ONEDNN_OPTS=0`.\n",
      "2024-08-28 08:13:18.035819: E external/local_xla/xla/stream_executor/cuda/cuda_dnn.cc:9261] Unable to register cuDNN factory: Attempting to register factory for plugin cuDNN when one has already been registered\n",
      "2024-08-28 08:13:18.035841: E external/local_xla/xla/stream_executor/cuda/cuda_fft.cc:607] Unable to register cuFFT factory: Attempting to register factory for plugin cuFFT when one has already been registered\n",
      "2024-08-28 08:13:18.036523: E external/local_xla/xla/stream_executor/cuda/cuda_blas.cc:1515] Unable to register cuBLAS factory: Attempting to register factory for plugin cuBLAS when one has already been registered\n",
      "2024-08-28 08:13:18.041410: I tensorflow/core/platform/cpu_feature_guard.cc:182] This TensorFlow binary is optimized to use available CPU instructions in performance-critical operations.\n",
      "To enable the following instructions: AVX2 AVX_VNNI FMA, in other operations, rebuild TensorFlow with the appropriate compiler flags.\n",
      "2024-08-28 08:13:18.592617: W tensorflow/compiler/tf2tensorrt/utils/py_utils.cc:38] TF-TRT Warning: Could not find TensorRT\n"
     ]
    }
   ],
   "source": [
    "import torch\n",
    "import torch.nn as nn\n",
    "import pandas as pd\n",
    "import numpy as np\n",
    "from tqdm import tqdm\n",
    "import random\n",
    "import os, sys\n",
    "import timm\n",
    "import torch.nn.functional as F\n",
    "from glob import glob\n",
    "from PIL import Image\n",
    "import cv2\n",
    "from torch.utils.data import Dataset\n",
    "from torch.utils.data import DataLoader\n",
    "import albumentations as A\n",
    "from torch.optim import AdamW\n",
    "from transformers import get_cosine_schedule_with_warmup\n",
    "from sklearn.model_selection import KFold\n",
    "from sklearn.model_selection import train_test_split\n",
    "import matplotlib.pyplot as plt\n",
    "import math\n",
    "from collections import OrderedDict\n",
    "from torch_optimizer import Ranger\n",
    "torch.multiprocessing.set_sharing_strategy('file_descriptor')"
   ]
  },
  {
   "cell_type": "code",
   "execution_count": 2,
   "id": "ce796f1e",
   "metadata": {},
   "outputs": [],
   "source": [
    "rd = 'rsna-2024-lumbar-spine-degenerative-classification'\n",
    "OUTPUT_DIR = 'rsna-results-3d'\n",
    "DEVICE = 'cuda' if torch.cuda.is_available() else 'cpu'\n",
    "IMG_SIZE = [256, 256]\n",
    "N_FOLDS = 5\n",
    "EPOCHS = 50\n",
    "USE_AMP = True\n",
    "N_LABELS = 25\n",
    "N_CLASSES = 3 * N_LABELS\n",
    "AUG_PROB = 0.75\n",
    "SELECTED_FOLDS = [0, 1, 2, 3, 4]\n",
    "SEED = 69\n",
    "GRAD_ACC = 2\n",
    "TGT_BATCH_SIZE = 8\n",
    "IN_CHANS = 24\n",
    "BATCH_SIZE = TGT_BATCH_SIZE // GRAD_ACC\n",
    "MAX_GRAD_NORM = None\n",
    "EARLY_STOPPING_EPOCH = 10\n",
    "LR = 2e-4 * TGT_BATCH_SIZE / 32\n",
    "WD = 1e-2\n",
    "AUG = True\n",
    "MODEL_NAME = 'convnext_pico.d1_in1k'\n",
    "# MODEL_NAME = 'convnextv2_pico.fcmae'\n",
    "NOT_DEBUG = True\n",
    "N_WORKERS = 4"
   ]
  },
  {
   "cell_type": "code",
   "execution_count": 3,
   "id": "448369e6",
   "metadata": {},
   "outputs": [],
   "source": [
    "os.makedirs(OUTPUT_DIR, exist_ok=True)"
   ]
  },
  {
   "cell_type": "code",
   "execution_count": 4,
   "id": "888979dd",
   "metadata": {},
   "outputs": [],
   "source": [
    "def set_random_seed(seed: int = 2222, deterministic: bool = False):\n",
    "    \"\"\"Set seeds\"\"\"\n",
    "    random.seed(seed)\n",
    "    np.random.seed(seed)\n",
    "    os.environ[\"PYTHONHASHSEED\"] = str(seed)\n",
    "    torch.manual_seed(seed)\n",
    "    torch.cuda.manual_seed(seed)  # type: ignore\n",
    "    torch.backends.cudnn.benchmark = True\n",
    "    torch.backends.cudnn.deterministic = deterministic  # type: ignore\n",
    "\n",
    "set_random_seed(SEED)"
   ]
  },
  {
   "cell_type": "code",
   "execution_count": 5,
   "id": "00ec9a77",
   "metadata": {},
   "outputs": [
    {
     "data": {
      "text/html": [
       "<div>\n",
       "<style scoped>\n",
       "    .dataframe tbody tr th:only-of-type {\n",
       "        vertical-align: middle;\n",
       "    }\n",
       "\n",
       "    .dataframe tbody tr th {\n",
       "        vertical-align: top;\n",
       "    }\n",
       "\n",
       "    .dataframe thead th {\n",
       "        text-align: right;\n",
       "    }\n",
       "</style>\n",
       "<table border=\"1\" class=\"dataframe\">\n",
       "  <thead>\n",
       "    <tr style=\"text-align: right;\">\n",
       "      <th></th>\n",
       "      <th>study_id</th>\n",
       "      <th>spinal_canal_stenosis_l1_l2</th>\n",
       "      <th>spinal_canal_stenosis_l2_l3</th>\n",
       "      <th>spinal_canal_stenosis_l3_l4</th>\n",
       "      <th>spinal_canal_stenosis_l4_l5</th>\n",
       "      <th>spinal_canal_stenosis_l5_s1</th>\n",
       "      <th>left_neural_foraminal_narrowing_l1_l2</th>\n",
       "      <th>left_neural_foraminal_narrowing_l2_l3</th>\n",
       "      <th>left_neural_foraminal_narrowing_l3_l4</th>\n",
       "      <th>left_neural_foraminal_narrowing_l4_l5</th>\n",
       "      <th>...</th>\n",
       "      <th>left_subarticular_stenosis_l1_l2</th>\n",
       "      <th>left_subarticular_stenosis_l2_l3</th>\n",
       "      <th>left_subarticular_stenosis_l3_l4</th>\n",
       "      <th>left_subarticular_stenosis_l4_l5</th>\n",
       "      <th>left_subarticular_stenosis_l5_s1</th>\n",
       "      <th>right_subarticular_stenosis_l1_l2</th>\n",
       "      <th>right_subarticular_stenosis_l2_l3</th>\n",
       "      <th>right_subarticular_stenosis_l3_l4</th>\n",
       "      <th>right_subarticular_stenosis_l4_l5</th>\n",
       "      <th>right_subarticular_stenosis_l5_s1</th>\n",
       "    </tr>\n",
       "  </thead>\n",
       "  <tbody>\n",
       "    <tr>\n",
       "      <th>0</th>\n",
       "      <td>4003253</td>\n",
       "      <td>Normal/Mild</td>\n",
       "      <td>Normal/Mild</td>\n",
       "      <td>Normal/Mild</td>\n",
       "      <td>Normal/Mild</td>\n",
       "      <td>Normal/Mild</td>\n",
       "      <td>Normal/Mild</td>\n",
       "      <td>Normal/Mild</td>\n",
       "      <td>Normal/Mild</td>\n",
       "      <td>Moderate</td>\n",
       "      <td>...</td>\n",
       "      <td>Normal/Mild</td>\n",
       "      <td>Normal/Mild</td>\n",
       "      <td>Normal/Mild</td>\n",
       "      <td>Moderate</td>\n",
       "      <td>Normal/Mild</td>\n",
       "      <td>Normal/Mild</td>\n",
       "      <td>Normal/Mild</td>\n",
       "      <td>Normal/Mild</td>\n",
       "      <td>Normal/Mild</td>\n",
       "      <td>Normal/Mild</td>\n",
       "    </tr>\n",
       "    <tr>\n",
       "      <th>1</th>\n",
       "      <td>4646740</td>\n",
       "      <td>Normal/Mild</td>\n",
       "      <td>Normal/Mild</td>\n",
       "      <td>Moderate</td>\n",
       "      <td>Severe</td>\n",
       "      <td>Normal/Mild</td>\n",
       "      <td>Normal/Mild</td>\n",
       "      <td>Normal/Mild</td>\n",
       "      <td>Normal/Mild</td>\n",
       "      <td>Moderate</td>\n",
       "      <td>...</td>\n",
       "      <td>Normal/Mild</td>\n",
       "      <td>Normal/Mild</td>\n",
       "      <td>Normal/Mild</td>\n",
       "      <td>Severe</td>\n",
       "      <td>Normal/Mild</td>\n",
       "      <td>Normal/Mild</td>\n",
       "      <td>Moderate</td>\n",
       "      <td>Moderate</td>\n",
       "      <td>Moderate</td>\n",
       "      <td>Normal/Mild</td>\n",
       "    </tr>\n",
       "    <tr>\n",
       "      <th>2</th>\n",
       "      <td>7143189</td>\n",
       "      <td>Normal/Mild</td>\n",
       "      <td>Normal/Mild</td>\n",
       "      <td>Normal/Mild</td>\n",
       "      <td>Normal/Mild</td>\n",
       "      <td>Normal/Mild</td>\n",
       "      <td>Normal/Mild</td>\n",
       "      <td>Normal/Mild</td>\n",
       "      <td>Normal/Mild</td>\n",
       "      <td>Normal/Mild</td>\n",
       "      <td>...</td>\n",
       "      <td>Normal/Mild</td>\n",
       "      <td>Normal/Mild</td>\n",
       "      <td>Normal/Mild</td>\n",
       "      <td>Normal/Mild</td>\n",
       "      <td>Normal/Mild</td>\n",
       "      <td>Normal/Mild</td>\n",
       "      <td>Normal/Mild</td>\n",
       "      <td>Normal/Mild</td>\n",
       "      <td>Normal/Mild</td>\n",
       "      <td>Normal/Mild</td>\n",
       "    </tr>\n",
       "    <tr>\n",
       "      <th>3</th>\n",
       "      <td>8785691</td>\n",
       "      <td>Normal/Mild</td>\n",
       "      <td>Normal/Mild</td>\n",
       "      <td>Normal/Mild</td>\n",
       "      <td>Normal/Mild</td>\n",
       "      <td>Normal/Mild</td>\n",
       "      <td>Normal/Mild</td>\n",
       "      <td>Normal/Mild</td>\n",
       "      <td>Normal/Mild</td>\n",
       "      <td>Moderate</td>\n",
       "      <td>...</td>\n",
       "      <td>Normal/Mild</td>\n",
       "      <td>Normal/Mild</td>\n",
       "      <td>Normal/Mild</td>\n",
       "      <td>Normal/Mild</td>\n",
       "      <td>Normal/Mild</td>\n",
       "      <td>Normal/Mild</td>\n",
       "      <td>Normal/Mild</td>\n",
       "      <td>Normal/Mild</td>\n",
       "      <td>Normal/Mild</td>\n",
       "      <td>Normal/Mild</td>\n",
       "    </tr>\n",
       "    <tr>\n",
       "      <th>4</th>\n",
       "      <td>10728036</td>\n",
       "      <td>Normal/Mild</td>\n",
       "      <td>Normal/Mild</td>\n",
       "      <td>Normal/Mild</td>\n",
       "      <td>Normal/Mild</td>\n",
       "      <td>Normal/Mild</td>\n",
       "      <td>Normal/Mild</td>\n",
       "      <td>Normal/Mild</td>\n",
       "      <td>Normal/Mild</td>\n",
       "      <td>Normal/Mild</td>\n",
       "      <td>...</td>\n",
       "      <td>Normal/Mild</td>\n",
       "      <td>Normal/Mild</td>\n",
       "      <td>Normal/Mild</td>\n",
       "      <td>Normal/Mild</td>\n",
       "      <td>Normal/Mild</td>\n",
       "      <td>Normal/Mild</td>\n",
       "      <td>Normal/Mild</td>\n",
       "      <td>Normal/Mild</td>\n",
       "      <td>Moderate</td>\n",
       "      <td>Normal/Mild</td>\n",
       "    </tr>\n",
       "  </tbody>\n",
       "</table>\n",
       "<p>5 rows × 26 columns</p>\n",
       "</div>"
      ],
      "text/plain": [
       "   study_id spinal_canal_stenosis_l1_l2 spinal_canal_stenosis_l2_l3  \\\n",
       "0   4003253                 Normal/Mild                 Normal/Mild   \n",
       "1   4646740                 Normal/Mild                 Normal/Mild   \n",
       "2   7143189                 Normal/Mild                 Normal/Mild   \n",
       "3   8785691                 Normal/Mild                 Normal/Mild   \n",
       "4  10728036                 Normal/Mild                 Normal/Mild   \n",
       "\n",
       "  spinal_canal_stenosis_l3_l4 spinal_canal_stenosis_l4_l5  \\\n",
       "0                 Normal/Mild                 Normal/Mild   \n",
       "1                    Moderate                      Severe   \n",
       "2                 Normal/Mild                 Normal/Mild   \n",
       "3                 Normal/Mild                 Normal/Mild   \n",
       "4                 Normal/Mild                 Normal/Mild   \n",
       "\n",
       "  spinal_canal_stenosis_l5_s1 left_neural_foraminal_narrowing_l1_l2  \\\n",
       "0                 Normal/Mild                           Normal/Mild   \n",
       "1                 Normal/Mild                           Normal/Mild   \n",
       "2                 Normal/Mild                           Normal/Mild   \n",
       "3                 Normal/Mild                           Normal/Mild   \n",
       "4                 Normal/Mild                           Normal/Mild   \n",
       "\n",
       "  left_neural_foraminal_narrowing_l2_l3 left_neural_foraminal_narrowing_l3_l4  \\\n",
       "0                           Normal/Mild                           Normal/Mild   \n",
       "1                           Normal/Mild                           Normal/Mild   \n",
       "2                           Normal/Mild                           Normal/Mild   \n",
       "3                           Normal/Mild                           Normal/Mild   \n",
       "4                           Normal/Mild                           Normal/Mild   \n",
       "\n",
       "  left_neural_foraminal_narrowing_l4_l5  ... left_subarticular_stenosis_l1_l2  \\\n",
       "0                              Moderate  ...                      Normal/Mild   \n",
       "1                              Moderate  ...                      Normal/Mild   \n",
       "2                           Normal/Mild  ...                      Normal/Mild   \n",
       "3                              Moderate  ...                      Normal/Mild   \n",
       "4                           Normal/Mild  ...                      Normal/Mild   \n",
       "\n",
       "  left_subarticular_stenosis_l2_l3 left_subarticular_stenosis_l3_l4  \\\n",
       "0                      Normal/Mild                      Normal/Mild   \n",
       "1                      Normal/Mild                      Normal/Mild   \n",
       "2                      Normal/Mild                      Normal/Mild   \n",
       "3                      Normal/Mild                      Normal/Mild   \n",
       "4                      Normal/Mild                      Normal/Mild   \n",
       "\n",
       "  left_subarticular_stenosis_l4_l5 left_subarticular_stenosis_l5_s1  \\\n",
       "0                         Moderate                      Normal/Mild   \n",
       "1                           Severe                      Normal/Mild   \n",
       "2                      Normal/Mild                      Normal/Mild   \n",
       "3                      Normal/Mild                      Normal/Mild   \n",
       "4                      Normal/Mild                      Normal/Mild   \n",
       "\n",
       "  right_subarticular_stenosis_l1_l2 right_subarticular_stenosis_l2_l3  \\\n",
       "0                       Normal/Mild                       Normal/Mild   \n",
       "1                       Normal/Mild                          Moderate   \n",
       "2                       Normal/Mild                       Normal/Mild   \n",
       "3                       Normal/Mild                       Normal/Mild   \n",
       "4                       Normal/Mild                       Normal/Mild   \n",
       "\n",
       "  right_subarticular_stenosis_l3_l4 right_subarticular_stenosis_l4_l5  \\\n",
       "0                       Normal/Mild                       Normal/Mild   \n",
       "1                          Moderate                          Moderate   \n",
       "2                       Normal/Mild                       Normal/Mild   \n",
       "3                       Normal/Mild                       Normal/Mild   \n",
       "4                       Normal/Mild                          Moderate   \n",
       "\n",
       "  right_subarticular_stenosis_l5_s1  \n",
       "0                       Normal/Mild  \n",
       "1                       Normal/Mild  \n",
       "2                       Normal/Mild  \n",
       "3                       Normal/Mild  \n",
       "4                       Normal/Mild  \n",
       "\n",
       "[5 rows x 26 columns]"
      ]
     },
     "execution_count": 5,
     "metadata": {},
     "output_type": "execute_result"
    }
   ],
   "source": [
    "df = pd.read_csv(f'{rd}/train.csv')\n",
    "df.head()"
   ]
  },
  {
   "cell_type": "code",
   "execution_count": 6,
   "id": "a987b240",
   "metadata": {},
   "outputs": [],
   "source": [
    "df = df.fillna(-100)"
   ]
  },
  {
   "cell_type": "code",
   "execution_count": 7,
   "id": "dcb6d2c6",
   "metadata": {},
   "outputs": [
    {
     "name": "stderr",
     "output_type": "stream",
     "text": [
      "/tmp/ipykernel_20435/1901592955.py:2: FutureWarning: Downcasting behavior in `replace` is deprecated and will be removed in a future version. To retain the old behavior, explicitly call `result.infer_objects(copy=False)`. To opt-in to the future behavior, set `pd.set_option('future.no_silent_downcasting', True)`\n",
      "  df = df.replace(label2id)\n"
     ]
    },
    {
     "data": {
      "text/html": [
       "<div>\n",
       "<style scoped>\n",
       "    .dataframe tbody tr th:only-of-type {\n",
       "        vertical-align: middle;\n",
       "    }\n",
       "\n",
       "    .dataframe tbody tr th {\n",
       "        vertical-align: top;\n",
       "    }\n",
       "\n",
       "    .dataframe thead th {\n",
       "        text-align: right;\n",
       "    }\n",
       "</style>\n",
       "<table border=\"1\" class=\"dataframe\">\n",
       "  <thead>\n",
       "    <tr style=\"text-align: right;\">\n",
       "      <th></th>\n",
       "      <th>study_id</th>\n",
       "      <th>spinal_canal_stenosis_l1_l2</th>\n",
       "      <th>spinal_canal_stenosis_l2_l3</th>\n",
       "      <th>spinal_canal_stenosis_l3_l4</th>\n",
       "      <th>spinal_canal_stenosis_l4_l5</th>\n",
       "      <th>spinal_canal_stenosis_l5_s1</th>\n",
       "      <th>left_neural_foraminal_narrowing_l1_l2</th>\n",
       "      <th>left_neural_foraminal_narrowing_l2_l3</th>\n",
       "      <th>left_neural_foraminal_narrowing_l3_l4</th>\n",
       "      <th>left_neural_foraminal_narrowing_l4_l5</th>\n",
       "      <th>...</th>\n",
       "      <th>left_subarticular_stenosis_l1_l2</th>\n",
       "      <th>left_subarticular_stenosis_l2_l3</th>\n",
       "      <th>left_subarticular_stenosis_l3_l4</th>\n",
       "      <th>left_subarticular_stenosis_l4_l5</th>\n",
       "      <th>left_subarticular_stenosis_l5_s1</th>\n",
       "      <th>right_subarticular_stenosis_l1_l2</th>\n",
       "      <th>right_subarticular_stenosis_l2_l3</th>\n",
       "      <th>right_subarticular_stenosis_l3_l4</th>\n",
       "      <th>right_subarticular_stenosis_l4_l5</th>\n",
       "      <th>right_subarticular_stenosis_l5_s1</th>\n",
       "    </tr>\n",
       "  </thead>\n",
       "  <tbody>\n",
       "    <tr>\n",
       "      <th>0</th>\n",
       "      <td>4003253</td>\n",
       "      <td>0</td>\n",
       "      <td>0</td>\n",
       "      <td>0</td>\n",
       "      <td>0</td>\n",
       "      <td>0</td>\n",
       "      <td>0</td>\n",
       "      <td>0</td>\n",
       "      <td>0</td>\n",
       "      <td>1</td>\n",
       "      <td>...</td>\n",
       "      <td>0</td>\n",
       "      <td>0</td>\n",
       "      <td>0</td>\n",
       "      <td>1</td>\n",
       "      <td>0</td>\n",
       "      <td>0</td>\n",
       "      <td>0</td>\n",
       "      <td>0</td>\n",
       "      <td>0</td>\n",
       "      <td>0</td>\n",
       "    </tr>\n",
       "    <tr>\n",
       "      <th>1</th>\n",
       "      <td>4646740</td>\n",
       "      <td>0</td>\n",
       "      <td>0</td>\n",
       "      <td>1</td>\n",
       "      <td>2</td>\n",
       "      <td>0</td>\n",
       "      <td>0</td>\n",
       "      <td>0</td>\n",
       "      <td>0</td>\n",
       "      <td>1</td>\n",
       "      <td>...</td>\n",
       "      <td>0</td>\n",
       "      <td>0</td>\n",
       "      <td>0</td>\n",
       "      <td>2</td>\n",
       "      <td>0</td>\n",
       "      <td>0</td>\n",
       "      <td>1</td>\n",
       "      <td>1</td>\n",
       "      <td>1</td>\n",
       "      <td>0</td>\n",
       "    </tr>\n",
       "    <tr>\n",
       "      <th>2</th>\n",
       "      <td>7143189</td>\n",
       "      <td>0</td>\n",
       "      <td>0</td>\n",
       "      <td>0</td>\n",
       "      <td>0</td>\n",
       "      <td>0</td>\n",
       "      <td>0</td>\n",
       "      <td>0</td>\n",
       "      <td>0</td>\n",
       "      <td>0</td>\n",
       "      <td>...</td>\n",
       "      <td>0</td>\n",
       "      <td>0</td>\n",
       "      <td>0</td>\n",
       "      <td>0</td>\n",
       "      <td>0</td>\n",
       "      <td>0</td>\n",
       "      <td>0</td>\n",
       "      <td>0</td>\n",
       "      <td>0</td>\n",
       "      <td>0</td>\n",
       "    </tr>\n",
       "    <tr>\n",
       "      <th>3</th>\n",
       "      <td>8785691</td>\n",
       "      <td>0</td>\n",
       "      <td>0</td>\n",
       "      <td>0</td>\n",
       "      <td>0</td>\n",
       "      <td>0</td>\n",
       "      <td>0</td>\n",
       "      <td>0</td>\n",
       "      <td>0</td>\n",
       "      <td>1</td>\n",
       "      <td>...</td>\n",
       "      <td>0</td>\n",
       "      <td>0</td>\n",
       "      <td>0</td>\n",
       "      <td>0</td>\n",
       "      <td>0</td>\n",
       "      <td>0</td>\n",
       "      <td>0</td>\n",
       "      <td>0</td>\n",
       "      <td>0</td>\n",
       "      <td>0</td>\n",
       "    </tr>\n",
       "    <tr>\n",
       "      <th>4</th>\n",
       "      <td>10728036</td>\n",
       "      <td>0</td>\n",
       "      <td>0</td>\n",
       "      <td>0</td>\n",
       "      <td>0</td>\n",
       "      <td>0</td>\n",
       "      <td>0</td>\n",
       "      <td>0</td>\n",
       "      <td>0</td>\n",
       "      <td>0</td>\n",
       "      <td>...</td>\n",
       "      <td>0</td>\n",
       "      <td>0</td>\n",
       "      <td>0</td>\n",
       "      <td>0</td>\n",
       "      <td>0</td>\n",
       "      <td>0</td>\n",
       "      <td>0</td>\n",
       "      <td>0</td>\n",
       "      <td>1</td>\n",
       "      <td>0</td>\n",
       "    </tr>\n",
       "  </tbody>\n",
       "</table>\n",
       "<p>5 rows × 26 columns</p>\n",
       "</div>"
      ],
      "text/plain": [
       "   study_id  spinal_canal_stenosis_l1_l2  spinal_canal_stenosis_l2_l3  \\\n",
       "0   4003253                            0                            0   \n",
       "1   4646740                            0                            0   \n",
       "2   7143189                            0                            0   \n",
       "3   8785691                            0                            0   \n",
       "4  10728036                            0                            0   \n",
       "\n",
       "   spinal_canal_stenosis_l3_l4  spinal_canal_stenosis_l4_l5  \\\n",
       "0                            0                            0   \n",
       "1                            1                            2   \n",
       "2                            0                            0   \n",
       "3                            0                            0   \n",
       "4                            0                            0   \n",
       "\n",
       "   spinal_canal_stenosis_l5_s1  left_neural_foraminal_narrowing_l1_l2  \\\n",
       "0                            0                                      0   \n",
       "1                            0                                      0   \n",
       "2                            0                                      0   \n",
       "3                            0                                      0   \n",
       "4                            0                                      0   \n",
       "\n",
       "   left_neural_foraminal_narrowing_l2_l3  \\\n",
       "0                                      0   \n",
       "1                                      0   \n",
       "2                                      0   \n",
       "3                                      0   \n",
       "4                                      0   \n",
       "\n",
       "   left_neural_foraminal_narrowing_l3_l4  \\\n",
       "0                                      0   \n",
       "1                                      0   \n",
       "2                                      0   \n",
       "3                                      0   \n",
       "4                                      0   \n",
       "\n",
       "   left_neural_foraminal_narrowing_l4_l5  ...  \\\n",
       "0                                      1  ...   \n",
       "1                                      1  ...   \n",
       "2                                      0  ...   \n",
       "3                                      1  ...   \n",
       "4                                      0  ...   \n",
       "\n",
       "   left_subarticular_stenosis_l1_l2  left_subarticular_stenosis_l2_l3  \\\n",
       "0                                 0                                 0   \n",
       "1                                 0                                 0   \n",
       "2                                 0                                 0   \n",
       "3                                 0                                 0   \n",
       "4                                 0                                 0   \n",
       "\n",
       "   left_subarticular_stenosis_l3_l4  left_subarticular_stenosis_l4_l5  \\\n",
       "0                                 0                                 1   \n",
       "1                                 0                                 2   \n",
       "2                                 0                                 0   \n",
       "3                                 0                                 0   \n",
       "4                                 0                                 0   \n",
       "\n",
       "   left_subarticular_stenosis_l5_s1  right_subarticular_stenosis_l1_l2  \\\n",
       "0                                 0                                  0   \n",
       "1                                 0                                  0   \n",
       "2                                 0                                  0   \n",
       "3                                 0                                  0   \n",
       "4                                 0                                  0   \n",
       "\n",
       "   right_subarticular_stenosis_l2_l3  right_subarticular_stenosis_l3_l4  \\\n",
       "0                                  0                                  0   \n",
       "1                                  1                                  1   \n",
       "2                                  0                                  0   \n",
       "3                                  0                                  0   \n",
       "4                                  0                                  0   \n",
       "\n",
       "   right_subarticular_stenosis_l4_l5  right_subarticular_stenosis_l5_s1  \n",
       "0                                  0                                  0  \n",
       "1                                  1                                  0  \n",
       "2                                  0                                  0  \n",
       "3                                  0                                  0  \n",
       "4                                  1                                  0  \n",
       "\n",
       "[5 rows x 26 columns]"
      ]
     },
     "execution_count": 7,
     "metadata": {},
     "output_type": "execute_result"
    }
   ],
   "source": [
    "label2id = {'Normal/Mild': 0, 'Moderate':1, 'Severe':2}\n",
    "df = df.replace(label2id)\n",
    "df.head()"
   ]
  },
  {
   "cell_type": "code",
   "execution_count": 8,
   "id": "260f1e5d",
   "metadata": {},
   "outputs": [
    {
     "data": {
      "text/plain": [
       "['spinal_canal_stenosis_l1_l2',\n",
       " 'spinal_canal_stenosis_l2_l3',\n",
       " 'spinal_canal_stenosis_l3_l4',\n",
       " 'spinal_canal_stenosis_l4_l5',\n",
       " 'spinal_canal_stenosis_l5_s1',\n",
       " 'left_neural_foraminal_narrowing_l1_l2',\n",
       " 'left_neural_foraminal_narrowing_l2_l3',\n",
       " 'left_neural_foraminal_narrowing_l3_l4',\n",
       " 'left_neural_foraminal_narrowing_l4_l5',\n",
       " 'left_neural_foraminal_narrowing_l5_s1',\n",
       " 'right_neural_foraminal_narrowing_l1_l2',\n",
       " 'right_neural_foraminal_narrowing_l2_l3',\n",
       " 'right_neural_foraminal_narrowing_l3_l4',\n",
       " 'right_neural_foraminal_narrowing_l4_l5',\n",
       " 'right_neural_foraminal_narrowing_l5_s1',\n",
       " 'left_subarticular_stenosis_l1_l2',\n",
       " 'left_subarticular_stenosis_l2_l3',\n",
       " 'left_subarticular_stenosis_l3_l4',\n",
       " 'left_subarticular_stenosis_l4_l5',\n",
       " 'left_subarticular_stenosis_l5_s1',\n",
       " 'right_subarticular_stenosis_l1_l2',\n",
       " 'right_subarticular_stenosis_l2_l3',\n",
       " 'right_subarticular_stenosis_l3_l4',\n",
       " 'right_subarticular_stenosis_l4_l5',\n",
       " 'right_subarticular_stenosis_l5_s1']"
      ]
     },
     "execution_count": 8,
     "metadata": {},
     "output_type": "execute_result"
    }
   ],
   "source": [
    "CONDITIONS = [\n",
    "    'Spinal Canal Stenosis', \n",
    "    'Left Neural Foraminal Narrowing', \n",
    "    'Right Neural Foraminal Narrowing',\n",
    "    'Left Subarticular Stenosis',\n",
    "    'Right Subarticular Stenosis'\n",
    "]\n",
    "\n",
    "LEVELS = [\n",
    "    'L1/L2',\n",
    "    'L2/L3',\n",
    "    'L3/L4',\n",
    "    'L4/L5',\n",
    "    'L5/S1',\n",
    "]\n",
    "model_names = list(df.columns)[1:]\n",
    "model_names"
   ]
  },
  {
   "cell_type": "code",
   "execution_count": 9,
   "id": "ca432f10",
   "metadata": {},
   "outputs": [],
   "source": [
    "class RSNA24Dataset(Dataset):\n",
    "    def __init__(self, df, phase='train', transform=None):\n",
    "        self.df = df\n",
    "        self.transform = transform\n",
    "        self.phase = phase\n",
    "    \n",
    "    def __len__(self):\n",
    "        return len(self.df)\n",
    "\n",
    "    def __getitem__(self, idx):\n",
    "        x = np.zeros((IMG_SIZE[0], IMG_SIZE[1], IN_CHANS, 3), dtype=np.float32)\n",
    "        t = self.df.iloc[idx]\n",
    "        st_id = int(t['study_id'])\n",
    "        label = t[1:].values.astype(np.int64)\n",
    "        \n",
    "        # Sagittal T1\n",
    "        \n",
    "        sat1 = glob(f'./cvt_png/{st_id}/Sagittal T1/*.png')\n",
    "        sat1 = sorted(sat1)\n",
    "    \n",
    "        step = len(sat1) / (IN_CHANS-1)\n",
    "        st = 0\n",
    "        end = len(sat1)+0.0001\n",
    "        \n",
    "        if len(sat1) != 0:\n",
    "        \n",
    "            for i, j in enumerate(np.arange(st, end, step)):\n",
    "                try:\n",
    "                    p = sat1[max(0, int((j-0.5001).round()))]\n",
    "                    img = Image.open(p).convert('L')\n",
    "                    img = np.array(img)\n",
    "                    x[..., i, 0] = img.astype(np.float32)\n",
    "                except:\n",
    "                    #print(f'failed to load on {st_id}, Sagittal T1')\n",
    "                    pass\n",
    "            \n",
    "        # Sagittal T2/STIR\n",
    "        sat2 = glob(f'./cvt_png/{st_id}/Sagittal T2_STIR/*.png')\n",
    "        sat2 = sorted(sat2)\n",
    "    \n",
    "        step = len(sat2) / (IN_CHANS-1)\n",
    "        st = 0\n",
    "        end = len(sat2)+0.0001\n",
    "        \n",
    "        if len(sat2) != 0:\n",
    "            for i, j in enumerate(np.arange(st, end, step)):\n",
    "                try:\n",
    "                    p = sat2[max(0, int((j-0.5001).round()))]\n",
    "                    img = Image.open(p).convert('L')\n",
    "                    img = np.array(img)\n",
    "                    x[..., i, 1] = img.astype(np.float32)\n",
    "                except:\n",
    "                    #print(f'failed to load on {st_id}, Sagittal T2/STIR')\n",
    "                    pass\n",
    "            \n",
    "        # Axial T2\n",
    "        axt2 = glob(f'./cvt_png/{st_id}/Axial T2/*.png')\n",
    "        axt2 = sorted(axt2)\n",
    "    \n",
    "        step = len(axt2) / (IN_CHANS-1)\n",
    "        st = 0\n",
    "        end = len(axt2)+0.0001\n",
    "                \n",
    "        if len(axt2) != 0:\n",
    "            for i, j in enumerate(np.arange(st, end, step)):\n",
    "                try:\n",
    "                    p = axt2[max(0, int((j-0.5001).round()))]\n",
    "                    img = Image.open(p).convert('L')\n",
    "                    img = np.array(img)\n",
    "                    x[..., i, 2] = img.astype(np.float32)\n",
    "                except:\n",
    "                    #print(f'failed to load on {st_id}, Sagittal T2/STIR')\n",
    "                    pass  \n",
    "            \n",
    "        assert np.sum(x)>0\n",
    "        if self.transform is not None:\n",
    "            for i in range(3):\n",
    "                x[..., i] = self.transform(image=x[..., i])['image']\n",
    "\n",
    "        x = x.transpose(3, 2, 0, 1)\n",
    "        \n",
    "                \n",
    "        return x, label"
   ]
  },
  {
   "cell_type": "code",
   "execution_count": 10,
   "id": "6fd6434b",
   "metadata": {},
   "outputs": [],
   "source": [
    "transforms_train = A.Compose([\n",
    "#     A.OneOf([\n",
    "#         A.MotionBlur(blur_limit=5),\n",
    "#         A.MedianBlur(blur_limit=5),\n",
    "#         A.GaussianBlur(blur_limit=5),\n",
    "#         A.GaussNoise(var_limit=(5.0, 30.0)),\n",
    "#     ], p=AUG_PROB),\n",
    "\n",
    "    A.OneOf([\n",
    "        A.OpticalDistortion(distort_limit=1.0),\n",
    "        A.GridDistortion(num_steps=5, distort_limit=1.),\n",
    "        A.ElasticTransform(alpha=3),\n",
    "    ], p=AUG_PROB),\n",
    "\n",
    "    A.ShiftScaleRotate(shift_limit=0.1, scale_limit=0.1, rotate_limit=15, border_mode=0, p=AUG_PROB),\n",
    "    A.Resize(IMG_SIZE[0], IMG_SIZE[1]),\n",
    "    A.CoarseDropout(max_holes=16, max_height=16, max_width=16, min_holes=1, min_height=2, min_width=2, p=AUG_PROB),    \n",
    "    A.Normalize(mean=0.5, std=0.5)\n",
    "])\n",
    "\n",
    "transforms_val = A.Compose([\n",
    "    A.Resize(IMG_SIZE[0], IMG_SIZE[1]),\n",
    "    A.Normalize(mean=0.5, std=0.5)\n",
    "])\n",
    "\n",
    "if not AUG:\n",
    "    transforms_train = transforms_val"
   ]
  },
  {
   "cell_type": "code",
   "execution_count": 11,
   "id": "5bfe2f12",
   "metadata": {},
   "outputs": [
    {
     "name": "stdout",
     "output_type": "stream",
     "text": [
      "x stat: torch.Size([1, 3, 24, 256, 256]) tensor(-1.) tensor(0.9298) tensor(-0.7459) tensor(0.3706)\n",
      "tensor([[0, 0, 0, 0, 0, 0, 0, 0, 1, 0, 0, 0, 1, 1, 0, 0, 0, 0, 1, 0, 0, 0, 0, 0,\n",
      "         0]]) torch.Size([1, 25])\n"
     ]
    },
    {
     "data": {
      "image/png": "[encoded data removed]",
      "text/plain": [
       "<Figure size 640x480 with 1 Axes>"
      ]
     },
     "metadata": {},
     "output_type": "display_data"
    },
    {
     "name": "stdout",
     "output_type": "stream",
     "text": [
      "y stat: (256, 256) -1.0 0.8676829 -0.7904649 0.34121686\n",
      "\n",
      "x stat: torch.Size([1, 3, 24, 256, 256]) tensor(-1.) tensor(0.9385) tensor(-0.7417) tensor(0.2923)\n",
      "tensor([[0, 0, 1, 2, 0, 0, 0, 0, 1, 1, 0, 0, 1, 1, 0, 0, 0, 0, 2, 0, 0, 1, 1, 1,\n",
      "         0]]) torch.Size([1, 25])\n"
     ]
    },
    {
     "data": {
      "image/png": "[encoded data removed]",
      "text/plain": [
       "<Figure size 640x480 with 1 Axes>"
      ]
     },
     "metadata": {},
     "output_type": "display_data"
    },
    {
     "name": "stdout",
     "output_type": "stream",
     "text": [
      "y stat: (256, 256) -1.0 0.7795748 -0.691396 0.31816265\n",
      "\n"
     ]
    }
   ],
   "source": [
    "tmp_ds = RSNA24Dataset(df, phase='train', transform=transforms_train)\n",
    "tmp_dl = DataLoader(\n",
    "            tmp_ds,\n",
    "            batch_size=1,\n",
    "            shuffle=False,\n",
    "            pin_memory=False,\n",
    "            drop_last=False,\n",
    "            num_workers=0\n",
    "            )\n",
    "\n",
    "for i, (x, t) in enumerate(tmp_dl):\n",
    "    if i==2:break\n",
    "    print('x stat:', x.shape, x.min(), x.max(),x.mean(), x.std())\n",
    "    print(t, t.shape)\n",
    "    y = x.numpy()[0,0,1,...]\n",
    "    plt.imshow(y)\n",
    "    plt.show()\n",
    "    print('y stat:', y.shape, y.min(), y.max(),y.mean(), y.std())\n",
    "    print()\n",
    "plt.close()\n",
    "del tmp_ds, tmp_dl"
   ]
  },
  {
   "cell_type": "code",
   "execution_count": 12,
   "id": "865441f4",
   "metadata": {},
   "outputs": [],
   "source": [
    "class RSNA24Model(nn.Module):\n",
    "    def __init__(self, model_name, in_c=1, n_classes=150, pretrained=True, features_only=False,\n",
    "                embed_size=512, output_size=512, num_classes=10):\n",
    "        super().__init__()\n",
    "        self.model = timm.create_model(\n",
    "                                    model_name,\n",
    "                                    pretrained=pretrained, \n",
    "                                    features_only=features_only,\n",
    "                                    in_chans=in_c,\n",
    "                                    num_classes=n_classes,\n",
    "                                    global_pool='avg'\n",
    "                                    )\n",
    "        self.rnn = nn.LSTM(embed_size, output_size, num_layers=1, \n",
    "                           bidirectional=True, batch_first=True)\n",
    "        self.relu = nn.ReLU()\n",
    "        self.linear = nn.Linear(2*output_size, num_classes)\n",
    "        self.n_classes = n_classes\n",
    "    \n",
    "    def forward(self, x):\n",
    "        batch_size = x.shape[0]\n",
    "        num_images = x.shape[1]\n",
    "\n",
    "        x = x.reshape(x.shape[0]*x.shape[1], 1, x.shape[2], x.shape[3])\n",
    "        \n",
    "            \n",
    "        embeddings = self.model(x)\n",
    "        embeddings = embeddings.view(batch_size, num_images, -1)\n",
    "    \n",
    "        \n",
    "        outs, (hc, cc) = self.rnn(embeddings)\n",
    "        result = self.linear(self.relu(outs[:, -1, :]))\n",
    "        return result\n",
    "    \n",
    "def get_last_layer(model, x):\n",
    "    y = model.forward_features(x)\n",
    "    print(y.shape)"
   ]
  },
  {
   "cell_type": "code",
   "execution_count": 13,
   "id": "82987e8b",
   "metadata": {},
   "outputs": [
    {
     "name": "stderr",
     "output_type": "stream",
     "text": [
      "Using cache found in /home/anton/.cache/torch/hub/facebookresearch_pytorchvideo_main\n"
     ]
    },
    {
     "data": {
      "text/plain": [
       "['c2d_r50',\n",
       " 'csn_r101',\n",
       " 'efficient_x3d_s',\n",
       " 'efficient_x3d_xs',\n",
       " 'i3d_r50',\n",
       " 'mvit_base_16',\n",
       " 'mvit_base_16x4',\n",
       " 'mvit_base_32x3',\n",
       " 'r2plus1d_r50',\n",
       " 'slow_r50',\n",
       " 'slow_r50_detection',\n",
       " 'slowfast_16x8_r101_50_50',\n",
       " 'slowfast_r101',\n",
       " 'slowfast_r50',\n",
       " 'slowfast_r50_detection',\n",
       " 'x3d_l',\n",
       " 'x3d_m',\n",
       " 'x3d_s',\n",
       " 'x3d_xs']"
      ]
     },
     "execution_count": 13,
     "metadata": {},
     "output_type": "execute_result"
    }
   ],
   "source": [
    "torch.hub.list('facebookresearch/pytorchvideo')"
   ]
  },
  {
   "cell_type": "code",
   "execution_count": 14,
   "id": "d6e753c1",
   "metadata": {},
   "outputs": [],
   "source": [
    "class Model3d(nn.Module):\n",
    "    def __init__(self, model , input_channels = 3):\n",
    "        super(Model3d, self).__init__()\n",
    "        self.model = model\n",
    "        self.bn = nn.BatchNorm3d(1)\n",
    "        self.cnn3d = nn.Conv3d( input_channels , 1 , 3)\n",
    "        self.pool = nn.AdaptiveAvgPool3d((20, 192, 192))\n",
    "        self.bn2 = nn.BatchNorm2d(3)\n",
    "        self.relu = nn.ReLU()\n",
    "        self.relu2 = nn.ReLU()\n",
    "        self.cnn2d = nn.Conv2d(20 , 3 , 3 , stride = 1 , padding = 1)\n",
    "    \n",
    "    def forward(self , x):\n",
    "        x = x.view(x.shape[0], 1, x.shape[1], x.shape[2], x.shape[3])\n",
    "        x = self.bn(x)\n",
    "        x = self.cnn3d(x)\n",
    "        x = x.squeeze(1)\n",
    "        x = self.relu(x)\n",
    "        x = self.pool(x) #changing Depth , width , height to 144\n",
    "        x = self.cnn2d(x)\n",
    "        x = self.bn2(x)\n",
    "        x = self.relu2(x)\n",
    "        x = self.model(x)\n",
    "        \n",
    "        return x\n",
    "        \n",
    "\n"
   ]
  },
  {
   "cell_type": "code",
   "execution_count": 15,
   "id": "4d660274",
   "metadata": {},
   "outputs": [],
   "source": [
    "class TimmModel3d(nn.Module):\n",
    "    def __init__(self, backbone, pretrained=False):\n",
    "        super(TimmModel3d, self).__init__()\n",
    "\n",
    "        self.encoder = torch.hub.load('facebookresearch/pytorchvideo', 'x3d_xs', pretrained=True)\n",
    "        self.linear = nn.Linear(400, 75)\n",
    "    def forward(self, x):  # (bs, nslice, ch, sz, sz)\n",
    "        out = self.encoder(x)\n",
    "        out = F.relu(out)\n",
    "        out = self.linear(out)\n",
    "        return out"
   ]
  },
  {
   "cell_type": "code",
   "execution_count": 16,
   "id": "c7cbbe9a",
   "metadata": {},
   "outputs": [
    {
     "name": "stderr",
     "output_type": "stream",
     "text": [
      "Using cache found in /home/anton/.cache/torch/hub/facebookresearch_pytorchvideo_main\n"
     ]
    },
    {
     "name": "stdout",
     "output_type": "stream",
     "text": [
      "torch.Size([75]) tensor(-0.7728, device='cuda:0') tensor(0.5695, device='cuda:0')\n",
      "torch.Size([75]) tensor(-0.5156, device='cuda:0') tensor(0.5661, device='cuda:0')\n"
     ]
    }
   ],
   "source": [
    "m = TimmModel3d(MODEL_NAME)\n",
    "m = m.to(DEVICE)\n",
    "i = torch.randn(2, 3, IN_CHANS, 224, 224).to(DEVICE)\n",
    "with torch.no_grad():\n",
    "    out = m(i)\n",
    "for o in out:\n",
    "    print(o.shape, o.min(), o.max())"
   ]
  },
  {
   "cell_type": "code",
   "execution_count": 17,
   "id": "3d43cdd8",
   "metadata": {},
   "outputs": [],
   "source": [
    "del m, i, out"
   ]
  },
  {
   "cell_type": "code",
   "execution_count": 18,
   "id": "78d913dc",
   "metadata": {},
   "outputs": [
    {
     "name": "stdout",
     "output_type": "stream",
     "text": [
      "CPU times: user 2 µs, sys: 1 µs, total: 3 µs\n",
      "Wall time: 6.68 µs\n",
      "##############################\n",
      "Start fold 0\n",
      "##############################\n",
      "1580 395\n"
     ]
    },
    {
     "name": "stderr",
     "output_type": "stream",
     "text": [
      "Using cache found in /home/anton/.cache/torch/hub/facebookresearch_pytorchvideo_main\n"
     ]
    },
    {
     "name": "stdout",
     "output_type": "stream",
     "text": [
      "start epoch 1\n"
     ]
    },
    {
     "name": "stderr",
     "output_type": "stream",
     "text": [
      "100%|████████████| 395/395 [01:44<00:00,  3.77it/s, loss=0.907505, lr=1.996e-05]\n"
     ]
    },
    {
     "name": "stdout",
     "output_type": "stream",
     "text": [
      "train_loss:1.024447\n"
     ]
    },
    {
     "name": "stderr",
     "output_type": "stream",
     "text": [
      "100%|███████████████████████████████████████████| 50/50 [00:13<00:00,  3.81it/s]\n"
     ]
    },
    {
     "name": "stdout",
     "output_type": "stream",
     "text": [
      "torch.Size([9875, 3])\n",
      "val_loss:0.851071\n",
      "epoch:1, best weighted_logloss updated from 1.200000 to 0.929161\n",
      "rsna-results-3d/best_wll_model_fold-0.pt is saved\n",
      "start epoch 2\n"
     ]
    },
    {
     "name": "stderr",
     "output_type": "stream",
     "text": [
      "100%|████████████| 395/395 [01:43<00:00,  3.81it/s, loss=0.531993, lr=3.992e-05]\n"
     ]
    },
    {
     "name": "stdout",
     "output_type": "stream",
     "text": [
      "train_loss:0.750629\n"
     ]
    },
    {
     "name": "stderr",
     "output_type": "stream",
     "text": [
      "100%|███████████████████████████████████████████| 50/50 [00:12<00:00,  4.05it/s]\n"
     ]
    },
    {
     "name": "stdout",
     "output_type": "stream",
     "text": [
      "torch.Size([9875, 3])\n",
      "val_loss:0.767504\n",
      "epoch:2, best weighted_logloss updated from 0.929161 to 0.852853\n",
      "rsna-results-3d/best_wll_model_fold-0.pt is saved\n",
      "start epoch 3\n"
     ]
    },
    {
     "name": "stderr",
     "output_type": "stream",
     "text": [
      "100%|████████████| 395/395 [01:43<00:00,  3.80it/s, loss=0.566180, lr=5.988e-05]\n"
     ]
    },
    {
     "name": "stdout",
     "output_type": "stream",
     "text": [
      "train_loss:0.713745\n"
     ]
    },
    {
     "name": "stderr",
     "output_type": "stream",
     "text": [
      "100%|███████████████████████████████████████████| 50/50 [00:12<00:00,  4.03it/s]\n"
     ]
    },
    {
     "name": "stdout",
     "output_type": "stream",
     "text": [
      "torch.Size([9875, 3])\n",
      "val_loss:0.752060\n",
      "epoch:3, best weighted_logloss updated from 0.852853 to 0.844437\n",
      "rsna-results-3d/best_wll_model_fold-0.pt is saved\n",
      "start epoch 4\n"
     ]
    },
    {
     "name": "stderr",
     "output_type": "stream",
     "text": [
      "100%|████████████| 395/395 [01:43<00:00,  3.80it/s, loss=0.522277, lr=7.984e-05]\n"
     ]
    },
    {
     "name": "stdout",
     "output_type": "stream",
     "text": [
      "train_loss:0.690406\n"
     ]
    },
    {
     "name": "stderr",
     "output_type": "stream",
     "text": [
      "100%|███████████████████████████████████████████| 50/50 [00:12<00:00,  4.03it/s]\n"
     ]
    },
    {
     "name": "stdout",
     "output_type": "stream",
     "text": [
      "torch.Size([9875, 3])\n",
      "val_loss:0.738261\n",
      "epoch:4, best weighted_logloss updated from 0.844437 to 0.830394\n",
      "rsna-results-3d/best_wll_model_fold-0.pt is saved\n",
      "start epoch 5\n"
     ]
    },
    {
     "name": "stderr",
     "output_type": "stream",
     "text": [
      "100%|████████████| 395/395 [01:43<00:00,  3.80it/s, loss=1.219191, lr=9.980e-05]\n"
     ]
    },
    {
     "name": "stdout",
     "output_type": "stream",
     "text": [
      "train_loss:0.679178\n"
     ]
    },
    {
     "name": "stderr",
     "output_type": "stream",
     "text": [
      "100%|███████████████████████████████████████████| 50/50 [00:12<00:00,  4.02it/s]\n"
     ]
    },
    {
     "name": "stdout",
     "output_type": "stream",
     "text": [
      "torch.Size([9875, 3])\n",
      "val_loss:0.710179\n",
      "epoch:5, best weighted_logloss updated from 0.830394 to 0.797660\n",
      "rsna-results-3d/best_wll_model_fold-0.pt is saved\n",
      "start epoch 6\n"
     ]
    },
    {
     "name": "stderr",
     "output_type": "stream",
     "text": [
      "100%|████████████| 395/395 [01:43<00:00,  3.81it/s, loss=0.752570, lr=9.989e-05]\n"
     ]
    },
    {
     "name": "stdout",
     "output_type": "stream",
     "text": [
      "train_loss:0.663081\n"
     ]
    },
    {
     "name": "stderr",
     "output_type": "stream",
     "text": [
      "100%|███████████████████████████████████████████| 50/50 [00:12<00:00,  4.05it/s]\n"
     ]
    },
    {
     "name": "stdout",
     "output_type": "stream",
     "text": [
      "torch.Size([9875, 3])\n",
      "val_loss:0.687648\n",
      "epoch:6, best weighted_logloss updated from 0.797660 to 0.769682\n",
      "rsna-results-3d/best_wll_model_fold-0.pt is saved\n",
      "start epoch 7\n"
     ]
    },
    {
     "name": "stderr",
     "output_type": "stream",
     "text": [
      "100%|████████████| 395/395 [01:43<00:00,  3.81it/s, loss=0.550453, lr=9.957e-05]\n"
     ]
    },
    {
     "name": "stdout",
     "output_type": "stream",
     "text": [
      "train_loss:0.651144\n"
     ]
    },
    {
     "name": "stderr",
     "output_type": "stream",
     "text": [
      "100%|███████████████████████████████████████████| 50/50 [00:12<00:00,  4.01it/s]\n"
     ]
    },
    {
     "name": "stdout",
     "output_type": "stream",
     "text": [
      "torch.Size([9875, 3])\n",
      "val_loss:0.672992\n",
      "epoch:7, best weighted_logloss updated from 0.769682 to 0.745539\n",
      "rsna-results-3d/best_wll_model_fold-0.pt is saved\n",
      "start epoch 8\n"
     ]
    },
    {
     "name": "stderr",
     "output_type": "stream",
     "text": [
      "100%|████████████| 395/395 [01:43<00:00,  3.81it/s, loss=0.402665, lr=9.903e-05]\n"
     ]
    },
    {
     "name": "stdout",
     "output_type": "stream",
     "text": [
      "train_loss:0.643440\n"
     ]
    },
    {
     "name": "stderr",
     "output_type": "stream",
     "text": [
      "100%|███████████████████████████████████████████| 50/50 [00:12<00:00,  4.07it/s]\n"
     ]
    },
    {
     "name": "stdout",
     "output_type": "stream",
     "text": [
      "torch.Size([9875, 3])\n",
      "val_loss:0.663058\n",
      "epoch:8, best weighted_logloss updated from 0.745539 to 0.728446\n",
      "rsna-results-3d/best_wll_model_fold-0.pt is saved\n",
      "start epoch 9\n"
     ]
    },
    {
     "name": "stderr",
     "output_type": "stream",
     "text": [
      "100%|████████████| 395/395 [01:43<00:00,  3.80it/s, loss=0.616946, lr=9.827e-05]\n"
     ]
    },
    {
     "name": "stdout",
     "output_type": "stream",
     "text": [
      "train_loss:0.630040\n"
     ]
    },
    {
     "name": "stderr",
     "output_type": "stream",
     "text": [
      "100%|███████████████████████████████████████████| 50/50 [00:12<00:00,  4.03it/s]\n"
     ]
    },
    {
     "name": "stdout",
     "output_type": "stream",
     "text": [
      "torch.Size([9875, 3])\n",
      "val_loss:0.679904\n",
      "start epoch 10\n"
     ]
    },
    {
     "name": "stderr",
     "output_type": "stream",
     "text": [
      "100%|████████████| 395/395 [01:43<00:00,  3.80it/s, loss=0.672676, lr=9.730e-05]\n"
     ]
    },
    {
     "name": "stdout",
     "output_type": "stream",
     "text": [
      "train_loss:0.622930\n"
     ]
    },
    {
     "name": "stderr",
     "output_type": "stream",
     "text": [
      "100%|███████████████████████████████████████████| 50/50 [00:13<00:00,  3.78it/s]\n"
     ]
    },
    {
     "name": "stdout",
     "output_type": "stream",
     "text": [
      "torch.Size([9875, 3])\n",
      "val_loss:0.647760\n",
      "epoch:10, best weighted_logloss updated from 0.728446 to 0.714394\n",
      "rsna-results-3d/best_wll_model_fold-0.pt is saved\n",
      "start epoch 11\n"
     ]
    },
    {
     "name": "stderr",
     "output_type": "stream",
     "text": [
      "100%|████████████| 395/395 [01:43<00:00,  3.80it/s, loss=0.819740, lr=9.613e-05]\n"
     ]
    },
    {
     "name": "stdout",
     "output_type": "stream",
     "text": [
      "train_loss:0.623136\n"
     ]
    },
    {
     "name": "stderr",
     "output_type": "stream",
     "text": [
      "100%|███████████████████████████████████████████| 50/50 [00:12<00:00,  4.02it/s]\n"
     ]
    },
    {
     "name": "stdout",
     "output_type": "stream",
     "text": [
      "torch.Size([9875, 3])\n",
      "val_loss:0.653531\n",
      "start epoch 12\n"
     ]
    },
    {
     "name": "stderr",
     "output_type": "stream",
     "text": [
      "100%|████████████| 395/395 [01:43<00:00,  3.83it/s, loss=0.513501, lr=9.475e-05]\n"
     ]
    },
    {
     "name": "stdout",
     "output_type": "stream",
     "text": [
      "train_loss:0.616830\n"
     ]
    },
    {
     "name": "stderr",
     "output_type": "stream",
     "text": [
      "100%|███████████████████████████████████████████| 50/50 [00:11<00:00,  4.33it/s]\n"
     ]
    },
    {
     "name": "stdout",
     "output_type": "stream",
     "text": [
      "torch.Size([9875, 3])\n",
      "val_loss:0.650132\n",
      "start epoch 13\n"
     ]
    },
    {
     "name": "stderr",
     "output_type": "stream",
     "text": [
      "100%|████████████| 395/395 [01:42<00:00,  3.87it/s, loss=0.759727, lr=9.318e-05]\n"
     ]
    },
    {
     "name": "stdout",
     "output_type": "stream",
     "text": [
      "train_loss:0.611937\n"
     ]
    },
    {
     "name": "stderr",
     "output_type": "stream",
     "text": [
      "100%|███████████████████████████████████████████| 50/50 [00:11<00:00,  4.42it/s]\n"
     ]
    },
    {
     "name": "stdout",
     "output_type": "stream",
     "text": [
      "torch.Size([9875, 3])\n",
      "val_loss:0.653361\n",
      "start epoch 14\n"
     ]
    },
    {
     "name": "stderr",
     "output_type": "stream",
     "text": [
      "100%|████████████| 395/395 [01:41<00:00,  3.88it/s, loss=0.970850, lr=9.142e-05]\n"
     ]
    },
    {
     "name": "stdout",
     "output_type": "stream",
     "text": [
      "train_loss:0.603950\n"
     ]
    },
    {
     "name": "stderr",
     "output_type": "stream",
     "text": [
      "100%|███████████████████████████████████████████| 50/50 [00:11<00:00,  4.38it/s]\n"
     ]
    },
    {
     "name": "stdout",
     "output_type": "stream",
     "text": [
      "torch.Size([9875, 3])\n",
      "val_loss:0.643270\n",
      "epoch:14, best weighted_logloss updated from 0.714394 to 0.701322\n",
      "rsna-results-3d/best_wll_model_fold-0.pt is saved\n",
      "start epoch 15\n"
     ]
    },
    {
     "name": "stderr",
     "output_type": "stream",
     "text": [
      "100%|████████████| 395/395 [01:41<00:00,  3.89it/s, loss=0.358971, lr=8.947e-05]\n"
     ]
    },
    {
     "name": "stdout",
     "output_type": "stream",
     "text": [
      "train_loss:0.604522\n"
     ]
    },
    {
     "name": "stderr",
     "output_type": "stream",
     "text": [
      "100%|███████████████████████████████████████████| 50/50 [00:11<00:00,  4.46it/s]\n"
     ]
    },
    {
     "name": "stdout",
     "output_type": "stream",
     "text": [
      "torch.Size([9875, 3])\n",
      "val_loss:0.633907\n",
      "epoch:15, best weighted_logloss updated from 0.701322 to 0.700190\n",
      "rsna-results-3d/best_wll_model_fold-0.pt is saved\n",
      "start epoch 16\n"
     ]
    },
    {
     "name": "stderr",
     "output_type": "stream",
     "text": [
      "100%|████████████| 395/395 [01:41<00:00,  3.89it/s, loss=0.903029, lr=8.736e-05]\n"
     ]
    },
    {
     "name": "stdout",
     "output_type": "stream",
     "text": [
      "train_loss:0.600450\n"
     ]
    },
    {
     "name": "stderr",
     "output_type": "stream",
     "text": [
      "100%|███████████████████████████████████████████| 50/50 [00:11<00:00,  4.46it/s]\n"
     ]
    },
    {
     "name": "stdout",
     "output_type": "stream",
     "text": [
      "torch.Size([9875, 3])\n",
      "val_loss:0.632771\n",
      "epoch:16, best weighted_logloss updated from 0.700190 to 0.698992\n",
      "rsna-results-3d/best_wll_model_fold-0.pt is saved\n",
      "start epoch 17\n"
     ]
    },
    {
     "name": "stderr",
     "output_type": "stream",
     "text": [
      "100%|████████████| 395/395 [01:41<00:00,  3.89it/s, loss=0.526915, lr=8.508e-05]\n"
     ]
    },
    {
     "name": "stdout",
     "output_type": "stream",
     "text": [
      "train_loss:0.589855\n"
     ]
    },
    {
     "name": "stderr",
     "output_type": "stream",
     "text": [
      "100%|███████████████████████████████████████████| 50/50 [00:11<00:00,  4.45it/s]\n"
     ]
    },
    {
     "name": "stdout",
     "output_type": "stream",
     "text": [
      "torch.Size([9875, 3])\n",
      "val_loss:0.632950\n",
      "epoch:17, best weighted_logloss updated from 0.698992 to 0.693855\n",
      "rsna-results-3d/best_wll_model_fold-0.pt is saved\n",
      "start epoch 18\n"
     ]
    },
    {
     "name": "stderr",
     "output_type": "stream",
     "text": [
      "100%|████████████| 395/395 [01:41<00:00,  3.89it/s, loss=0.404195, lr=8.265e-05]\n"
     ]
    },
    {
     "name": "stdout",
     "output_type": "stream",
     "text": [
      "train_loss:0.593288\n"
     ]
    },
    {
     "name": "stderr",
     "output_type": "stream",
     "text": [
      "100%|███████████████████████████████████████████| 50/50 [00:11<00:00,  4.46it/s]\n"
     ]
    },
    {
     "name": "stdout",
     "output_type": "stream",
     "text": [
      "torch.Size([9875, 3])\n",
      "val_loss:0.630249\n",
      "start epoch 19\n"
     ]
    },
    {
     "name": "stderr",
     "output_type": "stream",
     "text": [
      "100%|████████████| 395/395 [01:41<00:00,  3.89it/s, loss=0.407628, lr=8.007e-05]\n"
     ]
    },
    {
     "name": "stdout",
     "output_type": "stream",
     "text": [
      "train_loss:0.587279\n"
     ]
    },
    {
     "name": "stderr",
     "output_type": "stream",
     "text": [
      "100%|███████████████████████████████████████████| 50/50 [00:11<00:00,  4.44it/s]\n"
     ]
    },
    {
     "name": "stdout",
     "output_type": "stream",
     "text": [
      "torch.Size([9875, 3])\n",
      "val_loss:0.634182\n",
      "start epoch 20\n"
     ]
    },
    {
     "name": "stderr",
     "output_type": "stream",
     "text": [
      "100%|████████████| 395/395 [01:41<00:00,  3.89it/s, loss=0.464893, lr=7.737e-05]\n"
     ]
    },
    {
     "name": "stdout",
     "output_type": "stream",
     "text": [
      "train_loss:0.581478\n"
     ]
    },
    {
     "name": "stderr",
     "output_type": "stream",
     "text": [
      "100%|███████████████████████████████████████████| 50/50 [00:11<00:00,  4.43it/s]\n"
     ]
    },
    {
     "name": "stdout",
     "output_type": "stream",
     "text": [
      "torch.Size([9875, 3])\n",
      "val_loss:0.637451\n",
      "epoch:20, best weighted_logloss updated from 0.693855 to 0.692640\n",
      "rsna-results-3d/best_wll_model_fold-0.pt is saved\n",
      "start epoch 21\n"
     ]
    },
    {
     "name": "stderr",
     "output_type": "stream",
     "text": [
      "100%|████████████| 395/395 [01:41<00:00,  3.89it/s, loss=0.649100, lr=7.454e-05]\n"
     ]
    },
    {
     "name": "stdout",
     "output_type": "stream",
     "text": [
      "train_loss:0.584223\n"
     ]
    },
    {
     "name": "stderr",
     "output_type": "stream",
     "text": [
      "100%|███████████████████████████████████████████| 50/50 [00:11<00:00,  4.40it/s]\n"
     ]
    },
    {
     "name": "stdout",
     "output_type": "stream",
     "text": [
      "torch.Size([9875, 3])\n",
      "val_loss:0.622895\n",
      "epoch:21, best weighted_logloss updated from 0.692640 to 0.683185\n",
      "rsna-results-3d/best_wll_model_fold-0.pt is saved\n",
      "start epoch 22\n"
     ]
    },
    {
     "name": "stderr",
     "output_type": "stream",
     "text": [
      "100%|████████████| 395/395 [01:41<00:00,  3.89it/s, loss=0.388975, lr=7.161e-05]\n"
     ]
    },
    {
     "name": "stdout",
     "output_type": "stream",
     "text": [
      "train_loss:0.573655\n"
     ]
    },
    {
     "name": "stderr",
     "output_type": "stream",
     "text": [
      "100%|███████████████████████████████████████████| 50/50 [00:11<00:00,  4.41it/s]\n"
     ]
    },
    {
     "name": "stdout",
     "output_type": "stream",
     "text": [
      "torch.Size([9875, 3])\n",
      "val_loss:0.619755\n",
      "start epoch 23\n"
     ]
    },
    {
     "name": "stderr",
     "output_type": "stream",
     "text": [
      "100%|████████████| 395/395 [01:41<00:00,  3.89it/s, loss=0.540079, lr=6.858e-05]\n"
     ]
    },
    {
     "name": "stdout",
     "output_type": "stream",
     "text": [
      "train_loss:0.572865\n"
     ]
    },
    {
     "name": "stderr",
     "output_type": "stream",
     "text": [
      "100%|███████████████████████████████████████████| 50/50 [00:11<00:00,  4.39it/s]\n"
     ]
    },
    {
     "name": "stdout",
     "output_type": "stream",
     "text": [
      "torch.Size([9875, 3])\n",
      "val_loss:0.620665\n",
      "epoch:23, best weighted_logloss updated from 0.683185 to 0.678008\n",
      "rsna-results-3d/best_wll_model_fold-0.pt is saved\n",
      "start epoch 24\n"
     ]
    },
    {
     "name": "stderr",
     "output_type": "stream",
     "text": [
      "100%|████████████| 395/395 [01:41<00:00,  3.89it/s, loss=0.338975, lr=6.547e-05]\n"
     ]
    },
    {
     "name": "stdout",
     "output_type": "stream",
     "text": [
      "train_loss:0.564311\n"
     ]
    },
    {
     "name": "stderr",
     "output_type": "stream",
     "text": [
      "100%|███████████████████████████████████████████| 50/50 [00:11<00:00,  4.43it/s]\n"
     ]
    },
    {
     "name": "stdout",
     "output_type": "stream",
     "text": [
      "torch.Size([9875, 3])\n",
      "val_loss:0.615863\n",
      "start epoch 25\n"
     ]
    },
    {
     "name": "stderr",
     "output_type": "stream",
     "text": [
      "100%|████████████| 395/395 [01:41<00:00,  3.89it/s, loss=0.633534, lr=6.230e-05]\n"
     ]
    },
    {
     "name": "stdout",
     "output_type": "stream",
     "text": [
      "train_loss:0.565690\n"
     ]
    },
    {
     "name": "stderr",
     "output_type": "stream",
     "text": [
      "100%|███████████████████████████████████████████| 50/50 [00:11<00:00,  4.46it/s]\n"
     ]
    },
    {
     "name": "stdout",
     "output_type": "stream",
     "text": [
      "torch.Size([9875, 3])\n",
      "val_loss:0.615035\n",
      "epoch:25, best weighted_logloss updated from 0.678008 to 0.673829\n",
      "rsna-results-3d/best_wll_model_fold-0.pt is saved\n",
      "start epoch 26\n"
     ]
    },
    {
     "name": "stderr",
     "output_type": "stream",
     "text": [
      "100%|████████████| 395/395 [01:41<00:00,  3.89it/s, loss=0.674649, lr=5.906e-05]\n"
     ]
    },
    {
     "name": "stdout",
     "output_type": "stream",
     "text": [
      "train_loss:0.563274\n"
     ]
    },
    {
     "name": "stderr",
     "output_type": "stream",
     "text": [
      "100%|███████████████████████████████████████████| 50/50 [00:11<00:00,  4.40it/s]\n"
     ]
    },
    {
     "name": "stdout",
     "output_type": "stream",
     "text": [
      "torch.Size([9875, 3])\n",
      "val_loss:0.616230\n",
      "start epoch 27\n"
     ]
    },
    {
     "name": "stderr",
     "output_type": "stream",
     "text": [
      "100%|████████████| 395/395 [01:41<00:00,  3.89it/s, loss=0.381396, lr=5.579e-05]\n"
     ]
    },
    {
     "name": "stdout",
     "output_type": "stream",
     "text": [
      "train_loss:0.559212\n"
     ]
    },
    {
     "name": "stderr",
     "output_type": "stream",
     "text": [
      "100%|███████████████████████████████████████████| 50/50 [00:11<00:00,  4.43it/s]\n"
     ]
    },
    {
     "name": "stdout",
     "output_type": "stream",
     "text": [
      "torch.Size([9875, 3])\n",
      "val_loss:0.621826\n",
      "start epoch 28\n"
     ]
    },
    {
     "name": "stderr",
     "output_type": "stream",
     "text": [
      "100%|████████████| 395/395 [01:41<00:00,  3.89it/s, loss=0.666009, lr=5.250e-05]\n"
     ]
    },
    {
     "name": "stdout",
     "output_type": "stream",
     "text": [
      "train_loss:0.557098\n"
     ]
    },
    {
     "name": "stderr",
     "output_type": "stream",
     "text": [
      "100%|███████████████████████████████████████████| 50/50 [00:11<00:00,  4.40it/s]\n"
     ]
    },
    {
     "name": "stdout",
     "output_type": "stream",
     "text": [
      "torch.Size([9875, 3])\n",
      "val_loss:0.622468\n",
      "start epoch 29\n"
     ]
    },
    {
     "name": "stderr",
     "output_type": "stream",
     "text": [
      "100%|████████████| 395/395 [01:41<00:00,  3.88it/s, loss=0.496308, lr=4.919e-05]\n"
     ]
    },
    {
     "name": "stdout",
     "output_type": "stream",
     "text": [
      "train_loss:0.553432\n"
     ]
    },
    {
     "name": "stderr",
     "output_type": "stream",
     "text": [
      "100%|███████████████████████████████████████████| 50/50 [00:11<00:00,  4.43it/s]\n"
     ]
    },
    {
     "name": "stdout",
     "output_type": "stream",
     "text": [
      "torch.Size([9875, 3])\n",
      "val_loss:0.613046\n",
      "start epoch 30\n"
     ]
    },
    {
     "name": "stderr",
     "output_type": "stream",
     "text": [
      "100%|████████████| 395/395 [01:41<00:00,  3.89it/s, loss=0.527998, lr=4.589e-05]\n"
     ]
    },
    {
     "name": "stdout",
     "output_type": "stream",
     "text": [
      "train_loss:0.552215\n"
     ]
    },
    {
     "name": "stderr",
     "output_type": "stream",
     "text": [
      "100%|███████████████████████████████████████████| 50/50 [00:11<00:00,  4.43it/s]\n"
     ]
    },
    {
     "name": "stdout",
     "output_type": "stream",
     "text": [
      "torch.Size([9875, 3])\n",
      "val_loss:0.630666\n",
      "start epoch 31\n"
     ]
    },
    {
     "name": "stderr",
     "output_type": "stream",
     "text": [
      "100%|████████████| 395/395 [01:41<00:00,  3.89it/s, loss=0.587265, lr=4.260e-05]\n"
     ]
    },
    {
     "name": "stdout",
     "output_type": "stream",
     "text": [
      "train_loss:0.549275\n"
     ]
    },
    {
     "name": "stderr",
     "output_type": "stream",
     "text": [
      "100%|███████████████████████████████████████████| 50/50 [00:11<00:00,  4.43it/s]\n"
     ]
    },
    {
     "name": "stdout",
     "output_type": "stream",
     "text": [
      "torch.Size([9875, 3])\n",
      "val_loss:0.611797\n",
      "start epoch 32\n"
     ]
    },
    {
     "name": "stderr",
     "output_type": "stream",
     "text": [
      "100%|████████████| 395/395 [01:41<00:00,  3.89it/s, loss=0.391991, lr=3.935e-05]\n"
     ]
    },
    {
     "name": "stdout",
     "output_type": "stream",
     "text": [
      "train_loss:0.548937\n"
     ]
    },
    {
     "name": "stderr",
     "output_type": "stream",
     "text": [
      "100%|███████████████████████████████████████████| 50/50 [00:11<00:00,  4.39it/s]\n"
     ]
    },
    {
     "name": "stdout",
     "output_type": "stream",
     "text": [
      "torch.Size([9875, 3])\n",
      "val_loss:0.617438\n",
      "start epoch 33\n"
     ]
    },
    {
     "name": "stderr",
     "output_type": "stream",
     "text": [
      "100%|████████████| 395/395 [01:41<00:00,  3.89it/s, loss=0.546208, lr=3.615e-05]\n"
     ]
    },
    {
     "name": "stdout",
     "output_type": "stream",
     "text": [
      "train_loss:0.548674\n"
     ]
    },
    {
     "name": "stderr",
     "output_type": "stream",
     "text": [
      "100%|███████████████████████████████████████████| 50/50 [00:11<00:00,  4.43it/s]\n"
     ]
    },
    {
     "name": "stdout",
     "output_type": "stream",
     "text": [
      "torch.Size([9875, 3])\n",
      "val_loss:0.617837\n",
      "start epoch 34\n"
     ]
    },
    {
     "name": "stderr",
     "output_type": "stream",
     "text": [
      "100%|████████████| 395/395 [01:41<00:00,  3.89it/s, loss=0.501739, lr=3.300e-05]\n"
     ]
    },
    {
     "name": "stdout",
     "output_type": "stream",
     "text": [
      "train_loss:0.543078\n"
     ]
    },
    {
     "name": "stderr",
     "output_type": "stream",
     "text": [
      "100%|███████████████████████████████████████████| 50/50 [00:11<00:00,  4.42it/s]\n"
     ]
    },
    {
     "name": "stdout",
     "output_type": "stream",
     "text": [
      "torch.Size([9875, 3])\n",
      "val_loss:0.618035\n",
      "start epoch 35\n"
     ]
    },
    {
     "name": "stderr",
     "output_type": "stream",
     "text": [
      "100%|████████████| 395/395 [01:41<00:00,  3.89it/s, loss=0.498240, lr=2.993e-05]\n"
     ]
    },
    {
     "name": "stdout",
     "output_type": "stream",
     "text": [
      "train_loss:0.539309\n"
     ]
    },
    {
     "name": "stderr",
     "output_type": "stream",
     "text": [
      "100%|███████████████████████████████████████████| 50/50 [00:11<00:00,  4.39it/s]\n"
     ]
    },
    {
     "name": "stdout",
     "output_type": "stream",
     "text": [
      "torch.Size([9875, 3])\n",
      "val_loss:0.613998\n",
      "early stopping\n",
      "##############################\n",
      "Start fold 1\n",
      "##############################\n",
      "1580 395\n"
     ]
    },
    {
     "name": "stderr",
     "output_type": "stream",
     "text": [
      "Using cache found in /home/anton/.cache/torch/hub/facebookresearch_pytorchvideo_main\n"
     ]
    },
    {
     "name": "stdout",
     "output_type": "stream",
     "text": [
      "start epoch 1\n"
     ]
    },
    {
     "name": "stderr",
     "output_type": "stream",
     "text": [
      "100%|████████████| 395/395 [01:41<00:00,  3.88it/s, loss=0.886957, lr=1.996e-05]\n"
     ]
    },
    {
     "name": "stdout",
     "output_type": "stream",
     "text": [
      "train_loss:1.110451\n"
     ]
    },
    {
     "name": "stderr",
     "output_type": "stream",
     "text": [
      "100%|███████████████████████████████████████████| 50/50 [00:11<00:00,  4.40it/s]\n"
     ]
    },
    {
     "name": "stdout",
     "output_type": "stream",
     "text": [
      "torch.Size([9875, 3])\n",
      "val_loss:0.859540\n",
      "epoch:1, best weighted_logloss updated from 1.200000 to 0.943269\n",
      "rsna-results-3d/best_wll_model_fold-1.pt is saved\n",
      "start epoch 2\n"
     ]
    },
    {
     "name": "stderr",
     "output_type": "stream",
     "text": [
      "100%|████████████| 395/395 [01:41<00:00,  3.89it/s, loss=0.948659, lr=3.992e-05]\n"
     ]
    },
    {
     "name": "stdout",
     "output_type": "stream",
     "text": [
      "train_loss:0.751809\n"
     ]
    },
    {
     "name": "stderr",
     "output_type": "stream",
     "text": [
      "100%|███████████████████████████████████████████| 50/50 [00:11<00:00,  4.34it/s]\n"
     ]
    },
    {
     "name": "stdout",
     "output_type": "stream",
     "text": [
      "torch.Size([9875, 3])\n",
      "val_loss:0.774230\n",
      "epoch:2, best weighted_logloss updated from 0.943269 to 0.882521\n",
      "rsna-results-3d/best_wll_model_fold-1.pt is saved\n",
      "start epoch 3\n"
     ]
    },
    {
     "name": "stderr",
     "output_type": "stream",
     "text": [
      "100%|████████████| 395/395 [01:41<00:00,  3.88it/s, loss=0.568510, lr=5.988e-05]\n"
     ]
    },
    {
     "name": "stdout",
     "output_type": "stream",
     "text": [
      "train_loss:0.711233\n"
     ]
    },
    {
     "name": "stderr",
     "output_type": "stream",
     "text": [
      "100%|███████████████████████████████████████████| 50/50 [00:11<00:00,  4.38it/s]\n"
     ]
    },
    {
     "name": "stdout",
     "output_type": "stream",
     "text": [
      "torch.Size([9875, 3])\n",
      "val_loss:0.739915\n",
      "epoch:3, best weighted_logloss updated from 0.882521 to 0.848784\n",
      "rsna-results-3d/best_wll_model_fold-1.pt is saved\n",
      "start epoch 4\n"
     ]
    },
    {
     "name": "stderr",
     "output_type": "stream",
     "text": [
      "100%|████████████| 395/395 [01:41<00:00,  3.88it/s, loss=0.651431, lr=7.984e-05]\n"
     ]
    },
    {
     "name": "stdout",
     "output_type": "stream",
     "text": [
      "train_loss:0.690271\n"
     ]
    },
    {
     "name": "stderr",
     "output_type": "stream",
     "text": [
      "100%|███████████████████████████████████████████| 50/50 [00:11<00:00,  4.34it/s]\n"
     ]
    },
    {
     "name": "stdout",
     "output_type": "stream",
     "text": [
      "torch.Size([9875, 3])\n",
      "val_loss:0.712241\n",
      "epoch:4, best weighted_logloss updated from 0.848784 to 0.817801\n",
      "rsna-results-3d/best_wll_model_fold-1.pt is saved\n",
      "start epoch 5\n"
     ]
    },
    {
     "name": "stderr",
     "output_type": "stream",
     "text": [
      "100%|████████████| 395/395 [01:41<00:00,  3.88it/s, loss=0.849076, lr=9.980e-05]\n"
     ]
    },
    {
     "name": "stdout",
     "output_type": "stream",
     "text": [
      "train_loss:0.674875\n"
     ]
    },
    {
     "name": "stderr",
     "output_type": "stream",
     "text": [
      "100%|███████████████████████████████████████████| 50/50 [00:11<00:00,  4.43it/s]\n"
     ]
    },
    {
     "name": "stdout",
     "output_type": "stream",
     "text": [
      "torch.Size([9875, 3])\n",
      "val_loss:0.715295\n",
      "start epoch 6\n"
     ]
    },
    {
     "name": "stderr",
     "output_type": "stream",
     "text": [
      "100%|████████████| 395/395 [01:41<00:00,  3.88it/s, loss=0.692078, lr=9.989e-05]\n"
     ]
    },
    {
     "name": "stdout",
     "output_type": "stream",
     "text": [
      "train_loss:0.664384\n"
     ]
    },
    {
     "name": "stderr",
     "output_type": "stream",
     "text": [
      "100%|███████████████████████████████████████████| 50/50 [00:11<00:00,  4.40it/s]\n"
     ]
    },
    {
     "name": "stdout",
     "output_type": "stream",
     "text": [
      "torch.Size([9875, 3])\n",
      "val_loss:0.661637\n",
      "epoch:6, best weighted_logloss updated from 0.817801 to 0.746066\n",
      "rsna-results-3d/best_wll_model_fold-1.pt is saved\n",
      "start epoch 7\n"
     ]
    },
    {
     "name": "stderr",
     "output_type": "stream",
     "text": [
      "100%|████████████| 395/395 [01:41<00:00,  3.88it/s, loss=0.389952, lr=9.957e-05]\n"
     ]
    },
    {
     "name": "stdout",
     "output_type": "stream",
     "text": [
      "train_loss:0.652165\n"
     ]
    },
    {
     "name": "stderr",
     "output_type": "stream",
     "text": [
      "100%|███████████████████████████████████████████| 50/50 [00:11<00:00,  4.41it/s]\n"
     ]
    },
    {
     "name": "stdout",
     "output_type": "stream",
     "text": [
      "torch.Size([9875, 3])\n",
      "val_loss:0.660939\n",
      "start epoch 8\n"
     ]
    },
    {
     "name": "stderr",
     "output_type": "stream",
     "text": [
      "100%|████████████| 395/395 [01:41<00:00,  3.89it/s, loss=0.671703, lr=9.903e-05]\n"
     ]
    },
    {
     "name": "stdout",
     "output_type": "stream",
     "text": [
      "train_loss:0.647282\n"
     ]
    },
    {
     "name": "stderr",
     "output_type": "stream",
     "text": [
      "100%|███████████████████████████████████████████| 50/50 [00:11<00:00,  4.42it/s]\n"
     ]
    },
    {
     "name": "stdout",
     "output_type": "stream",
     "text": [
      "torch.Size([9875, 3])\n",
      "val_loss:0.643170\n",
      "epoch:8, best weighted_logloss updated from 0.746066 to 0.728331\n",
      "rsna-results-3d/best_wll_model_fold-1.pt is saved\n",
      "start epoch 9\n"
     ]
    },
    {
     "name": "stderr",
     "output_type": "stream",
     "text": [
      "100%|████████████| 395/395 [01:41<00:00,  3.89it/s, loss=0.695117, lr=9.827e-05]\n"
     ]
    },
    {
     "name": "stdout",
     "output_type": "stream",
     "text": [
      "train_loss:0.631379\n"
     ]
    },
    {
     "name": "stderr",
     "output_type": "stream",
     "text": [
      "100%|███████████████████████████████████████████| 50/50 [00:11<00:00,  4.41it/s]\n"
     ]
    },
    {
     "name": "stdout",
     "output_type": "stream",
     "text": [
      "torch.Size([9875, 3])\n",
      "val_loss:0.630724\n",
      "epoch:9, best weighted_logloss updated from 0.728331 to 0.714669\n",
      "rsna-results-3d/best_wll_model_fold-1.pt is saved\n",
      "start epoch 10\n"
     ]
    },
    {
     "name": "stderr",
     "output_type": "stream",
     "text": [
      "100%|████████████| 395/395 [01:41<00:00,  3.88it/s, loss=0.876547, lr=9.730e-05]\n"
     ]
    },
    {
     "name": "stdout",
     "output_type": "stream",
     "text": [
      "train_loss:0.621837\n"
     ]
    },
    {
     "name": "stderr",
     "output_type": "stream",
     "text": [
      "100%|███████████████████████████████████████████| 50/50 [00:11<00:00,  4.43it/s]\n"
     ]
    },
    {
     "name": "stdout",
     "output_type": "stream",
     "text": [
      "torch.Size([9875, 3])\n",
      "val_loss:0.626260\n",
      "epoch:10, best weighted_logloss updated from 0.714669 to 0.712115\n",
      "rsna-results-3d/best_wll_model_fold-1.pt is saved\n",
      "start epoch 11\n"
     ]
    },
    {
     "name": "stderr",
     "output_type": "stream",
     "text": [
      "100%|████████████| 395/395 [01:41<00:00,  3.89it/s, loss=0.573527, lr=9.613e-05]\n"
     ]
    },
    {
     "name": "stdout",
     "output_type": "stream",
     "text": [
      "train_loss:0.623769\n"
     ]
    },
    {
     "name": "stderr",
     "output_type": "stream",
     "text": [
      "100%|███████████████████████████████████████████| 50/50 [00:11<00:00,  4.41it/s]\n"
     ]
    },
    {
     "name": "stdout",
     "output_type": "stream",
     "text": [
      "torch.Size([9875, 3])\n",
      "val_loss:0.638075\n",
      "start epoch 12\n"
     ]
    },
    {
     "name": "stderr",
     "output_type": "stream",
     "text": [
      "100%|████████████| 395/395 [01:41<00:00,  3.89it/s, loss=0.691289, lr=9.475e-05]\n"
     ]
    },
    {
     "name": "stdout",
     "output_type": "stream",
     "text": [
      "train_loss:0.615431\n"
     ]
    },
    {
     "name": "stderr",
     "output_type": "stream",
     "text": [
      "100%|███████████████████████████████████████████| 50/50 [00:11<00:00,  4.43it/s]\n"
     ]
    },
    {
     "name": "stdout",
     "output_type": "stream",
     "text": [
      "torch.Size([9875, 3])\n",
      "val_loss:0.661900\n",
      "start epoch 13\n"
     ]
    },
    {
     "name": "stderr",
     "output_type": "stream",
     "text": [
      "100%|████████████| 395/395 [01:41<00:00,  3.89it/s, loss=0.434720, lr=9.318e-05]\n"
     ]
    },
    {
     "name": "stdout",
     "output_type": "stream",
     "text": [
      "train_loss:0.607776\n"
     ]
    },
    {
     "name": "stderr",
     "output_type": "stream",
     "text": [
      "100%|███████████████████████████████████████████| 50/50 [00:11<00:00,  4.38it/s]\n"
     ]
    },
    {
     "name": "stdout",
     "output_type": "stream",
     "text": [
      "torch.Size([9875, 3])\n",
      "val_loss:0.638764\n",
      "start epoch 14\n"
     ]
    },
    {
     "name": "stderr",
     "output_type": "stream",
     "text": [
      "100%|████████████| 395/395 [01:41<00:00,  3.89it/s, loss=0.461289, lr=9.142e-05]\n"
     ]
    },
    {
     "name": "stdout",
     "output_type": "stream",
     "text": [
      "train_loss:0.600182\n"
     ]
    },
    {
     "name": "stderr",
     "output_type": "stream",
     "text": [
      "100%|███████████████████████████████████████████| 50/50 [00:11<00:00,  4.42it/s]\n"
     ]
    },
    {
     "name": "stdout",
     "output_type": "stream",
     "text": [
      "torch.Size([9875, 3])\n",
      "val_loss:0.622259\n",
      "epoch:14, best weighted_logloss updated from 0.712115 to 0.693051\n",
      "rsna-results-3d/best_wll_model_fold-1.pt is saved\n",
      "start epoch 15\n"
     ]
    },
    {
     "name": "stderr",
     "output_type": "stream",
     "text": [
      "100%|████████████| 395/395 [01:41<00:00,  3.88it/s, loss=0.536223, lr=8.947e-05]\n"
     ]
    },
    {
     "name": "stdout",
     "output_type": "stream",
     "text": [
      "train_loss:0.605551\n"
     ]
    },
    {
     "name": "stderr",
     "output_type": "stream",
     "text": [
      "100%|███████████████████████████████████████████| 50/50 [00:11<00:00,  4.41it/s]\n"
     ]
    },
    {
     "name": "stdout",
     "output_type": "stream",
     "text": [
      "torch.Size([9875, 3])\n",
      "val_loss:0.612243\n",
      "start epoch 16\n"
     ]
    },
    {
     "name": "stderr",
     "output_type": "stream",
     "text": [
      "100%|████████████| 395/395 [01:41<00:00,  3.88it/s, loss=0.862646, lr=8.736e-05]\n"
     ]
    },
    {
     "name": "stdout",
     "output_type": "stream",
     "text": [
      "train_loss:0.600896\n"
     ]
    },
    {
     "name": "stderr",
     "output_type": "stream",
     "text": [
      "100%|███████████████████████████████████████████| 50/50 [00:11<00:00,  4.41it/s]\n"
     ]
    },
    {
     "name": "stdout",
     "output_type": "stream",
     "text": [
      "torch.Size([9875, 3])\n",
      "val_loss:0.608094\n",
      "epoch:16, best weighted_logloss updated from 0.693051 to 0.687692\n",
      "rsna-results-3d/best_wll_model_fold-1.pt is saved\n",
      "start epoch 17\n"
     ]
    },
    {
     "name": "stderr",
     "output_type": "stream",
     "text": [
      "100%|████████████| 395/395 [01:41<00:00,  3.89it/s, loss=0.772676, lr=8.508e-05]\n"
     ]
    },
    {
     "name": "stdout",
     "output_type": "stream",
     "text": [
      "train_loss:0.595096\n"
     ]
    },
    {
     "name": "stderr",
     "output_type": "stream",
     "text": [
      "100%|███████████████████████████████████████████| 50/50 [00:11<00:00,  4.41it/s]\n"
     ]
    },
    {
     "name": "stdout",
     "output_type": "stream",
     "text": [
      "torch.Size([9875, 3])\n",
      "val_loss:0.612915\n",
      "epoch:17, best weighted_logloss updated from 0.687692 to 0.686140\n",
      "rsna-results-3d/best_wll_model_fold-1.pt is saved\n",
      "start epoch 18\n"
     ]
    },
    {
     "name": "stderr",
     "output_type": "stream",
     "text": [
      "100%|████████████| 395/395 [01:41<00:00,  3.88it/s, loss=0.583361, lr=8.265e-05]\n"
     ]
    },
    {
     "name": "stdout",
     "output_type": "stream",
     "text": [
      "train_loss:0.594278\n"
     ]
    },
    {
     "name": "stderr",
     "output_type": "stream",
     "text": [
      "100%|███████████████████████████████████████████| 50/50 [00:11<00:00,  4.41it/s]\n"
     ]
    },
    {
     "name": "stdout",
     "output_type": "stream",
     "text": [
      "torch.Size([9875, 3])\n",
      "val_loss:0.603515\n",
      "epoch:18, best weighted_logloss updated from 0.686140 to 0.674875\n",
      "rsna-results-3d/best_wll_model_fold-1.pt is saved\n",
      "start epoch 19\n"
     ]
    },
    {
     "name": "stderr",
     "output_type": "stream",
     "text": [
      "100%|████████████| 395/395 [01:41<00:00,  3.88it/s, loss=0.482621, lr=8.007e-05]\n"
     ]
    },
    {
     "name": "stdout",
     "output_type": "stream",
     "text": [
      "train_loss:0.586618\n"
     ]
    },
    {
     "name": "stderr",
     "output_type": "stream",
     "text": [
      "100%|███████████████████████████████████████████| 50/50 [00:11<00:00,  4.43it/s]\n"
     ]
    },
    {
     "name": "stdout",
     "output_type": "stream",
     "text": [
      "torch.Size([9875, 3])\n",
      "val_loss:0.617073\n",
      "start epoch 20\n"
     ]
    },
    {
     "name": "stderr",
     "output_type": "stream",
     "text": [
      "100%|████████████| 395/395 [01:41<00:00,  3.89it/s, loss=0.496499, lr=7.737e-05]\n"
     ]
    },
    {
     "name": "stdout",
     "output_type": "stream",
     "text": [
      "train_loss:0.583923\n"
     ]
    },
    {
     "name": "stderr",
     "output_type": "stream",
     "text": [
      "100%|███████████████████████████████████████████| 50/50 [00:11<00:00,  4.44it/s]\n"
     ]
    },
    {
     "name": "stdout",
     "output_type": "stream",
     "text": [
      "torch.Size([9875, 3])\n",
      "val_loss:0.612405\n",
      "start epoch 21\n"
     ]
    },
    {
     "name": "stderr",
     "output_type": "stream",
     "text": [
      "100%|████████████| 395/395 [01:41<00:00,  3.89it/s, loss=0.445448, lr=7.454e-05]\n"
     ]
    },
    {
     "name": "stdout",
     "output_type": "stream",
     "text": [
      "train_loss:0.575449\n"
     ]
    },
    {
     "name": "stderr",
     "output_type": "stream",
     "text": [
      "100%|███████████████████████████████████████████| 50/50 [00:11<00:00,  4.39it/s]\n"
     ]
    },
    {
     "name": "stdout",
     "output_type": "stream",
     "text": [
      "torch.Size([9875, 3])\n",
      "val_loss:0.613631\n",
      "start epoch 22\n"
     ]
    },
    {
     "name": "stderr",
     "output_type": "stream",
     "text": [
      "100%|████████████| 395/395 [01:41<00:00,  3.89it/s, loss=0.575262, lr=7.161e-05]\n"
     ]
    },
    {
     "name": "stdout",
     "output_type": "stream",
     "text": [
      "train_loss:0.576672\n"
     ]
    },
    {
     "name": "stderr",
     "output_type": "stream",
     "text": [
      "100%|███████████████████████████████████████████| 50/50 [00:11<00:00,  4.42it/s]\n"
     ]
    },
    {
     "name": "stdout",
     "output_type": "stream",
     "text": [
      "torch.Size([9875, 3])\n",
      "val_loss:0.616701\n",
      "start epoch 23\n"
     ]
    },
    {
     "name": "stderr",
     "output_type": "stream",
     "text": [
      "100%|████████████| 395/395 [01:41<00:00,  3.89it/s, loss=0.823524, lr=6.858e-05]\n"
     ]
    },
    {
     "name": "stdout",
     "output_type": "stream",
     "text": [
      "train_loss:0.574516\n"
     ]
    },
    {
     "name": "stderr",
     "output_type": "stream",
     "text": [
      "100%|███████████████████████████████████████████| 50/50 [00:11<00:00,  4.40it/s]\n"
     ]
    },
    {
     "name": "stdout",
     "output_type": "stream",
     "text": [
      "torch.Size([9875, 3])\n",
      "val_loss:0.601194\n",
      "start epoch 24\n"
     ]
    },
    {
     "name": "stderr",
     "output_type": "stream",
     "text": [
      "100%|████████████| 395/395 [01:41<00:00,  3.88it/s, loss=0.745315, lr=6.547e-05]\n"
     ]
    },
    {
     "name": "stdout",
     "output_type": "stream",
     "text": [
      "train_loss:0.570847\n"
     ]
    },
    {
     "name": "stderr",
     "output_type": "stream",
     "text": [
      "100%|███████████████████████████████████████████| 50/50 [00:11<00:00,  4.42it/s]\n"
     ]
    },
    {
     "name": "stdout",
     "output_type": "stream",
     "text": [
      "torch.Size([9875, 3])\n",
      "val_loss:0.616911\n",
      "start epoch 25\n"
     ]
    },
    {
     "name": "stderr",
     "output_type": "stream",
     "text": [
      "100%|████████████| 395/395 [01:41<00:00,  3.88it/s, loss=0.509232, lr=6.230e-05]\n"
     ]
    },
    {
     "name": "stdout",
     "output_type": "stream",
     "text": [
      "train_loss:0.567576\n"
     ]
    },
    {
     "name": "stderr",
     "output_type": "stream",
     "text": [
      "100%|███████████████████████████████████████████| 50/50 [00:11<00:00,  4.39it/s]\n"
     ]
    },
    {
     "name": "stdout",
     "output_type": "stream",
     "text": [
      "torch.Size([9875, 3])\n",
      "val_loss:0.589489\n",
      "epoch:25, best weighted_logloss updated from 0.674875 to 0.665664\n",
      "rsna-results-3d/best_wll_model_fold-1.pt is saved\n",
      "start epoch 26\n"
     ]
    },
    {
     "name": "stderr",
     "output_type": "stream",
     "text": [
      "100%|████████████| 395/395 [01:41<00:00,  3.88it/s, loss=0.643978, lr=5.906e-05]\n"
     ]
    },
    {
     "name": "stdout",
     "output_type": "stream",
     "text": [
      "train_loss:0.565065\n"
     ]
    },
    {
     "name": "stderr",
     "output_type": "stream",
     "text": [
      "100%|███████████████████████████████████████████| 50/50 [00:11<00:00,  4.37it/s]\n"
     ]
    },
    {
     "name": "stdout",
     "output_type": "stream",
     "text": [
      "torch.Size([9875, 3])\n",
      "val_loss:0.590158\n",
      "epoch:26, best weighted_logloss updated from 0.665664 to 0.662834\n",
      "rsna-results-3d/best_wll_model_fold-1.pt is saved\n",
      "start epoch 27\n"
     ]
    },
    {
     "name": "stderr",
     "output_type": "stream",
     "text": [
      "100%|████████████| 395/395 [01:41<00:00,  3.89it/s, loss=0.545276, lr=5.579e-05]\n"
     ]
    },
    {
     "name": "stdout",
     "output_type": "stream",
     "text": [
      "train_loss:0.558140\n"
     ]
    },
    {
     "name": "stderr",
     "output_type": "stream",
     "text": [
      "100%|███████████████████████████████████████████| 50/50 [00:11<00:00,  4.41it/s]\n"
     ]
    },
    {
     "name": "stdout",
     "output_type": "stream",
     "text": [
      "torch.Size([9875, 3])\n",
      "val_loss:0.608172\n",
      "start epoch 28\n"
     ]
    },
    {
     "name": "stderr",
     "output_type": "stream",
     "text": [
      "100%|████████████| 395/395 [01:41<00:00,  3.88it/s, loss=0.563971, lr=5.250e-05]\n"
     ]
    },
    {
     "name": "stdout",
     "output_type": "stream",
     "text": [
      "train_loss:0.562744\n"
     ]
    },
    {
     "name": "stderr",
     "output_type": "stream",
     "text": [
      "100%|███████████████████████████████████████████| 50/50 [00:11<00:00,  4.35it/s]\n"
     ]
    },
    {
     "name": "stdout",
     "output_type": "stream",
     "text": [
      "torch.Size([9875, 3])\n",
      "val_loss:0.593909\n",
      "start epoch 29\n"
     ]
    },
    {
     "name": "stderr",
     "output_type": "stream",
     "text": [
      "100%|████████████| 395/395 [01:41<00:00,  3.88it/s, loss=0.625885, lr=4.919e-05]\n"
     ]
    },
    {
     "name": "stdout",
     "output_type": "stream",
     "text": [
      "train_loss:0.558370\n"
     ]
    },
    {
     "name": "stderr",
     "output_type": "stream",
     "text": [
      "100%|███████████████████████████████████████████| 50/50 [00:11<00:00,  4.41it/s]\n"
     ]
    },
    {
     "name": "stdout",
     "output_type": "stream",
     "text": [
      "torch.Size([9875, 3])\n",
      "val_loss:0.593378\n",
      "start epoch 30\n"
     ]
    },
    {
     "name": "stderr",
     "output_type": "stream",
     "text": [
      "100%|████████████| 395/395 [01:41<00:00,  3.88it/s, loss=0.430542, lr=4.589e-05]\n"
     ]
    },
    {
     "name": "stdout",
     "output_type": "stream",
     "text": [
      "train_loss:0.555291\n"
     ]
    },
    {
     "name": "stderr",
     "output_type": "stream",
     "text": [
      "100%|███████████████████████████████████████████| 50/50 [00:11<00:00,  4.38it/s]\n"
     ]
    },
    {
     "name": "stdout",
     "output_type": "stream",
     "text": [
      "torch.Size([9875, 3])\n",
      "val_loss:0.600549\n",
      "start epoch 31\n"
     ]
    },
    {
     "name": "stderr",
     "output_type": "stream",
     "text": [
      "100%|████████████| 395/395 [01:41<00:00,  3.88it/s, loss=0.668049, lr=4.260e-05]\n"
     ]
    },
    {
     "name": "stdout",
     "output_type": "stream",
     "text": [
      "train_loss:0.550980\n"
     ]
    },
    {
     "name": "stderr",
     "output_type": "stream",
     "text": [
      "100%|███████████████████████████████████████████| 50/50 [00:11<00:00,  4.39it/s]\n"
     ]
    },
    {
     "name": "stdout",
     "output_type": "stream",
     "text": [
      "torch.Size([9875, 3])\n",
      "val_loss:0.598031\n",
      "start epoch 32\n"
     ]
    },
    {
     "name": "stderr",
     "output_type": "stream",
     "text": [
      "100%|████████████| 395/395 [01:41<00:00,  3.88it/s, loss=0.403414, lr=3.935e-05]\n"
     ]
    },
    {
     "name": "stdout",
     "output_type": "stream",
     "text": [
      "train_loss:0.552278\n"
     ]
    },
    {
     "name": "stderr",
     "output_type": "stream",
     "text": [
      "100%|███████████████████████████████████████████| 50/50 [00:11<00:00,  4.40it/s]\n"
     ]
    },
    {
     "name": "stdout",
     "output_type": "stream",
     "text": [
      "torch.Size([9875, 3])\n",
      "val_loss:0.595797\n",
      "start epoch 33\n"
     ]
    },
    {
     "name": "stderr",
     "output_type": "stream",
     "text": [
      "100%|████████████| 395/395 [01:41<00:00,  3.89it/s, loss=0.626446, lr=3.615e-05]\n"
     ]
    },
    {
     "name": "stdout",
     "output_type": "stream",
     "text": [
      "train_loss:0.554240\n"
     ]
    },
    {
     "name": "stderr",
     "output_type": "stream",
     "text": [
      "100%|███████████████████████████████████████████| 50/50 [00:11<00:00,  4.41it/s]\n"
     ]
    },
    {
     "name": "stdout",
     "output_type": "stream",
     "text": [
      "torch.Size([9875, 3])\n",
      "val_loss:0.592670\n",
      "start epoch 34\n"
     ]
    },
    {
     "name": "stderr",
     "output_type": "stream",
     "text": [
      "100%|████████████| 395/395 [01:41<00:00,  3.88it/s, loss=0.470090, lr=3.300e-05]\n"
     ]
    },
    {
     "name": "stdout",
     "output_type": "stream",
     "text": [
      "train_loss:0.541769\n"
     ]
    },
    {
     "name": "stderr",
     "output_type": "stream",
     "text": [
      "100%|███████████████████████████████████████████| 50/50 [00:11<00:00,  4.37it/s]\n"
     ]
    },
    {
     "name": "stdout",
     "output_type": "stream",
     "text": [
      "torch.Size([9875, 3])\n",
      "val_loss:0.603753\n",
      "start epoch 35\n"
     ]
    },
    {
     "name": "stderr",
     "output_type": "stream",
     "text": [
      "100%|████████████| 395/395 [01:41<00:00,  3.89it/s, loss=0.497423, lr=2.993e-05]\n"
     ]
    },
    {
     "name": "stdout",
     "output_type": "stream",
     "text": [
      "train_loss:0.544775\n"
     ]
    },
    {
     "name": "stderr",
     "output_type": "stream",
     "text": [
      "100%|███████████████████████████████████████████| 50/50 [00:11<00:00,  4.36it/s]\n"
     ]
    },
    {
     "name": "stdout",
     "output_type": "stream",
     "text": [
      "torch.Size([9875, 3])\n",
      "val_loss:0.602141\n",
      "start epoch 36\n"
     ]
    },
    {
     "name": "stderr",
     "output_type": "stream",
     "text": [
      "100%|████████████| 395/395 [01:41<00:00,  3.88it/s, loss=0.765199, lr=2.695e-05]\n"
     ]
    },
    {
     "name": "stdout",
     "output_type": "stream",
     "text": [
      "train_loss:0.537078\n"
     ]
    },
    {
     "name": "stderr",
     "output_type": "stream",
     "text": [
      "100%|███████████████████████████████████████████| 50/50 [00:11<00:00,  4.38it/s]\n"
     ]
    },
    {
     "name": "stdout",
     "output_type": "stream",
     "text": [
      "torch.Size([9875, 3])\n",
      "val_loss:0.595207\n",
      "early stopping\n",
      "##############################\n",
      "Start fold 2\n",
      "##############################\n",
      "1580 395\n"
     ]
    },
    {
     "name": "stderr",
     "output_type": "stream",
     "text": [
      "Using cache found in /home/anton/.cache/torch/hub/facebookresearch_pytorchvideo_main\n"
     ]
    },
    {
     "name": "stdout",
     "output_type": "stream",
     "text": [
      "start epoch 1\n"
     ]
    },
    {
     "name": "stderr",
     "output_type": "stream",
     "text": [
      "100%|████████████| 395/395 [01:41<00:00,  3.89it/s, loss=0.661996, lr=1.996e-05]\n"
     ]
    },
    {
     "name": "stdout",
     "output_type": "stream",
     "text": [
      "train_loss:1.020440\n"
     ]
    },
    {
     "name": "stderr",
     "output_type": "stream",
     "text": [
      "100%|███████████████████████████████████████████| 50/50 [00:11<00:00,  4.38it/s]\n"
     ]
    },
    {
     "name": "stdout",
     "output_type": "stream",
     "text": [
      "torch.Size([9875, 3])\n",
      "val_loss:0.836022\n",
      "epoch:1, best weighted_logloss updated from 1.200000 to 0.926820\n",
      "rsna-results-3d/best_wll_model_fold-2.pt is saved\n",
      "start epoch 2\n"
     ]
    },
    {
     "name": "stderr",
     "output_type": "stream",
     "text": [
      "100%|████████████| 395/395 [01:41<00:00,  3.88it/s, loss=0.633501, lr=3.992e-05]\n"
     ]
    },
    {
     "name": "stdout",
     "output_type": "stream",
     "text": [
      "train_loss:0.756946\n"
     ]
    },
    {
     "name": "stderr",
     "output_type": "stream",
     "text": [
      "100%|███████████████████████████████████████████| 50/50 [00:11<00:00,  4.35it/s]\n"
     ]
    },
    {
     "name": "stdout",
     "output_type": "stream",
     "text": [
      "torch.Size([9875, 3])\n",
      "val_loss:0.760549\n",
      "epoch:2, best weighted_logloss updated from 0.926820 to 0.859822\n",
      "rsna-results-3d/best_wll_model_fold-2.pt is saved\n",
      "start epoch 3\n"
     ]
    },
    {
     "name": "stderr",
     "output_type": "stream",
     "text": [
      "100%|████████████| 395/395 [01:41<00:00,  3.88it/s, loss=0.821517, lr=5.988e-05]\n"
     ]
    },
    {
     "name": "stdout",
     "output_type": "stream",
     "text": [
      "train_loss:0.719193\n"
     ]
    },
    {
     "name": "stderr",
     "output_type": "stream",
     "text": [
      "100%|███████████████████████████████████████████| 50/50 [00:11<00:00,  4.35it/s]\n"
     ]
    },
    {
     "name": "stdout",
     "output_type": "stream",
     "text": [
      "torch.Size([9875, 3])\n",
      "val_loss:0.712045\n",
      "epoch:3, best weighted_logloss updated from 0.859822 to 0.810268\n",
      "rsna-results-3d/best_wll_model_fold-2.pt is saved\n",
      "start epoch 4\n"
     ]
    },
    {
     "name": "stderr",
     "output_type": "stream",
     "text": [
      "100%|████████████| 395/395 [01:41<00:00,  3.88it/s, loss=0.771748, lr=7.984e-05]\n"
     ]
    },
    {
     "name": "stdout",
     "output_type": "stream",
     "text": [
      "train_loss:0.697856\n"
     ]
    },
    {
     "name": "stderr",
     "output_type": "stream",
     "text": [
      "100%|███████████████████████████████████████████| 50/50 [00:11<00:00,  4.38it/s]\n"
     ]
    },
    {
     "name": "stdout",
     "output_type": "stream",
     "text": [
      "torch.Size([9875, 3])\n",
      "val_loss:0.684170\n",
      "epoch:4, best weighted_logloss updated from 0.810268 to 0.778289\n",
      "rsna-results-3d/best_wll_model_fold-2.pt is saved\n",
      "start epoch 5\n"
     ]
    },
    {
     "name": "stderr",
     "output_type": "stream",
     "text": [
      "100%|████████████| 395/395 [01:41<00:00,  3.88it/s, loss=0.494174, lr=9.980e-05]\n"
     ]
    },
    {
     "name": "stdout",
     "output_type": "stream",
     "text": [
      "train_loss:0.677774\n"
     ]
    },
    {
     "name": "stderr",
     "output_type": "stream",
     "text": [
      "100%|███████████████████████████████████████████| 50/50 [00:11<00:00,  4.37it/s]\n"
     ]
    },
    {
     "name": "stdout",
     "output_type": "stream",
     "text": [
      "torch.Size([9875, 3])\n",
      "val_loss:0.731208\n",
      "start epoch 6\n"
     ]
    },
    {
     "name": "stderr",
     "output_type": "stream",
     "text": [
      "100%|████████████| 395/395 [01:41<00:00,  3.89it/s, loss=0.516900, lr=9.989e-05]\n"
     ]
    },
    {
     "name": "stdout",
     "output_type": "stream",
     "text": [
      "train_loss:0.672811\n"
     ]
    },
    {
     "name": "stderr",
     "output_type": "stream",
     "text": [
      "100%|███████████████████████████████████████████| 50/50 [00:11<00:00,  4.38it/s]\n"
     ]
    },
    {
     "name": "stdout",
     "output_type": "stream",
     "text": [
      "torch.Size([9875, 3])\n",
      "val_loss:0.638756\n",
      "epoch:6, best weighted_logloss updated from 0.778289 to 0.723739\n",
      "rsna-results-3d/best_wll_model_fold-2.pt is saved\n",
      "start epoch 7\n"
     ]
    },
    {
     "name": "stderr",
     "output_type": "stream",
     "text": [
      "100%|████████████| 395/395 [01:41<00:00,  3.88it/s, loss=0.375928, lr=9.957e-05]\n"
     ]
    },
    {
     "name": "stdout",
     "output_type": "stream",
     "text": [
      "train_loss:0.660393\n"
     ]
    },
    {
     "name": "stderr",
     "output_type": "stream",
     "text": [
      "100%|███████████████████████████████████████████| 50/50 [00:11<00:00,  4.37it/s]\n"
     ]
    },
    {
     "name": "stdout",
     "output_type": "stream",
     "text": [
      "torch.Size([9875, 3])\n",
      "val_loss:0.623081\n",
      "epoch:7, best weighted_logloss updated from 0.723739 to 0.707000\n",
      "rsna-results-3d/best_wll_model_fold-2.pt is saved\n",
      "start epoch 8\n"
     ]
    },
    {
     "name": "stderr",
     "output_type": "stream",
     "text": [
      "100%|████████████| 395/395 [01:41<00:00,  3.88it/s, loss=0.743630, lr=9.903e-05]\n"
     ]
    },
    {
     "name": "stdout",
     "output_type": "stream",
     "text": [
      "train_loss:0.649152\n"
     ]
    },
    {
     "name": "stderr",
     "output_type": "stream",
     "text": [
      "100%|███████████████████████████████████████████| 50/50 [00:11<00:00,  4.36it/s]\n"
     ]
    },
    {
     "name": "stdout",
     "output_type": "stream",
     "text": [
      "torch.Size([9875, 3])\n",
      "val_loss:0.614372\n",
      "epoch:8, best weighted_logloss updated from 0.707000 to 0.689833\n",
      "rsna-results-3d/best_wll_model_fold-2.pt is saved\n",
      "start epoch 9\n"
     ]
    },
    {
     "name": "stderr",
     "output_type": "stream",
     "text": [
      "100%|████████████| 395/395 [01:41<00:00,  3.89it/s, loss=0.923055, lr=9.827e-05]\n"
     ]
    },
    {
     "name": "stdout",
     "output_type": "stream",
     "text": [
      "train_loss:0.642529\n"
     ]
    },
    {
     "name": "stderr",
     "output_type": "stream",
     "text": [
      "100%|███████████████████████████████████████████| 50/50 [00:11<00:00,  4.36it/s]\n"
     ]
    },
    {
     "name": "stdout",
     "output_type": "stream",
     "text": [
      "torch.Size([9875, 3])\n",
      "val_loss:0.610077\n",
      "start epoch 10\n"
     ]
    },
    {
     "name": "stderr",
     "output_type": "stream",
     "text": [
      "100%|████████████| 395/395 [01:41<00:00,  3.88it/s, loss=0.449242, lr=9.730e-05]\n"
     ]
    },
    {
     "name": "stdout",
     "output_type": "stream",
     "text": [
      "train_loss:0.631870\n"
     ]
    },
    {
     "name": "stderr",
     "output_type": "stream",
     "text": [
      "100%|███████████████████████████████████████████| 50/50 [00:11<00:00,  4.38it/s]\n"
     ]
    },
    {
     "name": "stdout",
     "output_type": "stream",
     "text": [
      "torch.Size([9875, 3])\n",
      "val_loss:0.618418\n",
      "start epoch 11\n"
     ]
    },
    {
     "name": "stderr",
     "output_type": "stream",
     "text": [
      "100%|████████████| 395/395 [01:41<00:00,  3.88it/s, loss=0.574821, lr=9.613e-05]\n"
     ]
    },
    {
     "name": "stdout",
     "output_type": "stream",
     "text": [
      "train_loss:0.626210\n"
     ]
    },
    {
     "name": "stderr",
     "output_type": "stream",
     "text": [
      "100%|███████████████████████████████████████████| 50/50 [00:11<00:00,  4.40it/s]\n"
     ]
    },
    {
     "name": "stdout",
     "output_type": "stream",
     "text": [
      "torch.Size([9875, 3])\n",
      "val_loss:0.602185\n",
      "epoch:11, best weighted_logloss updated from 0.689833 to 0.685846\n",
      "rsna-results-3d/best_wll_model_fold-2.pt is saved\n",
      "start epoch 12\n"
     ]
    },
    {
     "name": "stderr",
     "output_type": "stream",
     "text": [
      "100%|████████████| 395/395 [01:41<00:00,  3.88it/s, loss=0.530578, lr=9.475e-05]\n"
     ]
    },
    {
     "name": "stdout",
     "output_type": "stream",
     "text": [
      "train_loss:0.619462\n"
     ]
    },
    {
     "name": "stderr",
     "output_type": "stream",
     "text": [
      "100%|███████████████████████████████████████████| 50/50 [00:11<00:00,  4.36it/s]\n"
     ]
    },
    {
     "name": "stdout",
     "output_type": "stream",
     "text": [
      "torch.Size([9875, 3])\n",
      "val_loss:0.594090\n",
      "epoch:12, best weighted_logloss updated from 0.685846 to 0.670938\n",
      "rsna-results-3d/best_wll_model_fold-2.pt is saved\n",
      "start epoch 13\n"
     ]
    },
    {
     "name": "stderr",
     "output_type": "stream",
     "text": [
      "100%|████████████| 395/395 [01:41<00:00,  3.88it/s, loss=0.744468, lr=9.318e-05]\n"
     ]
    },
    {
     "name": "stdout",
     "output_type": "stream",
     "text": [
      "train_loss:0.614694\n"
     ]
    },
    {
     "name": "stderr",
     "output_type": "stream",
     "text": [
      "100%|███████████████████████████████████████████| 50/50 [00:11<00:00,  4.37it/s]\n"
     ]
    },
    {
     "name": "stdout",
     "output_type": "stream",
     "text": [
      "torch.Size([9875, 3])\n",
      "val_loss:0.598859\n",
      "start epoch 14\n"
     ]
    },
    {
     "name": "stderr",
     "output_type": "stream",
     "text": [
      "100%|████████████| 395/395 [01:41<00:00,  3.88it/s, loss=0.521136, lr=9.142e-05]\n"
     ]
    },
    {
     "name": "stdout",
     "output_type": "stream",
     "text": [
      "train_loss:0.614461\n"
     ]
    },
    {
     "name": "stderr",
     "output_type": "stream",
     "text": [
      "100%|███████████████████████████████████████████| 50/50 [00:11<00:00,  4.37it/s]\n"
     ]
    },
    {
     "name": "stdout",
     "output_type": "stream",
     "text": [
      "torch.Size([9875, 3])\n",
      "val_loss:0.593416\n",
      "start epoch 15\n"
     ]
    },
    {
     "name": "stderr",
     "output_type": "stream",
     "text": [
      "100%|████████████| 395/395 [01:41<00:00,  3.88it/s, loss=0.591726, lr=8.947e-05]\n"
     ]
    },
    {
     "name": "stdout",
     "output_type": "stream",
     "text": [
      "train_loss:0.605766\n"
     ]
    },
    {
     "name": "stderr",
     "output_type": "stream",
     "text": [
      "100%|███████████████████████████████████████████| 50/50 [00:11<00:00,  4.38it/s]\n"
     ]
    },
    {
     "name": "stdout",
     "output_type": "stream",
     "text": [
      "torch.Size([9875, 3])\n",
      "val_loss:0.586768\n",
      "epoch:15, best weighted_logloss updated from 0.670938 to 0.669035\n",
      "rsna-results-3d/best_wll_model_fold-2.pt is saved\n",
      "start epoch 16\n"
     ]
    },
    {
     "name": "stderr",
     "output_type": "stream",
     "text": [
      "100%|████████████| 395/395 [01:41<00:00,  3.88it/s, loss=0.512420, lr=8.736e-05]\n"
     ]
    },
    {
     "name": "stdout",
     "output_type": "stream",
     "text": [
      "train_loss:0.601193\n"
     ]
    },
    {
     "name": "stderr",
     "output_type": "stream",
     "text": [
      "100%|███████████████████████████████████████████| 50/50 [00:11<00:00,  4.38it/s]\n"
     ]
    },
    {
     "name": "stdout",
     "output_type": "stream",
     "text": [
      "torch.Size([9875, 3])\n",
      "val_loss:0.580638\n",
      "epoch:16, best weighted_logloss updated from 0.669035 to 0.655635\n",
      "rsna-results-3d/best_wll_model_fold-2.pt is saved\n",
      "start epoch 17\n"
     ]
    },
    {
     "name": "stderr",
     "output_type": "stream",
     "text": [
      "100%|████████████| 395/395 [01:41<00:00,  3.88it/s, loss=0.520959, lr=8.508e-05]\n"
     ]
    },
    {
     "name": "stdout",
     "output_type": "stream",
     "text": [
      "train_loss:0.600228\n"
     ]
    },
    {
     "name": "stderr",
     "output_type": "stream",
     "text": [
      "100%|███████████████████████████████████████████| 50/50 [00:11<00:00,  4.36it/s]\n"
     ]
    },
    {
     "name": "stdout",
     "output_type": "stream",
     "text": [
      "torch.Size([9875, 3])\n",
      "val_loss:0.598073\n",
      "start epoch 18\n"
     ]
    },
    {
     "name": "stderr",
     "output_type": "stream",
     "text": [
      "100%|████████████| 395/395 [01:41<00:00,  3.89it/s, loss=0.315098, lr=8.265e-05]\n"
     ]
    },
    {
     "name": "stdout",
     "output_type": "stream",
     "text": [
      "train_loss:0.593720\n"
     ]
    },
    {
     "name": "stderr",
     "output_type": "stream",
     "text": [
      "100%|███████████████████████████████████████████| 50/50 [00:11<00:00,  4.35it/s]\n"
     ]
    },
    {
     "name": "stdout",
     "output_type": "stream",
     "text": [
      "torch.Size([9875, 3])\n",
      "val_loss:0.584309\n",
      "start epoch 19\n"
     ]
    },
    {
     "name": "stderr",
     "output_type": "stream",
     "text": [
      "100%|████████████| 395/395 [01:41<00:00,  3.88it/s, loss=0.810358, lr=8.007e-05]\n"
     ]
    },
    {
     "name": "stdout",
     "output_type": "stream",
     "text": [
      "train_loss:0.590774\n"
     ]
    },
    {
     "name": "stderr",
     "output_type": "stream",
     "text": [
      "100%|███████████████████████████████████████████| 50/50 [00:11<00:00,  4.34it/s]\n"
     ]
    },
    {
     "name": "stdout",
     "output_type": "stream",
     "text": [
      "torch.Size([9875, 3])\n",
      "val_loss:0.586887\n",
      "start epoch 20\n"
     ]
    },
    {
     "name": "stderr",
     "output_type": "stream",
     "text": [
      "100%|████████████| 395/395 [01:41<00:00,  3.88it/s, loss=0.664163, lr=7.737e-05]\n"
     ]
    },
    {
     "name": "stdout",
     "output_type": "stream",
     "text": [
      "train_loss:0.590447\n"
     ]
    },
    {
     "name": "stderr",
     "output_type": "stream",
     "text": [
      "100%|███████████████████████████████████████████| 50/50 [00:11<00:00,  4.33it/s]\n"
     ]
    },
    {
     "name": "stdout",
     "output_type": "stream",
     "text": [
      "torch.Size([9875, 3])\n",
      "val_loss:0.572163\n",
      "epoch:20, best weighted_logloss updated from 0.655635 to 0.646137\n",
      "rsna-results-3d/best_wll_model_fold-2.pt is saved\n",
      "start epoch 21\n"
     ]
    },
    {
     "name": "stderr",
     "output_type": "stream",
     "text": [
      "100%|████████████| 395/395 [01:41<00:00,  3.88it/s, loss=0.535433, lr=7.454e-05]\n"
     ]
    },
    {
     "name": "stdout",
     "output_type": "stream",
     "text": [
      "train_loss:0.585120\n"
     ]
    },
    {
     "name": "stderr",
     "output_type": "stream",
     "text": [
      "100%|███████████████████████████████████████████| 50/50 [00:11<00:00,  4.35it/s]\n"
     ]
    },
    {
     "name": "stdout",
     "output_type": "stream",
     "text": [
      "torch.Size([9875, 3])\n",
      "val_loss:0.569686\n",
      "epoch:21, best weighted_logloss updated from 0.646137 to 0.641162\n",
      "rsna-results-3d/best_wll_model_fold-2.pt is saved\n",
      "start epoch 22\n"
     ]
    },
    {
     "name": "stderr",
     "output_type": "stream",
     "text": [
      "100%|████████████| 395/395 [01:41<00:00,  3.88it/s, loss=0.936206, lr=7.161e-05]\n"
     ]
    },
    {
     "name": "stdout",
     "output_type": "stream",
     "text": [
      "train_loss:0.579212\n"
     ]
    },
    {
     "name": "stderr",
     "output_type": "stream",
     "text": [
      "100%|███████████████████████████████████████████| 50/50 [00:11<00:00,  4.37it/s]\n"
     ]
    },
    {
     "name": "stdout",
     "output_type": "stream",
     "text": [
      "torch.Size([9875, 3])\n",
      "val_loss:0.579194\n",
      "start epoch 23\n"
     ]
    },
    {
     "name": "stderr",
     "output_type": "stream",
     "text": [
      "100%|████████████| 395/395 [01:41<00:00,  3.88it/s, loss=0.531823, lr=6.858e-05]\n"
     ]
    },
    {
     "name": "stdout",
     "output_type": "stream",
     "text": [
      "train_loss:0.572379\n"
     ]
    },
    {
     "name": "stderr",
     "output_type": "stream",
     "text": [
      "100%|███████████████████████████████████████████| 50/50 [00:11<00:00,  4.33it/s]\n"
     ]
    },
    {
     "name": "stdout",
     "output_type": "stream",
     "text": [
      "torch.Size([9875, 3])\n",
      "val_loss:0.595147\n",
      "start epoch 24\n"
     ]
    },
    {
     "name": "stderr",
     "output_type": "stream",
     "text": [
      "100%|████████████| 395/395 [01:41<00:00,  3.88it/s, loss=0.684867, lr=6.547e-05]\n"
     ]
    },
    {
     "name": "stdout",
     "output_type": "stream",
     "text": [
      "train_loss:0.574515\n"
     ]
    },
    {
     "name": "stderr",
     "output_type": "stream",
     "text": [
      "100%|███████████████████████████████████████████| 50/50 [00:11<00:00,  4.37it/s]\n"
     ]
    },
    {
     "name": "stdout",
     "output_type": "stream",
     "text": [
      "torch.Size([9875, 3])\n",
      "val_loss:0.570707\n",
      "start epoch 25\n"
     ]
    },
    {
     "name": "stderr",
     "output_type": "stream",
     "text": [
      "100%|████████████| 395/395 [01:41<00:00,  3.88it/s, loss=0.557512, lr=6.230e-05]\n"
     ]
    },
    {
     "name": "stdout",
     "output_type": "stream",
     "text": [
      "train_loss:0.569972\n"
     ]
    },
    {
     "name": "stderr",
     "output_type": "stream",
     "text": [
      "100%|███████████████████████████████████████████| 50/50 [00:11<00:00,  4.36it/s]\n"
     ]
    },
    {
     "name": "stdout",
     "output_type": "stream",
     "text": [
      "torch.Size([9875, 3])\n",
      "val_loss:0.574495\n",
      "start epoch 26\n"
     ]
    },
    {
     "name": "stderr",
     "output_type": "stream",
     "text": [
      "100%|████████████| 395/395 [01:41<00:00,  3.88it/s, loss=0.509887, lr=5.906e-05]\n"
     ]
    },
    {
     "name": "stdout",
     "output_type": "stream",
     "text": [
      "train_loss:0.572907\n"
     ]
    },
    {
     "name": "stderr",
     "output_type": "stream",
     "text": [
      "100%|███████████████████████████████████████████| 50/50 [00:11<00:00,  4.37it/s]\n"
     ]
    },
    {
     "name": "stdout",
     "output_type": "stream",
     "text": [
      "torch.Size([9875, 3])\n",
      "val_loss:0.587009\n",
      "start epoch 27\n"
     ]
    },
    {
     "name": "stderr",
     "output_type": "stream",
     "text": [
      "100%|████████████| 395/395 [01:41<00:00,  3.88it/s, loss=0.515988, lr=5.579e-05]\n"
     ]
    },
    {
     "name": "stdout",
     "output_type": "stream",
     "text": [
      "train_loss:0.565507\n"
     ]
    },
    {
     "name": "stderr",
     "output_type": "stream",
     "text": [
      "100%|███████████████████████████████████████████| 50/50 [00:11<00:00,  4.39it/s]\n"
     ]
    },
    {
     "name": "stdout",
     "output_type": "stream",
     "text": [
      "torch.Size([9875, 3])\n",
      "val_loss:0.574127\n",
      "start epoch 28\n"
     ]
    },
    {
     "name": "stderr",
     "output_type": "stream",
     "text": [
      "100%|████████████| 395/395 [01:41<00:00,  3.88it/s, loss=0.540445, lr=5.250e-05]\n"
     ]
    },
    {
     "name": "stdout",
     "output_type": "stream",
     "text": [
      "train_loss:0.566517\n"
     ]
    },
    {
     "name": "stderr",
     "output_type": "stream",
     "text": [
      "100%|███████████████████████████████████████████| 50/50 [00:11<00:00,  4.39it/s]\n"
     ]
    },
    {
     "name": "stdout",
     "output_type": "stream",
     "text": [
      "torch.Size([9875, 3])\n",
      "val_loss:0.571956\n",
      "start epoch 29\n"
     ]
    },
    {
     "name": "stderr",
     "output_type": "stream",
     "text": [
      "100%|████████████| 395/395 [01:41<00:00,  3.88it/s, loss=0.570723, lr=4.919e-05]\n"
     ]
    },
    {
     "name": "stdout",
     "output_type": "stream",
     "text": [
      "train_loss:0.556784\n"
     ]
    },
    {
     "name": "stderr",
     "output_type": "stream",
     "text": [
      "100%|███████████████████████████████████████████| 50/50 [00:11<00:00,  4.37it/s]\n"
     ]
    },
    {
     "name": "stdout",
     "output_type": "stream",
     "text": [
      "torch.Size([9875, 3])\n",
      "val_loss:0.575092\n",
      "start epoch 30\n"
     ]
    },
    {
     "name": "stderr",
     "output_type": "stream",
     "text": [
      "100%|████████████| 395/395 [01:41<00:00,  3.88it/s, loss=0.565827, lr=4.589e-05]\n"
     ]
    },
    {
     "name": "stdout",
     "output_type": "stream",
     "text": [
      "train_loss:0.558260\n"
     ]
    },
    {
     "name": "stderr",
     "output_type": "stream",
     "text": [
      "100%|███████████████████████████████████████████| 50/50 [00:11<00:00,  4.35it/s]\n"
     ]
    },
    {
     "name": "stdout",
     "output_type": "stream",
     "text": [
      "torch.Size([9875, 3])\n",
      "val_loss:0.577425\n",
      "start epoch 31\n"
     ]
    },
    {
     "name": "stderr",
     "output_type": "stream",
     "text": [
      "100%|████████████| 395/395 [01:41<00:00,  3.88it/s, loss=0.843714, lr=4.260e-05]\n"
     ]
    },
    {
     "name": "stdout",
     "output_type": "stream",
     "text": [
      "train_loss:0.560648\n"
     ]
    },
    {
     "name": "stderr",
     "output_type": "stream",
     "text": [
      "100%|███████████████████████████████████████████| 50/50 [00:11<00:00,  4.35it/s]\n"
     ]
    },
    {
     "name": "stdout",
     "output_type": "stream",
     "text": [
      "torch.Size([9875, 3])\n",
      "val_loss:0.573976\n",
      "early stopping\n",
      "##############################\n",
      "Start fold 3\n",
      "##############################\n",
      "1580 395\n"
     ]
    },
    {
     "name": "stderr",
     "output_type": "stream",
     "text": [
      "Using cache found in /home/anton/.cache/torch/hub/facebookresearch_pytorchvideo_main\n"
     ]
    },
    {
     "name": "stdout",
     "output_type": "stream",
     "text": [
      "start epoch 1\n"
     ]
    },
    {
     "name": "stderr",
     "output_type": "stream",
     "text": [
      "100%|████████████| 395/395 [01:41<00:00,  3.88it/s, loss=0.577667, lr=1.996e-05]\n"
     ]
    },
    {
     "name": "stdout",
     "output_type": "stream",
     "text": [
      "train_loss:1.053637\n"
     ]
    },
    {
     "name": "stderr",
     "output_type": "stream",
     "text": [
      "100%|███████████████████████████████████████████| 50/50 [00:11<00:00,  4.39it/s]\n"
     ]
    },
    {
     "name": "stdout",
     "output_type": "stream",
     "text": [
      "torch.Size([9875, 3])\n",
      "val_loss:0.852147\n",
      "epoch:1, best weighted_logloss updated from 1.200000 to 0.939416\n",
      "rsna-results-3d/best_wll_model_fold-3.pt is saved\n",
      "start epoch 2\n"
     ]
    },
    {
     "name": "stderr",
     "output_type": "stream",
     "text": [
      "100%|████████████| 395/395 [01:41<00:00,  3.88it/s, loss=0.612697, lr=3.992e-05]\n"
     ]
    },
    {
     "name": "stdout",
     "output_type": "stream",
     "text": [
      "train_loss:0.753180\n"
     ]
    },
    {
     "name": "stderr",
     "output_type": "stream",
     "text": [
      "100%|███████████████████████████████████████████| 50/50 [00:11<00:00,  4.36it/s]\n"
     ]
    },
    {
     "name": "stdout",
     "output_type": "stream",
     "text": [
      "torch.Size([9875, 3])\n",
      "val_loss:0.786638\n",
      "epoch:2, best weighted_logloss updated from 0.939416 to 0.890320\n",
      "rsna-results-3d/best_wll_model_fold-3.pt is saved\n",
      "start epoch 3\n"
     ]
    },
    {
     "name": "stderr",
     "output_type": "stream",
     "text": [
      "100%|████████████| 395/395 [01:41<00:00,  3.88it/s, loss=0.530346, lr=5.988e-05]\n"
     ]
    },
    {
     "name": "stdout",
     "output_type": "stream",
     "text": [
      "train_loss:0.716494\n"
     ]
    },
    {
     "name": "stderr",
     "output_type": "stream",
     "text": [
      "100%|███████████████████████████████████████████| 50/50 [00:11<00:00,  4.37it/s]\n"
     ]
    },
    {
     "name": "stdout",
     "output_type": "stream",
     "text": [
      "torch.Size([9875, 3])\n",
      "val_loss:0.710454\n",
      "epoch:3, best weighted_logloss updated from 0.890320 to 0.793976\n",
      "rsna-results-3d/best_wll_model_fold-3.pt is saved\n",
      "start epoch 4\n"
     ]
    },
    {
     "name": "stderr",
     "output_type": "stream",
     "text": [
      "100%|████████████| 395/395 [01:41<00:00,  3.88it/s, loss=0.744381, lr=7.984e-05]\n"
     ]
    },
    {
     "name": "stdout",
     "output_type": "stream",
     "text": [
      "train_loss:0.691653\n"
     ]
    },
    {
     "name": "stderr",
     "output_type": "stream",
     "text": [
      "100%|███████████████████████████████████████████| 50/50 [00:11<00:00,  4.37it/s]\n"
     ]
    },
    {
     "name": "stdout",
     "output_type": "stream",
     "text": [
      "torch.Size([9875, 3])\n",
      "val_loss:0.713956\n",
      "start epoch 5\n"
     ]
    },
    {
     "name": "stderr",
     "output_type": "stream",
     "text": [
      "100%|████████████| 395/395 [01:41<00:00,  3.88it/s, loss=0.673553, lr=9.980e-05]\n"
     ]
    },
    {
     "name": "stdout",
     "output_type": "stream",
     "text": [
      "train_loss:0.677459\n"
     ]
    },
    {
     "name": "stderr",
     "output_type": "stream",
     "text": [
      "100%|███████████████████████████████████████████| 50/50 [00:11<00:00,  4.35it/s]\n"
     ]
    },
    {
     "name": "stdout",
     "output_type": "stream",
     "text": [
      "torch.Size([9875, 3])\n",
      "val_loss:0.778005\n",
      "start epoch 6\n"
     ]
    },
    {
     "name": "stderr",
     "output_type": "stream",
     "text": [
      "100%|████████████| 395/395 [01:41<00:00,  3.88it/s, loss=0.860732, lr=9.989e-05]\n"
     ]
    },
    {
     "name": "stdout",
     "output_type": "stream",
     "text": [
      "train_loss:0.661080\n"
     ]
    },
    {
     "name": "stderr",
     "output_type": "stream",
     "text": [
      "100%|███████████████████████████████████████████| 50/50 [00:11<00:00,  4.37it/s]\n"
     ]
    },
    {
     "name": "stdout",
     "output_type": "stream",
     "text": [
      "torch.Size([9875, 3])\n",
      "val_loss:0.690941\n",
      "epoch:6, best weighted_logloss updated from 0.793976 to 0.785875\n",
      "rsna-results-3d/best_wll_model_fold-3.pt is saved\n",
      "start epoch 7\n"
     ]
    },
    {
     "name": "stderr",
     "output_type": "stream",
     "text": [
      "100%|████████████| 395/395 [01:41<00:00,  3.87it/s, loss=0.590959, lr=9.957e-05]\n"
     ]
    },
    {
     "name": "stdout",
     "output_type": "stream",
     "text": [
      "train_loss:0.654193\n"
     ]
    },
    {
     "name": "stderr",
     "output_type": "stream",
     "text": [
      "100%|███████████████████████████████████████████| 50/50 [00:11<00:00,  4.35it/s]\n"
     ]
    },
    {
     "name": "stdout",
     "output_type": "stream",
     "text": [
      "torch.Size([9875, 3])\n",
      "val_loss:0.650632\n",
      "epoch:7, best weighted_logloss updated from 0.785875 to 0.720821\n",
      "rsna-results-3d/best_wll_model_fold-3.pt is saved\n",
      "start epoch 8\n"
     ]
    },
    {
     "name": "stderr",
     "output_type": "stream",
     "text": [
      "100%|████████████| 395/395 [01:41<00:00,  3.88it/s, loss=0.414573, lr=9.903e-05]\n"
     ]
    },
    {
     "name": "stdout",
     "output_type": "stream",
     "text": [
      "train_loss:0.640358\n"
     ]
    },
    {
     "name": "stderr",
     "output_type": "stream",
     "text": [
      "100%|███████████████████████████████████████████| 50/50 [00:11<00:00,  4.33it/s]\n"
     ]
    },
    {
     "name": "stdout",
     "output_type": "stream",
     "text": [
      "torch.Size([9875, 3])\n",
      "val_loss:0.686250\n",
      "start epoch 9\n"
     ]
    },
    {
     "name": "stderr",
     "output_type": "stream",
     "text": [
      "100%|████████████| 395/395 [01:41<00:00,  3.88it/s, loss=0.588033, lr=9.827e-05]\n"
     ]
    },
    {
     "name": "stdout",
     "output_type": "stream",
     "text": [
      "train_loss:0.637138\n"
     ]
    },
    {
     "name": "stderr",
     "output_type": "stream",
     "text": [
      "100%|███████████████████████████████████████████| 50/50 [00:11<00:00,  4.34it/s]\n"
     ]
    },
    {
     "name": "stdout",
     "output_type": "stream",
     "text": [
      "torch.Size([9875, 3])\n",
      "val_loss:0.647472\n",
      "start epoch 10\n"
     ]
    },
    {
     "name": "stderr",
     "output_type": "stream",
     "text": [
      "100%|████████████| 395/395 [01:41<00:00,  3.88it/s, loss=0.581872, lr=9.730e-05]\n"
     ]
    },
    {
     "name": "stdout",
     "output_type": "stream",
     "text": [
      "train_loss:0.625699\n"
     ]
    },
    {
     "name": "stderr",
     "output_type": "stream",
     "text": [
      "100%|███████████████████████████████████████████| 50/50 [00:11<00:00,  4.36it/s]\n"
     ]
    },
    {
     "name": "stdout",
     "output_type": "stream",
     "text": [
      "torch.Size([9875, 3])\n",
      "val_loss:0.655279\n",
      "start epoch 11\n"
     ]
    },
    {
     "name": "stderr",
     "output_type": "stream",
     "text": [
      "100%|████████████| 395/395 [01:41<00:00,  3.88it/s, loss=0.662335, lr=9.613e-05]\n"
     ]
    },
    {
     "name": "stdout",
     "output_type": "stream",
     "text": [
      "train_loss:0.622462\n"
     ]
    },
    {
     "name": "stderr",
     "output_type": "stream",
     "text": [
      "100%|███████████████████████████████████████████| 50/50 [00:11<00:00,  4.35it/s]\n"
     ]
    },
    {
     "name": "stdout",
     "output_type": "stream",
     "text": [
      "torch.Size([9875, 3])\n",
      "val_loss:0.650474\n",
      "epoch:11, best weighted_logloss updated from 0.720821 to 0.714135\n",
      "rsna-results-3d/best_wll_model_fold-3.pt is saved\n",
      "start epoch 12\n"
     ]
    },
    {
     "name": "stderr",
     "output_type": "stream",
     "text": [
      "100%|████████████| 395/395 [01:41<00:00,  3.88it/s, loss=0.365838, lr=9.475e-05]\n"
     ]
    },
    {
     "name": "stdout",
     "output_type": "stream",
     "text": [
      "train_loss:0.611429\n"
     ]
    },
    {
     "name": "stderr",
     "output_type": "stream",
     "text": [
      "100%|███████████████████████████████████████████| 50/50 [00:11<00:00,  4.36it/s]\n"
     ]
    },
    {
     "name": "stdout",
     "output_type": "stream",
     "text": [
      "torch.Size([9875, 3])\n",
      "val_loss:0.642768\n",
      "epoch:12, best weighted_logloss updated from 0.714135 to 0.710879\n",
      "rsna-results-3d/best_wll_model_fold-3.pt is saved\n",
      "start epoch 13\n"
     ]
    },
    {
     "name": "stderr",
     "output_type": "stream",
     "text": [
      "100%|████████████| 395/395 [01:41<00:00,  3.88it/s, loss=0.439176, lr=9.318e-05]\n"
     ]
    },
    {
     "name": "stdout",
     "output_type": "stream",
     "text": [
      "train_loss:0.608532\n"
     ]
    },
    {
     "name": "stderr",
     "output_type": "stream",
     "text": [
      "100%|███████████████████████████████████████████| 50/50 [00:11<00:00,  4.38it/s]\n"
     ]
    },
    {
     "name": "stdout",
     "output_type": "stream",
     "text": [
      "torch.Size([9875, 3])\n",
      "val_loss:0.635148\n",
      "epoch:13, best weighted_logloss updated from 0.710879 to 0.707411\n",
      "rsna-results-3d/best_wll_model_fold-3.pt is saved\n",
      "start epoch 14\n"
     ]
    },
    {
     "name": "stderr",
     "output_type": "stream",
     "text": [
      "100%|████████████| 395/395 [01:41<00:00,  3.89it/s, loss=0.796674, lr=9.142e-05]\n"
     ]
    },
    {
     "name": "stdout",
     "output_type": "stream",
     "text": [
      "train_loss:0.603269\n"
     ]
    },
    {
     "name": "stderr",
     "output_type": "stream",
     "text": [
      "100%|███████████████████████████████████████████| 50/50 [00:11<00:00,  4.38it/s]\n"
     ]
    },
    {
     "name": "stdout",
     "output_type": "stream",
     "text": [
      "torch.Size([9875, 3])\n",
      "val_loss:0.636924\n",
      "start epoch 15\n"
     ]
    },
    {
     "name": "stderr",
     "output_type": "stream",
     "text": [
      "100%|████████████| 395/395 [01:41<00:00,  3.88it/s, loss=0.340945, lr=8.947e-05]\n"
     ]
    },
    {
     "name": "stdout",
     "output_type": "stream",
     "text": [
      "train_loss:0.599948\n"
     ]
    },
    {
     "name": "stderr",
     "output_type": "stream",
     "text": [
      "100%|███████████████████████████████████████████| 50/50 [00:11<00:00,  4.35it/s]\n"
     ]
    },
    {
     "name": "stdout",
     "output_type": "stream",
     "text": [
      "torch.Size([9875, 3])\n",
      "val_loss:0.644883\n",
      "start epoch 16\n"
     ]
    },
    {
     "name": "stderr",
     "output_type": "stream",
     "text": [
      "100%|████████████| 395/395 [01:41<00:00,  3.89it/s, loss=0.395938, lr=8.736e-05]\n"
     ]
    },
    {
     "name": "stdout",
     "output_type": "stream",
     "text": [
      "train_loss:0.594981\n"
     ]
    },
    {
     "name": "stderr",
     "output_type": "stream",
     "text": [
      "100%|███████████████████████████████████████████| 50/50 [00:11<00:00,  4.39it/s]\n"
     ]
    },
    {
     "name": "stdout",
     "output_type": "stream",
     "text": [
      "torch.Size([9875, 3])\n",
      "val_loss:0.633409\n",
      "start epoch 17\n"
     ]
    },
    {
     "name": "stderr",
     "output_type": "stream",
     "text": [
      "100%|████████████| 395/395 [01:41<00:00,  3.88it/s, loss=0.622970, lr=8.508e-05]\n"
     ]
    },
    {
     "name": "stdout",
     "output_type": "stream",
     "text": [
      "train_loss:0.595830\n"
     ]
    },
    {
     "name": "stderr",
     "output_type": "stream",
     "text": [
      "100%|███████████████████████████████████████████| 50/50 [00:11<00:00,  4.39it/s]\n"
     ]
    },
    {
     "name": "stdout",
     "output_type": "stream",
     "text": [
      "torch.Size([9875, 3])\n",
      "val_loss:0.622037\n",
      "epoch:17, best weighted_logloss updated from 0.707411 to 0.689161\n",
      "rsna-results-3d/best_wll_model_fold-3.pt is saved\n",
      "start epoch 18\n"
     ]
    },
    {
     "name": "stderr",
     "output_type": "stream",
     "text": [
      "100%|████████████| 395/395 [01:41<00:00,  3.88it/s, loss=0.863402, lr=8.265e-05]\n"
     ]
    },
    {
     "name": "stdout",
     "output_type": "stream",
     "text": [
      "train_loss:0.588978\n"
     ]
    },
    {
     "name": "stderr",
     "output_type": "stream",
     "text": [
      "100%|███████████████████████████████████████████| 50/50 [00:11<00:00,  4.39it/s]\n"
     ]
    },
    {
     "name": "stdout",
     "output_type": "stream",
     "text": [
      "torch.Size([9875, 3])\n",
      "val_loss:0.614211\n",
      "epoch:18, best weighted_logloss updated from 0.689161 to 0.683467\n",
      "rsna-results-3d/best_wll_model_fold-3.pt is saved\n",
      "start epoch 19\n"
     ]
    },
    {
     "name": "stderr",
     "output_type": "stream",
     "text": [
      "100%|████████████| 395/395 [01:41<00:00,  3.88it/s, loss=0.780040, lr=8.007e-05]\n"
     ]
    },
    {
     "name": "stdout",
     "output_type": "stream",
     "text": [
      "train_loss:0.587333\n"
     ]
    },
    {
     "name": "stderr",
     "output_type": "stream",
     "text": [
      "100%|███████████████████████████████████████████| 50/50 [00:11<00:00,  4.37it/s]\n"
     ]
    },
    {
     "name": "stdout",
     "output_type": "stream",
     "text": [
      "torch.Size([9875, 3])\n",
      "val_loss:0.612942\n",
      "epoch:19, best weighted_logloss updated from 0.683467 to 0.676610\n",
      "rsna-results-3d/best_wll_model_fold-3.pt is saved\n",
      "start epoch 20\n"
     ]
    },
    {
     "name": "stderr",
     "output_type": "stream",
     "text": [
      "100%|████████████| 395/395 [01:41<00:00,  3.88it/s, loss=0.352454, lr=7.737e-05]\n"
     ]
    },
    {
     "name": "stdout",
     "output_type": "stream",
     "text": [
      "train_loss:0.587557\n"
     ]
    },
    {
     "name": "stderr",
     "output_type": "stream",
     "text": [
      "100%|███████████████████████████████████████████| 50/50 [00:11<00:00,  4.33it/s]\n"
     ]
    },
    {
     "name": "stdout",
     "output_type": "stream",
     "text": [
      "torch.Size([9875, 3])\n",
      "val_loss:0.630425\n",
      "start epoch 21\n"
     ]
    },
    {
     "name": "stderr",
     "output_type": "stream",
     "text": [
      "100%|████████████| 395/395 [01:41<00:00,  3.88it/s, loss=0.548659, lr=7.454e-05]\n"
     ]
    },
    {
     "name": "stdout",
     "output_type": "stream",
     "text": [
      "train_loss:0.579496\n"
     ]
    },
    {
     "name": "stderr",
     "output_type": "stream",
     "text": [
      "100%|███████████████████████████████████████████| 50/50 [00:11<00:00,  4.35it/s]\n"
     ]
    },
    {
     "name": "stdout",
     "output_type": "stream",
     "text": [
      "torch.Size([9875, 3])\n",
      "val_loss:0.611356\n",
      "start epoch 22\n"
     ]
    },
    {
     "name": "stderr",
     "output_type": "stream",
     "text": [
      "100%|████████████| 395/395 [01:41<00:00,  3.89it/s, loss=0.469879, lr=7.161e-05]\n"
     ]
    },
    {
     "name": "stdout",
     "output_type": "stream",
     "text": [
      "train_loss:0.573858\n"
     ]
    },
    {
     "name": "stderr",
     "output_type": "stream",
     "text": [
      "100%|███████████████████████████████████████████| 50/50 [00:11<00:00,  4.38it/s]\n"
     ]
    },
    {
     "name": "stdout",
     "output_type": "stream",
     "text": [
      "torch.Size([9875, 3])\n",
      "val_loss:0.606834\n",
      "epoch:22, best weighted_logloss updated from 0.676610 to 0.669108\n",
      "rsna-results-3d/best_wll_model_fold-3.pt is saved\n",
      "start epoch 23\n"
     ]
    },
    {
     "name": "stderr",
     "output_type": "stream",
     "text": [
      "100%|████████████| 395/395 [01:41<00:00,  3.88it/s, loss=0.483771, lr=6.858e-05]\n"
     ]
    },
    {
     "name": "stdout",
     "output_type": "stream",
     "text": [
      "train_loss:0.574849\n"
     ]
    },
    {
     "name": "stderr",
     "output_type": "stream",
     "text": [
      "100%|███████████████████████████████████████████| 50/50 [00:11<00:00,  4.38it/s]\n"
     ]
    },
    {
     "name": "stdout",
     "output_type": "stream",
     "text": [
      "torch.Size([9875, 3])\n",
      "val_loss:0.623876\n",
      "start epoch 24\n"
     ]
    },
    {
     "name": "stderr",
     "output_type": "stream",
     "text": [
      "100%|████████████| 395/395 [01:41<00:00,  3.88it/s, loss=0.900977, lr=6.547e-05]\n"
     ]
    },
    {
     "name": "stdout",
     "output_type": "stream",
     "text": [
      "train_loss:0.572925\n"
     ]
    },
    {
     "name": "stderr",
     "output_type": "stream",
     "text": [
      "100%|███████████████████████████████████████████| 50/50 [00:11<00:00,  4.40it/s]\n"
     ]
    },
    {
     "name": "stdout",
     "output_type": "stream",
     "text": [
      "torch.Size([9875, 3])\n",
      "val_loss:0.628390\n",
      "start epoch 25\n"
     ]
    },
    {
     "name": "stderr",
     "output_type": "stream",
     "text": [
      "100%|████████████| 395/395 [01:41<00:00,  3.88it/s, loss=0.742753, lr=6.230e-05]\n"
     ]
    },
    {
     "name": "stdout",
     "output_type": "stream",
     "text": [
      "train_loss:0.571336\n"
     ]
    },
    {
     "name": "stderr",
     "output_type": "stream",
     "text": [
      "100%|███████████████████████████████████████████| 50/50 [00:11<00:00,  4.30it/s]\n"
     ]
    },
    {
     "name": "stdout",
     "output_type": "stream",
     "text": [
      "torch.Size([9875, 3])\n",
      "val_loss:0.601141\n",
      "start epoch 26\n"
     ]
    },
    {
     "name": "stderr",
     "output_type": "stream",
     "text": [
      "100%|████████████| 395/395 [01:41<00:00,  3.88it/s, loss=0.518403, lr=5.906e-05]\n"
     ]
    },
    {
     "name": "stdout",
     "output_type": "stream",
     "text": [
      "train_loss:0.566178\n"
     ]
    },
    {
     "name": "stderr",
     "output_type": "stream",
     "text": [
      "100%|███████████████████████████████████████████| 50/50 [00:11<00:00,  4.37it/s]\n"
     ]
    },
    {
     "name": "stdout",
     "output_type": "stream",
     "text": [
      "torch.Size([9875, 3])\n",
      "val_loss:0.612171\n",
      "start epoch 27\n"
     ]
    },
    {
     "name": "stderr",
     "output_type": "stream",
     "text": [
      "100%|████████████| 395/395 [01:41<00:00,  3.88it/s, loss=0.287938, lr=5.579e-05]\n"
     ]
    },
    {
     "name": "stdout",
     "output_type": "stream",
     "text": [
      "train_loss:0.566188\n"
     ]
    },
    {
     "name": "stderr",
     "output_type": "stream",
     "text": [
      "100%|███████████████████████████████████████████| 50/50 [00:11<00:00,  4.33it/s]\n"
     ]
    },
    {
     "name": "stdout",
     "output_type": "stream",
     "text": [
      "torch.Size([9875, 3])\n",
      "val_loss:0.604383\n",
      "start epoch 28\n"
     ]
    },
    {
     "name": "stderr",
     "output_type": "stream",
     "text": [
      "100%|████████████| 395/395 [01:41<00:00,  3.89it/s, loss=0.564280, lr=5.250e-05]\n"
     ]
    },
    {
     "name": "stdout",
     "output_type": "stream",
     "text": [
      "train_loss:0.559904\n"
     ]
    },
    {
     "name": "stderr",
     "output_type": "stream",
     "text": [
      "100%|███████████████████████████████████████████| 50/50 [00:11<00:00,  4.35it/s]\n"
     ]
    },
    {
     "name": "stdout",
     "output_type": "stream",
     "text": [
      "torch.Size([9875, 3])\n",
      "val_loss:0.606713\n",
      "start epoch 29\n"
     ]
    },
    {
     "name": "stderr",
     "output_type": "stream",
     "text": [
      "100%|████████████| 395/395 [01:41<00:00,  3.88it/s, loss=0.469181, lr=4.919e-05]\n"
     ]
    },
    {
     "name": "stdout",
     "output_type": "stream",
     "text": [
      "train_loss:0.555062\n"
     ]
    },
    {
     "name": "stderr",
     "output_type": "stream",
     "text": [
      "100%|███████████████████████████████████████████| 50/50 [00:11<00:00,  4.38it/s]\n"
     ]
    },
    {
     "name": "stdout",
     "output_type": "stream",
     "text": [
      "torch.Size([9875, 3])\n",
      "val_loss:0.624542\n",
      "start epoch 30\n"
     ]
    },
    {
     "name": "stderr",
     "output_type": "stream",
     "text": [
      "100%|████████████| 395/395 [01:41<00:00,  3.88it/s, loss=0.626184, lr=4.589e-05]\n"
     ]
    },
    {
     "name": "stdout",
     "output_type": "stream",
     "text": [
      "train_loss:0.556140\n"
     ]
    },
    {
     "name": "stderr",
     "output_type": "stream",
     "text": [
      "100%|███████████████████████████████████████████| 50/50 [00:11<00:00,  4.35it/s]\n"
     ]
    },
    {
     "name": "stdout",
     "output_type": "stream",
     "text": [
      "torch.Size([9875, 3])\n",
      "val_loss:0.600489\n",
      "epoch:30, best weighted_logloss updated from 0.669108 to 0.667960\n",
      "rsna-results-3d/best_wll_model_fold-3.pt is saved\n",
      "start epoch 31\n"
     ]
    },
    {
     "name": "stderr",
     "output_type": "stream",
     "text": [
      "100%|████████████| 395/395 [01:41<00:00,  3.88it/s, loss=0.359489, lr=4.260e-05]\n"
     ]
    },
    {
     "name": "stdout",
     "output_type": "stream",
     "text": [
      "train_loss:0.548303\n"
     ]
    },
    {
     "name": "stderr",
     "output_type": "stream",
     "text": [
      "100%|███████████████████████████████████████████| 50/50 [00:11<00:00,  4.38it/s]\n"
     ]
    },
    {
     "name": "stdout",
     "output_type": "stream",
     "text": [
      "torch.Size([9875, 3])\n",
      "val_loss:0.610035\n",
      "start epoch 32\n"
     ]
    },
    {
     "name": "stderr",
     "output_type": "stream",
     "text": [
      "100%|████████████| 395/395 [01:41<00:00,  3.88it/s, loss=0.455719, lr=3.935e-05]\n"
     ]
    },
    {
     "name": "stdout",
     "output_type": "stream",
     "text": [
      "train_loss:0.550731\n"
     ]
    },
    {
     "name": "stderr",
     "output_type": "stream",
     "text": [
      "100%|███████████████████████████████████████████| 50/50 [00:11<00:00,  4.37it/s]\n"
     ]
    },
    {
     "name": "stdout",
     "output_type": "stream",
     "text": [
      "torch.Size([9875, 3])\n",
      "val_loss:0.597000\n",
      "epoch:32, best weighted_logloss updated from 0.667960 to 0.666552\n",
      "rsna-results-3d/best_wll_model_fold-3.pt is saved\n",
      "start epoch 33\n"
     ]
    },
    {
     "name": "stderr",
     "output_type": "stream",
     "text": [
      "100%|████████████| 395/395 [01:41<00:00,  3.88it/s, loss=0.744184, lr=3.615e-05]\n"
     ]
    },
    {
     "name": "stdout",
     "output_type": "stream",
     "text": [
      "train_loss:0.544330\n"
     ]
    },
    {
     "name": "stderr",
     "output_type": "stream",
     "text": [
      "100%|███████████████████████████████████████████| 50/50 [00:11<00:00,  4.34it/s]\n"
     ]
    },
    {
     "name": "stdout",
     "output_type": "stream",
     "text": [
      "torch.Size([9875, 3])\n",
      "val_loss:0.602244\n",
      "start epoch 34\n"
     ]
    },
    {
     "name": "stderr",
     "output_type": "stream",
     "text": [
      "100%|████████████| 395/395 [01:41<00:00,  3.88it/s, loss=0.495456, lr=3.300e-05]\n"
     ]
    },
    {
     "name": "stdout",
     "output_type": "stream",
     "text": [
      "train_loss:0.543853\n"
     ]
    },
    {
     "name": "stderr",
     "output_type": "stream",
     "text": [
      "100%|███████████████████████████████████████████| 50/50 [00:11<00:00,  4.33it/s]\n"
     ]
    },
    {
     "name": "stdout",
     "output_type": "stream",
     "text": [
      "torch.Size([9875, 3])\n",
      "val_loss:0.598722\n",
      "start epoch 35\n"
     ]
    },
    {
     "name": "stderr",
     "output_type": "stream",
     "text": [
      "100%|████████████| 395/395 [01:41<00:00,  3.88it/s, loss=0.440954, lr=2.993e-05]\n"
     ]
    },
    {
     "name": "stdout",
     "output_type": "stream",
     "text": [
      "train_loss:0.542004\n"
     ]
    },
    {
     "name": "stderr",
     "output_type": "stream",
     "text": [
      "100%|███████████████████████████████████████████| 50/50 [00:11<00:00,  4.38it/s]\n"
     ]
    },
    {
     "name": "stdout",
     "output_type": "stream",
     "text": [
      "torch.Size([9875, 3])\n",
      "val_loss:0.598476\n",
      "epoch:35, best weighted_logloss updated from 0.666552 to 0.666297\n",
      "rsna-results-3d/best_wll_model_fold-3.pt is saved\n",
      "start epoch 36\n"
     ]
    },
    {
     "name": "stderr",
     "output_type": "stream",
     "text": [
      "100%|████████████| 395/395 [01:41<00:00,  3.88it/s, loss=0.706164, lr=2.695e-05]\n"
     ]
    },
    {
     "name": "stdout",
     "output_type": "stream",
     "text": [
      "train_loss:0.542289\n"
     ]
    },
    {
     "name": "stderr",
     "output_type": "stream",
     "text": [
      "100%|███████████████████████████████████████████| 50/50 [00:11<00:00,  4.38it/s]\n"
     ]
    },
    {
     "name": "stdout",
     "output_type": "stream",
     "text": [
      "torch.Size([9875, 3])\n",
      "val_loss:0.598820\n",
      "start epoch 37\n"
     ]
    },
    {
     "name": "stderr",
     "output_type": "stream",
     "text": [
      "100%|████████████| 395/395 [01:41<00:00,  3.88it/s, loss=0.423655, lr=2.406e-05]\n"
     ]
    },
    {
     "name": "stdout",
     "output_type": "stream",
     "text": [
      "train_loss:0.538261\n"
     ]
    },
    {
     "name": "stderr",
     "output_type": "stream",
     "text": [
      "100%|███████████████████████████████████████████| 50/50 [00:11<00:00,  4.36it/s]\n"
     ]
    },
    {
     "name": "stdout",
     "output_type": "stream",
     "text": [
      "torch.Size([9875, 3])\n",
      "val_loss:0.598492\n",
      "start epoch 38\n"
     ]
    },
    {
     "name": "stderr",
     "output_type": "stream",
     "text": [
      "100%|████████████| 395/395 [01:41<00:00,  3.88it/s, loss=0.810200, lr=2.129e-05]\n"
     ]
    },
    {
     "name": "stdout",
     "output_type": "stream",
     "text": [
      "train_loss:0.540595\n"
     ]
    },
    {
     "name": "stderr",
     "output_type": "stream",
     "text": [
      "100%|███████████████████████████████████████████| 50/50 [00:11<00:00,  4.36it/s]\n"
     ]
    },
    {
     "name": "stdout",
     "output_type": "stream",
     "text": [
      "torch.Size([9875, 3])\n",
      "val_loss:0.599677\n",
      "start epoch 39\n"
     ]
    },
    {
     "name": "stderr",
     "output_type": "stream",
     "text": [
      "100%|████████████| 395/395 [01:41<00:00,  3.88it/s, loss=0.416983, lr=1.865e-05]\n"
     ]
    },
    {
     "name": "stdout",
     "output_type": "stream",
     "text": [
      "train_loss:0.531695\n"
     ]
    },
    {
     "name": "stderr",
     "output_type": "stream",
     "text": [
      "100%|███████████████████████████████████████████| 50/50 [00:11<00:00,  4.35it/s]\n"
     ]
    },
    {
     "name": "stdout",
     "output_type": "stream",
     "text": [
      "torch.Size([9875, 3])\n",
      "val_loss:0.601895\n",
      "start epoch 40\n"
     ]
    },
    {
     "name": "stderr",
     "output_type": "stream",
     "text": [
      "100%|████████████| 395/395 [01:41<00:00,  3.88it/s, loss=0.685852, lr=1.615e-05]\n"
     ]
    },
    {
     "name": "stdout",
     "output_type": "stream",
     "text": [
      "train_loss:0.536344\n"
     ]
    },
    {
     "name": "stderr",
     "output_type": "stream",
     "text": [
      "100%|███████████████████████████████████████████| 50/50 [00:11<00:00,  4.35it/s]\n"
     ]
    },
    {
     "name": "stdout",
     "output_type": "stream",
     "text": [
      "torch.Size([9875, 3])\n",
      "val_loss:0.599805\n",
      "start epoch 41\n"
     ]
    },
    {
     "name": "stderr",
     "output_type": "stream",
     "text": [
      "100%|████████████| 395/395 [01:41<00:00,  3.88it/s, loss=0.633683, lr=1.379e-05]\n"
     ]
    },
    {
     "name": "stdout",
     "output_type": "stream",
     "text": [
      "train_loss:0.532158\n"
     ]
    },
    {
     "name": "stderr",
     "output_type": "stream",
     "text": [
      "100%|███████████████████████████████████████████| 50/50 [00:11<00:00,  4.37it/s]\n"
     ]
    },
    {
     "name": "stdout",
     "output_type": "stream",
     "text": [
      "torch.Size([9875, 3])\n",
      "val_loss:0.608936\n",
      "start epoch 42\n"
     ]
    },
    {
     "name": "stderr",
     "output_type": "stream",
     "text": [
      "100%|████████████| 395/395 [01:41<00:00,  3.88it/s, loss=0.710314, lr=1.159e-05]\n"
     ]
    },
    {
     "name": "stdout",
     "output_type": "stream",
     "text": [
      "train_loss:0.535118\n"
     ]
    },
    {
     "name": "stderr",
     "output_type": "stream",
     "text": [
      "100%|███████████████████████████████████████████| 50/50 [00:11<00:00,  4.37it/s]\n"
     ]
    },
    {
     "name": "stdout",
     "output_type": "stream",
     "text": [
      "torch.Size([9875, 3])\n",
      "val_loss:0.606517\n",
      "start epoch 43\n"
     ]
    },
    {
     "name": "stderr",
     "output_type": "stream",
     "text": [
      "100%|████████████| 395/395 [01:41<00:00,  3.88it/s, loss=0.582214, lr=9.555e-06]\n"
     ]
    },
    {
     "name": "stdout",
     "output_type": "stream",
     "text": [
      "train_loss:0.528135\n"
     ]
    },
    {
     "name": "stderr",
     "output_type": "stream",
     "text": [
      "100%|███████████████████████████████████████████| 50/50 [00:11<00:00,  4.33it/s]\n"
     ]
    },
    {
     "name": "stdout",
     "output_type": "stream",
     "text": [
      "torch.Size([9875, 3])\n",
      "val_loss:0.603143\n",
      "start epoch 44\n"
     ]
    },
    {
     "name": "stderr",
     "output_type": "stream",
     "text": [
      "100%|████████████| 395/395 [01:41<00:00,  3.88it/s, loss=0.465273, lr=7.701e-06]\n"
     ]
    },
    {
     "name": "stdout",
     "output_type": "stream",
     "text": [
      "train_loss:0.527515\n"
     ]
    },
    {
     "name": "stderr",
     "output_type": "stream",
     "text": [
      "100%|███████████████████████████████████████████| 50/50 [00:11<00:00,  4.37it/s]\n"
     ]
    },
    {
     "name": "stdout",
     "output_type": "stream",
     "text": [
      "torch.Size([9875, 3])\n",
      "val_loss:0.607431\n",
      "start epoch 45\n"
     ]
    },
    {
     "name": "stderr",
     "output_type": "stream",
     "text": [
      "100%|████████████| 395/395 [01:41<00:00,  3.88it/s, loss=0.498264, lr=6.031e-06]\n"
     ]
    },
    {
     "name": "stdout",
     "output_type": "stream",
     "text": [
      "train_loss:0.528858\n"
     ]
    },
    {
     "name": "stderr",
     "output_type": "stream",
     "text": [
      "100%|███████████████████████████████████████████| 50/50 [00:11<00:00,  4.36it/s]\n"
     ]
    },
    {
     "name": "stdout",
     "output_type": "stream",
     "text": [
      "torch.Size([9875, 3])\n",
      "val_loss:0.602692\n",
      "early stopping\n",
      "##############################\n",
      "Start fold 4\n",
      "##############################\n",
      "1580 395\n"
     ]
    },
    {
     "name": "stderr",
     "output_type": "stream",
     "text": [
      "Using cache found in /home/anton/.cache/torch/hub/facebookresearch_pytorchvideo_main\n"
     ]
    },
    {
     "name": "stdout",
     "output_type": "stream",
     "text": [
      "start epoch 1\n"
     ]
    },
    {
     "name": "stderr",
     "output_type": "stream",
     "text": [
      "100%|████████████| 395/395 [01:41<00:00,  3.88it/s, loss=1.187338, lr=1.996e-05]\n"
     ]
    },
    {
     "name": "stdout",
     "output_type": "stream",
     "text": [
      "train_loss:0.984642\n"
     ]
    },
    {
     "name": "stderr",
     "output_type": "stream",
     "text": [
      "100%|███████████████████████████████████████████| 50/50 [00:11<00:00,  4.40it/s]\n"
     ]
    },
    {
     "name": "stdout",
     "output_type": "stream",
     "text": [
      "torch.Size([9875, 3])\n",
      "val_loss:0.850792\n",
      "epoch:1, best weighted_logloss updated from 1.200000 to 0.939033\n",
      "rsna-results-3d/best_wll_model_fold-4.pt is saved\n",
      "start epoch 2\n"
     ]
    },
    {
     "name": "stderr",
     "output_type": "stream",
     "text": [
      "100%|████████████| 395/395 [01:41<00:00,  3.88it/s, loss=0.516818, lr=3.992e-05]\n"
     ]
    },
    {
     "name": "stdout",
     "output_type": "stream",
     "text": [
      "train_loss:0.751290\n"
     ]
    },
    {
     "name": "stderr",
     "output_type": "stream",
     "text": [
      "100%|███████████████████████████████████████████| 50/50 [00:11<00:00,  4.34it/s]\n"
     ]
    },
    {
     "name": "stdout",
     "output_type": "stream",
     "text": [
      "torch.Size([9875, 3])\n",
      "val_loss:0.772511\n",
      "epoch:2, best weighted_logloss updated from 0.939033 to 0.870721\n",
      "rsna-results-3d/best_wll_model_fold-4.pt is saved\n",
      "start epoch 3\n"
     ]
    },
    {
     "name": "stderr",
     "output_type": "stream",
     "text": [
      "100%|████████████| 395/395 [01:41<00:00,  3.88it/s, loss=0.691828, lr=5.988e-05]\n"
     ]
    },
    {
     "name": "stdout",
     "output_type": "stream",
     "text": [
      "train_loss:0.711150\n"
     ]
    },
    {
     "name": "stderr",
     "output_type": "stream",
     "text": [
      "100%|███████████████████████████████████████████| 50/50 [00:11<00:00,  4.38it/s]\n"
     ]
    },
    {
     "name": "stdout",
     "output_type": "stream",
     "text": [
      "torch.Size([9875, 3])\n",
      "val_loss:0.769243\n",
      "start epoch 4\n"
     ]
    },
    {
     "name": "stderr",
     "output_type": "stream",
     "text": [
      "100%|████████████| 395/395 [01:41<00:00,  3.87it/s, loss=0.642098, lr=7.984e-05]\n"
     ]
    },
    {
     "name": "stdout",
     "output_type": "stream",
     "text": [
      "train_loss:0.685818\n"
     ]
    },
    {
     "name": "stderr",
     "output_type": "stream",
     "text": [
      "100%|███████████████████████████████████████████| 50/50 [00:11<00:00,  4.40it/s]\n"
     ]
    },
    {
     "name": "stdout",
     "output_type": "stream",
     "text": [
      "torch.Size([9875, 3])\n",
      "val_loss:0.710089\n",
      "epoch:4, best weighted_logloss updated from 0.870721 to 0.802645\n",
      "rsna-results-3d/best_wll_model_fold-4.pt is saved\n",
      "start epoch 5\n"
     ]
    },
    {
     "name": "stderr",
     "output_type": "stream",
     "text": [
      "100%|████████████| 395/395 [01:41<00:00,  3.88it/s, loss=0.602425, lr=9.980e-05]\n"
     ]
    },
    {
     "name": "stdout",
     "output_type": "stream",
     "text": [
      "train_loss:0.675778\n"
     ]
    },
    {
     "name": "stderr",
     "output_type": "stream",
     "text": [
      "100%|███████████████████████████████████████████| 50/50 [00:11<00:00,  4.37it/s]\n"
     ]
    },
    {
     "name": "stdout",
     "output_type": "stream",
     "text": [
      "torch.Size([9875, 3])\n",
      "val_loss:0.711698\n",
      "start epoch 6\n"
     ]
    },
    {
     "name": "stderr",
     "output_type": "stream",
     "text": [
      "100%|████████████| 395/395 [01:41<00:00,  3.88it/s, loss=0.718983, lr=9.989e-05]\n"
     ]
    },
    {
     "name": "stdout",
     "output_type": "stream",
     "text": [
      "train_loss:0.665464\n"
     ]
    },
    {
     "name": "stderr",
     "output_type": "stream",
     "text": [
      "100%|███████████████████████████████████████████| 50/50 [00:11<00:00,  4.39it/s]\n"
     ]
    },
    {
     "name": "stdout",
     "output_type": "stream",
     "text": [
      "torch.Size([9875, 3])\n",
      "val_loss:0.671381\n",
      "epoch:6, best weighted_logloss updated from 0.802645 to 0.748964\n",
      "rsna-results-3d/best_wll_model_fold-4.pt is saved\n",
      "start epoch 7\n"
     ]
    },
    {
     "name": "stderr",
     "output_type": "stream",
     "text": [
      "100%|████████████| 395/395 [01:41<00:00,  3.88it/s, loss=0.706261, lr=9.957e-05]\n"
     ]
    },
    {
     "name": "stdout",
     "output_type": "stream",
     "text": [
      "train_loss:0.654772\n"
     ]
    },
    {
     "name": "stderr",
     "output_type": "stream",
     "text": [
      "100%|███████████████████████████████████████████| 50/50 [00:11<00:00,  4.40it/s]\n"
     ]
    },
    {
     "name": "stdout",
     "output_type": "stream",
     "text": [
      "torch.Size([9875, 3])\n",
      "val_loss:0.677620\n",
      "start epoch 8\n"
     ]
    },
    {
     "name": "stderr",
     "output_type": "stream",
     "text": [
      "100%|████████████| 395/395 [01:42<00:00,  3.87it/s, loss=0.764558, lr=9.903e-05]\n"
     ]
    },
    {
     "name": "stdout",
     "output_type": "stream",
     "text": [
      "train_loss:0.642974\n"
     ]
    },
    {
     "name": "stderr",
     "output_type": "stream",
     "text": [
      "100%|███████████████████████████████████████████| 50/50 [00:11<00:00,  4.37it/s]\n"
     ]
    },
    {
     "name": "stdout",
     "output_type": "stream",
     "text": [
      "torch.Size([9875, 3])\n",
      "val_loss:0.672653\n",
      "start epoch 9\n"
     ]
    },
    {
     "name": "stderr",
     "output_type": "stream",
     "text": [
      "100%|████████████| 395/395 [01:41<00:00,  3.88it/s, loss=0.519568, lr=9.827e-05]\n"
     ]
    },
    {
     "name": "stdout",
     "output_type": "stream",
     "text": [
      "train_loss:0.640342\n"
     ]
    },
    {
     "name": "stderr",
     "output_type": "stream",
     "text": [
      "100%|███████████████████████████████████████████| 50/50 [00:11<00:00,  4.35it/s]\n"
     ]
    },
    {
     "name": "stdout",
     "output_type": "stream",
     "text": [
      "torch.Size([9875, 3])\n",
      "val_loss:0.645219\n",
      "epoch:9, best weighted_logloss updated from 0.748964 to 0.726737\n",
      "rsna-results-3d/best_wll_model_fold-4.pt is saved\n",
      "start epoch 10\n"
     ]
    },
    {
     "name": "stderr",
     "output_type": "stream",
     "text": [
      "100%|████████████| 395/395 [01:41<00:00,  3.88it/s, loss=0.752521, lr=9.730e-05]\n"
     ]
    },
    {
     "name": "stdout",
     "output_type": "stream",
     "text": [
      "train_loss:0.630169\n"
     ]
    },
    {
     "name": "stderr",
     "output_type": "stream",
     "text": [
      "100%|███████████████████████████████████████████| 50/50 [00:11<00:00,  4.38it/s]\n"
     ]
    },
    {
     "name": "stdout",
     "output_type": "stream",
     "text": [
      "torch.Size([9875, 3])\n",
      "val_loss:0.646975\n",
      "start epoch 11\n"
     ]
    },
    {
     "name": "stderr",
     "output_type": "stream",
     "text": [
      "100%|████████████| 395/395 [01:41<00:00,  3.88it/s, loss=0.762043, lr=9.613e-05]\n"
     ]
    },
    {
     "name": "stdout",
     "output_type": "stream",
     "text": [
      "train_loss:0.619202\n"
     ]
    },
    {
     "name": "stderr",
     "output_type": "stream",
     "text": [
      "100%|███████████████████████████████████████████| 50/50 [00:11<00:00,  4.37it/s]\n"
     ]
    },
    {
     "name": "stdout",
     "output_type": "stream",
     "text": [
      "torch.Size([9875, 3])\n",
      "val_loss:0.632573\n",
      "epoch:11, best weighted_logloss updated from 0.726737 to 0.710826\n",
      "rsna-results-3d/best_wll_model_fold-4.pt is saved\n",
      "start epoch 12\n"
     ]
    },
    {
     "name": "stderr",
     "output_type": "stream",
     "text": [
      "100%|████████████| 395/395 [01:41<00:00,  3.88it/s, loss=0.603362, lr=9.475e-05]\n"
     ]
    },
    {
     "name": "stdout",
     "output_type": "stream",
     "text": [
      "train_loss:0.619604\n"
     ]
    },
    {
     "name": "stderr",
     "output_type": "stream",
     "text": [
      "100%|███████████████████████████████████████████| 50/50 [00:11<00:00,  4.36it/s]\n"
     ]
    },
    {
     "name": "stdout",
     "output_type": "stream",
     "text": [
      "torch.Size([9875, 3])\n",
      "val_loss:0.630469\n",
      "epoch:12, best weighted_logloss updated from 0.710826 to 0.710562\n",
      "rsna-results-3d/best_wll_model_fold-4.pt is saved\n",
      "start epoch 13\n"
     ]
    },
    {
     "name": "stderr",
     "output_type": "stream",
     "text": [
      "100%|████████████| 395/395 [01:41<00:00,  3.88it/s, loss=0.890003, lr=9.318e-05]\n"
     ]
    },
    {
     "name": "stdout",
     "output_type": "stream",
     "text": [
      "train_loss:0.613312\n"
     ]
    },
    {
     "name": "stderr",
     "output_type": "stream",
     "text": [
      "100%|███████████████████████████████████████████| 50/50 [00:11<00:00,  4.43it/s]\n"
     ]
    },
    {
     "name": "stdout",
     "output_type": "stream",
     "text": [
      "torch.Size([9875, 3])\n",
      "val_loss:0.624155\n",
      "epoch:13, best weighted_logloss updated from 0.710562 to 0.693580\n",
      "rsna-results-3d/best_wll_model_fold-4.pt is saved\n",
      "start epoch 14\n"
     ]
    },
    {
     "name": "stderr",
     "output_type": "stream",
     "text": [
      "100%|████████████| 395/395 [01:41<00:00,  3.88it/s, loss=0.803613, lr=9.142e-05]\n"
     ]
    },
    {
     "name": "stdout",
     "output_type": "stream",
     "text": [
      "train_loss:0.611518\n"
     ]
    },
    {
     "name": "stderr",
     "output_type": "stream",
     "text": [
      "100%|███████████████████████████████████████████| 50/50 [00:11<00:00,  4.40it/s]\n"
     ]
    },
    {
     "name": "stdout",
     "output_type": "stream",
     "text": [
      "torch.Size([9875, 3])\n",
      "val_loss:0.634094\n",
      "start epoch 15\n"
     ]
    },
    {
     "name": "stderr",
     "output_type": "stream",
     "text": [
      "100%|████████████| 395/395 [01:41<00:00,  3.88it/s, loss=0.632076, lr=8.947e-05]\n"
     ]
    },
    {
     "name": "stdout",
     "output_type": "stream",
     "text": [
      "train_loss:0.605821\n"
     ]
    },
    {
     "name": "stderr",
     "output_type": "stream",
     "text": [
      "100%|███████████████████████████████████████████| 50/50 [00:11<00:00,  4.38it/s]\n"
     ]
    },
    {
     "name": "stdout",
     "output_type": "stream",
     "text": [
      "torch.Size([9875, 3])\n",
      "val_loss:0.619741\n",
      "epoch:15, best weighted_logloss updated from 0.693580 to 0.692117\n",
      "rsna-results-3d/best_wll_model_fold-4.pt is saved\n",
      "start epoch 16\n"
     ]
    },
    {
     "name": "stderr",
     "output_type": "stream",
     "text": [
      "100%|████████████| 395/395 [01:41<00:00,  3.88it/s, loss=0.642462, lr=8.736e-05]\n"
     ]
    },
    {
     "name": "stdout",
     "output_type": "stream",
     "text": [
      "train_loss:0.595638\n"
     ]
    },
    {
     "name": "stderr",
     "output_type": "stream",
     "text": [
      "100%|███████████████████████████████████████████| 50/50 [00:11<00:00,  4.35it/s]\n"
     ]
    },
    {
     "name": "stdout",
     "output_type": "stream",
     "text": [
      "torch.Size([9875, 3])\n",
      "val_loss:0.622200\n",
      "start epoch 17\n"
     ]
    },
    {
     "name": "stderr",
     "output_type": "stream",
     "text": [
      "100%|████████████| 395/395 [01:41<00:00,  3.88it/s, loss=0.366607, lr=8.508e-05]\n"
     ]
    },
    {
     "name": "stdout",
     "output_type": "stream",
     "text": [
      "train_loss:0.594582\n"
     ]
    },
    {
     "name": "stderr",
     "output_type": "stream",
     "text": [
      "100%|███████████████████████████████████████████| 50/50 [00:11<00:00,  4.40it/s]\n"
     ]
    },
    {
     "name": "stdout",
     "output_type": "stream",
     "text": [
      "torch.Size([9875, 3])\n",
      "val_loss:0.634868\n",
      "start epoch 18\n"
     ]
    },
    {
     "name": "stderr",
     "output_type": "stream",
     "text": [
      "100%|████████████| 395/395 [01:41<00:00,  3.88it/s, loss=0.571969, lr=8.265e-05]\n"
     ]
    },
    {
     "name": "stdout",
     "output_type": "stream",
     "text": [
      "train_loss:0.592408\n"
     ]
    },
    {
     "name": "stderr",
     "output_type": "stream",
     "text": [
      "100%|███████████████████████████████████████████| 50/50 [00:11<00:00,  4.42it/s]\n"
     ]
    },
    {
     "name": "stdout",
     "output_type": "stream",
     "text": [
      "torch.Size([9875, 3])\n",
      "val_loss:0.605495\n",
      "epoch:18, best weighted_logloss updated from 0.692117 to 0.675110\n",
      "rsna-results-3d/best_wll_model_fold-4.pt is saved\n",
      "start epoch 19\n"
     ]
    },
    {
     "name": "stderr",
     "output_type": "stream",
     "text": [
      "100%|████████████| 395/395 [01:41<00:00,  3.88it/s, loss=0.593910, lr=8.007e-05]\n"
     ]
    },
    {
     "name": "stdout",
     "output_type": "stream",
     "text": [
      "train_loss:0.592785\n"
     ]
    },
    {
     "name": "stderr",
     "output_type": "stream",
     "text": [
      "100%|███████████████████████████████████████████| 50/50 [00:11<00:00,  4.40it/s]\n"
     ]
    },
    {
     "name": "stdout",
     "output_type": "stream",
     "text": [
      "torch.Size([9875, 3])\n",
      "val_loss:0.616952\n",
      "start epoch 20\n"
     ]
    },
    {
     "name": "stderr",
     "output_type": "stream",
     "text": [
      "100%|████████████| 395/395 [01:41<00:00,  3.88it/s, loss=0.676567, lr=7.737e-05]\n"
     ]
    },
    {
     "name": "stdout",
     "output_type": "stream",
     "text": [
      "train_loss:0.586121\n"
     ]
    },
    {
     "name": "stderr",
     "output_type": "stream",
     "text": [
      "100%|███████████████████████████████████████████| 50/50 [00:11<00:00,  4.39it/s]\n"
     ]
    },
    {
     "name": "stdout",
     "output_type": "stream",
     "text": [
      "torch.Size([9875, 3])\n",
      "val_loss:0.606448\n",
      "start epoch 21\n"
     ]
    },
    {
     "name": "stderr",
     "output_type": "stream",
     "text": [
      "100%|████████████| 395/395 [01:41<00:00,  3.88it/s, loss=0.935420, lr=7.454e-05]\n"
     ]
    },
    {
     "name": "stdout",
     "output_type": "stream",
     "text": [
      "train_loss:0.586073\n"
     ]
    },
    {
     "name": "stderr",
     "output_type": "stream",
     "text": [
      "100%|███████████████████████████████████████████| 50/50 [00:11<00:00,  4.39it/s]\n"
     ]
    },
    {
     "name": "stdout",
     "output_type": "stream",
     "text": [
      "torch.Size([9875, 3])\n",
      "val_loss:0.603917\n",
      "epoch:21, best weighted_logloss updated from 0.675110 to 0.674627\n",
      "rsna-results-3d/best_wll_model_fold-4.pt is saved\n",
      "start epoch 22\n"
     ]
    },
    {
     "name": "stderr",
     "output_type": "stream",
     "text": [
      "100%|████████████| 395/395 [01:41<00:00,  3.88it/s, loss=0.632773, lr=7.161e-05]\n"
     ]
    },
    {
     "name": "stdout",
     "output_type": "stream",
     "text": [
      "train_loss:0.581119\n"
     ]
    },
    {
     "name": "stderr",
     "output_type": "stream",
     "text": [
      "100%|███████████████████████████████████████████| 50/50 [00:11<00:00,  4.38it/s]\n"
     ]
    },
    {
     "name": "stdout",
     "output_type": "stream",
     "text": [
      "torch.Size([9875, 3])\n",
      "val_loss:0.611973\n",
      "start epoch 23\n"
     ]
    },
    {
     "name": "stderr",
     "output_type": "stream",
     "text": [
      "100%|████████████| 395/395 [01:41<00:00,  3.89it/s, loss=0.550756, lr=6.858e-05]\n"
     ]
    },
    {
     "name": "stdout",
     "output_type": "stream",
     "text": [
      "train_loss:0.572059\n"
     ]
    },
    {
     "name": "stderr",
     "output_type": "stream",
     "text": [
      "100%|███████████████████████████████████████████| 50/50 [00:11<00:00,  4.39it/s]\n"
     ]
    },
    {
     "name": "stdout",
     "output_type": "stream",
     "text": [
      "torch.Size([9875, 3])\n",
      "val_loss:0.626576\n",
      "start epoch 24\n"
     ]
    },
    {
     "name": "stderr",
     "output_type": "stream",
     "text": [
      "100%|████████████| 395/395 [01:41<00:00,  3.89it/s, loss=0.378116, lr=6.547e-05]\n"
     ]
    },
    {
     "name": "stdout",
     "output_type": "stream",
     "text": [
      "train_loss:0.573532\n"
     ]
    },
    {
     "name": "stderr",
     "output_type": "stream",
     "text": [
      "100%|███████████████████████████████████████████| 50/50 [00:11<00:00,  4.39it/s]\n"
     ]
    },
    {
     "name": "stdout",
     "output_type": "stream",
     "text": [
      "torch.Size([9875, 3])\n",
      "val_loss:0.609673\n",
      "start epoch 25\n"
     ]
    },
    {
     "name": "stderr",
     "output_type": "stream",
     "text": [
      "100%|████████████| 395/395 [01:41<00:00,  3.88it/s, loss=0.807556, lr=6.230e-05]\n"
     ]
    },
    {
     "name": "stdout",
     "output_type": "stream",
     "text": [
      "train_loss:0.569774\n"
     ]
    },
    {
     "name": "stderr",
     "output_type": "stream",
     "text": [
      "100%|███████████████████████████████████████████| 50/50 [00:11<00:00,  4.40it/s]\n"
     ]
    },
    {
     "name": "stdout",
     "output_type": "stream",
     "text": [
      "torch.Size([9875, 3])\n",
      "val_loss:0.607392\n",
      "epoch:25, best weighted_logloss updated from 0.674627 to 0.671260\n",
      "rsna-results-3d/best_wll_model_fold-4.pt is saved\n",
      "start epoch 26\n"
     ]
    },
    {
     "name": "stderr",
     "output_type": "stream",
     "text": [
      "100%|████████████| 395/395 [01:41<00:00,  3.89it/s, loss=0.245989, lr=5.906e-05]\n"
     ]
    },
    {
     "name": "stdout",
     "output_type": "stream",
     "text": [
      "train_loss:0.564531\n"
     ]
    },
    {
     "name": "stderr",
     "output_type": "stream",
     "text": [
      "100%|███████████████████████████████████████████| 50/50 [00:11<00:00,  4.42it/s]\n"
     ]
    },
    {
     "name": "stdout",
     "output_type": "stream",
     "text": [
      "torch.Size([9875, 3])\n",
      "val_loss:0.620924\n",
      "start epoch 27\n"
     ]
    },
    {
     "name": "stderr",
     "output_type": "stream",
     "text": [
      "100%|████████████| 395/395 [01:41<00:00,  3.88it/s, loss=0.490448, lr=5.579e-05]\n"
     ]
    },
    {
     "name": "stdout",
     "output_type": "stream",
     "text": [
      "train_loss:0.565730\n"
     ]
    },
    {
     "name": "stderr",
     "output_type": "stream",
     "text": [
      "100%|███████████████████████████████████████████| 50/50 [00:11<00:00,  4.35it/s]\n"
     ]
    },
    {
     "name": "stdout",
     "output_type": "stream",
     "text": [
      "torch.Size([9875, 3])\n",
      "val_loss:0.610087\n",
      "start epoch 28\n"
     ]
    },
    {
     "name": "stderr",
     "output_type": "stream",
     "text": [
      "100%|████████████| 395/395 [01:41<00:00,  3.89it/s, loss=0.417806, lr=5.250e-05]\n"
     ]
    },
    {
     "name": "stdout",
     "output_type": "stream",
     "text": [
      "train_loss:0.563177\n"
     ]
    },
    {
     "name": "stderr",
     "output_type": "stream",
     "text": [
      "100%|███████████████████████████████████████████| 50/50 [00:11<00:00,  4.42it/s]\n"
     ]
    },
    {
     "name": "stdout",
     "output_type": "stream",
     "text": [
      "torch.Size([9875, 3])\n",
      "val_loss:0.599709\n",
      "epoch:28, best weighted_logloss updated from 0.671260 to 0.670072\n",
      "rsna-results-3d/best_wll_model_fold-4.pt is saved\n",
      "start epoch 29\n"
     ]
    },
    {
     "name": "stderr",
     "output_type": "stream",
     "text": [
      "100%|████████████| 395/395 [01:41<00:00,  3.89it/s, loss=0.725490, lr=4.919e-05]\n"
     ]
    },
    {
     "name": "stdout",
     "output_type": "stream",
     "text": [
      "train_loss:0.559093\n"
     ]
    },
    {
     "name": "stderr",
     "output_type": "stream",
     "text": [
      "100%|███████████████████████████████████████████| 50/50 [00:11<00:00,  4.41it/s]\n"
     ]
    },
    {
     "name": "stdout",
     "output_type": "stream",
     "text": [
      "torch.Size([9875, 3])\n",
      "val_loss:0.603015\n",
      "start epoch 30\n"
     ]
    },
    {
     "name": "stderr",
     "output_type": "stream",
     "text": [
      "100%|████████████| 395/395 [01:41<00:00,  3.89it/s, loss=0.424909, lr=4.589e-05]\n"
     ]
    },
    {
     "name": "stdout",
     "output_type": "stream",
     "text": [
      "train_loss:0.555916\n"
     ]
    },
    {
     "name": "stderr",
     "output_type": "stream",
     "text": [
      "100%|███████████████████████████████████████████| 50/50 [00:11<00:00,  4.42it/s]\n"
     ]
    },
    {
     "name": "stdout",
     "output_type": "stream",
     "text": [
      "torch.Size([9875, 3])\n",
      "val_loss:0.603001\n",
      "start epoch 31\n"
     ]
    },
    {
     "name": "stderr",
     "output_type": "stream",
     "text": [
      "100%|████████████| 395/395 [01:41<00:00,  3.89it/s, loss=0.470646, lr=4.260e-05]\n"
     ]
    },
    {
     "name": "stdout",
     "output_type": "stream",
     "text": [
      "train_loss:0.550249\n"
     ]
    },
    {
     "name": "stderr",
     "output_type": "stream",
     "text": [
      "100%|███████████████████████████████████████████| 50/50 [00:11<00:00,  4.39it/s]\n"
     ]
    },
    {
     "name": "stdout",
     "output_type": "stream",
     "text": [
      "torch.Size([9875, 3])\n",
      "val_loss:0.607841\n",
      "start epoch 32\n"
     ]
    },
    {
     "name": "stderr",
     "output_type": "stream",
     "text": [
      "100%|████████████| 395/395 [01:41<00:00,  3.89it/s, loss=0.592830, lr=3.935e-05]\n"
     ]
    },
    {
     "name": "stdout",
     "output_type": "stream",
     "text": [
      "train_loss:0.551638\n"
     ]
    },
    {
     "name": "stderr",
     "output_type": "stream",
     "text": [
      "100%|███████████████████████████████████████████| 50/50 [00:11<00:00,  4.44it/s]\n"
     ]
    },
    {
     "name": "stdout",
     "output_type": "stream",
     "text": [
      "torch.Size([9875, 3])\n",
      "val_loss:0.593632\n",
      "epoch:32, best weighted_logloss updated from 0.670072 to 0.659897\n",
      "rsna-results-3d/best_wll_model_fold-4.pt is saved\n",
      "start epoch 33\n"
     ]
    },
    {
     "name": "stderr",
     "output_type": "stream",
     "text": [
      "100%|████████████| 395/395 [01:41<00:00,  3.89it/s, loss=0.584641, lr=3.615e-05]\n"
     ]
    },
    {
     "name": "stdout",
     "output_type": "stream",
     "text": [
      "train_loss:0.546012\n"
     ]
    },
    {
     "name": "stderr",
     "output_type": "stream",
     "text": [
      "100%|███████████████████████████████████████████| 50/50 [00:11<00:00,  4.39it/s]\n"
     ]
    },
    {
     "name": "stdout",
     "output_type": "stream",
     "text": [
      "torch.Size([9875, 3])\n",
      "val_loss:0.597806\n",
      "start epoch 34\n"
     ]
    },
    {
     "name": "stderr",
     "output_type": "stream",
     "text": [
      "100%|████████████| 395/395 [01:41<00:00,  3.88it/s, loss=0.381111, lr=3.300e-05]\n"
     ]
    },
    {
     "name": "stdout",
     "output_type": "stream",
     "text": [
      "train_loss:0.545406\n"
     ]
    },
    {
     "name": "stderr",
     "output_type": "stream",
     "text": [
      "100%|███████████████████████████████████████████| 50/50 [00:11<00:00,  4.41it/s]\n"
     ]
    },
    {
     "name": "stdout",
     "output_type": "stream",
     "text": [
      "torch.Size([9875, 3])\n",
      "val_loss:0.613881\n",
      "start epoch 35\n"
     ]
    },
    {
     "name": "stderr",
     "output_type": "stream",
     "text": [
      "100%|████████████| 395/395 [01:41<00:00,  3.88it/s, loss=0.560762, lr=2.993e-05]\n"
     ]
    },
    {
     "name": "stdout",
     "output_type": "stream",
     "text": [
      "train_loss:0.547286\n"
     ]
    },
    {
     "name": "stderr",
     "output_type": "stream",
     "text": [
      "100%|███████████████████████████████████████████| 50/50 [00:11<00:00,  4.44it/s]\n"
     ]
    },
    {
     "name": "stdout",
     "output_type": "stream",
     "text": [
      "torch.Size([9875, 3])\n",
      "val_loss:0.596700\n",
      "start epoch 36\n"
     ]
    },
    {
     "name": "stderr",
     "output_type": "stream",
     "text": [
      "100%|████████████| 395/395 [01:41<00:00,  3.88it/s, loss=0.454381, lr=2.695e-05]\n"
     ]
    },
    {
     "name": "stdout",
     "output_type": "stream",
     "text": [
      "train_loss:0.541106\n"
     ]
    },
    {
     "name": "stderr",
     "output_type": "stream",
     "text": [
      "100%|███████████████████████████████████████████| 50/50 [00:11<00:00,  4.43it/s]\n"
     ]
    },
    {
     "name": "stdout",
     "output_type": "stream",
     "text": [
      "torch.Size([9875, 3])\n",
      "val_loss:0.596463\n",
      "start epoch 37\n"
     ]
    },
    {
     "name": "stderr",
     "output_type": "stream",
     "text": [
      "100%|████████████| 395/395 [01:41<00:00,  3.88it/s, loss=0.615662, lr=2.406e-05]\n"
     ]
    },
    {
     "name": "stdout",
     "output_type": "stream",
     "text": [
      "train_loss:0.536861\n"
     ]
    },
    {
     "name": "stderr",
     "output_type": "stream",
     "text": [
      "100%|███████████████████████████████████████████| 50/50 [00:11<00:00,  4.45it/s]\n"
     ]
    },
    {
     "name": "stdout",
     "output_type": "stream",
     "text": [
      "torch.Size([9875, 3])\n",
      "val_loss:0.598934\n",
      "start epoch 38\n"
     ]
    },
    {
     "name": "stderr",
     "output_type": "stream",
     "text": [
      "100%|████████████| 395/395 [01:41<00:00,  3.89it/s, loss=0.459824, lr=2.129e-05]\n"
     ]
    },
    {
     "name": "stdout",
     "output_type": "stream",
     "text": [
      "train_loss:0.541184\n"
     ]
    },
    {
     "name": "stderr",
     "output_type": "stream",
     "text": [
      "100%|███████████████████████████████████████████| 50/50 [00:11<00:00,  4.43it/s]\n"
     ]
    },
    {
     "name": "stdout",
     "output_type": "stream",
     "text": [
      "torch.Size([9875, 3])\n",
      "val_loss:0.600932\n",
      "start epoch 39\n"
     ]
    },
    {
     "name": "stderr",
     "output_type": "stream",
     "text": [
      "100%|████████████| 395/395 [01:41<00:00,  3.88it/s, loss=0.656224, lr=1.865e-05]\n"
     ]
    },
    {
     "name": "stdout",
     "output_type": "stream",
     "text": [
      "train_loss:0.535452\n"
     ]
    },
    {
     "name": "stderr",
     "output_type": "stream",
     "text": [
      "100%|███████████████████████████████████████████| 50/50 [00:11<00:00,  4.41it/s]\n"
     ]
    },
    {
     "name": "stdout",
     "output_type": "stream",
     "text": [
      "torch.Size([9875, 3])\n",
      "val_loss:0.608369\n",
      "start epoch 40\n"
     ]
    },
    {
     "name": "stderr",
     "output_type": "stream",
     "text": [
      "100%|████████████| 395/395 [01:41<00:00,  3.88it/s, loss=0.677793, lr=1.615e-05]\n"
     ]
    },
    {
     "name": "stdout",
     "output_type": "stream",
     "text": [
      "train_loss:0.533379\n"
     ]
    },
    {
     "name": "stderr",
     "output_type": "stream",
     "text": [
      "100%|███████████████████████████████████████████| 50/50 [00:11<00:00,  4.40it/s]\n"
     ]
    },
    {
     "name": "stdout",
     "output_type": "stream",
     "text": [
      "torch.Size([9875, 3])\n",
      "val_loss:0.603607\n",
      "start epoch 41\n"
     ]
    },
    {
     "name": "stderr",
     "output_type": "stream",
     "text": [
      "100%|████████████| 395/395 [01:41<00:00,  3.89it/s, loss=0.536281, lr=1.379e-05]\n"
     ]
    },
    {
     "name": "stdout",
     "output_type": "stream",
     "text": [
      "train_loss:0.530072\n"
     ]
    },
    {
     "name": "stderr",
     "output_type": "stream",
     "text": [
      "100%|███████████████████████████████████████████| 50/50 [00:11<00:00,  4.45it/s]\n"
     ]
    },
    {
     "name": "stdout",
     "output_type": "stream",
     "text": [
      "torch.Size([9875, 3])\n",
      "val_loss:0.602355\n",
      "start epoch 42\n"
     ]
    },
    {
     "name": "stderr",
     "output_type": "stream",
     "text": [
      "100%|████████████| 395/395 [01:41<00:00,  3.89it/s, loss=0.343927, lr=1.159e-05]\n"
     ]
    },
    {
     "name": "stdout",
     "output_type": "stream",
     "text": [
      "train_loss:0.531590\n"
     ]
    },
    {
     "name": "stderr",
     "output_type": "stream",
     "text": [
      "100%|███████████████████████████████████████████| 50/50 [00:11<00:00,  4.45it/s]"
     ]
    },
    {
     "name": "stdout",
     "output_type": "stream",
     "text": [
      "torch.Size([9875, 3])\n",
      "val_loss:0.597413\n",
      "early stopping\n"
     ]
    },
    {
     "name": "stderr",
     "output_type": "stream",
     "text": [
      "\n"
     ]
    }
   ],
   "source": [
    "%time\n",
    "#autocast = torch.cuda.amp.autocast(enabled=USE_AMP, dtype=torch.bfloat16) # if your gpu is newer Ampere, you can use this, lesser appearance of nan than half\n",
    "autocast = torch.cuda.amp.autocast(enabled=USE_AMP, dtype=torch.half) # you can use with T4 gpu. or newer\n",
    "scaler = torch.cuda.amp.GradScaler(enabled=USE_AMP, init_scale=2048)\n",
    "\n",
    "val_losses = []\n",
    "train_losses = []\n",
    "df_tr, df_test = train_test_split(df, test_size=2/7, random_state=SEED)\n",
    "skf = KFold(n_splits=N_FOLDS, shuffle=True, random_state=SEED)\n",
    "device = DEVICE\n",
    "for fold, (trn_idx, val_idx) in enumerate(skf.split(range(len(df)))):\n",
    "    loss_scale = 1\n",
    "    if NOT_DEBUG == False:\n",
    "        if fold == 1: break;\n",
    "    if fold not in SELECTED_FOLDS: \n",
    "        print(f\"Jump fold {fold}\")\n",
    "        continue;\n",
    "    else:\n",
    "        print('#'*30)\n",
    "        print(f'Start fold {fold}')\n",
    "        print('#'*30)\n",
    "        print(len(trn_idx), len(val_idx))\n",
    "        df_train = df.iloc[trn_idx]\n",
    "        df_valid = df.iloc[val_idx]\n",
    "\n",
    "        train_ds = RSNA24Dataset(df_train, phase='train', transform=transforms_train)\n",
    "        train_dl = DataLoader(\n",
    "                    train_ds,\n",
    "                    batch_size=BATCH_SIZE,\n",
    "                    shuffle=True,\n",
    "                    pin_memory=False,\n",
    "                    drop_last=True,\n",
    "                    num_workers=N_WORKERS\n",
    "                    )\n",
    "\n",
    "        valid_ds = RSNA24Dataset(df_valid, phase='valid', transform=transforms_val)\n",
    "        valid_dl = DataLoader(\n",
    "                    valid_ds,\n",
    "                    batch_size=BATCH_SIZE*2,\n",
    "                    shuffle=False,\n",
    "                    pin_memory=False,\n",
    "                    drop_last=False,\n",
    "                    num_workers=N_WORKERS\n",
    "                    )\n",
    "\n",
    "#         model = RSNA24Model(MODEL_NAME, IN_CHANS, N_CLASSES, pretrained=True)\n",
    "        model = TimmModel3d(MODEL_NAME)\n",
    "        fname = f'{OUTPUT_DIR}/best_wll_model_fold-{fold}.pt'\n",
    "#         if os.path.exists(fname):\n",
    "#             model = RSNA24Model(MODEL_NAME, IN_CHANS, N_CLASSES, pretrained=False)\n",
    "#             model.load_state_dict(torch.load(fname))\n",
    "        model.to(device)\n",
    "\n",
    "        optimizer = AdamW(model.parameters(), lr=LR*2, weight_decay=WD)\n",
    "#         optimizer = torch.optim.SGD(model.parameters(), lr=LR*2, weight_decay=WD, nesterov=True, momentum=0.9)\n",
    "\n",
    "        warmup_steps = EPOCHS/10 * len(train_dl) // GRAD_ACC\n",
    "        num_total_steps = EPOCHS * len(train_dl) // GRAD_ACC\n",
    "        num_cycles = 0.475\n",
    "        scheduler = get_cosine_schedule_with_warmup(optimizer,\n",
    "                                                    num_warmup_steps=warmup_steps,\n",
    "                                                    num_training_steps=num_total_steps,\n",
    "                                                    num_cycles=num_cycles)\n",
    "#         scheduler = get_linear_schedule_with_warmup(optimizer,\n",
    "#                                                     num_warmup_steps=warmup_steps,\n",
    "#                                                     num_training_steps=num_total_steps)\n",
    "\n",
    "        weights = torch.tensor([1.0, 2.0, 4.0])\n",
    "        criterion = nn.CrossEntropyLoss(weight=weights.to(device))\n",
    "        criterion_cpu = nn.CrossEntropyLoss(weight=weights)\n",
    "        best_loss = 1.2\n",
    "        es_step = 0\n",
    "\n",
    "        for epoch in range(1, EPOCHS+1):\n",
    "            print(f'start epoch {epoch}')\n",
    "            model.train()\n",
    "            total_loss = 0\n",
    "            with tqdm(train_dl, leave=True) as pbar:\n",
    "                optimizer.zero_grad()\n",
    "                for idx, (x, t) in enumerate(pbar):  \n",
    "                    op = ['nothing', 'nothing', 'nothing', 'nothing', 'nothing']\n",
    "                    x = x.to(device)\n",
    "                    t = t.to(device)\n",
    "#                     t = torch.tensor(np.array(one_h(list(t.detach().cpu().numpy())))).to(device)\n",
    "                    rc = random.sample(op, 1)\n",
    "                    if rc[0] == 'mixup':\n",
    "                        x = x.detach().cpu().numpy()\n",
    "                        t = t.detach().cpu().numpy()\n",
    "                        reference_data = [{'image':x[i], 'proba': t[i]} \n",
    "                                        for i in range(len(x))]\n",
    "                        tr = A.Compose([A.MixUp(reference_data=reference_data,\n",
    "                                              read_fn=read_fn, p=0.5)])\n",
    "                        for i in range(len(x)):\n",
    "                            transformed = tr(image=x[i], global_label=t[i])\n",
    "                            x[i] = transformed['image']\n",
    "                            t[i] = transformed['global_label']\n",
    "                        \n",
    "                        x = torch.tensor(x).to(device)\n",
    "                        t = torch.tensor(t).to(device)\n",
    "                        \n",
    "                    with autocast:\n",
    "                        loss = 0\n",
    "                        y = model(x)\n",
    "                        for col in range(N_LABELS):\n",
    "                            pred = y[:,col*3:col*3+3]\n",
    "                            gt = t[:,col]\n",
    "                            loss = loss + loss_scale * criterion(pred, gt) / N_LABELS\n",
    "                        \n",
    "                        if not math.isfinite(loss):\n",
    "                            loss = torch.tensor(1.2 * loss_scale * GRAD_ACC, requires_grad=True)\n",
    "                        total_loss += loss.item()\n",
    "                        if GRAD_ACC > 1:\n",
    "                            loss = loss / GRAD_ACC\n",
    "\n",
    "                    \n",
    "                    \n",
    "\n",
    "                    pbar.set_postfix(\n",
    "                        OrderedDict(\n",
    "                            loss=f'{loss.item()*GRAD_ACC:.6f}',\n",
    "                            lr=f'{optimizer.param_groups[0][\"lr\"]:.3e}'\n",
    "                        )\n",
    "                    )\n",
    "#                     scaler.scale(loss).backward()\n",
    "                    loss.backward()\n",
    "                    torch.nn.utils.clip_grad_norm_(model.parameters(), MAX_GRAD_NORM or 1e9)\n",
    "\n",
    "                    if (idx + 1) % GRAD_ACC == 0:\n",
    "#                         scaler.step(optimizer)\n",
    "#                         scaler.update()\n",
    "                        optimizer.step()\n",
    "                        optimizer.zero_grad()\n",
    "                        if scheduler is not None:\n",
    "                            scheduler.step()                    \n",
    "\n",
    "            train_loss = total_loss/len(train_dl)\n",
    "            print(f'train_loss:{train_loss/loss_scale:.6f}')\n",
    "            train_losses.append(train_loss)\n",
    "            total_loss = 0\n",
    "\n",
    "            model.eval()\n",
    "            y_preds, labels = [], []\n",
    "            with tqdm(valid_dl, leave=True) as pbar:\n",
    "                with torch.no_grad():\n",
    "                    for idx, (x, t) in enumerate(pbar):\n",
    "\n",
    "                        x = x.to(device)\n",
    "                        t = t.to(device)\n",
    "\n",
    "                        with autocast:\n",
    "                            loss = 0\n",
    "                            loss_ema = 0\n",
    "                            y = model(x)\n",
    "                            for col in range(N_LABELS):\n",
    "                                pred = y[:,col*3:col*3+3]\n",
    "                                gt = t[:,col]\n",
    "\n",
    "                                loss = loss + criterion(pred, gt) / N_LABELS\n",
    "                                y_pred = pred.float()\n",
    "                                y_preds.append(y_pred.cpu())\n",
    "                                labels.append(gt.cpu())\n",
    "                                \n",
    "                            if not math.isfinite(loss):\n",
    "                                loss = torch.tensor(1.2 * loss_scale * GRAD_ACC, requires_grad=True)\n",
    "                            \n",
    "                            total_loss += loss.item()   \n",
    "\n",
    "            val_loss = total_loss/len(valid_dl)\n",
    "            y_preds = torch.cat(y_preds, dim=0)\n",
    "            print(y_preds.shape)\n",
    "            labels = torch.cat(labels)\n",
    "\n",
    "            val_weighted_loss = criterion_cpu(y_preds, labels)\n",
    "            print(f'val_loss:{val_loss:.6f}')\n",
    "            val_losses.append(val_loss)\n",
    "            if val_weighted_loss < best_loss:\n",
    "\n",
    "                if device!='cuda:0':\n",
    "                    model.to('cuda:0')                \n",
    "\n",
    "                print(f'epoch:{epoch}, best weighted_logloss updated from {best_loss:.6f} to {val_weighted_loss:.6f}')\n",
    "                best_loss = val_weighted_loss\n",
    "                fname = f'{OUTPUT_DIR}/best_wll_model_fold-{fold}.pt'\n",
    "                torch.save(model.state_dict(), fname)\n",
    "                print(f'{fname} is saved')\n",
    "                es_step = 0\n",
    "\n",
    "                if device!='cuda:0':\n",
    "                    model.to(device)\n",
    "\n",
    "            else:\n",
    "                es_step += 1\n",
    "                if es_step >= EARLY_STOPPING_EPOCH:\n",
    "                    print('early stopping')\n",
    "                    break  \n",
    "                                "
   ]
  },
  {
   "cell_type": "code",
   "execution_count": 19,
   "id": "dd15fa66",
   "metadata": {},
   "outputs": [
    {
     "name": "stdout",
     "output_type": "stream",
     "text": [
      "##############################\n",
      "Start fold 0\n",
      "##############################\n"
     ]
    },
    {
     "ename": "NameError",
     "evalue": "name 'TimmModel' is not defined",
     "output_type": "error",
     "traceback": [
      "\u001b[0;31m---------------------------------------------------------------------------\u001b[0m",
      "\u001b[0;31mNameError\u001b[0m                                 Traceback (most recent call last)",
      "Cell \u001b[0;32mIn[19], line 33\u001b[0m\n\u001b[1;32m     23\u001b[0m valid_ds \u001b[38;5;241m=\u001b[39m RSNA24Dataset(df_valid, phase\u001b[38;5;241m=\u001b[39m\u001b[38;5;124m'\u001b[39m\u001b[38;5;124mvalid\u001b[39m\u001b[38;5;124m'\u001b[39m, transform\u001b[38;5;241m=\u001b[39mtransforms_val)\n\u001b[1;32m     24\u001b[0m valid_dl \u001b[38;5;241m=\u001b[39m DataLoader(\n\u001b[1;32m     25\u001b[0m             valid_ds,\n\u001b[1;32m     26\u001b[0m             batch_size\u001b[38;5;241m=\u001b[39m\u001b[38;5;241m16\u001b[39m,\n\u001b[0;32m   (...)\u001b[0m\n\u001b[1;32m     30\u001b[0m             num_workers\u001b[38;5;241m=\u001b[39mN_WORKERS\n\u001b[1;32m     31\u001b[0m             )\n\u001b[0;32m---> 33\u001b[0m model \u001b[38;5;241m=\u001b[39m TimmModel(MODEL_NAME)\n\u001b[1;32m     34\u001b[0m \u001b[38;5;66;03m# print(\"No internet read\")\u001b[39;00m\n\u001b[1;32m     35\u001b[0m fname \u001b[38;5;241m=\u001b[39m \u001b[38;5;124mf\u001b[39m\u001b[38;5;124m'\u001b[39m\u001b[38;5;132;01m{\u001b[39;00mOUTPUT_DIR\u001b[38;5;132;01m}\u001b[39;00m\u001b[38;5;124m/best_wll_model_fold-\u001b[39m\u001b[38;5;132;01m{\u001b[39;00mfold\u001b[38;5;132;01m}\u001b[39;00m\u001b[38;5;124m.pt\u001b[39m\u001b[38;5;124m'\u001b[39m\n",
      "\u001b[0;31mNameError\u001b[0m: name 'TimmModel' is not defined"
     ]
    }
   ],
   "source": [
    "cv = 0\n",
    "y_preds = []\n",
    "labels = []\n",
    "weights = torch.tensor([1.0, 2.0, 4.0])\n",
    "criterion2 = nn.CrossEntropyLoss(weight=weights)\n",
    "autocast = torch.cuda.amp.autocast(enabled=USE_AMP, dtype=torch.half) # you can use with T4 gpu. or newer\n",
    "\n",
    "\n",
    "## TODO: Modify EXIST_FOLDS by how many fold you've trained\n",
    "EXIST_FOLDS = [0, 1, 2, 3, 4]\n",
    "skf = KFold(n_splits=N_FOLDS, shuffle=True, random_state=SEED)\n",
    "for fold, (trn_idx, val_idx) in enumerate(skf.split(range(len(df)))):\n",
    "#     if NOT_DEBUG == False:\n",
    "#         if fold == 1: break;\n",
    "    if fold not in EXIST_FOLDS: \n",
    "        print(f\"Jump fold {fold}\")\n",
    "        continue;\n",
    "    else:\n",
    "        print('#'*30)\n",
    "        print(f'Start fold {fold}')\n",
    "        print('#'*30)\n",
    "        df_valid = df.iloc[val_idx]\n",
    "        valid_ds = RSNA24Dataset(df_valid, phase='valid', transform=transforms_val)\n",
    "        valid_dl = DataLoader(\n",
    "                    valid_ds,\n",
    "                    batch_size=16,\n",
    "                    shuffle=False,\n",
    "                    pin_memory=False,\n",
    "                    drop_last=False,\n",
    "                    num_workers=N_WORKERS\n",
    "                    )\n",
    "\n",
    "        model = TimmModel(MODEL_NAME)\n",
    "        # print(\"No internet read\")\n",
    "        fname = f'{OUTPUT_DIR}/best_wll_model_fold-{fold}.pt'\n",
    "        model.load_state_dict(torch.load(fname))\n",
    "        model.to(device)   \n",
    "\n",
    "        model.eval()\n",
    "        with tqdm(valid_dl, leave=True) as pbar:\n",
    "            with torch.no_grad():\n",
    "                for idx, (x, t) in enumerate(pbar):\n",
    "\n",
    "                    x = x.to(device)\n",
    "                    t = t.to(device)\n",
    "\n",
    "                    with autocast:\n",
    "                        y = model(x)\n",
    "                        for col in range(N_LABELS):\n",
    "                            pred = y[:,col*3:col*3+3]\n",
    "                            gt = t[:,col] \n",
    "                            y_pred = pred.float()\n",
    "                            y_preds.append(y_pred.cpu())\n",
    "                            labels.append(gt.cpu())\n",
    "\n",
    "y_preds = torch.cat(y_preds)\n",
    "labels = torch.cat(labels)"
   ]
  },
  {
   "cell_type": "code",
   "execution_count": null,
   "id": "500c3fbe",
   "metadata": {},
   "outputs": [],
   "source": [
    "cv = criterion2(y_preds, labels)\n",
    "print('cv score:', cv.item())"
   ]
  },
  {
   "cell_type": "code",
   "execution_count": null,
   "id": "1c62ce53",
   "metadata": {},
   "outputs": [],
   "source": []
  },
  {
   "cell_type": "code",
   "execution_count": null,
   "id": "445f76e3",
   "metadata": {},
   "outputs": [],
   "source": []
  }
 ],
 "metadata": {
  "kernelspec": {
   "display_name": "Python 3 (ipykernel)",
   "language": "python",
   "name": "python3"
  },
  "language_info": {
   "codemirror_mode": {
    "name": "ipython",
    "version": 3
   },
   "file_extension": ".py",
   "mimetype": "text/x-python",
   "name": "python",
   "nbconvert_exporter": "python",
   "pygments_lexer": "ipython3",
   "version": "3.11.5"
  }
 },
 "nbformat": 4,
 "nbformat_minor": 5
}
