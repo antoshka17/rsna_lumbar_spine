{
 "cells": [
  {
   "cell_type": "code",
   "execution_count": 1,
   "id": "80529c8e",
   "metadata": {
    "execution": {
     "iopub.execute_input": "2024-07-17T08:46:37.693108Z",
     "iopub.status.busy": "2024-07-17T08:46:37.692715Z",
     "iopub.status.idle": "2024-07-17T08:46:46.474515Z",
     "shell.execute_reply": "2024-07-17T08:46:46.473379Z",
     "shell.execute_reply.started": "2024-07-17T08:46:37.693064Z"
    }
   },
   "outputs": [
    {
     "name": "stderr",
     "output_type": "stream",
     "text": [
      "/home/anton/anaconda3/lib/python3.11/site-packages/pandas/core/arrays/masked.py:60: UserWarning: Pandas requires version '1.3.6' or newer of 'bottleneck' (version '1.3.5' currently installed).\n",
      "  from pandas.core import (\n",
      "2024-09-09 01:58:04.276477: I tensorflow/core/util/port.cc:113] oneDNN custom operations are on. You may see slightly different numerical results due to floating-point round-off errors from different computation orders. To turn them off, set the environment variable `TF_ENABLE_ONEDNN_OPTS=0`.\n",
      "2024-09-09 01:58:04.297547: E external/local_xla/xla/stream_executor/cuda/cuda_dnn.cc:9261] Unable to register cuDNN factory: Attempting to register factory for plugin cuDNN when one has already been registered\n",
      "2024-09-09 01:58:04.297568: E external/local_xla/xla/stream_executor/cuda/cuda_fft.cc:607] Unable to register cuFFT factory: Attempting to register factory for plugin cuFFT when one has already been registered\n",
      "2024-09-09 01:58:04.298165: E external/local_xla/xla/stream_executor/cuda/cuda_blas.cc:1515] Unable to register cuBLAS factory: Attempting to register factory for plugin cuBLAS when one has already been registered\n",
      "2024-09-09 01:58:04.301973: I tensorflow/core/platform/cpu_feature_guard.cc:182] This TensorFlow binary is optimized to use available CPU instructions in performance-critical operations.\n",
      "To enable the following instructions: AVX2 AVX_VNNI FMA, in other operations, rebuild TensorFlow with the appropriate compiler flags.\n",
      "2024-09-09 01:58:04.879741: W tensorflow/compiler/tf2tensorrt/utils/py_utils.cc:38] TF-TRT Warning: Could not find TensorRT\n",
      "/home/anton/anaconda3/lib/python3.11/site-packages/transformers/utils/generic.py:260: UserWarning: torch.utils._pytree._register_pytree_node is deprecated. Please use torch.utils._pytree.register_pytree_node instead.\n",
      "  torch.utils._pytree._register_pytree_node(\n",
      "/home/anton/anaconda3/lib/python3.11/site-packages/transformers/utils/generic.py:260: UserWarning: torch.utils._pytree._register_pytree_node is deprecated. Please use torch.utils._pytree.register_pytree_node instead.\n",
      "  torch.utils._pytree._register_pytree_node(\n"
     ]
    }
   ],
   "source": [
    "import torch\n",
    "import torch.nn as nn\n",
    "import pandas as pd\n",
    "import numpy as np\n",
    "from tqdm import tqdm\n",
    "import random\n",
    "import os, sys\n",
    "import timm\n",
    "import torch.nn.functional as F\n",
    "from glob import glob\n",
    "from PIL import Image\n",
    "import cv2\n",
    "from torch.utils.data import Dataset\n",
    "from torch.utils.data import DataLoader\n",
    "import albumentations as A\n",
    "from torch.optim import AdamW\n",
    "from transformers import get_cosine_schedule_with_warmup\n",
    "from sklearn.model_selection import KFold\n",
    "from sklearn.model_selection import train_test_split\n",
    "import matplotlib.pyplot as plt\n",
    "import math\n",
    "from collections import OrderedDict\n",
    "from transformers.models.distilbert.modeling_distilbert import Transformer as T\n",
    "from torch.utils.tensorboard import SummaryWriter\n",
    "writer = SummaryWriter()\n",
    "torch.multiprocessing.set_sharing_strategy('file_descriptor')"
   ]
  },
  {
   "cell_type": "code",
   "execution_count": 2,
   "id": "c7ab32a3",
   "metadata": {
    "execution": {
     "iopub.execute_input": "2024-07-17T08:53:14.273077Z",
     "iopub.status.busy": "2024-07-17T08:53:14.272498Z",
     "iopub.status.idle": "2024-07-17T08:53:14.285305Z",
     "shell.execute_reply": "2024-07-17T08:53:14.284027Z",
     "shell.execute_reply.started": "2024-07-17T08:53:14.273028Z"
    }
   },
   "outputs": [],
   "source": [
    "rd = 'rsna-2024-lumbar-spine-degenerative-classification'\n",
    "OUTPUT_DIR = 'rsna-results-2.5d'\n",
    "DEVICE = 'cuda' if torch.cuda.is_available() else 'cpu'\n",
    "IMG_SIZE = [256, 256]\n",
    "N_FOLDS = 5\n",
    "EPOCHS = 100\n",
    "USE_AMP = True\n",
    "N_LABELS = 25\n",
    "N_CLASSES = 3 * N_LABELS\n",
    "AUG_PROB = 0.75\n",
    "SELECTED_FOLDS = [0, 1, 2, 3, 4]\n",
    "SEED = 69\n",
    "GRAD_ACC = 1\n",
    "TGT_BATCH_SIZE = 8\n",
    "IN_CHANS = 18\n",
    "BATCH_SIZE = TGT_BATCH_SIZE // GRAD_ACC // 2\n",
    "MAX_GRAD_NORM = None\n",
    "EARLY_STOPPING_EPOCH = 20\n",
    "LR = 2e-4 * TGT_BATCH_SIZE / 32\n",
    "WD = 1e-2\n",
    "AUG = True\n",
    "MODEL_NAME = 'convnext_pico.d1_in1k'\n",
    "# MODEL_NAME = 'edgenext_base.in21k_ft_in1k'\n",
    "\n",
    "# MODEL_NAME = 'convnextv2_pico.fcmae'\n",
    "NOT_DEBUG = True\n",
    "N_WORKERS = 4"
   ]
  },
  {
   "cell_type": "code",
   "execution_count": 3,
   "id": "278a9af2",
   "metadata": {
    "execution": {
     "iopub.execute_input": "2024-07-17T08:53:23.113393Z",
     "iopub.status.busy": "2024-07-17T08:53:23.112868Z",
     "iopub.status.idle": "2024-07-17T08:53:23.120277Z",
     "shell.execute_reply": "2024-07-17T08:53:23.118913Z",
     "shell.execute_reply.started": "2024-07-17T08:53:23.113353Z"
    }
   },
   "outputs": [],
   "source": [
    "os.makedirs(OUTPUT_DIR, exist_ok=True)"
   ]
  },
  {
   "cell_type": "code",
   "execution_count": 4,
   "id": "b88b8672",
   "metadata": {
    "execution": {
     "iopub.execute_input": "2024-07-17T08:53:53.114146Z",
     "iopub.status.busy": "2024-07-17T08:53:53.113583Z",
     "iopub.status.idle": "2024-07-17T08:53:53.127492Z",
     "shell.execute_reply": "2024-07-17T08:53:53.126245Z",
     "shell.execute_reply.started": "2024-07-17T08:53:53.114104Z"
    }
   },
   "outputs": [],
   "source": [
    "def set_random_seed(seed: int = 2222, deterministic: bool = False):\n",
    "    \"\"\"Set seeds\"\"\"\n",
    "    random.seed(seed)\n",
    "    np.random.seed(seed)\n",
    "    os.environ[\"PYTHONHASHSEED\"] = str(seed)\n",
    "    torch.manual_seed(seed)\n",
    "    torch.cuda.manual_seed(seed)  # type: ignore\n",
    "    torch.backends.cudnn.benchmark = True\n",
    "    torch.backends.cudnn.deterministic = deterministic  # type: ignore\n",
    "\n",
    "set_random_seed(SEED)"
   ]
  },
  {
   "cell_type": "code",
   "execution_count": 5,
   "id": "61925079",
   "metadata": {
    "execution": {
     "iopub.execute_input": "2024-07-17T08:54:11.043921Z",
     "iopub.status.busy": "2024-07-17T08:54:11.042592Z",
     "iopub.status.idle": "2024-07-17T08:54:11.135358Z",
     "shell.execute_reply": "2024-07-17T08:54:11.134209Z",
     "shell.execute_reply.started": "2024-07-17T08:54:11.043872Z"
    }
   },
   "outputs": [
    {
     "data": {
      "text/html": [
       "<div>\n",
       "<style scoped>\n",
       "    .dataframe tbody tr th:only-of-type {\n",
       "        vertical-align: middle;\n",
       "    }\n",
       "\n",
       "    .dataframe tbody tr th {\n",
       "        vertical-align: top;\n",
       "    }\n",
       "\n",
       "    .dataframe thead th {\n",
       "        text-align: right;\n",
       "    }\n",
       "</style>\n",
       "<table border=\"1\" class=\"dataframe\">\n",
       "  <thead>\n",
       "    <tr style=\"text-align: right;\">\n",
       "      <th></th>\n",
       "      <th>study_id</th>\n",
       "      <th>spinal_canal_stenosis_l1_l2</th>\n",
       "      <th>spinal_canal_stenosis_l2_l3</th>\n",
       "      <th>spinal_canal_stenosis_l3_l4</th>\n",
       "      <th>spinal_canal_stenosis_l4_l5</th>\n",
       "      <th>spinal_canal_stenosis_l5_s1</th>\n",
       "      <th>left_neural_foraminal_narrowing_l1_l2</th>\n",
       "      <th>left_neural_foraminal_narrowing_l2_l3</th>\n",
       "      <th>left_neural_foraminal_narrowing_l3_l4</th>\n",
       "      <th>left_neural_foraminal_narrowing_l4_l5</th>\n",
       "      <th>...</th>\n",
       "      <th>left_subarticular_stenosis_l1_l2</th>\n",
       "      <th>left_subarticular_stenosis_l2_l3</th>\n",
       "      <th>left_subarticular_stenosis_l3_l4</th>\n",
       "      <th>left_subarticular_stenosis_l4_l5</th>\n",
       "      <th>left_subarticular_stenosis_l5_s1</th>\n",
       "      <th>right_subarticular_stenosis_l1_l2</th>\n",
       "      <th>right_subarticular_stenosis_l2_l3</th>\n",
       "      <th>right_subarticular_stenosis_l3_l4</th>\n",
       "      <th>right_subarticular_stenosis_l4_l5</th>\n",
       "      <th>right_subarticular_stenosis_l5_s1</th>\n",
       "    </tr>\n",
       "  </thead>\n",
       "  <tbody>\n",
       "    <tr>\n",
       "      <th>0</th>\n",
       "      <td>4003253</td>\n",
       "      <td>Normal/Mild</td>\n",
       "      <td>Normal/Mild</td>\n",
       "      <td>Normal/Mild</td>\n",
       "      <td>Normal/Mild</td>\n",
       "      <td>Normal/Mild</td>\n",
       "      <td>Normal/Mild</td>\n",
       "      <td>Normal/Mild</td>\n",
       "      <td>Normal/Mild</td>\n",
       "      <td>Moderate</td>\n",
       "      <td>...</td>\n",
       "      <td>Normal/Mild</td>\n",
       "      <td>Normal/Mild</td>\n",
       "      <td>Normal/Mild</td>\n",
       "      <td>Moderate</td>\n",
       "      <td>Normal/Mild</td>\n",
       "      <td>Normal/Mild</td>\n",
       "      <td>Normal/Mild</td>\n",
       "      <td>Normal/Mild</td>\n",
       "      <td>Normal/Mild</td>\n",
       "      <td>Normal/Mild</td>\n",
       "    </tr>\n",
       "    <tr>\n",
       "      <th>1</th>\n",
       "      <td>4646740</td>\n",
       "      <td>Normal/Mild</td>\n",
       "      <td>Normal/Mild</td>\n",
       "      <td>Moderate</td>\n",
       "      <td>Severe</td>\n",
       "      <td>Normal/Mild</td>\n",
       "      <td>Normal/Mild</td>\n",
       "      <td>Normal/Mild</td>\n",
       "      <td>Normal/Mild</td>\n",
       "      <td>Moderate</td>\n",
       "      <td>...</td>\n",
       "      <td>Normal/Mild</td>\n",
       "      <td>Normal/Mild</td>\n",
       "      <td>Normal/Mild</td>\n",
       "      <td>Severe</td>\n",
       "      <td>Normal/Mild</td>\n",
       "      <td>Normal/Mild</td>\n",
       "      <td>Moderate</td>\n",
       "      <td>Moderate</td>\n",
       "      <td>Moderate</td>\n",
       "      <td>Normal/Mild</td>\n",
       "    </tr>\n",
       "    <tr>\n",
       "      <th>2</th>\n",
       "      <td>7143189</td>\n",
       "      <td>Normal/Mild</td>\n",
       "      <td>Normal/Mild</td>\n",
       "      <td>Normal/Mild</td>\n",
       "      <td>Normal/Mild</td>\n",
       "      <td>Normal/Mild</td>\n",
       "      <td>Normal/Mild</td>\n",
       "      <td>Normal/Mild</td>\n",
       "      <td>Normal/Mild</td>\n",
       "      <td>Normal/Mild</td>\n",
       "      <td>...</td>\n",
       "      <td>Normal/Mild</td>\n",
       "      <td>Normal/Mild</td>\n",
       "      <td>Normal/Mild</td>\n",
       "      <td>Normal/Mild</td>\n",
       "      <td>Normal/Mild</td>\n",
       "      <td>Normal/Mild</td>\n",
       "      <td>Normal/Mild</td>\n",
       "      <td>Normal/Mild</td>\n",
       "      <td>Normal/Mild</td>\n",
       "      <td>Normal/Mild</td>\n",
       "    </tr>\n",
       "    <tr>\n",
       "      <th>3</th>\n",
       "      <td>8785691</td>\n",
       "      <td>Normal/Mild</td>\n",
       "      <td>Normal/Mild</td>\n",
       "      <td>Normal/Mild</td>\n",
       "      <td>Normal/Mild</td>\n",
       "      <td>Normal/Mild</td>\n",
       "      <td>Normal/Mild</td>\n",
       "      <td>Normal/Mild</td>\n",
       "      <td>Normal/Mild</td>\n",
       "      <td>Moderate</td>\n",
       "      <td>...</td>\n",
       "      <td>Normal/Mild</td>\n",
       "      <td>Normal/Mild</td>\n",
       "      <td>Normal/Mild</td>\n",
       "      <td>Normal/Mild</td>\n",
       "      <td>Normal/Mild</td>\n",
       "      <td>Normal/Mild</td>\n",
       "      <td>Normal/Mild</td>\n",
       "      <td>Normal/Mild</td>\n",
       "      <td>Normal/Mild</td>\n",
       "      <td>Normal/Mild</td>\n",
       "    </tr>\n",
       "    <tr>\n",
       "      <th>4</th>\n",
       "      <td>10728036</td>\n",
       "      <td>Normal/Mild</td>\n",
       "      <td>Normal/Mild</td>\n",
       "      <td>Normal/Mild</td>\n",
       "      <td>Normal/Mild</td>\n",
       "      <td>Normal/Mild</td>\n",
       "      <td>Normal/Mild</td>\n",
       "      <td>Normal/Mild</td>\n",
       "      <td>Normal/Mild</td>\n",
       "      <td>Normal/Mild</td>\n",
       "      <td>...</td>\n",
       "      <td>Normal/Mild</td>\n",
       "      <td>Normal/Mild</td>\n",
       "      <td>Normal/Mild</td>\n",
       "      <td>Normal/Mild</td>\n",
       "      <td>Normal/Mild</td>\n",
       "      <td>Normal/Mild</td>\n",
       "      <td>Normal/Mild</td>\n",
       "      <td>Normal/Mild</td>\n",
       "      <td>Moderate</td>\n",
       "      <td>Normal/Mild</td>\n",
       "    </tr>\n",
       "  </tbody>\n",
       "</table>\n",
       "<p>5 rows × 26 columns</p>\n",
       "</div>"
      ],
      "text/plain": [
       "   study_id spinal_canal_stenosis_l1_l2 spinal_canal_stenosis_l2_l3  \\\n",
       "0   4003253                 Normal/Mild                 Normal/Mild   \n",
       "1   4646740                 Normal/Mild                 Normal/Mild   \n",
       "2   7143189                 Normal/Mild                 Normal/Mild   \n",
       "3   8785691                 Normal/Mild                 Normal/Mild   \n",
       "4  10728036                 Normal/Mild                 Normal/Mild   \n",
       "\n",
       "  spinal_canal_stenosis_l3_l4 spinal_canal_stenosis_l4_l5  \\\n",
       "0                 Normal/Mild                 Normal/Mild   \n",
       "1                    Moderate                      Severe   \n",
       "2                 Normal/Mild                 Normal/Mild   \n",
       "3                 Normal/Mild                 Normal/Mild   \n",
       "4                 Normal/Mild                 Normal/Mild   \n",
       "\n",
       "  spinal_canal_stenosis_l5_s1 left_neural_foraminal_narrowing_l1_l2  \\\n",
       "0                 Normal/Mild                           Normal/Mild   \n",
       "1                 Normal/Mild                           Normal/Mild   \n",
       "2                 Normal/Mild                           Normal/Mild   \n",
       "3                 Normal/Mild                           Normal/Mild   \n",
       "4                 Normal/Mild                           Normal/Mild   \n",
       "\n",
       "  left_neural_foraminal_narrowing_l2_l3 left_neural_foraminal_narrowing_l3_l4  \\\n",
       "0                           Normal/Mild                           Normal/Mild   \n",
       "1                           Normal/Mild                           Normal/Mild   \n",
       "2                           Normal/Mild                           Normal/Mild   \n",
       "3                           Normal/Mild                           Normal/Mild   \n",
       "4                           Normal/Mild                           Normal/Mild   \n",
       "\n",
       "  left_neural_foraminal_narrowing_l4_l5  ... left_subarticular_stenosis_l1_l2  \\\n",
       "0                              Moderate  ...                      Normal/Mild   \n",
       "1                              Moderate  ...                      Normal/Mild   \n",
       "2                           Normal/Mild  ...                      Normal/Mild   \n",
       "3                              Moderate  ...                      Normal/Mild   \n",
       "4                           Normal/Mild  ...                      Normal/Mild   \n",
       "\n",
       "  left_subarticular_stenosis_l2_l3 left_subarticular_stenosis_l3_l4  \\\n",
       "0                      Normal/Mild                      Normal/Mild   \n",
       "1                      Normal/Mild                      Normal/Mild   \n",
       "2                      Normal/Mild                      Normal/Mild   \n",
       "3                      Normal/Mild                      Normal/Mild   \n",
       "4                      Normal/Mild                      Normal/Mild   \n",
       "\n",
       "  left_subarticular_stenosis_l4_l5 left_subarticular_stenosis_l5_s1  \\\n",
       "0                         Moderate                      Normal/Mild   \n",
       "1                           Severe                      Normal/Mild   \n",
       "2                      Normal/Mild                      Normal/Mild   \n",
       "3                      Normal/Mild                      Normal/Mild   \n",
       "4                      Normal/Mild                      Normal/Mild   \n",
       "\n",
       "  right_subarticular_stenosis_l1_l2 right_subarticular_stenosis_l2_l3  \\\n",
       "0                       Normal/Mild                       Normal/Mild   \n",
       "1                       Normal/Mild                          Moderate   \n",
       "2                       Normal/Mild                       Normal/Mild   \n",
       "3                       Normal/Mild                       Normal/Mild   \n",
       "4                       Normal/Mild                       Normal/Mild   \n",
       "\n",
       "  right_subarticular_stenosis_l3_l4 right_subarticular_stenosis_l4_l5  \\\n",
       "0                       Normal/Mild                       Normal/Mild   \n",
       "1                          Moderate                          Moderate   \n",
       "2                       Normal/Mild                       Normal/Mild   \n",
       "3                       Normal/Mild                       Normal/Mild   \n",
       "4                       Normal/Mild                          Moderate   \n",
       "\n",
       "  right_subarticular_stenosis_l5_s1  \n",
       "0                       Normal/Mild  \n",
       "1                       Normal/Mild  \n",
       "2                       Normal/Mild  \n",
       "3                       Normal/Mild  \n",
       "4                       Normal/Mild  \n",
       "\n",
       "[5 rows x 26 columns]"
      ]
     },
     "execution_count": 5,
     "metadata": {},
     "output_type": "execute_result"
    }
   ],
   "source": [
    "df = pd.read_csv(f'{rd}/train.csv')\n",
    "df.head()"
   ]
  },
  {
   "cell_type": "code",
   "execution_count": 6,
   "id": "f7b704f3",
   "metadata": {
    "execution": {
     "iopub.execute_input": "2024-07-17T08:54:12.373561Z",
     "iopub.status.busy": "2024-07-17T08:54:12.373040Z",
     "iopub.status.idle": "2024-07-17T08:54:12.386686Z",
     "shell.execute_reply": "2024-07-17T08:54:12.385467Z",
     "shell.execute_reply.started": "2024-07-17T08:54:12.373524Z"
    }
   },
   "outputs": [],
   "source": [
    "df = df.fillna(-100)"
   ]
  },
  {
   "cell_type": "code",
   "execution_count": 7,
   "id": "c6f8a96a",
   "metadata": {
    "execution": {
     "iopub.execute_input": "2024-07-17T08:54:12.629267Z",
     "iopub.status.busy": "2024-07-17T08:54:12.628741Z",
     "iopub.status.idle": "2024-07-17T08:54:12.680896Z",
     "shell.execute_reply": "2024-07-17T08:54:12.679549Z",
     "shell.execute_reply.started": "2024-07-17T08:54:12.629224Z"
    }
   },
   "outputs": [
    {
     "name": "stderr",
     "output_type": "stream",
     "text": [
      "/tmp/ipykernel_26968/1901592955.py:2: FutureWarning: Downcasting behavior in `replace` is deprecated and will be removed in a future version. To retain the old behavior, explicitly call `result.infer_objects(copy=False)`. To opt-in to the future behavior, set `pd.set_option('future.no_silent_downcasting', True)`\n",
      "  df = df.replace(label2id)\n"
     ]
    },
    {
     "data": {
      "text/html": [
       "<div>\n",
       "<style scoped>\n",
       "    .dataframe tbody tr th:only-of-type {\n",
       "        vertical-align: middle;\n",
       "    }\n",
       "\n",
       "    .dataframe tbody tr th {\n",
       "        vertical-align: top;\n",
       "    }\n",
       "\n",
       "    .dataframe thead th {\n",
       "        text-align: right;\n",
       "    }\n",
       "</style>\n",
       "<table border=\"1\" class=\"dataframe\">\n",
       "  <thead>\n",
       "    <tr style=\"text-align: right;\">\n",
       "      <th></th>\n",
       "      <th>study_id</th>\n",
       "      <th>spinal_canal_stenosis_l1_l2</th>\n",
       "      <th>spinal_canal_stenosis_l2_l3</th>\n",
       "      <th>spinal_canal_stenosis_l3_l4</th>\n",
       "      <th>spinal_canal_stenosis_l4_l5</th>\n",
       "      <th>spinal_canal_stenosis_l5_s1</th>\n",
       "      <th>left_neural_foraminal_narrowing_l1_l2</th>\n",
       "      <th>left_neural_foraminal_narrowing_l2_l3</th>\n",
       "      <th>left_neural_foraminal_narrowing_l3_l4</th>\n",
       "      <th>left_neural_foraminal_narrowing_l4_l5</th>\n",
       "      <th>...</th>\n",
       "      <th>left_subarticular_stenosis_l1_l2</th>\n",
       "      <th>left_subarticular_stenosis_l2_l3</th>\n",
       "      <th>left_subarticular_stenosis_l3_l4</th>\n",
       "      <th>left_subarticular_stenosis_l4_l5</th>\n",
       "      <th>left_subarticular_stenosis_l5_s1</th>\n",
       "      <th>right_subarticular_stenosis_l1_l2</th>\n",
       "      <th>right_subarticular_stenosis_l2_l3</th>\n",
       "      <th>right_subarticular_stenosis_l3_l4</th>\n",
       "      <th>right_subarticular_stenosis_l4_l5</th>\n",
       "      <th>right_subarticular_stenosis_l5_s1</th>\n",
       "    </tr>\n",
       "  </thead>\n",
       "  <tbody>\n",
       "    <tr>\n",
       "      <th>0</th>\n",
       "      <td>4003253</td>\n",
       "      <td>0</td>\n",
       "      <td>0</td>\n",
       "      <td>0</td>\n",
       "      <td>0</td>\n",
       "      <td>0</td>\n",
       "      <td>0</td>\n",
       "      <td>0</td>\n",
       "      <td>0</td>\n",
       "      <td>1</td>\n",
       "      <td>...</td>\n",
       "      <td>0</td>\n",
       "      <td>0</td>\n",
       "      <td>0</td>\n",
       "      <td>1</td>\n",
       "      <td>0</td>\n",
       "      <td>0</td>\n",
       "      <td>0</td>\n",
       "      <td>0</td>\n",
       "      <td>0</td>\n",
       "      <td>0</td>\n",
       "    </tr>\n",
       "    <tr>\n",
       "      <th>1</th>\n",
       "      <td>4646740</td>\n",
       "      <td>0</td>\n",
       "      <td>0</td>\n",
       "      <td>1</td>\n",
       "      <td>2</td>\n",
       "      <td>0</td>\n",
       "      <td>0</td>\n",
       "      <td>0</td>\n",
       "      <td>0</td>\n",
       "      <td>1</td>\n",
       "      <td>...</td>\n",
       "      <td>0</td>\n",
       "      <td>0</td>\n",
       "      <td>0</td>\n",
       "      <td>2</td>\n",
       "      <td>0</td>\n",
       "      <td>0</td>\n",
       "      <td>1</td>\n",
       "      <td>1</td>\n",
       "      <td>1</td>\n",
       "      <td>0</td>\n",
       "    </tr>\n",
       "    <tr>\n",
       "      <th>2</th>\n",
       "      <td>7143189</td>\n",
       "      <td>0</td>\n",
       "      <td>0</td>\n",
       "      <td>0</td>\n",
       "      <td>0</td>\n",
       "      <td>0</td>\n",
       "      <td>0</td>\n",
       "      <td>0</td>\n",
       "      <td>0</td>\n",
       "      <td>0</td>\n",
       "      <td>...</td>\n",
       "      <td>0</td>\n",
       "      <td>0</td>\n",
       "      <td>0</td>\n",
       "      <td>0</td>\n",
       "      <td>0</td>\n",
       "      <td>0</td>\n",
       "      <td>0</td>\n",
       "      <td>0</td>\n",
       "      <td>0</td>\n",
       "      <td>0</td>\n",
       "    </tr>\n",
       "    <tr>\n",
       "      <th>3</th>\n",
       "      <td>8785691</td>\n",
       "      <td>0</td>\n",
       "      <td>0</td>\n",
       "      <td>0</td>\n",
       "      <td>0</td>\n",
       "      <td>0</td>\n",
       "      <td>0</td>\n",
       "      <td>0</td>\n",
       "      <td>0</td>\n",
       "      <td>1</td>\n",
       "      <td>...</td>\n",
       "      <td>0</td>\n",
       "      <td>0</td>\n",
       "      <td>0</td>\n",
       "      <td>0</td>\n",
       "      <td>0</td>\n",
       "      <td>0</td>\n",
       "      <td>0</td>\n",
       "      <td>0</td>\n",
       "      <td>0</td>\n",
       "      <td>0</td>\n",
       "    </tr>\n",
       "    <tr>\n",
       "      <th>4</th>\n",
       "      <td>10728036</td>\n",
       "      <td>0</td>\n",
       "      <td>0</td>\n",
       "      <td>0</td>\n",
       "      <td>0</td>\n",
       "      <td>0</td>\n",
       "      <td>0</td>\n",
       "      <td>0</td>\n",
       "      <td>0</td>\n",
       "      <td>0</td>\n",
       "      <td>...</td>\n",
       "      <td>0</td>\n",
       "      <td>0</td>\n",
       "      <td>0</td>\n",
       "      <td>0</td>\n",
       "      <td>0</td>\n",
       "      <td>0</td>\n",
       "      <td>0</td>\n",
       "      <td>0</td>\n",
       "      <td>1</td>\n",
       "      <td>0</td>\n",
       "    </tr>\n",
       "  </tbody>\n",
       "</table>\n",
       "<p>5 rows × 26 columns</p>\n",
       "</div>"
      ],
      "text/plain": [
       "   study_id  spinal_canal_stenosis_l1_l2  spinal_canal_stenosis_l2_l3  \\\n",
       "0   4003253                            0                            0   \n",
       "1   4646740                            0                            0   \n",
       "2   7143189                            0                            0   \n",
       "3   8785691                            0                            0   \n",
       "4  10728036                            0                            0   \n",
       "\n",
       "   spinal_canal_stenosis_l3_l4  spinal_canal_stenosis_l4_l5  \\\n",
       "0                            0                            0   \n",
       "1                            1                            2   \n",
       "2                            0                            0   \n",
       "3                            0                            0   \n",
       "4                            0                            0   \n",
       "\n",
       "   spinal_canal_stenosis_l5_s1  left_neural_foraminal_narrowing_l1_l2  \\\n",
       "0                            0                                      0   \n",
       "1                            0                                      0   \n",
       "2                            0                                      0   \n",
       "3                            0                                      0   \n",
       "4                            0                                      0   \n",
       "\n",
       "   left_neural_foraminal_narrowing_l2_l3  \\\n",
       "0                                      0   \n",
       "1                                      0   \n",
       "2                                      0   \n",
       "3                                      0   \n",
       "4                                      0   \n",
       "\n",
       "   left_neural_foraminal_narrowing_l3_l4  \\\n",
       "0                                      0   \n",
       "1                                      0   \n",
       "2                                      0   \n",
       "3                                      0   \n",
       "4                                      0   \n",
       "\n",
       "   left_neural_foraminal_narrowing_l4_l5  ...  \\\n",
       "0                                      1  ...   \n",
       "1                                      1  ...   \n",
       "2                                      0  ...   \n",
       "3                                      1  ...   \n",
       "4                                      0  ...   \n",
       "\n",
       "   left_subarticular_stenosis_l1_l2  left_subarticular_stenosis_l2_l3  \\\n",
       "0                                 0                                 0   \n",
       "1                                 0                                 0   \n",
       "2                                 0                                 0   \n",
       "3                                 0                                 0   \n",
       "4                                 0                                 0   \n",
       "\n",
       "   left_subarticular_stenosis_l3_l4  left_subarticular_stenosis_l4_l5  \\\n",
       "0                                 0                                 1   \n",
       "1                                 0                                 2   \n",
       "2                                 0                                 0   \n",
       "3                                 0                                 0   \n",
       "4                                 0                                 0   \n",
       "\n",
       "   left_subarticular_stenosis_l5_s1  right_subarticular_stenosis_l1_l2  \\\n",
       "0                                 0                                  0   \n",
       "1                                 0                                  0   \n",
       "2                                 0                                  0   \n",
       "3                                 0                                  0   \n",
       "4                                 0                                  0   \n",
       "\n",
       "   right_subarticular_stenosis_l2_l3  right_subarticular_stenosis_l3_l4  \\\n",
       "0                                  0                                  0   \n",
       "1                                  1                                  1   \n",
       "2                                  0                                  0   \n",
       "3                                  0                                  0   \n",
       "4                                  0                                  0   \n",
       "\n",
       "   right_subarticular_stenosis_l4_l5  right_subarticular_stenosis_l5_s1  \n",
       "0                                  0                                  0  \n",
       "1                                  1                                  0  \n",
       "2                                  0                                  0  \n",
       "3                                  0                                  0  \n",
       "4                                  1                                  0  \n",
       "\n",
       "[5 rows x 26 columns]"
      ]
     },
     "execution_count": 7,
     "metadata": {},
     "output_type": "execute_result"
    }
   ],
   "source": [
    "label2id = {'Normal/Mild': 0, 'Moderate':1, 'Severe':2}\n",
    "df = df.replace(label2id)\n",
    "df.head()"
   ]
  },
  {
   "cell_type": "code",
   "execution_count": 8,
   "id": "f129645b",
   "metadata": {
    "execution": {
     "iopub.execute_input": "2024-07-17T08:54:12.961490Z",
     "iopub.status.busy": "2024-07-17T08:54:12.960972Z",
     "iopub.status.idle": "2024-07-17T08:54:12.970775Z",
     "shell.execute_reply": "2024-07-17T08:54:12.969646Z",
     "shell.execute_reply.started": "2024-07-17T08:54:12.961445Z"
    }
   },
   "outputs": [
    {
     "data": {
      "text/plain": [
       "['spinal_canal_stenosis_l1_l2',\n",
       " 'spinal_canal_stenosis_l2_l3',\n",
       " 'spinal_canal_stenosis_l3_l4',\n",
       " 'spinal_canal_stenosis_l4_l5',\n",
       " 'spinal_canal_stenosis_l5_s1',\n",
       " 'left_neural_foraminal_narrowing_l1_l2',\n",
       " 'left_neural_foraminal_narrowing_l2_l3',\n",
       " 'left_neural_foraminal_narrowing_l3_l4',\n",
       " 'left_neural_foraminal_narrowing_l4_l5',\n",
       " 'left_neural_foraminal_narrowing_l5_s1',\n",
       " 'right_neural_foraminal_narrowing_l1_l2',\n",
       " 'right_neural_foraminal_narrowing_l2_l3',\n",
       " 'right_neural_foraminal_narrowing_l3_l4',\n",
       " 'right_neural_foraminal_narrowing_l4_l5',\n",
       " 'right_neural_foraminal_narrowing_l5_s1',\n",
       " 'left_subarticular_stenosis_l1_l2',\n",
       " 'left_subarticular_stenosis_l2_l3',\n",
       " 'left_subarticular_stenosis_l3_l4',\n",
       " 'left_subarticular_stenosis_l4_l5',\n",
       " 'left_subarticular_stenosis_l5_s1',\n",
       " 'right_subarticular_stenosis_l1_l2',\n",
       " 'right_subarticular_stenosis_l2_l3',\n",
       " 'right_subarticular_stenosis_l3_l4',\n",
       " 'right_subarticular_stenosis_l4_l5',\n",
       " 'right_subarticular_stenosis_l5_s1']"
      ]
     },
     "execution_count": 8,
     "metadata": {},
     "output_type": "execute_result"
    }
   ],
   "source": [
    "CONDITIONS = [\n",
    "    'Spinal Canal Stenosis', \n",
    "    'Left Neural Foraminal Narrowing', \n",
    "    'Right Neural Foraminal Narrowing',\n",
    "    'Left Subarticular Stenosis',\n",
    "    'Right Subarticular Stenosis'\n",
    "]\n",
    "\n",
    "LEVELS = [\n",
    "    'L1/L2',\n",
    "    'L2/L3',\n",
    "    'L3/L4',\n",
    "    'L4/L5',\n",
    "    'L5/S1',\n",
    "]\n",
    "model_names = list(df.columns)[1:]\n",
    "model_names"
   ]
  },
  {
   "cell_type": "code",
   "execution_count": 9,
   "id": "a4696df6",
   "metadata": {
    "execution": {
     "iopub.execute_input": "2024-07-17T09:06:53.085091Z",
     "iopub.status.busy": "2024-07-17T09:06:53.083793Z",
     "iopub.status.idle": "2024-07-17T09:06:53.104618Z",
     "shell.execute_reply": "2024-07-17T09:06:53.102957Z",
     "shell.execute_reply.started": "2024-07-17T09:06:53.085039Z"
    }
   },
   "outputs": [],
   "source": [
    "from pathlib import Path\n",
    "class RSNA24Dataset(Dataset):\n",
    "    def __init__(self, df, phase='train', transform=None):\n",
    "        self.df = df\n",
    "        self.transform = transform\n",
    "        self.phase = phase\n",
    "    \n",
    "    def __len__(self):\n",
    "        return len(self.df)\n",
    "\n",
    "    def __getitem__(self, idx):\n",
    "        x = np.zeros((IMG_SIZE[0], IMG_SIZE[1], IN_CHANS, 3), dtype=np.float32)\n",
    "        t = self.df.iloc[idx]\n",
    "        st_id = int(t['study_id'])\n",
    "        label = t[1:].values.astype(np.int64)\n",
    "        \n",
    "        # Sagittal T1\n",
    "\n",
    "        sat1 = glob(f'cvt_png/{st_id}/Sagittal T1/*.png')\n",
    "        sat1 = sorted(sat1)\n",
    "    \n",
    "        step = len(sat1) / (IN_CHANS - 1)\n",
    "        st = 0\n",
    "        end = len(sat1)+0.0001\n",
    "        if len(sat1) != 0:\n",
    "            for i, j in enumerate(np.arange(st, end, step)):\n",
    "                try:\n",
    "                    p = sat1[max(0, int((j-0.5001).round()))]\n",
    "                    img = Image.open(p).convert('L')\n",
    "                    img = np.array(img)\n",
    "                    x[..., i, 0] = img.astype(np.float32)\n",
    "                except:\n",
    "#                     print(f'failed to load on {st_id}, Sagittal T1')\n",
    "                    pass\n",
    "            \n",
    "        #Sagittal T2/STIR\n",
    "        sat2 = glob(f'cvt_png/{st_id}/Sagittal T2_STIR/*.png')\n",
    "        sat2 = sorted(sat2)\n",
    "    \n",
    "        step = len(sat2) / (IN_CHANS - 1)\n",
    "        st = 0\n",
    "        end = len(sat2)+0.0001\n",
    "\n",
    "        if len(sat2) != 0:\n",
    "            for i, j in enumerate(np.arange(st, end, step)):\n",
    "                try:\n",
    "                    p = sat2[max(0, int((j-0.5001).round()))]\n",
    "                    img = Image.open(p).convert('L')\n",
    "                    img = np.array(img)\n",
    "                    x[..., i, 1] = img.astype(np.float32)\n",
    "                except:\n",
    "#                     print(f'failed to load on {st_id}, Sagittal T2/STIR')\n",
    "                    pass\n",
    "            \n",
    "        # Axial T2\n",
    "        axt2 = glob(f'cvt_png/{st_id}/Axial T2/*.png')\n",
    "        axt2 = sorted(axt2)\n",
    "    \n",
    "        step = len(axt2) / (IN_CHANS - 1)\n",
    "        st = 0\n",
    "        end = len(axt2)+0.0001\n",
    "\n",
    "        if len(axt2) != 0:\n",
    "            for i, j in enumerate(np.arange(st, end, step)):\n",
    "                try:\n",
    "                    p = axt2[max(0, int((j-0.5001).round()))]\n",
    "                    img = Image.open(p).convert('L')\n",
    "                    img = np.array(img)\n",
    "                    x[..., i, 2] = img.astype(np.float32)\n",
    "                except:\n",
    "#                     print(f'failed to load on {st_id}, Axial T2')\n",
    "                    pass  \n",
    "            \n",
    "#         assert np.sum(x)>0\n",
    "        if self.transform is not None:\n",
    "            for i in range(x.shape[-1]):\n",
    "                x[..., i] = self.transform(image=x[..., i])['image']\n",
    "\n",
    "        x = x.transpose(2, 3, 0, 1)\n",
    "        \n",
    "                \n",
    "        return x, label"
   ]
  },
  {
   "cell_type": "code",
   "execution_count": 10,
   "id": "9cc44227",
   "metadata": {
    "execution": {
     "iopub.execute_input": "2024-07-17T09:06:53.363084Z",
     "iopub.status.busy": "2024-07-17T09:06:53.362255Z",
     "iopub.status.idle": "2024-07-17T09:06:53.374577Z",
     "shell.execute_reply": "2024-07-17T09:06:53.373275Z",
     "shell.execute_reply.started": "2024-07-17T09:06:53.363024Z"
    }
   },
   "outputs": [
    {
     "name": "stderr",
     "output_type": "stream",
     "text": [
      "/home/anton/anaconda3/lib/python3.11/site-packages/albumentations/augmentations/blur/transforms.py:189: UserWarning: blur_limit and sigma_limit minimum value can not be both equal to 0. blur_limit minimum value changed to 3.\n",
      "  warnings.warn(\n"
     ]
    }
   ],
   "source": [
    "transforms_train = A.Compose([\n",
    "    A.OneOf([\n",
    "        A.MotionBlur(blur_limit=5),\n",
    "        A.MedianBlur(blur_limit=5),\n",
    "        A.GaussianBlur(blur_limit=5),\n",
    "        A.GaussNoise(var_limit=50),\n",
    "    ], p=AUG_PROB),\n",
    "\n",
    "    A.OneOf([\n",
    "        A.OpticalDistortion(distort_limit=1.0),\n",
    "        A.GridDistortion(num_steps=5, distort_limit=1.),\n",
    "        A.ElasticTransform(alpha=3),\n",
    "    ], p=AUG_PROB),\n",
    "\n",
    "    A.ShiftScaleRotate(shift_limit=0.1, scale_limit=0.1, rotate_limit=15, border_mode=0, p=AUG_PROB),\n",
    "    A.Resize(IMG_SIZE[0], IMG_SIZE[1]),\n",
    "#     A.CoarseDropout(max_holes=16, max_height=16, max_width=16, min_holes=1, min_height=2, min_width=2, p=AUG_PROB),    \n",
    "    A.Normalize(mean=0.5, std=0.5)\n",
    "])\n",
    "\n",
    "transforms_val = A.Compose([\n",
    "    A.Resize(IMG_SIZE[0], IMG_SIZE[1]),\n",
    "    A.Normalize(mean=0.5, std=0.5)\n",
    "])\n",
    "\n",
    "if not AUG:\n",
    "    transforms_train = transforms_val"
   ]
  },
  {
   "cell_type": "code",
   "execution_count": 11,
   "id": "a0ec4b66",
   "metadata": {
    "execution": {
     "iopub.execute_input": "2024-07-17T09:06:53.600573Z",
     "iopub.status.busy": "2024-07-17T09:06:53.599112Z",
     "iopub.status.idle": "2024-07-17T09:06:53.744563Z",
     "shell.execute_reply": "2024-07-17T09:06:53.742690Z",
     "shell.execute_reply.started": "2024-07-17T09:06:53.600526Z"
    }
   },
   "outputs": [
    {
     "name": "stdout",
     "output_type": "stream",
     "text": [
      "x stat: torch.Size([1, 18, 3, 256, 256]) tensor(-1.) tensor(0.9018) tensor(-0.8204) tensor(0.3303)\n",
      "tensor([[0, 0, 0, 0, 0, 0, 0, 0, 1, 0, 0, 0, 1, 1, 0, 0, 0, 0, 1, 0, 0, 0, 0, 0,\n",
      "         0]]) torch.Size([1, 25])\n"
     ]
    },
    {
     "data": {
      "image/png": "[encoded data removed]",
      "text/plain": [
       "<Figure size 640x480 with 1 Axes>"
      ]
     },
     "metadata": {},
     "output_type": "display_data"
    },
    {
     "name": "stdout",
     "output_type": "stream",
     "text": [
      "y stat: (256, 256) -1.0 0.7974878 -0.7460747 0.3573871\n",
      "\n",
      "x stat: torch.Size([1, 18, 3, 256, 256]) tensor(-1.) tensor(0.9634) tensor(-0.7002) tensor(0.2860)\n",
      "tensor([[0, 0, 1, 2, 0, 0, 0, 0, 1, 1, 0, 0, 1, 1, 0, 0, 0, 0, 2, 0, 0, 1, 1, 1,\n",
      "         0]]) torch.Size([1, 25])\n"
     ]
    },
    {
     "data": {
      "image/png": "[encoded data removed]",
      "text/plain": [
       "<Figure size 640x480 with 1 Axes>"
      ]
     },
     "metadata": {},
     "output_type": "display_data"
    },
    {
     "name": "stdout",
     "output_type": "stream",
     "text": [
      "y stat: (256, 256) -1.0 0.2885539 -0.61650914 0.27716556\n",
      "\n"
     ]
    }
   ],
   "source": [
    "tmp_ds = RSNA24Dataset(df, phase='train', transform=transforms_train)\n",
    "tmp_dl = DataLoader(\n",
    "            tmp_ds,\n",
    "            batch_size=1,\n",
    "            shuffle=False,\n",
    "            pin_memory=False,\n",
    "            drop_last=False,\n",
    "            num_workers=0\n",
    "            )\n",
    "\n",
    "for i, (x, t) in enumerate(tmp_dl):\n",
    "    if i==2:break\n",
    "    print('x stat:', x.shape, x.min(), x.max(),x.mean(), x.std())\n",
    "    print(t, t.shape)\n",
    "    y = x.numpy()[0,1,0,:,:]\n",
    "    plt.imshow(y)\n",
    "    plt.show()\n",
    "    print('y stat:', y.shape, y.min(), y.max(),y.mean(), y.std())\n",
    "    print()\n",
    "plt.close()\n",
    "del tmp_ds, tmp_dl"
   ]
  },
  {
   "cell_type": "code",
   "execution_count": 12,
   "id": "504e8f03",
   "metadata": {
    "execution": {
     "iopub.status.busy": "2024-07-17T08:54:14.662151Z",
     "iopub.status.idle": "2024-07-17T08:54:14.662745Z",
     "shell.execute_reply": "2024-07-17T08:54:14.662495Z",
     "shell.execute_reply.started": "2024-07-17T08:54:14.662471Z"
    }
   },
   "outputs": [],
   "source": [
    "class Attention(nn.Module):\n",
    "    def __init__(self, feature_dim, step_dim, bias=True, **kwargs):\n",
    "        super(Attention, self).__init__(**kwargs)\n",
    "        \n",
    "        self.supports_masking = True\n",
    "\n",
    "        self.bias = bias\n",
    "        self.feature_dim = feature_dim\n",
    "        self.step_dim = step_dim\n",
    "        self.features_dim = 0\n",
    "        \n",
    "        weight = torch.zeros(feature_dim, 1)\n",
    "#         nn.init.kaiming_uniform_(weight)\n",
    "        self.weight = nn.Parameter(weight)\n",
    "        \n",
    "        if bias:\n",
    "            self.b = nn.Parameter(torch.zeros(step_dim))\n",
    "        \n",
    "    def forward(self, x, mask=None):\n",
    "        feature_dim = self.feature_dim \n",
    "        step_dim = self.step_dim\n",
    "\n",
    "        eij = torch.mm(\n",
    "            x.contiguous().view(-1, feature_dim), \n",
    "            self.weight\n",
    "        ).view(-1, step_dim)\n",
    "        \n",
    "        if self.bias:\n",
    "            eij = eij + self.b\n",
    "            \n",
    "        eij = torch.tanh(eij)\n",
    "        a = torch.exp(eij)\n",
    "        \n",
    "        if mask is not None:\n",
    "            a = a * mask\n",
    "\n",
    "        a = a / (torch.sum(a, 1, keepdim=True) + 1e-10)\n",
    "\n",
    "        weighted_input = x * torch.unsqueeze(a, -1)\n",
    "        return torch.sum(weighted_input, 1)\n",
    "        \n",
    "\n"
   ]
  },
  {
   "cell_type": "code",
   "execution_count": 13,
   "id": "d22cb30c",
   "metadata": {
    "execution": {
     "iopub.execute_input": "2024-07-17T08:54:14.733070Z",
     "iopub.status.busy": "2024-07-17T08:54:14.732563Z",
     "iopub.status.idle": "2024-07-17T08:54:14.747165Z",
     "shell.execute_reply": "2024-07-17T08:54:14.745759Z",
     "shell.execute_reply.started": "2024-07-17T08:54:14.733027Z"
    }
   },
   "outputs": [],
   "source": [
    "class TimmModelCombo(nn.Module):\n",
    "    def __init__(self, backbone, pretrained=False):\n",
    "        super(TimmModelCombo, self).__init__()\n",
    "\n",
    "        self.encoder_sagittal = timm.create_model(\n",
    "            backbone,\n",
    "            in_chans=2,\n",
    "            num_classes=1,\n",
    "            features_only=False,\n",
    "            drop_rate=0.4,\n",
    "            pretrained=pretrained\n",
    "        )\n",
    "        \n",
    "        self.encoder_axial = timm.create_model(\n",
    "            backbone,\n",
    "            in_chans=1,\n",
    "            num_classes=1,\n",
    "            features_only=False,\n",
    "            drop_rate=0.4,\n",
    "            pretrained=pretrained\n",
    "        )\n",
    "\n",
    "        if 'efficient' in backbone:\n",
    "            hdim = self.encoder_sagittal.conv_head.out_channels\n",
    "            self.encoder_sagittal.classifier = nn.Identity()\n",
    "            self.encoder_axial.classifier = nn.Identity()\n",
    "            \n",
    "        elif 'convnext' in backbone:\n",
    "            hdim = self.encoder_sagittal.head.fc.in_features\n",
    "            self.encoder_sagittal.head.fc = nn.Identity()\n",
    "            self.encoder_axial.head.fc = nn.Identity()\n",
    "            \n",
    "        if 'densenet121' in backbone:\n",
    "            hdim = 1024\n",
    "            self.encoder_sagittal.classifier = nn.Identity()\n",
    "            self.encoder_axial.classifier = nn.Identity()\n",
    "            \n",
    "        if 'densenet161' in backbone:\n",
    "            hdim = 2208\n",
    "            self.encoder_sagittal.classifier = nn.Identity()\n",
    "            self.encoder_axial.classifier = nn.Identity()\n",
    "            \n",
    "        if 'densenet201' in backbone:\n",
    "            hdim = 1920\n",
    "            self.encoder_sagittal.classifier = nn.Identity()\n",
    "            self.encoder_axial.classifier = nn.Identity()\n",
    "\n",
    "\n",
    "#         self.lstm = nn.LSTM(hdim, 256, num_layers=2, dropout=0., bidirectional=True, batch_first=True)\n",
    "        self.head = nn.Sequential(\n",
    "            nn.Linear(256, 128),\n",
    "            nn.Dropout(0.4),\n",
    "            nn.LeakyReLU(0.1),\n",
    "            nn.Linear(128, 75),\n",
    "        )\n",
    "        self.attention_layer_sagittal = Attention(512, IN_CHANS)\n",
    "        self.attention_layer_axial = Attention(512, IN_CHANS)\n",
    "        \n",
    "        self.fc_axial = nn.Sequential(\n",
    "            nn.Linear(512, 256),\n",
    "            nn.Dropout(0.3),\n",
    "            nn.SiLU()\n",
    "        )\n",
    "        self.fc_sagittal = nn.Sequential(\n",
    "            nn.Linear(512, 256), \n",
    "            nn.Dropout(0.3),\n",
    "            nn.SiLU()\n",
    "        )\n",
    "\n",
    "    def forward(self, x):  # (bs, nslice, ch, sz, sz)\n",
    "        bs = x.shape[0]\n",
    "        img_size = x.shape[3]\n",
    "        \n",
    "        x_sagittal = x[:, :, :2, :, :]\n",
    "        x_axial = x[:, :, 2:3, :, :]\n",
    "        \n",
    "        x_sagittal = x_sagittal.view(bs * IN_CHANS, x_sagittal.shape[2], img_size, img_size)\n",
    "        feat_sagittal = self.encoder_sagittal(x_sagittal)\n",
    "        feat_sagittal = feat_sagittal.view(bs, IN_CHANS, -1)\n",
    "        \n",
    "        x_axial = x_axial.view(bs * IN_CHANS, x_axial.shape[2], img_size, img_size)\n",
    "        feat_axial = self.encoder_axial(x_axial)\n",
    "        feat_axial = feat_axial.view(bs, IN_CHANS, -1)\n",
    "#         feat_lstm, _ = self.lstm(feat)\n",
    "#         feat_lstm = feat_lstm.contiguous().view(bs * 12, -1)\n",
    "#         feat_lstm = self.head(feat_lstm)\n",
    "#         feat_lstm = feat_lstm.view(bs, 12, 75).contiguous()\n",
    "        atten_sagittal = self.attention_layer_sagittal(feat_sagittal)\n",
    "        atten_axial = self.attention_layer_axial(feat_axial)\n",
    "#         atten = torch.cat((atten_sagittal, atten_axial), dim=1)\n",
    "        atten_sagittal = self.fc_sagittal(atten_sagittal)\n",
    "        atten_axial = self.fc_axial(atten_axial)\n",
    "        atten = (atten_sagittal + atten_axial) / 2\n",
    "        out = self.head(atten)\n",
    "        return out"
   ]
  },
  {
   "cell_type": "code",
   "execution_count": 14,
   "id": "0ec737ae",
   "metadata": {},
   "outputs": [],
   "source": [
    "\n",
    "class TimmModel(nn.Module):\n",
    "    def __init__(self, backbone, pretrained=False):\n",
    "        super(TimmModel, self).__init__()\n",
    "\n",
    "        self.encoder = timm.create_model(\n",
    "            backbone,\n",
    "            in_chans=2,\n",
    "            num_classes=1,\n",
    "            features_only=False,\n",
    "            drop_rate=0.4,\n",
    "            pretrained=pretrained\n",
    "        )\n",
    "\n",
    "        if 'efficient' in backbone:\n",
    "            hdim = self.encoder.conv_head.out_channels\n",
    "            self.encoder.classifier = nn.Identity()\n",
    "        elif 'convnext' in backbone:\n",
    "            hdim = self.encoder.head.fc.in_features\n",
    "            self.encoder.head.fc = nn.Identity()\n",
    "            \n",
    "        if 'densenet121' in backbone:\n",
    "            hdim = 1024\n",
    "            self.encoder.classifier = nn.Identity()\n",
    "            \n",
    "        if 'densenet161' in backbone:\n",
    "            hdim = 2208\n",
    "            self.encoder.classifier = nn.Identity()\n",
    "        if 'densenet201' in backbone:\n",
    "            hdim = 1920\n",
    "            self.encoder.classifier = nn.Identity()\n",
    "            \n",
    "        if 'edgenext' in backbone:\n",
    "            hdim = self.encoder.head.fc.in_features\n",
    "            self.encoder.head.fc = nn.Identity()\n",
    "\n",
    "\n",
    "        self.lstm = nn.LSTM(hdim, 256, num_layers=1, dropout=0., bidirectional=True, batch_first=True)\n",
    "        self.head = nn.Sequential(\n",
    "            nn.Linear(hdim, 256),\n",
    "            nn.Dropout(0.4),\n",
    "            nn.SiLU(),\n",
    "            nn.Linear(256, 75),\n",
    "        )\n",
    "        self.attention_layer = Attention(hdim, IN_CHANS)\n",
    "\n",
    "    def forward(self, x):  # (bs, nslice, ch, sz, sz)\n",
    "        x = x[:, :, 0:2, :, :]\n",
    "        bs = x.shape[0]\n",
    "        img_size = x.shape[3]\n",
    "        x = x.view(bs * IN_CHANS, 2, img_size, img_size)\n",
    "\n",
    "        feat = self.encoder(x)\n",
    "        feat = feat.view(bs, IN_CHANS, -1)\n",
    "        \n",
    "        \n",
    "#         feat_lstm, _ = self.lstm(feat)\n",
    "        \n",
    "#         feat_lstm = feat_lstm.contiguous().view(bs * 12, -1)\n",
    "#         feat_lstm = self.head(feat_lstm)\n",
    "#         feat_lstm = feat_lstm.view(bs, 12, 75).contiguous()\n",
    "        atten = self.attention_layer(feat)\n",
    "        \n",
    "        out = self.head(atten)\n",
    "        return out\n",
    "\n",
    "\n",
    "\n"
   ]
  },
  {
   "cell_type": "code",
   "execution_count": 15,
   "id": "b445fcea",
   "metadata": {
    "execution": {
     "iopub.execute_input": "2024-07-17T08:54:15.069957Z",
     "iopub.status.busy": "2024-07-17T08:54:15.069456Z",
     "iopub.status.idle": "2024-07-17T08:54:24.026054Z",
     "shell.execute_reply": "2024-07-17T08:54:24.022430Z",
     "shell.execute_reply.started": "2024-07-17T08:54:15.069916Z"
    }
   },
   "outputs": [
    {
     "name": "stdout",
     "output_type": "stream",
     "text": [
      "torch.Size([75]) tensor(-0.2002, device='cuda:0') tensor(0.1805, device='cuda:0')\n",
      "torch.Size([75]) tensor(-0.2154, device='cuda:0') tensor(0.2580, device='cuda:0')\n",
      "torch.Size([75]) tensor(-0.2506, device='cuda:0') tensor(0.1874, device='cuda:0')\n",
      "torch.Size([75]) tensor(-0.2055, device='cuda:0') tensor(0.2172, device='cuda:0')\n",
      "torch.Size([75]) tensor(-0.1458, device='cuda:0') tensor(0.1591, device='cuda:0')\n",
      "torch.Size([75]) tensor(-0.2575, device='cuda:0') tensor(0.1265, device='cuda:0')\n",
      "torch.Size([75]) tensor(-0.1818, device='cuda:0') tensor(0.1857, device='cuda:0')\n",
      "torch.Size([75]) tensor(-0.1685, device='cuda:0') tensor(0.1704, device='cuda:0')\n"
     ]
    }
   ],
   "source": [
    "m = TimmModel(MODEL_NAME)\n",
    "m = m.to(DEVICE)\n",
    "i = torch.randn(8, IN_CHANS, 3, 224, 224).to(DEVICE)\n",
    "with torch.no_grad():\n",
    "    out = m(i)\n",
    "for o in out:\n",
    "    print(o.shape, o.min(), o.max())"
   ]
  },
  {
   "cell_type": "code",
   "execution_count": 16,
   "id": "83c877af",
   "metadata": {
    "execution": {
     "iopub.execute_input": "2024-07-17T08:54:24.030642Z",
     "iopub.status.busy": "2024-07-17T08:54:24.030210Z",
     "iopub.status.idle": "2024-07-17T08:54:24.043755Z",
     "shell.execute_reply": "2024-07-17T08:54:24.041885Z",
     "shell.execute_reply.started": "2024-07-17T08:54:24.030606Z"
    }
   },
   "outputs": [],
   "source": [
    "del m, i, out\n",
    "torch.cuda.empty_cache()"
   ]
  },
  {
   "cell_type": "code",
   "execution_count": 17,
   "id": "cdf77829",
   "metadata": {
    "execution": {
     "iopub.execute_input": "2024-07-17T08:54:24.049591Z",
     "iopub.status.busy": "2024-07-17T08:54:24.048306Z",
     "iopub.status.idle": "2024-07-17T08:54:24.065248Z",
     "shell.execute_reply": "2024-07-17T08:54:24.061928Z",
     "shell.execute_reply.started": "2024-07-17T08:54:24.049544Z"
    }
   },
   "outputs": [],
   "source": [
    "# m = RSNA24Model('efficientnet_b0', in_c=1, n_classes=512, pretrained=False)\n",
    "# m = m.to(DEVICE)\n",
    "# i = torch.randn(2, IN_CHANS // 3, 256, 256).to(DEVICE)\n",
    "# out = m(i)\n",
    "# for o in out:\n",
    "#     print(o.shape, o.min(), o.max())"
   ]
  },
  {
   "cell_type": "code",
   "execution_count": 18,
   "id": "16e54fc8",
   "metadata": {
    "execution": {
     "iopub.execute_input": "2024-07-17T08:54:24.071724Z",
     "iopub.status.busy": "2024-07-17T08:54:24.071277Z",
     "iopub.status.idle": "2024-07-17T08:54:24.088649Z",
     "shell.execute_reply": "2024-07-17T08:54:24.085133Z",
     "shell.execute_reply.started": "2024-07-17T08:54:24.071690Z"
    }
   },
   "outputs": [],
   "source": [
    "# del m, i, out"
   ]
  },
  {
   "cell_type": "code",
   "execution_count": 19,
   "id": "17185852",
   "metadata": {
    "execution": {
     "iopub.execute_input": "2024-07-17T08:54:24.095350Z",
     "iopub.status.busy": "2024-07-17T08:54:24.093320Z",
     "iopub.status.idle": "2024-07-17T08:54:29.626894Z",
     "shell.execute_reply": "2024-07-17T08:54:29.625271Z",
     "shell.execute_reply.started": "2024-07-17T08:54:24.095196Z"
    },
    "scrolled": true
   },
   "outputs": [
    {
     "name": "stdout",
     "output_type": "stream",
     "text": [
      "CPU times: user 2 µs, sys: 1 µs, total: 3 µs\n",
      "Wall time: 4.77 µs\n",
      "##############################\n",
      "Start fold 0\n",
      "##############################\n",
      "1580 395\n",
      "start epoch 1\n"
     ]
    },
    {
     "name": "stderr",
     "output_type": "stream",
     "text": [
      "100%|████████████| 395/395 [01:07<00:00,  5.83it/s, loss=0.611622, lr=9.975e-06]\n"
     ]
    },
    {
     "name": "stdout",
     "output_type": "stream",
     "text": [
      "train_loss:0.932401\n"
     ]
    },
    {
     "name": "stderr",
     "output_type": "stream",
     "text": [
      "100%|███████████████████████████████████████████| 50/50 [00:10<00:00,  4.81it/s]\n"
     ]
    },
    {
     "name": "stdout",
     "output_type": "stream",
     "text": [
      "torch.Size([9875, 3])\n",
      "val_loss:0.809261\n",
      "epoch:1, best weighted_logloss updated from 1.200000 to 0.881560\n",
      "rsna-results-2.5d/best_wll_model_fold-0.pt is saved\n",
      "start epoch 2\n"
     ]
    },
    {
     "name": "stderr",
     "output_type": "stream",
     "text": [
      "100%|████████████| 395/395 [01:03<00:00,  6.24it/s, loss=0.563265, lr=1.997e-05]\n"
     ]
    },
    {
     "name": "stdout",
     "output_type": "stream",
     "text": [
      "train_loss:0.795670\n"
     ]
    },
    {
     "name": "stderr",
     "output_type": "stream",
     "text": [
      "100%|███████████████████████████████████████████| 50/50 [00:08<00:00,  5.96it/s]\n"
     ]
    },
    {
     "name": "stdout",
     "output_type": "stream",
     "text": [
      "torch.Size([9875, 3])\n",
      "val_loss:0.789767\n",
      "epoch:2, best weighted_logloss updated from 0.881560 to 0.869078\n",
      "rsna-results-2.5d/best_wll_model_fold-0.pt is saved\n",
      "start epoch 3\n"
     ]
    },
    {
     "name": "stderr",
     "output_type": "stream",
     "text": [
      "100%|████████████| 395/395 [01:03<00:00,  6.23it/s, loss=1.081664, lr=2.997e-05]\n"
     ]
    },
    {
     "name": "stdout",
     "output_type": "stream",
     "text": [
      "train_loss:0.759590\n"
     ]
    },
    {
     "name": "stderr",
     "output_type": "stream",
     "text": [
      "100%|███████████████████████████████████████████| 50/50 [00:08<00:00,  5.91it/s]\n"
     ]
    },
    {
     "name": "stdout",
     "output_type": "stream",
     "text": [
      "torch.Size([9875, 3])\n",
      "val_loss:0.733404\n",
      "epoch:3, best weighted_logloss updated from 0.869078 to 0.814564\n",
      "rsna-results-2.5d/best_wll_model_fold-0.pt is saved\n",
      "start epoch 4\n"
     ]
    },
    {
     "name": "stderr",
     "output_type": "stream",
     "text": [
      "100%|████████████| 395/395 [01:03<00:00,  6.24it/s, loss=0.682840, lr=3.997e-05]\n"
     ]
    },
    {
     "name": "stdout",
     "output_type": "stream",
     "text": [
      "train_loss:0.730619\n"
     ]
    },
    {
     "name": "stderr",
     "output_type": "stream",
     "text": [
      "100%|███████████████████████████████████████████| 50/50 [00:08<00:00,  5.94it/s]\n"
     ]
    },
    {
     "name": "stdout",
     "output_type": "stream",
     "text": [
      "torch.Size([9875, 3])\n",
      "val_loss:0.745755\n",
      "start epoch 5\n"
     ]
    },
    {
     "name": "stderr",
     "output_type": "stream",
     "text": [
      "100%|████████████| 395/395 [01:03<00:00,  6.26it/s, loss=0.570146, lr=4.997e-05]\n"
     ]
    },
    {
     "name": "stdout",
     "output_type": "stream",
     "text": [
      "train_loss:0.709592\n"
     ]
    },
    {
     "name": "stderr",
     "output_type": "stream",
     "text": [
      "100%|███████████████████████████████████████████| 50/50 [00:08<00:00,  5.90it/s]\n"
     ]
    },
    {
     "name": "stdout",
     "output_type": "stream",
     "text": [
      "torch.Size([9875, 3])\n",
      "val_loss:0.680327\n",
      "epoch:5, best weighted_logloss updated from 0.814564 to 0.754235\n",
      "rsna-results-2.5d/best_wll_model_fold-0.pt is saved\n",
      "start epoch 6\n"
     ]
    },
    {
     "name": "stderr",
     "output_type": "stream",
     "text": [
      "100%|████████████| 395/395 [01:03<00:00,  6.21it/s, loss=0.711932, lr=5.997e-05]\n"
     ]
    },
    {
     "name": "stdout",
     "output_type": "stream",
     "text": [
      "train_loss:0.694436\n"
     ]
    },
    {
     "name": "stderr",
     "output_type": "stream",
     "text": [
      "100%|███████████████████████████████████████████| 50/50 [00:08<00:00,  5.92it/s]\n"
     ]
    },
    {
     "name": "stdout",
     "output_type": "stream",
     "text": [
      "torch.Size([9875, 3])\n",
      "val_loss:0.662342\n",
      "epoch:6, best weighted_logloss updated from 0.754235 to 0.720023\n",
      "rsna-results-2.5d/best_wll_model_fold-0.pt is saved\n",
      "start epoch 7\n"
     ]
    },
    {
     "name": "stderr",
     "output_type": "stream",
     "text": [
      "100%|████████████| 395/395 [01:03<00:00,  6.21it/s, loss=0.967436, lr=6.997e-05]\n"
     ]
    },
    {
     "name": "stdout",
     "output_type": "stream",
     "text": [
      "train_loss:0.672581\n"
     ]
    },
    {
     "name": "stderr",
     "output_type": "stream",
     "text": [
      "100%|███████████████████████████████████████████| 50/50 [00:08<00:00,  5.92it/s]\n"
     ]
    },
    {
     "name": "stdout",
     "output_type": "stream",
     "text": [
      "torch.Size([9875, 3])\n",
      "val_loss:0.706615\n",
      "start epoch 8\n"
     ]
    },
    {
     "name": "stderr",
     "output_type": "stream",
     "text": [
      "100%|████████████| 395/395 [01:03<00:00,  6.23it/s, loss=0.578874, lr=7.997e-05]\n"
     ]
    },
    {
     "name": "stdout",
     "output_type": "stream",
     "text": [
      "train_loss:0.657226\n"
     ]
    },
    {
     "name": "stderr",
     "output_type": "stream",
     "text": [
      "100%|███████████████████████████████████████████| 50/50 [00:08<00:00,  5.88it/s]\n"
     ]
    },
    {
     "name": "stdout",
     "output_type": "stream",
     "text": [
      "torch.Size([9875, 3])\n",
      "val_loss:0.628738\n",
      "epoch:8, best weighted_logloss updated from 0.720023 to 0.693919\n",
      "rsna-results-2.5d/best_wll_model_fold-0.pt is saved\n",
      "start epoch 9\n"
     ]
    },
    {
     "name": "stderr",
     "output_type": "stream",
     "text": [
      "100%|████████████| 395/395 [01:03<00:00,  6.22it/s, loss=0.896233, lr=8.997e-05]\n"
     ]
    },
    {
     "name": "stdout",
     "output_type": "stream",
     "text": [
      "train_loss:0.640828\n"
     ]
    },
    {
     "name": "stderr",
     "output_type": "stream",
     "text": [
      "100%|███████████████████████████████████████████| 50/50 [00:08<00:00,  5.91it/s]\n"
     ]
    },
    {
     "name": "stdout",
     "output_type": "stream",
     "text": [
      "torch.Size([9875, 3])\n",
      "val_loss:0.623976\n",
      "epoch:9, best weighted_logloss updated from 0.693919 to 0.691930\n",
      "rsna-results-2.5d/best_wll_model_fold-0.pt is saved\n",
      "start epoch 10\n"
     ]
    },
    {
     "name": "stderr",
     "output_type": "stream",
     "text": [
      "100%|████████████| 395/395 [01:03<00:00,  6.23it/s, loss=0.740689, lr=9.997e-05]\n"
     ]
    },
    {
     "name": "stdout",
     "output_type": "stream",
     "text": [
      "train_loss:0.638365\n"
     ]
    },
    {
     "name": "stderr",
     "output_type": "stream",
     "text": [
      "100%|███████████████████████████████████████████| 50/50 [00:08<00:00,  5.86it/s]\n"
     ]
    },
    {
     "name": "stdout",
     "output_type": "stream",
     "text": [
      "torch.Size([9875, 3])\n",
      "val_loss:0.646894\n",
      "start epoch 11\n"
     ]
    },
    {
     "name": "stderr",
     "output_type": "stream",
     "text": [
      "100%|████████████| 395/395 [01:03<00:00,  6.22it/s, loss=0.486409, lr=9.997e-05]\n"
     ]
    },
    {
     "name": "stdout",
     "output_type": "stream",
     "text": [
      "train_loss:0.627211\n"
     ]
    },
    {
     "name": "stderr",
     "output_type": "stream",
     "text": [
      "100%|███████████████████████████████████████████| 50/50 [00:08<00:00,  5.89it/s]\n"
     ]
    },
    {
     "name": "stdout",
     "output_type": "stream",
     "text": [
      "torch.Size([9875, 3])\n",
      "val_loss:0.659928\n",
      "start epoch 12\n"
     ]
    },
    {
     "name": "stderr",
     "output_type": "stream",
     "text": [
      "100%|████████████| 395/395 [01:03<00:00,  6.21it/s, loss=1.058919, lr=9.989e-05]\n"
     ]
    },
    {
     "name": "stdout",
     "output_type": "stream",
     "text": [
      "train_loss:0.617414\n"
     ]
    },
    {
     "name": "stderr",
     "output_type": "stream",
     "text": [
      "100%|███████████████████████████████████████████| 50/50 [00:08<00:00,  5.82it/s]\n"
     ]
    },
    {
     "name": "stdout",
     "output_type": "stream",
     "text": [
      "torch.Size([9875, 3])\n",
      "val_loss:0.653876\n",
      "start epoch 13\n"
     ]
    },
    {
     "name": "stderr",
     "output_type": "stream",
     "text": [
      "100%|████████████| 395/395 [01:03<00:00,  6.25it/s, loss=0.520505, lr=9.975e-05]\n"
     ]
    },
    {
     "name": "stdout",
     "output_type": "stream",
     "text": [
      "train_loss:0.616112\n"
     ]
    },
    {
     "name": "stderr",
     "output_type": "stream",
     "text": [
      "100%|███████████████████████████████████████████| 50/50 [00:08<00:00,  5.87it/s]\n"
     ]
    },
    {
     "name": "stdout",
     "output_type": "stream",
     "text": [
      "torch.Size([9875, 3])\n",
      "val_loss:0.637763\n",
      "start epoch 14\n"
     ]
    },
    {
     "name": "stderr",
     "output_type": "stream",
     "text": [
      "100%|████████████| 395/395 [01:03<00:00,  6.23it/s, loss=0.314142, lr=9.956e-05]\n"
     ]
    },
    {
     "name": "stdout",
     "output_type": "stream",
     "text": [
      "train_loss:0.610605\n"
     ]
    },
    {
     "name": "stderr",
     "output_type": "stream",
     "text": [
      "100%|███████████████████████████████████████████| 50/50 [00:08<00:00,  5.83it/s]\n"
     ]
    },
    {
     "name": "stdout",
     "output_type": "stream",
     "text": [
      "torch.Size([9875, 3])\n",
      "val_loss:0.643225\n",
      "start epoch 15\n"
     ]
    },
    {
     "name": "stderr",
     "output_type": "stream",
     "text": [
      "100%|████████████| 395/395 [01:03<00:00,  6.20it/s, loss=0.538218, lr=9.931e-05]\n"
     ]
    },
    {
     "name": "stdout",
     "output_type": "stream",
     "text": [
      "train_loss:0.603571\n"
     ]
    },
    {
     "name": "stderr",
     "output_type": "stream",
     "text": [
      "100%|███████████████████████████████████████████| 50/50 [00:08<00:00,  5.88it/s]\n"
     ]
    },
    {
     "name": "stdout",
     "output_type": "stream",
     "text": [
      "torch.Size([9875, 3])\n",
      "val_loss:0.625075\n",
      "start epoch 16\n"
     ]
    },
    {
     "name": "stderr",
     "output_type": "stream",
     "text": [
      "100%|████████████| 395/395 [01:03<00:00,  6.19it/s, loss=0.620023, lr=9.901e-05]\n"
     ]
    },
    {
     "name": "stdout",
     "output_type": "stream",
     "text": [
      "train_loss:0.596091\n"
     ]
    },
    {
     "name": "stderr",
     "output_type": "stream",
     "text": [
      "100%|███████████████████████████████████████████| 50/50 [00:08<00:00,  5.85it/s]\n"
     ]
    },
    {
     "name": "stdout",
     "output_type": "stream",
     "text": [
      "torch.Size([9875, 3])\n",
      "val_loss:0.623563\n",
      "start epoch 17\n"
     ]
    },
    {
     "name": "stderr",
     "output_type": "stream",
     "text": [
      "100%|████████████| 395/395 [01:03<00:00,  6.20it/s, loss=0.495567, lr=9.866e-05]\n"
     ]
    },
    {
     "name": "stdout",
     "output_type": "stream",
     "text": [
      "train_loss:0.597756\n"
     ]
    },
    {
     "name": "stderr",
     "output_type": "stream",
     "text": [
      "100%|███████████████████████████████████████████| 50/50 [00:08<00:00,  5.87it/s]\n"
     ]
    },
    {
     "name": "stdout",
     "output_type": "stream",
     "text": [
      "torch.Size([9875, 3])\n",
      "val_loss:0.597009\n",
      "epoch:17, best weighted_logloss updated from 0.691930 to 0.657396\n",
      "rsna-results-2.5d/best_wll_model_fold-0.pt is saved\n",
      "start epoch 18\n"
     ]
    },
    {
     "name": "stderr",
     "output_type": "stream",
     "text": [
      "100%|████████████| 395/395 [01:03<00:00,  6.20it/s, loss=0.469199, lr=9.825e-05]\n"
     ]
    },
    {
     "name": "stdout",
     "output_type": "stream",
     "text": [
      "train_loss:0.599749\n"
     ]
    },
    {
     "name": "stderr",
     "output_type": "stream",
     "text": [
      "100%|███████████████████████████████████████████| 50/50 [00:08<00:00,  5.83it/s]\n"
     ]
    },
    {
     "name": "stdout",
     "output_type": "stream",
     "text": [
      "torch.Size([9875, 3])\n",
      "val_loss:0.602944\n",
      "start epoch 19\n"
     ]
    },
    {
     "name": "stderr",
     "output_type": "stream",
     "text": [
      "100%|████████████| 395/395 [01:03<00:00,  6.23it/s, loss=0.548188, lr=9.779e-05]\n"
     ]
    },
    {
     "name": "stdout",
     "output_type": "stream",
     "text": [
      "train_loss:0.589378\n"
     ]
    },
    {
     "name": "stderr",
     "output_type": "stream",
     "text": [
      "100%|███████████████████████████████████████████| 50/50 [00:08<00:00,  5.85it/s]\n"
     ]
    },
    {
     "name": "stdout",
     "output_type": "stream",
     "text": [
      "torch.Size([9875, 3])\n",
      "val_loss:0.591892\n",
      "epoch:19, best weighted_logloss updated from 0.657396 to 0.656025\n",
      "rsna-results-2.5d/best_wll_model_fold-0.pt is saved\n",
      "start epoch 20\n"
     ]
    },
    {
     "name": "stderr",
     "output_type": "stream",
     "text": [
      "100%|████████████| 395/395 [01:04<00:00,  6.17it/s, loss=0.516165, lr=9.728e-05]\n"
     ]
    },
    {
     "name": "stdout",
     "output_type": "stream",
     "text": [
      "train_loss:0.582778\n"
     ]
    },
    {
     "name": "stderr",
     "output_type": "stream",
     "text": [
      "100%|███████████████████████████████████████████| 50/50 [00:08<00:00,  5.87it/s]\n"
     ]
    },
    {
     "name": "stdout",
     "output_type": "stream",
     "text": [
      "torch.Size([9875, 3])\n",
      "val_loss:0.598066\n",
      "start epoch 21\n"
     ]
    },
    {
     "name": "stderr",
     "output_type": "stream",
     "text": [
      "100%|████████████| 395/395 [01:03<00:00,  6.24it/s, loss=0.398317, lr=9.671e-05]\n"
     ]
    },
    {
     "name": "stdout",
     "output_type": "stream",
     "text": [
      "train_loss:0.589229\n"
     ]
    },
    {
     "name": "stderr",
     "output_type": "stream",
     "text": [
      "100%|███████████████████████████████████████████| 50/50 [00:08<00:00,  5.79it/s]\n"
     ]
    },
    {
     "name": "stdout",
     "output_type": "stream",
     "text": [
      "torch.Size([9875, 3])\n",
      "val_loss:0.588737\n",
      "epoch:21, best weighted_logloss updated from 0.656025 to 0.651283\n",
      "rsna-results-2.5d/best_wll_model_fold-0.pt is saved\n",
      "start epoch 22\n"
     ]
    },
    {
     "name": "stderr",
     "output_type": "stream",
     "text": [
      "100%|████████████| 395/395 [01:03<00:00,  6.24it/s, loss=0.632624, lr=9.609e-05]\n"
     ]
    },
    {
     "name": "stdout",
     "output_type": "stream",
     "text": [
      "train_loss:0.583404\n"
     ]
    },
    {
     "name": "stderr",
     "output_type": "stream",
     "text": [
      "100%|███████████████████████████████████████████| 50/50 [00:08<00:00,  5.84it/s]\n"
     ]
    },
    {
     "name": "stdout",
     "output_type": "stream",
     "text": [
      "torch.Size([9875, 3])\n",
      "val_loss:0.601627\n",
      "start epoch 23\n"
     ]
    },
    {
     "name": "stderr",
     "output_type": "stream",
     "text": [
      "100%|████████████| 395/395 [01:03<00:00,  6.20it/s, loss=0.923355, lr=9.543e-05]\n"
     ]
    },
    {
     "name": "stdout",
     "output_type": "stream",
     "text": [
      "train_loss:0.582078\n"
     ]
    },
    {
     "name": "stderr",
     "output_type": "stream",
     "text": [
      "100%|███████████████████████████████████████████| 50/50 [00:08<00:00,  5.89it/s]\n"
     ]
    },
    {
     "name": "stdout",
     "output_type": "stream",
     "text": [
      "torch.Size([9875, 3])\n",
      "val_loss:0.591310\n",
      "start epoch 24\n"
     ]
    },
    {
     "name": "stderr",
     "output_type": "stream",
     "text": [
      "100%|████████████| 395/395 [01:03<00:00,  6.25it/s, loss=0.606021, lr=9.471e-05]\n"
     ]
    },
    {
     "name": "stdout",
     "output_type": "stream",
     "text": [
      "train_loss:0.568278\n"
     ]
    },
    {
     "name": "stderr",
     "output_type": "stream",
     "text": [
      "100%|███████████████████████████████████████████| 50/50 [00:08<00:00,  5.88it/s]\n"
     ]
    },
    {
     "name": "stdout",
     "output_type": "stream",
     "text": [
      "torch.Size([9875, 3])\n",
      "val_loss:0.600849\n",
      "start epoch 25\n"
     ]
    },
    {
     "name": "stderr",
     "output_type": "stream",
     "text": [
      "100%|████████████| 395/395 [01:03<00:00,  6.19it/s, loss=0.467602, lr=9.394e-05]\n"
     ]
    },
    {
     "name": "stdout",
     "output_type": "stream",
     "text": [
      "train_loss:0.569189\n"
     ]
    },
    {
     "name": "stderr",
     "output_type": "stream",
     "text": [
      "100%|███████████████████████████████████████████| 50/50 [00:08<00:00,  5.87it/s]\n"
     ]
    },
    {
     "name": "stdout",
     "output_type": "stream",
     "text": [
      "torch.Size([9875, 3])\n",
      "val_loss:0.593850\n",
      "start epoch 26\n"
     ]
    },
    {
     "name": "stderr",
     "output_type": "stream",
     "text": [
      "100%|████████████| 395/395 [01:03<00:00,  6.20it/s, loss=0.403895, lr=9.313e-05]\n"
     ]
    },
    {
     "name": "stdout",
     "output_type": "stream",
     "text": [
      "train_loss:0.574318\n"
     ]
    },
    {
     "name": "stderr",
     "output_type": "stream",
     "text": [
      "100%|███████████████████████████████████████████| 50/50 [00:08<00:00,  5.85it/s]\n"
     ]
    },
    {
     "name": "stdout",
     "output_type": "stream",
     "text": [
      "torch.Size([9875, 3])\n",
      "val_loss:0.582874\n",
      "epoch:26, best weighted_logloss updated from 0.651283 to 0.644918\n",
      "rsna-results-2.5d/best_wll_model_fold-0.pt is saved\n",
      "start epoch 27\n"
     ]
    },
    {
     "name": "stderr",
     "output_type": "stream",
     "text": [
      "100%|████████████| 395/395 [01:03<00:00,  6.24it/s, loss=0.897380, lr=9.227e-05]\n"
     ]
    },
    {
     "name": "stdout",
     "output_type": "stream",
     "text": [
      "train_loss:0.562845\n"
     ]
    },
    {
     "name": "stderr",
     "output_type": "stream",
     "text": [
      "100%|███████████████████████████████████████████| 50/50 [00:08<00:00,  5.85it/s]\n"
     ]
    },
    {
     "name": "stdout",
     "output_type": "stream",
     "text": [
      "torch.Size([9875, 3])\n",
      "val_loss:0.592223\n",
      "start epoch 28\n"
     ]
    },
    {
     "name": "stderr",
     "output_type": "stream",
     "text": [
      "100%|████████████| 395/395 [01:03<00:00,  6.19it/s, loss=0.622668, lr=9.136e-05]\n"
     ]
    },
    {
     "name": "stdout",
     "output_type": "stream",
     "text": [
      "train_loss:0.572453\n"
     ]
    },
    {
     "name": "stderr",
     "output_type": "stream",
     "text": [
      "100%|███████████████████████████████████████████| 50/50 [00:08<00:00,  5.87it/s]\n"
     ]
    },
    {
     "name": "stdout",
     "output_type": "stream",
     "text": [
      "torch.Size([9875, 3])\n",
      "val_loss:0.592190\n",
      "start epoch 29\n"
     ]
    },
    {
     "name": "stderr",
     "output_type": "stream",
     "text": [
      "100%|████████████| 395/395 [01:03<00:00,  6.20it/s, loss=0.892614, lr=9.040e-05]\n"
     ]
    },
    {
     "name": "stdout",
     "output_type": "stream",
     "text": [
      "train_loss:0.557375\n"
     ]
    },
    {
     "name": "stderr",
     "output_type": "stream",
     "text": [
      "100%|███████████████████████████████████████████| 50/50 [00:08<00:00,  5.89it/s]\n"
     ]
    },
    {
     "name": "stdout",
     "output_type": "stream",
     "text": [
      "torch.Size([9875, 3])\n",
      "val_loss:0.575013\n",
      "epoch:29, best weighted_logloss updated from 0.644918 to 0.632143\n",
      "rsna-results-2.5d/best_wll_model_fold-0.pt is saved\n",
      "start epoch 30\n"
     ]
    },
    {
     "name": "stderr",
     "output_type": "stream",
     "text": [
      "100%|████████████| 395/395 [01:03<00:00,  6.18it/s, loss=0.548274, lr=8.940e-05]\n"
     ]
    },
    {
     "name": "stdout",
     "output_type": "stream",
     "text": [
      "train_loss:0.557944\n"
     ]
    },
    {
     "name": "stderr",
     "output_type": "stream",
     "text": [
      "100%|███████████████████████████████████████████| 50/50 [00:08<00:00,  5.80it/s]\n"
     ]
    },
    {
     "name": "stdout",
     "output_type": "stream",
     "text": [
      "torch.Size([9875, 3])\n",
      "val_loss:0.592401\n",
      "start epoch 31\n"
     ]
    },
    {
     "name": "stderr",
     "output_type": "stream",
     "text": [
      "100%|████████████| 395/395 [01:03<00:00,  6.18it/s, loss=0.443881, lr=8.836e-05]\n"
     ]
    },
    {
     "name": "stdout",
     "output_type": "stream",
     "text": [
      "train_loss:0.557914\n"
     ]
    },
    {
     "name": "stderr",
     "output_type": "stream",
     "text": [
      "100%|███████████████████████████████████████████| 50/50 [00:08<00:00,  5.78it/s]\n"
     ]
    },
    {
     "name": "stdout",
     "output_type": "stream",
     "text": [
      "torch.Size([9875, 3])\n",
      "val_loss:0.575854\n",
      "start epoch 32\n"
     ]
    },
    {
     "name": "stderr",
     "output_type": "stream",
     "text": [
      "100%|████████████| 395/395 [01:03<00:00,  6.21it/s, loss=0.482774, lr=8.728e-05]\n"
     ]
    },
    {
     "name": "stdout",
     "output_type": "stream",
     "text": [
      "train_loss:0.549715\n"
     ]
    },
    {
     "name": "stderr",
     "output_type": "stream",
     "text": [
      "100%|███████████████████████████████████████████| 50/50 [00:08<00:00,  5.84it/s]\n"
     ]
    },
    {
     "name": "stdout",
     "output_type": "stream",
     "text": [
      "torch.Size([9875, 3])\n",
      "val_loss:0.578500\n",
      "epoch:32, best weighted_logloss updated from 0.632143 to 0.629790\n",
      "rsna-results-2.5d/best_wll_model_fold-0.pt is saved\n",
      "start epoch 33\n"
     ]
    },
    {
     "name": "stderr",
     "output_type": "stream",
     "text": [
      "100%|████████████| 395/395 [01:03<00:00,  6.18it/s, loss=0.874656, lr=8.615e-05]\n"
     ]
    },
    {
     "name": "stdout",
     "output_type": "stream",
     "text": [
      "train_loss:0.552362\n"
     ]
    },
    {
     "name": "stderr",
     "output_type": "stream",
     "text": [
      "100%|███████████████████████████████████████████| 50/50 [00:08<00:00,  5.90it/s]\n"
     ]
    },
    {
     "name": "stdout",
     "output_type": "stream",
     "text": [
      "torch.Size([9875, 3])\n",
      "val_loss:0.568272\n",
      "epoch:33, best weighted_logloss updated from 0.629790 to 0.624720\n",
      "rsna-results-2.5d/best_wll_model_fold-0.pt is saved\n",
      "start epoch 34\n"
     ]
    },
    {
     "name": "stderr",
     "output_type": "stream",
     "text": [
      "100%|████████████| 395/395 [01:03<00:00,  6.18it/s, loss=0.123257, lr=8.499e-05]\n"
     ]
    },
    {
     "name": "stdout",
     "output_type": "stream",
     "text": [
      "train_loss:0.543633\n"
     ]
    },
    {
     "name": "stderr",
     "output_type": "stream",
     "text": [
      "100%|███████████████████████████████████████████| 50/50 [00:08<00:00,  5.84it/s]\n"
     ]
    },
    {
     "name": "stdout",
     "output_type": "stream",
     "text": [
      "torch.Size([9875, 3])\n",
      "val_loss:0.565127\n",
      "epoch:34, best weighted_logloss updated from 0.624720 to 0.621602\n",
      "rsna-results-2.5d/best_wll_model_fold-0.pt is saved\n",
      "start epoch 35\n"
     ]
    },
    {
     "name": "stderr",
     "output_type": "stream",
     "text": [
      "100%|████████████| 395/395 [01:03<00:00,  6.20it/s, loss=0.398115, lr=8.378e-05]\n"
     ]
    },
    {
     "name": "stdout",
     "output_type": "stream",
     "text": [
      "train_loss:0.549946\n"
     ]
    },
    {
     "name": "stderr",
     "output_type": "stream",
     "text": [
      "100%|███████████████████████████████████████████| 50/50 [00:08<00:00,  5.81it/s]\n"
     ]
    },
    {
     "name": "stdout",
     "output_type": "stream",
     "text": [
      "torch.Size([9875, 3])\n",
      "val_loss:0.560158\n",
      "epoch:35, best weighted_logloss updated from 0.621602 to 0.614282\n",
      "rsna-results-2.5d/best_wll_model_fold-0.pt is saved\n",
      "start epoch 36\n"
     ]
    },
    {
     "name": "stderr",
     "output_type": "stream",
     "text": [
      "100%|████████████| 395/395 [01:04<00:00,  6.16it/s, loss=0.514362, lr=8.254e-05]\n"
     ]
    },
    {
     "name": "stdout",
     "output_type": "stream",
     "text": [
      "train_loss:0.543567\n"
     ]
    },
    {
     "name": "stderr",
     "output_type": "stream",
     "text": [
      "100%|███████████████████████████████████████████| 50/50 [00:08<00:00,  5.80it/s]\n"
     ]
    },
    {
     "name": "stdout",
     "output_type": "stream",
     "text": [
      "torch.Size([9875, 3])\n",
      "val_loss:0.570098\n",
      "start epoch 37\n"
     ]
    },
    {
     "name": "stderr",
     "output_type": "stream",
     "text": [
      "100%|████████████| 395/395 [01:03<00:00,  6.24it/s, loss=0.617760, lr=8.127e-05]\n"
     ]
    },
    {
     "name": "stdout",
     "output_type": "stream",
     "text": [
      "train_loss:0.538689\n"
     ]
    },
    {
     "name": "stderr",
     "output_type": "stream",
     "text": [
      "100%|███████████████████████████████████████████| 50/50 [00:08<00:00,  5.86it/s]\n"
     ]
    },
    {
     "name": "stdout",
     "output_type": "stream",
     "text": [
      "torch.Size([9875, 3])\n",
      "val_loss:0.601419\n",
      "start epoch 38\n"
     ]
    },
    {
     "name": "stderr",
     "output_type": "stream",
     "text": [
      "100%|████████████| 395/395 [01:03<00:00,  6.21it/s, loss=0.458323, lr=7.995e-05]\n"
     ]
    },
    {
     "name": "stdout",
     "output_type": "stream",
     "text": [
      "train_loss:0.534323\n"
     ]
    },
    {
     "name": "stderr",
     "output_type": "stream",
     "text": [
      "100%|███████████████████████████████████████████| 50/50 [00:08<00:00,  5.85it/s]\n"
     ]
    },
    {
     "name": "stdout",
     "output_type": "stream",
     "text": [
      "torch.Size([9875, 3])\n",
      "val_loss:0.561721\n",
      "epoch:38, best weighted_logloss updated from 0.614282 to 0.612074\n",
      "rsna-results-2.5d/best_wll_model_fold-0.pt is saved\n",
      "start epoch 39\n"
     ]
    },
    {
     "name": "stderr",
     "output_type": "stream",
     "text": [
      "100%|████████████| 395/395 [01:03<00:00,  6.22it/s, loss=0.642756, lr=7.861e-05]\n"
     ]
    },
    {
     "name": "stdout",
     "output_type": "stream",
     "text": [
      "train_loss:0.531745\n"
     ]
    },
    {
     "name": "stderr",
     "output_type": "stream",
     "text": [
      "100%|███████████████████████████████████████████| 50/50 [00:08<00:00,  5.83it/s]\n"
     ]
    },
    {
     "name": "stdout",
     "output_type": "stream",
     "text": [
      "torch.Size([9875, 3])\n",
      "val_loss:0.572245\n",
      "start epoch 40\n"
     ]
    },
    {
     "name": "stderr",
     "output_type": "stream",
     "text": [
      "100%|████████████| 395/395 [01:06<00:00,  5.96it/s, loss=0.440211, lr=7.724e-05]\n"
     ]
    },
    {
     "name": "stdout",
     "output_type": "stream",
     "text": [
      "train_loss:0.526033\n"
     ]
    },
    {
     "name": "stderr",
     "output_type": "stream",
     "text": [
      "100%|███████████████████████████████████████████| 50/50 [00:09<00:00,  5.11it/s]\n"
     ]
    },
    {
     "name": "stdout",
     "output_type": "stream",
     "text": [
      "torch.Size([9875, 3])\n",
      "val_loss:0.616182\n",
      "start epoch 41\n"
     ]
    },
    {
     "name": "stderr",
     "output_type": "stream",
     "text": [
      "100%|████████████| 395/395 [01:08<00:00,  5.74it/s, loss=0.427213, lr=7.583e-05]\n"
     ]
    },
    {
     "name": "stdout",
     "output_type": "stream",
     "text": [
      "train_loss:0.529870\n"
     ]
    },
    {
     "name": "stderr",
     "output_type": "stream",
     "text": [
      "100%|███████████████████████████████████████████| 50/50 [00:08<00:00,  5.79it/s]\n"
     ]
    },
    {
     "name": "stdout",
     "output_type": "stream",
     "text": [
      "torch.Size([9875, 3])\n",
      "val_loss:0.564803\n",
      "start epoch 42\n"
     ]
    },
    {
     "name": "stderr",
     "output_type": "stream",
     "text": [
      "100%|████████████| 395/395 [01:04<00:00,  6.15it/s, loss=0.338229, lr=7.440e-05]\n"
     ]
    },
    {
     "name": "stdout",
     "output_type": "stream",
     "text": [
      "train_loss:0.530545\n"
     ]
    },
    {
     "name": "stderr",
     "output_type": "stream",
     "text": [
      "100%|███████████████████████████████████████████| 50/50 [00:08<00:00,  5.83it/s]\n"
     ]
    },
    {
     "name": "stdout",
     "output_type": "stream",
     "text": [
      "torch.Size([9875, 3])\n",
      "val_loss:0.569181\n",
      "start epoch 43\n"
     ]
    },
    {
     "name": "stderr",
     "output_type": "stream",
     "text": [
      "100%|████████████| 395/395 [01:04<00:00,  6.14it/s, loss=0.577375, lr=7.294e-05]\n"
     ]
    },
    {
     "name": "stdout",
     "output_type": "stream",
     "text": [
      "train_loss:0.528494\n"
     ]
    },
    {
     "name": "stderr",
     "output_type": "stream",
     "text": [
      "100%|███████████████████████████████████████████| 50/50 [00:08<00:00,  5.85it/s]\n"
     ]
    },
    {
     "name": "stdout",
     "output_type": "stream",
     "text": [
      "torch.Size([9875, 3])\n",
      "val_loss:0.567907\n",
      "start epoch 44\n"
     ]
    },
    {
     "name": "stderr",
     "output_type": "stream",
     "text": [
      "100%|████████████| 395/395 [01:04<00:00,  6.12it/s, loss=0.401965, lr=7.145e-05]\n"
     ]
    },
    {
     "name": "stdout",
     "output_type": "stream",
     "text": [
      "train_loss:0.529176\n"
     ]
    },
    {
     "name": "stderr",
     "output_type": "stream",
     "text": [
      "100%|███████████████████████████████████████████| 50/50 [00:08<00:00,  5.87it/s]\n"
     ]
    },
    {
     "name": "stdout",
     "output_type": "stream",
     "text": [
      "torch.Size([9875, 3])\n",
      "val_loss:0.558899\n",
      "start epoch 45\n"
     ]
    },
    {
     "name": "stderr",
     "output_type": "stream",
     "text": [
      "100%|████████████| 395/395 [01:03<00:00,  6.21it/s, loss=0.516326, lr=6.994e-05]\n"
     ]
    },
    {
     "name": "stdout",
     "output_type": "stream",
     "text": [
      "train_loss:0.521302\n"
     ]
    },
    {
     "name": "stderr",
     "output_type": "stream",
     "text": [
      "100%|███████████████████████████████████████████| 50/50 [00:08<00:00,  5.83it/s]\n"
     ]
    },
    {
     "name": "stdout",
     "output_type": "stream",
     "text": [
      "torch.Size([9875, 3])\n",
      "val_loss:0.555899\n",
      "start epoch 46\n"
     ]
    },
    {
     "name": "stderr",
     "output_type": "stream",
     "text": [
      "100%|████████████| 395/395 [01:03<00:00,  6.21it/s, loss=0.577913, lr=6.841e-05]\n"
     ]
    },
    {
     "name": "stdout",
     "output_type": "stream",
     "text": [
      "train_loss:0.517688\n"
     ]
    },
    {
     "name": "stderr",
     "output_type": "stream",
     "text": [
      "100%|███████████████████████████████████████████| 50/50 [00:08<00:00,  5.88it/s]\n"
     ]
    },
    {
     "name": "stdout",
     "output_type": "stream",
     "text": [
      "torch.Size([9875, 3])\n",
      "val_loss:0.551236\n",
      "epoch:46, best weighted_logloss updated from 0.612074 to 0.606678\n",
      "rsna-results-2.5d/best_wll_model_fold-0.pt is saved\n",
      "start epoch 47\n"
     ]
    },
    {
     "name": "stderr",
     "output_type": "stream",
     "text": [
      "100%|████████████| 395/395 [01:03<00:00,  6.21it/s, loss=0.536352, lr=6.686e-05]\n"
     ]
    },
    {
     "name": "stdout",
     "output_type": "stream",
     "text": [
      "train_loss:0.514903\n"
     ]
    },
    {
     "name": "stderr",
     "output_type": "stream",
     "text": [
      "100%|███████████████████████████████████████████| 50/50 [00:08<00:00,  5.83it/s]\n"
     ]
    },
    {
     "name": "stdout",
     "output_type": "stream",
     "text": [
      "torch.Size([9875, 3])\n",
      "val_loss:0.571950\n",
      "start epoch 48\n"
     ]
    },
    {
     "name": "stderr",
     "output_type": "stream",
     "text": [
      "100%|████████████| 395/395 [01:03<00:00,  6.20it/s, loss=0.577739, lr=6.529e-05]\n"
     ]
    },
    {
     "name": "stdout",
     "output_type": "stream",
     "text": [
      "train_loss:0.511728\n"
     ]
    },
    {
     "name": "stderr",
     "output_type": "stream",
     "text": [
      "100%|███████████████████████████████████████████| 50/50 [00:08<00:00,  5.84it/s]\n"
     ]
    },
    {
     "name": "stdout",
     "output_type": "stream",
     "text": [
      "torch.Size([9875, 3])\n",
      "val_loss:0.589143\n",
      "start epoch 49\n"
     ]
    },
    {
     "name": "stderr",
     "output_type": "stream",
     "text": [
      "100%|████████████| 395/395 [01:03<00:00,  6.23it/s, loss=0.513690, lr=6.370e-05]\n"
     ]
    },
    {
     "name": "stdout",
     "output_type": "stream",
     "text": [
      "train_loss:0.510989\n"
     ]
    },
    {
     "name": "stderr",
     "output_type": "stream",
     "text": [
      "100%|███████████████████████████████████████████| 50/50 [00:08<00:00,  5.84it/s]\n"
     ]
    },
    {
     "name": "stdout",
     "output_type": "stream",
     "text": [
      "torch.Size([9875, 3])\n",
      "val_loss:0.578005\n",
      "start epoch 50\n"
     ]
    },
    {
     "name": "stderr",
     "output_type": "stream",
     "text": [
      "100%|████████████| 395/395 [01:03<00:00,  6.18it/s, loss=0.820263, lr=6.210e-05]\n"
     ]
    },
    {
     "name": "stdout",
     "output_type": "stream",
     "text": [
      "train_loss:0.514465\n"
     ]
    },
    {
     "name": "stderr",
     "output_type": "stream",
     "text": [
      "100%|███████████████████████████████████████████| 50/50 [00:08<00:00,  5.86it/s]\n"
     ]
    },
    {
     "name": "stdout",
     "output_type": "stream",
     "text": [
      "torch.Size([9875, 3])\n",
      "val_loss:0.555831\n",
      "start epoch 51\n"
     ]
    },
    {
     "name": "stderr",
     "output_type": "stream",
     "text": [
      "100%|████████████| 395/395 [01:03<00:00,  6.24it/s, loss=0.610029, lr=6.049e-05]\n"
     ]
    },
    {
     "name": "stdout",
     "output_type": "stream",
     "text": [
      "train_loss:0.501225\n"
     ]
    },
    {
     "name": "stderr",
     "output_type": "stream",
     "text": [
      "100%|███████████████████████████████████████████| 50/50 [00:08<00:00,  5.81it/s]\n"
     ]
    },
    {
     "name": "stdout",
     "output_type": "stream",
     "text": [
      "torch.Size([9875, 3])\n",
      "val_loss:0.556139\n",
      "start epoch 52\n"
     ]
    },
    {
     "name": "stderr",
     "output_type": "stream",
     "text": [
      "100%|████████████| 395/395 [01:03<00:00,  6.24it/s, loss=0.644762, lr=5.886e-05]\n"
     ]
    },
    {
     "name": "stdout",
     "output_type": "stream",
     "text": [
      "train_loss:0.510850\n"
     ]
    },
    {
     "name": "stderr",
     "output_type": "stream",
     "text": [
      "100%|███████████████████████████████████████████| 50/50 [00:08<00:00,  5.82it/s]\n"
     ]
    },
    {
     "name": "stdout",
     "output_type": "stream",
     "text": [
      "torch.Size([9875, 3])\n",
      "val_loss:0.555906\n",
      "start epoch 53\n"
     ]
    },
    {
     "name": "stderr",
     "output_type": "stream",
     "text": [
      " 36%|████▎       | 143/395 [00:24<00:43,  5.82it/s, loss=0.770905, lr=5.827e-05]\n"
     ]
    },
    {
     "ename": "KeyboardInterrupt",
     "evalue": "",
     "output_type": "error",
     "traceback": [
      "\u001b[0;31m---------------------------------------------------------------------------\u001b[0m",
      "\u001b[0;31mKeyboardInterrupt\u001b[0m                         Traceback (most recent call last)",
      "Cell \u001b[0;32mIn[19], line 84\u001b[0m\n\u001b[1;32m     82\u001b[0m             \u001b[38;5;28;01mfor\u001b[39;00m idx, (x, t) \u001b[38;5;129;01min\u001b[39;00m \u001b[38;5;28menumerate\u001b[39m(pbar):  \n\u001b[1;32m     83\u001b[0m                 op \u001b[38;5;241m=\u001b[39m [\u001b[38;5;124m'\u001b[39m\u001b[38;5;124mnothing\u001b[39m\u001b[38;5;124m'\u001b[39m, \u001b[38;5;124m'\u001b[39m\u001b[38;5;124mnothing\u001b[39m\u001b[38;5;124m'\u001b[39m, \u001b[38;5;124m'\u001b[39m\u001b[38;5;124mnothing\u001b[39m\u001b[38;5;124m'\u001b[39m, \u001b[38;5;124m'\u001b[39m\u001b[38;5;124mnothing\u001b[39m\u001b[38;5;124m'\u001b[39m, \u001b[38;5;124m'\u001b[39m\u001b[38;5;124mnothing\u001b[39m\u001b[38;5;124m'\u001b[39m]\n\u001b[0;32m---> 84\u001b[0m                 x \u001b[38;5;241m=\u001b[39m x\u001b[38;5;241m.\u001b[39mto(device)\n\u001b[1;32m     85\u001b[0m                 t \u001b[38;5;241m=\u001b[39m t\u001b[38;5;241m.\u001b[39mto(device)\n\u001b[1;32m     86\u001b[0m \u001b[38;5;66;03m#                     t = torch.tensor(np.array(one_h(list(t.detach().cpu().numpy())))).to(device)\u001b[39;00m\n",
      "\u001b[0;31mKeyboardInterrupt\u001b[0m: "
     ]
    }
   ],
   "source": [
    "%time\n",
    "#autocast = torch.cuda.amp.autocast(enabled=USE_AMP, dtype=torch.bfloat16) # if your gpu is newer Ampere, you can use this, lesser appearance of nan than half\n",
    "autocast = torch.cuda.amp.autocast(enabled=USE_AMP, dtype=torch.half) # you can use with T4 gpu. or newer\n",
    "scaler = torch.cuda.amp.GradScaler(enabled=USE_AMP, init_scale=2048)\n",
    "\n",
    "val_losses = []\n",
    "train_losses = []\n",
    "df_tr, df_test = train_test_split(df, test_size=2/7, random_state=SEED)\n",
    "skf = KFold(n_splits=N_FOLDS, shuffle=True, random_state=SEED)\n",
    "device = DEVICE\n",
    "\n",
    "for fold, (trn_idx, val_idx) in enumerate(skf.split(range(len(df)))):\n",
    "    loss_scale = 1\n",
    "    if NOT_DEBUG == False:\n",
    "        if fold == 1: break;\n",
    "    if fold not in SELECTED_FOLDS: \n",
    "        print(f\"Jump fold {fold}\")\n",
    "        continue;\n",
    "    else:\n",
    "        print('#'*30)\n",
    "        print(f'Start fold {fold}')\n",
    "        print('#'*30)\n",
    "        print(len(trn_idx), len(val_idx))\n",
    "        df_train = df.iloc[trn_idx]\n",
    "        df_valid = df.iloc[val_idx]\n",
    "\n",
    "        train_ds = RSNA24Dataset(df_train, phase='train', transform=transforms_train)\n",
    "        train_dl = DataLoader(\n",
    "                        train_ds,\n",
    "                        batch_size=BATCH_SIZE,\n",
    "                        shuffle=True,\n",
    "                        pin_memory=False,\n",
    "                        drop_last=True,\n",
    "                        num_workers=N_WORKERS\n",
    "                        )\n",
    "\n",
    "        valid_ds = RSNA24Dataset(df_valid, phase='valid', transform=transforms_val)\n",
    "        valid_dl = DataLoader(\n",
    "                        valid_ds,\n",
    "                        batch_size=BATCH_SIZE*2,\n",
    "                        shuffle=False,\n",
    "                        pin_memory=False,\n",
    "                        drop_last=False,\n",
    "                        num_workers=N_WORKERS\n",
    "                        )\n",
    "\n",
    "    #         model = RSNA24Model(MODEL_NAME, IN_CHANS, N_CLASSES, pretrained=True)\n",
    "        model = TimmModel(MODEL_NAME, pretrained=True)\n",
    "            \n",
    "        fname = f'{OUTPUT_DIR}/best_wll_model_fold-{fold}.pt'\n",
    "    #         if os.path.exists(fname):\n",
    "    #             model = TimmModel(MODEL_NAME, pretrained=False)\n",
    "    #             model.load_state_dict(torch.load(fname))\n",
    "        model.to(device)\n",
    "\n",
    "        optimizer = AdamW(model.parameters(), lr=LR*2, weight_decay=WD)\n",
    "    #         optimizer = torch.optim.SGD(model.parameters(), lr=LR*2, weight_decay=WD, nesterov=True, momentum=0.9)\n",
    "\n",
    "        warmup_steps = EPOCHS/10 * len(train_dl) // GRAD_ACC\n",
    "        num_total_steps = EPOCHS * len(train_dl) // GRAD_ACC\n",
    "        num_cycles = 0.475\n",
    "        scheduler = get_cosine_schedule_with_warmup(optimizer,\n",
    "                                                        num_warmup_steps=warmup_steps,\n",
    "                                                        num_training_steps=num_total_steps,\n",
    "                                                        num_cycles=num_cycles)\n",
    "    #         scheduler = get_linear_schedule_with_warmup(optimizer,\n",
    "    #                                                     num_warmup_steps=warmup_steps,\n",
    "    #                                                     num_training_steps=num_total_steps)\n",
    "\n",
    "        weights = torch.tensor([1.0, 2.0, 4.0])\n",
    "        criterion = nn.CrossEntropyLoss(weight=weights.to(device))\n",
    "        criterion_cpu = nn.CrossEntropyLoss(weight=weights)\n",
    "        best_loss = 1.2\n",
    "        es_step = 0\n",
    "\n",
    "        for epoch in range(1, EPOCHS+1):\n",
    "            print(f'start epoch {epoch}')\n",
    "            model.train()\n",
    "            total_loss = 0\n",
    "            with tqdm(train_dl, leave=True) as pbar:\n",
    "                optimizer.zero_grad()\n",
    "                for idx, (x, t) in enumerate(pbar):  \n",
    "                    op = ['nothing', 'nothing', 'nothing', 'nothing', 'nothing']\n",
    "                    x = x.to(device)\n",
    "                    t = t.to(device)\n",
    "    #                     t = torch.tensor(np.array(one_h(list(t.detach().cpu().numpy())))).to(device)\n",
    "                    rc = random.sample(op, 1)\n",
    "                    if rc[0] == 'mixup':\n",
    "                        x = x.detach().cpu().numpy()\n",
    "                        t = t.detach().cpu().numpy()\n",
    "                        reference_data = [{'image':x[i], 'proba': t[i]} \n",
    "                                            for i in range(len(x))]\n",
    "                        tr = A.Compose([A.MixUp(reference_data=reference_data,\n",
    "                                                  read_fn=read_fn, p=0.5)])\n",
    "                        for i in range(len(x)):\n",
    "                            transformed = tr(image=x[i], global_label=t[i])\n",
    "                            x[i] = transformed['image']\n",
    "                            t[i] = transformed['global_label']\n",
    "\n",
    "                        x = torch.tensor(x).to(device)\n",
    "                        t = torch.tensor(t).to(device)\n",
    "\n",
    "                    with autocast:\n",
    "                        loss = 0\n",
    "                        y = model(x)\n",
    "                        for col in range(N_LABELS):\n",
    "                            pred = y[:,col*3:col*3+3]\n",
    "                            gt = t[:,col]\n",
    "                            loss = loss + loss_scale * criterion(pred, gt) / N_LABELS\n",
    "\n",
    "                        if not math.isfinite(loss):\n",
    "                            loss = torch.tensor(1.2 * loss_scale * GRAD_ACC, requires_grad=True)\n",
    "                        total_loss += loss.item()\n",
    "                        if GRAD_ACC > 1:\n",
    "                            loss = loss / GRAD_ACC\n",
    "\n",
    "\n",
    "\n",
    "\n",
    "                    pbar.set_postfix(\n",
    "                            OrderedDict(\n",
    "                                loss=f'{loss.item()*GRAD_ACC:.6f}',\n",
    "                                lr=f'{optimizer.param_groups[0][\"lr\"]:.3e}'\n",
    "                            )\n",
    "                    )\n",
    "    #                     scaler.scale(loss).backward()\n",
    "                    loss.backward()\n",
    "                    torch.nn.utils.clip_grad_norm_(model.parameters(), MAX_GRAD_NORM or 1e9)\n",
    "\n",
    "                    if (idx + 1) % GRAD_ACC == 0:\n",
    "    #                         scaler.step(optimizer)\n",
    "    #                         scaler.update()\n",
    "                        optimizer.step()\n",
    "                        optimizer.zero_grad()\n",
    "                        if scheduler is not None:\n",
    "                            scheduler.step()                    \n",
    "\n",
    "            train_loss = total_loss/len(train_dl)\n",
    "            print(f'train_loss:{train_loss/loss_scale:.6f}')\n",
    "            train_losses.append(train_loss)\n",
    "            total_loss = 0\n",
    "\n",
    "            model.eval()\n",
    "            y_preds, labels = [], []\n",
    "            with tqdm(valid_dl, leave=True) as pbar:\n",
    "                with torch.no_grad():\n",
    "                    for idx, (x, t) in enumerate(pbar):\n",
    "\n",
    "                        x = x.to(device)\n",
    "                        t = t.to(device)\n",
    "\n",
    "                        with autocast:\n",
    "                            loss = 0\n",
    "                            loss_ema = 0\n",
    "                            y = model(x)\n",
    "                            for col in range(N_LABELS):\n",
    "                                pred = y[:,col*3:col*3+3]\n",
    "                                gt = t[:,col]\n",
    "\n",
    "                                loss = loss + criterion(pred, gt) / N_LABELS\n",
    "                                y_pred = pred.float()\n",
    "                                y_preds.append(y_pred.cpu())\n",
    "                                labels.append(gt.cpu())\n",
    "\n",
    "                            if not math.isfinite(loss):\n",
    "                                loss = torch.tensor(1.2 * loss_scale * GRAD_ACC, requires_grad=True)\n",
    "\n",
    "                            total_loss += loss.item()   \n",
    "\n",
    "            val_loss = total_loss/len(valid_dl)\n",
    "            y_preds = torch.cat(y_preds, dim=0)\n",
    "            print(y_preds.shape)\n",
    "            labels = torch.cat(labels)\n",
    "\n",
    "            val_weighted_loss = criterion_cpu(y_preds, labels)\n",
    "            writer.add_scalar('val_wll', val_weighted_loss, epoch)\n",
    "            writer.flush()\n",
    "            print(f'val_loss:{val_loss:.6f}')\n",
    "            val_losses.append(val_loss)\n",
    "            if val_weighted_loss < best_loss:\n",
    "\n",
    "                if device!='cuda:0':\n",
    "                        model.to('cuda:0')                \n",
    "\n",
    "                print(f'epoch:{epoch}, best weighted_logloss updated from {best_loss:.6f} to {val_weighted_loss:.6f}')\n",
    "                best_loss = val_weighted_loss\n",
    "                fname = f'{OUTPUT_DIR}/best_wll_model_fold-{fold}.pt'\n",
    "                torch.save(model.state_dict(), fname)\n",
    "                print(f'{fname} is saved')\n",
    "                es_step = 0\n",
    "\n",
    "                if device!='cuda:0':\n",
    "                    model.to(device)\n",
    "\n",
    "            else:\n",
    "                es_step += 1\n",
    "                if es_step >= EARLY_STOPPING_EPOCH:\n",
    "                    print('early stopping')\n",
    "                    break  \n",
    "                                "
   ]
  },
  {
   "cell_type": "code",
   "execution_count": null,
   "id": "6c53934c",
   "metadata": {
    "execution": {
     "iopub.status.busy": "2024-07-17T08:54:29.628236Z",
     "iopub.status.idle": "2024-07-17T08:54:29.628659Z",
     "shell.execute_reply": "2024-07-17T08:54:29.628490Z",
     "shell.execute_reply.started": "2024-07-17T08:54:29.628473Z"
    }
   },
   "outputs": [],
   "source": [
    "cv = 0\n",
    "y_preds = []\n",
    "labels = []\n",
    "weights = torch.tensor([1.0, 2.0, 4.0])\n",
    "criterion2 = nn.CrossEntropyLoss(weight=weights)\n",
    "autocast = torch.cuda.amp.autocast(enabled=USE_AMP, dtype=torch.half) # you can use with T4 gpu. or newer\n",
    "\n",
    "\n",
    "## TODO: Modify EXIST_FOLDS by how many fold you've trained\n",
    "EXIST_FOLDS = [0, 1, 2, 3, 4]\n",
    "skf = KFold(n_splits=N_FOLDS, shuffle=True, random_state=SEED)\n",
    "\n",
    "for fold, (trn_idx, val_idx) in enumerate(skf.split(range(len(df)))):\n",
    "    #     if NOT_DEBUG == False:\n",
    "    #         if fold == 1: break;\n",
    "    if fold not in EXIST_FOLDS: \n",
    "        print(f\"Jump fold {fold}\")\n",
    "        continue;\n",
    "    else:\n",
    "        print('#'*30)\n",
    "        print(f'Start fold {fold}')\n",
    "        print('#'*30)\n",
    "        df_valid = df.iloc[val_idx]\n",
    "        valid_ds = RSNA24Dataset(df_valid, phase='valid', transform=transforms_val)\n",
    "        valid_dl = DataLoader(\n",
    "                        valid_ds,\n",
    "                        batch_size=16,\n",
    "                        shuffle=False,\n",
    "                        pin_memory=False,\n",
    "                        drop_last=False,\n",
    "                        num_workers=N_WORKERS\n",
    "                        )\n",
    "            \n",
    "\n",
    "        model = TimmModelCombo(MODEL_NAME)\n",
    "                \n",
    "            # print(\"No internet read\")\n",
    "        fname = f'{OUTPUT_DIR}/best_wll_model_fold-{fold}.pt'\n",
    "        model.load_state_dict(torch.load(fname))\n",
    "        model.to(device)   \n",
    "\n",
    "        model.eval()\n",
    "        with tqdm(valid_dl, leave=True) as pbar:\n",
    "            with torch.no_grad():\n",
    "                for idx, (x, t) in enumerate(pbar):\n",
    "\n",
    "                    x = x.to(device)\n",
    "                    t = t.to(device)\n",
    "\n",
    "                    with autocast:\n",
    "                        y = model(x)\n",
    "                        for col in range(N_LABELS):\n",
    "                            pred = y[:,col*3:col*3+3]\n",
    "                            gt = t[:,col] \n",
    "                            y_pred = pred.float()\n",
    "                            y_preds.append(y_pred.cpu())\n",
    "                            labels.append(gt.cpu())\n",
    "\n",
    "y_preds = torch.cat(y_preds)\n",
    "labels = torch.cat(labels)"
   ]
  },
  {
   "cell_type": "code",
   "execution_count": null,
   "id": "e2facd86",
   "metadata": {
    "execution": {
     "iopub.status.busy": "2024-07-17T08:54:29.630786Z",
     "iopub.status.idle": "2024-07-17T08:54:29.631268Z",
     "shell.execute_reply": "2024-07-17T08:54:29.631055Z",
     "shell.execute_reply.started": "2024-07-17T08:54:29.631035Z"
    }
   },
   "outputs": [],
   "source": [
    "cv = criterion2(y_preds, labels)\n",
    "print('cv score:', cv.item())"
   ]
  },
  {
   "cell_type": "code",
   "execution_count": null,
   "id": "68b00191",
   "metadata": {},
   "outputs": [],
   "source": []
  },
  {
   "cell_type": "code",
   "execution_count": null,
   "id": "a0482ba3",
   "metadata": {},
   "outputs": [],
   "source": []
  },
  {
   "cell_type": "code",
   "execution_count": null,
   "id": "dbf76a49",
   "metadata": {},
   "outputs": [],
   "source": []
  }
 ],
 "metadata": {
  "kaggle": {
   "accelerator": "none",
   "dataSources": [
    {
     "databundleVersionId": 8561470,
     "sourceId": 71549,
     "sourceType": "competition"
    },
    {
     "sourceId": 188645970,
     "sourceType": "kernelVersion"
    }
   ],
   "dockerImageVersionId": 30732,
   "isGpuEnabled": false,
   "isInternetEnabled": true,
   "language": "python",
   "sourceType": "notebook"
  },
  "kernelspec": {
   "display_name": "Python 3 (ipykernel)",
   "language": "python",
   "name": "python3"
  },
  "language_info": {
   "codemirror_mode": {
    "name": "ipython",
    "version": 3
   },
   "file_extension": ".py",
   "mimetype": "text/x-python",
   "name": "python",
   "nbconvert_exporter": "python",
   "pygments_lexer": "ipython3",
   "version": "3.11.5"
  }
 },
 "nbformat": 4,
 "nbformat_minor": 5
}
